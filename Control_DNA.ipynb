{
 "cells": [
  {
   "cell_type": "code",
   "execution_count": 5,
   "id": "477b0698-1d5c-4d85-b5a5-0c4cc9766421",
   "metadata": {},
   "outputs": [],
   "source": [
    "import os\n",
    "import sys"
   ]
  },
  {
   "cell_type": "code",
   "execution_count": 6,
   "id": "665026fc-9622-4dc3-972e-4e8c3de33e32",
   "metadata": {},
   "outputs": [],
   "source": [
    "os.environ[\"TF_CPP_MIN_LOG_LEVEL\"] = \"2\""
   ]
  },
  {
   "cell_type": "code",
   "execution_count": 7,
   "id": "d5a20b11-1a27-4f59-8054-f4686a12e6aa",
   "metadata": {},
   "outputs": [],
   "source": [
    "sys.path.append(\"../../deep-learning-dna\")\n",
    "sys.path.append(\"../../settransformer\")"
   ]
  },
  {
   "cell_type": "code",
   "execution_count": 12,
   "id": "4198c41f",
   "metadata": {},
   "outputs": [],
   "source": [
    "import tensorflow as tf\n",
    "import tensorflow.keras as keras\n",
    "import numpy as np\n",
    "import matplotlib.pyplot as plt\n",
    "%matplotlib inline\n",
    "from IPython.display import display\n",
    "import math\n",
    "import string\n",
    "\n",
    "import settransformer as stf\n",
    "from common.models import dnabert\n",
    "from common import dna\n",
    "from lmdbm import Lmdb\n",
    "from common.data import DnaSequenceGenerator, DnaLabelType, DnaSampleGenerator, find_dbs\n",
    "import wandb\n",
    "\n",
    "import tf_utils as tfu"
   ]
  },
  {
   "cell_type": "code",
   "execution_count": 13,
   "id": "1dae2ca0-69c8-442c-8bee-da802a6b26bf",
   "metadata": {},
   "outputs": [],
   "source": [
    "strategy = tfu.strategy.cpu()"
   ]
  },
  {
   "cell_type": "markdown",
   "id": "5b4300b2-d429-48f4-85ed-68772465def6",
   "metadata": {
    "tags": []
   },
   "source": [
    "---\n",
    "# Load Data"
   ]
  },
  {
   "cell_type": "code",
   "execution_count": 14,
   "id": "18d6bf42-0914-487c-922f-b54f2712adee",
   "metadata": {
    "tags": []
   },
   "outputs": [
    {
     "data": {
      "text/plain": [
       "<common.models.dnabert.DnaBertPretrainModel at 0x7efea6308c40>"
      ]
     },
     "execution_count": 14,
     "metadata": {},
     "output_type": "execute_result"
    }
   ],
   "source": [
    "#Import pretrained model\n",
    "api = wandb.Api()\n",
    "model_path = api.artifact(\"sirdavidludwig/deep-learning-dna/dnabert-pretrain-ablation-dim:8dim\").download()\n",
    "pretrained_model = dnabert.DnaBertModel.load(model_path)\n",
    "pretrained_model"
   ]
  },
  {
   "cell_type": "code",
   "execution_count": 15,
   "id": "fc98b4a9-90f8-442f-8f7e-7633b6f117cf",
   "metadata": {},
   "outputs": [
    {
     "name": "stderr",
     "output_type": "stream",
     "text": [
      "\u001b[34m\u001b[1mwandb\u001b[0m: Downloading large artifact dnasamples:latest, 289.81MB. 336 files... Done. 0:0:0.1\n"
     ]
    },
    {
     "data": {
      "text/plain": [
       "'./artifacts/dnasamples:v2/train/Wesley014-CCE-051120_S153_L001_R1_001.db'"
      ]
     },
     "execution_count": 15,
     "metadata": {},
     "output_type": "execute_result"
    }
   ],
   "source": [
    "#Load datafiles\n",
    "dataset_path = api.artifact(\"sirdavidludwig/nachusa-dna/dnasamples:latest\").download()\n",
    "samples = find_dbs(dataset_path + '/train')\n",
    "samples[13]"
   ]
  },
  {
   "cell_type": "code",
   "execution_count": 16,
   "id": "eb43eeea-56ac-4f7f-85f2-fed0c0a62014",
   "metadata": {},
   "outputs": [],
   "source": [
    "max_files = 1260"
   ]
  },
  {
   "cell_type": "markdown",
   "id": "b4ae0979-85aa-46e8-9cc4-61380710728e",
   "metadata": {
    "tags": []
   },
   "source": [
    "---\n",
    "# Create Dataset"
   ]
  },
  {
   "cell_type": "code",
   "execution_count": 17,
   "id": "a14bf26f-f2d8-4907-991e-7dcbbc68f206",
   "metadata": {},
   "outputs": [],
   "source": [
    "#Generate batches\n",
    "subsample_length = 700\n",
    "sequence_length = 150\n",
    "kmer = 3\n",
    "batch_size = 20\n",
    "batches_per_epoch = 128\n",
    "augument = True\n",
    "labels = DnaLabelType.SampleIds\n",
    "dataset = DnaSampleGenerator(samples=samples, subsample_length = subsample_length, sequence_length=sequence_length,kmer=kmer,batch_size=batch_size,batches_per_epoch=batches_per_epoch,augment=augument,labels=labels)"
   ]
  },
  {
   "cell_type": "code",
   "execution_count": 62,
   "id": "e21b047f-bb01-43e0-ae37-67898f50a710",
   "metadata": {},
   "outputs": [
    {
     "data": {
      "text/plain": [
       "(array([[[67., 86., 56., ..., 87., 60., 52.],\n",
       "         [85., 51.,  5., ..., 60., 52., 10.],\n",
       "         [67., 87., 61., ..., 61., 55., 27.],\n",
       "         ...,\n",
       "         [56., 30., 27., ..., 87., 60., 52.],\n",
       "         [67., 86., 56., ..., 27., 13., 65.],\n",
       "         [86., 56., 30., ..., 65., 77., 12.]],\n",
       " \n",
       "        [[67., 86., 56., ..., 63., 65., 77.],\n",
       "         [86., 56., 30., ..., 75.,  2., 10.],\n",
       "         [86., 56., 30., ..., 63., 65., 77.],\n",
       "         ...,\n",
       "         [86., 56., 30., ..., 55., 27., 10.],\n",
       "         [86., 56., 30., ..., 65., 77., 10.],\n",
       "         [86., 56., 30., ..., 53., 17., 85.]],\n",
       " \n",
       "        [[30., 27., 11., ..., 10., 52., 12.],\n",
       "         [86., 56., 30., ..., 67., 87., 60.],\n",
       "         [30., 27., 11., ..., 12., 62., 62.],\n",
       "         ...,\n",
       "         [86., 56., 30., ..., 50.,  2., 10.],\n",
       "         [67., 86., 56., ..., 87., 60., 52.],\n",
       "         [67., 86., 56., ..., 88., 67., 87.]],\n",
       " \n",
       "        ...,\n",
       " \n",
       "        [[67., 86., 56., ..., 13., 65., 77.],\n",
       "         [67., 86., 56., ..., 60., 50.,  2.],\n",
       "         [56., 30., 27., ..., 52., 10., 52.],\n",
       "         ...,\n",
       "         [86., 56., 30., ..., 85., 52., 10.],\n",
       "         [30., 27., 11., ..., 77., 12., 62.],\n",
       "         [30., 27., 11., ..., 10., 52., 12.]],\n",
       " \n",
       "        [[30., 27., 11., ..., 10., 52., 12.],\n",
       "         [56., 30., 27., ..., 62., 60., 52.],\n",
       "         [30., 27., 11., ..., 12., 62., 62.],\n",
       "         ...,\n",
       "         [86., 56., 30., ..., 43., 92., 85.],\n",
       "         [86., 56., 30., ..., 50.,  2., 10.],\n",
       "         [67., 86., 56., ..., 60., 50.,  2.]],\n",
       " \n",
       "        [[30., 27., 11., ..., 60., 52., 12.],\n",
       "         [67., 86., 56., ..., 63., 65., 77.],\n",
       "         [67., 86., 56., ..., 61., 55., 27.],\n",
       "         ...,\n",
       "         [86., 56., 30., ..., 50.,  2., 10.],\n",
       "         [30., 27., 11., ..., 10., 52., 12.],\n",
       "         [30., 27., 11., ..., 10., 52., 12.]]]),\n",
       " array([51,  0, 11, 39, 22, 11,  2, 43, 21, 24, 37,  6, 26, 13, 18, 26, 37,\n",
       "        51, 30, 42], dtype=int32))"
      ]
     },
     "execution_count": 62,
     "metadata": {},
     "output_type": "execute_result"
    }
   ],
   "source": [
    "dataset[0]"
   ]
  },
  {
   "cell_type": "code",
   "execution_count": 19,
   "id": "d08e02fa-0bf0-4f37-a598-904035fe3a94",
   "metadata": {},
   "outputs": [
    {
     "data": {
      "text/plain": [
       "(20, 700, 148)"
      ]
     },
     "execution_count": 19,
     "metadata": {},
     "output_type": "execute_result"
    }
   ],
   "source": [
    "dataset[0][0].shape"
   ]
  },
  {
   "cell_type": "code",
   "execution_count": 20,
   "id": "a6d6e6ff-9ad7-4bc5-a04e-e389540e847e",
   "metadata": {},
   "outputs": [
    {
     "data": {
      "text/plain": [
       "(700, 148)"
      ]
     },
     "execution_count": 20,
     "metadata": {},
     "output_type": "execute_result"
    }
   ],
   "source": [
    "dataset[0][0][0].shape"
   ]
  },
  {
   "cell_type": "code",
   "execution_count": 21,
   "id": "ed4a097f-8848-4845-885f-10d2eba07bdc",
   "metadata": {},
   "outputs": [
    {
     "data": {
      "text/plain": [
       "(148,)"
      ]
     },
     "execution_count": 21,
     "metadata": {},
     "output_type": "execute_result"
    }
   ],
   "source": [
    "dataset[0][0][0][0].shape"
   ]
  },
  {
   "cell_type": "markdown",
   "id": "ae445919-6300-44ff-b3c2-fd2d9828335b",
   "metadata": {},
   "source": [
    "---\n",
    "# Create Embeddings"
   ]
  },
  {
   "cell_type": "code",
   "execution_count": 22,
   "id": "a5928c7f-92ab-4952-ab8b-477e0e457959",
   "metadata": {},
   "outputs": [],
   "source": [
    "#Create 8 dimensional embeddings\n",
    "pretrained_encoder= dnabert.DnaBertEncoderModel(pretrained_model.base)\n",
    "pretrained_encoder.trainable = False"
   ]
  },
  {
   "cell_type": "code",
   "execution_count": 23,
   "id": "801585e7-5a87-47cf-b952-a049454fcd34",
   "metadata": {},
   "outputs": [],
   "source": [
    "embeddings = pretrained_encoder.predict(dataset[0][0][0])"
   ]
  },
  {
   "cell_type": "code",
   "execution_count": 24,
   "id": "09c83c29-3d54-4262-ab9d-ff6a4312ed5d",
   "metadata": {},
   "outputs": [
    {
     "data": {
      "text/plain": [
       "(700, 8)"
      ]
     },
     "execution_count": 24,
     "metadata": {},
     "output_type": "execute_result"
    }
   ],
   "source": [
    "embeddings.shape"
   ]
  },
  {
   "cell_type": "code",
   "execution_count": 25,
   "id": "09bc0bf8-221e-47b5-99f1-07a27c13d117",
   "metadata": {},
   "outputs": [
    {
     "data": {
      "text/plain": [
       "array([[ -3.0589375 ,   0.09530499,   3.1571653 , ...,  -1.2163663 ,\n",
       "          9.383499  ,  -0.8313564 ],\n",
       "       [ -3.5858917 ,   1.5305752 ,  -0.9098054 , ...,  -6.64118   ,\n",
       "          8.697727  ,   0.25428525],\n",
       "       [ -0.36243826,   2.1628273 ,   1.9515008 , ..., -10.093372  ,\n",
       "          7.515818  ,   4.344171  ],\n",
       "       ...,\n",
       "       [ -2.218179  ,   1.8394516 ,  -3.6845567 , ...,  -4.50106   ,\n",
       "          7.6143627 ,   5.869076  ],\n",
       "       [  6.7310724 ,   2.6626039 ,   4.446248  , ...,  -9.541835  ,\n",
       "          6.4417896 ,  -1.7020733 ],\n",
       "       [ -0.76325035,  -1.1196578 ,  -1.8744181 , ...,   0.6938467 ,\n",
       "          9.9582615 ,  -1.5631678 ]], dtype=float32)"
      ]
     },
     "execution_count": 25,
     "metadata": {},
     "output_type": "execute_result"
    }
   ],
   "source": [
    "embeddings"
   ]
  },
  {
   "cell_type": "markdown",
   "id": "6e1c8632-97aa-46b0-9af1-afee2c87613f",
   "metadata": {},
   "source": [
    "---\n",
    "# Create Model"
   ]
  },
  {
   "cell_type": "code",
   "execution_count": 46,
   "id": "831c7812",
   "metadata": {},
   "outputs": [],
   "source": [
    "#Create set transformer -\n",
    "def Create_Model(embed_dim, num_heads, stack, use_layernorm, pre_layernorm, use_keras_mha, seq_len, encoder, output_shape):\n",
    "    y = x = keras.layers.Input((None,seq_len))\n",
    "    y = keras.layers.TimeDistributed(encoder)(y)\n",
    "    y = keras.layers.Dense(embed_dim)(y)\n",
    "    \n",
    "    for _ in range(stack):\n",
    "        y = stf.InducedSetAttentionBlock(embed_dim=embed_dim,num_heads=num_heads,num_induce=3,use_layernorm=use_layernorm,pre_layernorm=pre_layernorm,use_keras_mha=use_keras_mha)(y)\n",
    "\n",
    "    y = stf.PoolingByMultiHeadAttention(num_seeds=1,embed_dim=embed_dim,num_heads=1,use_layernorm=use_layernorm,pre_layernorm=pre_layernorm,use_keras_mha=use_keras_mha,is_final_block=True)(y)\n",
    "    y = keras.layers.Dense(output_shape, activation=keras.activations.sigmoid)(y)\n",
    "    \n",
    "    return keras.Model(x, y)"
   ]
  },
  {
   "cell_type": "code",
   "execution_count": 36,
   "id": "15b79d89-3c83-41f0-954f-86419d612032",
   "metadata": {},
   "outputs": [],
   "source": [
    "#Hyperparameters\n",
    "embed_dim = 128\n",
    "num_heads = 4\n",
    "stack = 4\n",
    "use_layernorm = False\n",
    "pre_layernorm = False\n",
    "use_keras_mha = False\n",
    "seq_len = 148\n",
    "encoder = pretrained_encoder\n",
    "output_shape = max_files"
   ]
  },
  {
   "cell_type": "code",
   "execution_count": 47,
   "id": "40812f96",
   "metadata": {},
   "outputs": [],
   "source": [
    "model = Create_Model(embed_dim, num_heads, stack, use_layernorm, pre_layernorm, use_keras_mha, seq_len, encoder, output_shape)\n",
    "model.compile(optimizer=keras.optimizers.Adam(1e-4),loss=keras.losses.SparseCategoricalCrossentropy(from_logits = True), metrics = [keras.metrics.sparse_categorical_accuracy])"
   ]
  },
  {
   "cell_type": "code",
   "execution_count": 79,
   "id": "2ba3b584-3bb9-4bbd-b67c-dcdfe88d2ea1",
   "metadata": {},
   "outputs": [],
   "source": [
    "#prediction = model.predict(dataset)"
   ]
  },
  {
   "cell_type": "code",
   "execution_count": 80,
   "id": "c3d5ed91-319c-4112-817a-f96f308fbbca",
   "metadata": {},
   "outputs": [],
   "source": [
    "#prediction.shape"
   ]
  },
  {
   "cell_type": "code",
   "execution_count": 81,
   "id": "f3600a5a-5b96-4566-b5b8-46badea2889f",
   "metadata": {},
   "outputs": [],
   "source": [
    "#prediction"
   ]
  },
  {
   "cell_type": "code",
   "execution_count": 82,
   "id": "51fbd3f6-ad09-4e86-a5e4-27703b9e21eb",
   "metadata": {},
   "outputs": [],
   "source": [
    "epochs = 200"
   ]
  },
  {
   "cell_type": "code",
   "execution_count": null,
   "id": "c7dbf382",
   "metadata": {
    "tags": []
   },
   "outputs": [
    {
     "name": "stdout",
     "output_type": "stream",
     "text": [
      "Epoch 1/200\n"
     ]
    }
   ],
   "source": [
    "history = model.fit(dataset, epochs=epochs, verbose=1)"
   ]
  },
  {
   "cell_type": "code",
   "execution_count": null,
   "id": "e24ec60e",
   "metadata": {},
   "outputs": [],
   "source": [
    "#Plot history and accuracy\n",
    "plt.subplot(211)\n",
    "plt.plot(history.history['sparse_categorical_accuracy'])\n",
    "plt.title('model accuracy')\n",
    "plt.ylabel('accuracy')\n",
    "plt.xlabel('epoch')\n",
    "\n",
    "plt.subplot(212)\n",
    "plt.plot(history.history['loss'])\n",
    "plt.title('model loss')\n",
    "plt.ylabel('loss')\n",
    "plt.xlabel('epoch')\n",
    "plt.tight_layout()\n",
    "plt.show() "
   ]
  },
  {
   "cell_type": "code",
   "execution_count": null,
   "id": "b93a1296-31fa-4351-b68d-44076586edeb",
   "metadata": {},
   "outputs": [],
   "source": []
  }
 ],
 "metadata": {
  "interpreter": {
   "hash": "d4d1e4263499bec80672ea0156c357c1ee493ec2b1c70f0acce89fc37c4a6abe"
  },
  "kernelspec": {
   "display_name": "Python 3 (ipykernel)",
   "language": "python",
   "name": "python3"
  },
  "language_info": {
   "codemirror_mode": {
    "name": "ipython",
    "version": 3
   },
   "file_extension": ".py",
   "mimetype": "text/x-python",
   "name": "python",
   "nbconvert_exporter": "python",
   "pygments_lexer": "ipython3",
   "version": "3.10.4"
  }
 },
 "nbformat": 4,
 "nbformat_minor": 5
}

{
 "cells": [
  {
   "cell_type": "code",
   "execution_count": 1,
   "id": "477b0698-1d5c-4d85-b5a5-0c4cc9766421",
   "metadata": {},
   "outputs": [],
   "source": [
    "import os\n",
    "import sys"
   ]
  },
  {
   "cell_type": "code",
   "execution_count": 2,
   "id": "665026fc-9622-4dc3-972e-4e8c3de33e32",
   "metadata": {},
   "outputs": [],
   "source": [
    "os.environ[\"TF_CPP_MIN_LOG_LEVEL\"] = \"2\""
   ]
  },
  {
   "cell_type": "code",
   "execution_count": 3,
   "id": "d5a20b11-1a27-4f59-8054-f4686a12e6aa",
   "metadata": {},
   "outputs": [],
   "source": [
    "sys.path.append(\"../../deep-learning-dna\")"
   ]
  },
  {
   "cell_type": "code",
   "execution_count": 4,
   "id": "487d6841-517e-4726-aefd-ba8e7c6d33fe",
   "metadata": {},
   "outputs": [],
   "source": [
    "import wandb"
   ]
  },
  {
   "cell_type": "code",
   "execution_count": 5,
   "id": "4198c41f",
   "metadata": {},
   "outputs": [],
   "source": [
    "import tensorflow as tf\n",
    "import tensorflow.keras as keras\n",
    "import numpy as np\n",
    "import matplotlib.pyplot as plt\n",
    "%matplotlib inline\n",
    "from IPython.display import display\n",
    "import math\n",
    "import string\n",
    "\n",
    "import Set_Transformer \n",
    "from common.models import dnabert\n",
    "from common import dna\n",
    "from lmdbm import Lmdb\n",
    "from common.data import DnaSequenceGenerator, DnaLabelType, DnaSampleGenerator, find_dbs\n",
    "import wandb\n",
    "\n",
    "import tf_utils as tfu"
   ]
  },
  {
   "cell_type": "code",
   "execution_count": 6,
   "id": "1dae2ca0-69c8-442c-8bee-da802a6b26bf",
   "metadata": {},
   "outputs": [],
   "source": [
    "strategy = tfu.devices.select_gpu(0, use_dynamic_memory=True)"
   ]
  },
  {
   "cell_type": "markdown",
   "id": "5b4300b2-d429-48f4-85ed-68772465def6",
   "metadata": {
    "tags": []
   },
   "source": [
    "---\n",
    "# Load Data"
   ]
  },
  {
   "cell_type": "code",
   "execution_count": 7,
   "id": "18d6bf42-0914-487c-922f-b54f2712adee",
   "metadata": {
    "tags": []
   },
   "outputs": [
    {
     "data": {
      "text/plain": [
       "<common.models.dnabert.DnaBertPretrainModel at 0x7fafc52c3040>"
      ]
     },
     "execution_count": 7,
     "metadata": {},
     "output_type": "execute_result"
    }
   ],
   "source": [
    "#Import pretrained model\n",
    "api = wandb.Api()\n",
    "model_path = api.artifact(\"sirdavidludwig/dnabert-pretrain/dnabert-pretrain-8dim:latest\").download()\n",
    "pretrained_model = dnabert.DnaBertModel.load(model_path)\n",
    "pretrained_model.load_weights(model_path + \"/model.h5\")\n",
    "pretrained_model"
   ]
  },
  {
   "cell_type": "code",
   "execution_count": 8,
   "id": "fc98b4a9-90f8-442f-8f7e-7633b6f117cf",
   "metadata": {},
   "outputs": [
    {
     "name": "stderr",
     "output_type": "stream",
     "text": [
      "\u001b[34m\u001b[1mwandb\u001b[0m: Downloading large artifact dnasamples-complete:latest, 4079.09MB. 420 files... Done. 0:0:0.1\n"
     ]
    },
    {
     "data": {
      "text/plain": [
       "'/data/dna_samples:v1/train/WS-CCW-Jul2015_S82_L001_R1_001.db'"
      ]
     },
     "execution_count": 8,
     "metadata": {},
     "output_type": "execute_result"
    }
   ],
   "source": [
    "#Load datafiles\n",
    "dataset_path = api.artifact(\"sirdavidludwig/nachusa-dna/dnasamples-complete:latest\").download('/data/dna_samples:v1')\n",
    "samples = find_dbs(dataset_path + '/train')\n",
    "samples[13]"
   ]
  },
  {
   "cell_type": "markdown",
   "id": "b4ae0979-85aa-46e8-9cc4-61380710728e",
   "metadata": {
    "tags": []
   },
   "source": [
    "---\n",
    "# Create Dataset"
   ]
  },
  {
   "cell_type": "code",
   "execution_count": 9,
   "id": "a14bf26f-f2d8-4907-991e-7dcbbc68f206",
   "metadata": {
    "tags": []
   },
   "outputs": [],
   "source": [
    "#Generate batches\n",
    "split_ratios = [0.8, 0.2]\n",
    "subsample_length = 1000\n",
    "sequence_length = 150\n",
    "kmer = 3\n",
    "batch_size = [20,5]\n",
    "batches_per_epoch = 20\n",
    "augument = True\n",
    "labels = DnaLabelType.SampleIds\n",
    "seed = 0\n",
    "rng = np.random.default_rng(seed)\n",
    "random_samples = samples.copy()"
   ]
  },
  {
   "cell_type": "code",
   "execution_count": 10,
   "id": "613ec15a-94ea-40f6-83c4-593956d79975",
   "metadata": {},
   "outputs": [],
   "source": [
    "rng.shuffle(random_samples)"
   ]
  },
  {
   "cell_type": "code",
   "execution_count": 11,
   "id": "3bfd656b-2de3-4a36-a0d6-9be8c1492d18",
   "metadata": {},
   "outputs": [
    {
     "name": "stdout",
     "output_type": "stream",
     "text": [
      "Sample '/data/dna_samples:v1/train/Wes7-PCRblank1_S8_L001_R1_001.db' does not contain enough sequences. This sample will be ignored.\n",
      "Sample '/data/dna_samples:v1/train/Wes7-PCRblank1_S8_L001_R1_001.db' does not contain enough sequences. This sample will be ignored.\n"
     ]
    }
   ],
   "source": [
    "trimmed_samples, (train_dataset, val_dataset) = DnaSampleGenerator.split(samples=random_samples[0:50], split_ratios=split_ratios, subsample_length=subsample_length, sequence_length=sequence_length,kmer=kmer,batch_size=batch_size,batches_per_epoch=batches_per_epoch,augment=augument,labels=labels, rng=rng)"
   ]
  },
  {
   "cell_type": "code",
   "execution_count": 12,
   "id": "81aba5f7-0fd3-4017-8eeb-cd955c99b7d7",
   "metadata": {},
   "outputs": [
    {
     "data": {
      "text/plain": [
       "['/data/dna_samples:v1/train/WS-CCE-Apr2016_S6_L001_R1_001.db',\n",
       " '/data/dna_samples:v1/train/Wes52-10-TC_S53_L001_R1_001.db',\n",
       " '/data/dna_samples:v1/train/WS-WH-Jul2016_S46_L001_R1_001.db',\n",
       " '/data/dna_samples:v1/train/Wes41-10-HN_S42_L001_R1_001.db',\n",
       " '/data/dna_samples:v1/train/Wesley026-Ag-072820_S165_L001_R1_001.db',\n",
       " '/data/dna_samples:v1/train/WS-MU-Apr2016_S84_L001_R1_001.db',\n",
       " '/data/dna_samples:v1/train/Wes5-5-CCE_S6_L001_R1_001.db',\n",
       " '/data/dna_samples:v1/train/WS-MR-Apr2016_S13_L001_R1_001.db',\n",
       " '/data/dna_samples:v1/train/WS-MU-Sep2015_S43_L001_R1_001.db',\n",
       " '/data/dna_samples:v1/train/Wesley012-HN-051120_S151_L001_R1_001.db',\n",
       " '/data/dna_samples:v1/train/WS-HPN-Sep2015_S91_L001_R1_001.db',\n",
       " '/data/dna_samples:v1/train/WS-TCR-Sep2015_S52_L001_R1_001.db',\n",
       " '/data/dna_samples:v1/train/Wes26-8-AG_S27_L001_R1_001.db',\n",
       " '/data/dna_samples:v1/train/WS-SB-Jul2016_S22_L001_R1_001.db',\n",
       " '/data/dna_samples:v1/train/Wes25-8-MU_S26_L001_R1_001.db',\n",
       " '/data/dna_samples:v1/train/WS-SB-Oct2016_S63_L001_R1_001.db',\n",
       " '/data/dna_samples:v1/train/Wes3-5-TCR_S4_L001_R1_001.db',\n",
       " '/data/dna_samples:v1/train/WS-WH-May2015_S160_L001_R1_001.db',\n",
       " '/data/dna_samples:v1/train/WS-TCR-Oct2016_S80_L001_R1_001.db',\n",
       " '/data/dna_samples:v1/train/WS-TC-Jul2015_S74_L001_R1_001.db',\n",
       " '/data/dna_samples:v1/train/WS-SB-Sep2015_S35_L001_R1_001.db',\n",
       " '/data/dna_samples:v1/train/WS-CCW-Sep2015_S28_L001_R1_001.db',\n",
       " '/data/dna_samples:v1/train/WS-TC-Oct2016_S48_L001_R1_001.db',\n",
       " '/data/dna_samples:v1/train/WS-HF-Jul2015_S42_L001_R1_001.db',\n",
       " '/data/dna_samples:v1/train/WS-TCR-May2015_S73_L001_R1_001.db',\n",
       " '/data/dna_samples:v1/train/WS-HPN-Apr2016_S37_L001_R1_001.db',\n",
       " '/data/dna_samples:v1/train/WS-AG-Apr2016_S85_L001_R1_001.db',\n",
       " '/data/dna_samples:v1/train/Wes7-PCRblank1_S8_L001_R1_001.db',\n",
       " '/data/dna_samples:v1/train/Wes20-8-HF_S21_L001_R1_001.db',\n",
       " '/data/dna_samples:v1/train/Wes38-10-WH_S39_L001_R1_001.db',\n",
       " '/data/dna_samples:v1/train/Wesley047-SF-100420_S186_L001_R1_001.db',\n",
       " '/data/dna_samples:v1/train/Wesley055-HAP-051120_S194_L001_R1_001.db',\n",
       " '/data/dna_samples:v1/train/Wesley006-HLP-051220_S145_L001_R1_001.db',\n",
       " '/data/dna_samples:v1/train/Wes39-10-HF_S40_L001_R1_001.db',\n",
       " '/data/dna_samples:v1/train/WS-SF-Jul2016_S38_L001_R1_001.db',\n",
       " '/data/dna_samples:v1/train/Wesley035-HLP2-072820_S174_L001_R1_001.db',\n",
       " '/data/dna_samples:v1/train/Wes13-5-HLP_S14_L001_R1_001.db',\n",
       " '/data/dna_samples:v1/train/WS-HPN-May2015_S17_L001_R1_001.db',\n",
       " '/data/dna_samples:v1/train/Wesley005-HF-051220_S144_L001_R1_001.db',\n",
       " '/data/dna_samples:v1/train/Wes47-10-FC_S48_L001_R1_001.db',\n",
       " '/data/dna_samples:v1/train/WS-SF-May2015_S152_L001_R1_001.db',\n",
       " '/data/dna_samples:v1/train/Wesley045-HLP-100420_S184_L001_R1_001.db',\n",
       " '/data/dna_samples:v1/train/Wesley033-MU-072820_S172_L001_R1_001.db',\n",
       " '/data/dna_samples:v1/train/Wesley043-L-100420_S182_L001_R1_001.db',\n",
       " '/data/dna_samples:v1/train/Wes48-10-CCW_S49_L001_R1_001.db',\n",
       " '/data/dna_samples:v1/train/WS-AG-Sep2015_S44_L001_R1_001.db',\n",
       " '/data/dna_samples:v1/train/Wesley010-HW-051120_S149_L001_R1_001.db',\n",
       " '/data/dna_samples:v1/train/Wes36-8-HW_S37_L001_R1_001.db',\n",
       " '/data/dna_samples:v1/train/Wesley011-Ag-051120_S150_L001_R1_001.db',\n",
       " '/data/dna_samples:v1/train/Wesley027-HLP-072820_S166_L001_R1_001.db']"
      ]
     },
     "execution_count": 12,
     "metadata": {},
     "output_type": "execute_result"
    }
   ],
   "source": [
    "random_samples[0:50]"
   ]
  },
  {
   "cell_type": "code",
   "execution_count": 13,
   "id": "be7e12c7-d792-4e37-9ab2-3db8658b5814",
   "metadata": {},
   "outputs": [
    {
     "data": {
      "text/plain": [
       "49"
      ]
     },
     "execution_count": 13,
     "metadata": {},
     "output_type": "execute_result"
    }
   ],
   "source": [
    "max_files = len(train_dataset.samples)\n",
    "max_files"
   ]
  },
  {
   "cell_type": "markdown",
   "id": "ae445919-6300-44ff-b3c2-fd2d9828335b",
   "metadata": {},
   "source": [
    "---\n",
    "# Create Embeddings"
   ]
  },
  {
   "cell_type": "code",
   "execution_count": 14,
   "id": "a5928c7f-92ab-4952-ab8b-477e0e457959",
   "metadata": {},
   "outputs": [],
   "source": [
    "#Create 8 dimensional embeddings\n",
    "pretrained_encoder= dnabert.DnaBertEncoderModel(pretrained_model.base)\n",
    "pretrained_encoder.trainable = False"
   ]
  },
  {
   "cell_type": "code",
   "execution_count": 15,
   "id": "e6fc1685-c320-40f5-bb4a-1c217be25963",
   "metadata": {},
   "outputs": [],
   "source": [
    "class Create_Embeddings(keras.layers.Layer):\n",
    "    def __init__(self, encoder):\n",
    "        super(Create_Embeddings, self).__init__()\n",
    "        self.encoder = encoder\n",
    "        \n",
    "    \n",
    "    def subbatch_predict(self, model, batch, subbatch_size, concat=lambda old, new: tf.concat((old, new), axis=0)):\n",
    "        def predict(i, result=None):\n",
    "            n = i + subbatch_size\n",
    "            pred = tf.stop_gradient(model(batch[i:n]))\n",
    "            if result is None:\n",
    "                return [n, pred]\n",
    "            return [n, concat(result, pred)]\n",
    "        i, result = predict(0)\n",
    "        batch_size = tf.shape(batch)[0]\n",
    "        i, result = tf.while_loop(\n",
    "            cond=lambda i, _: i < batch_size,\n",
    "            body=predict,\n",
    "            loop_vars=[i, result],\n",
    "            parallel_iterations=1)\n",
    "\n",
    "        return result\n",
    "    \n",
    "    def modify_data_for_input(self, data):\n",
    "        batch_size = tf.shape(data)[0]\n",
    "        subsample_size = tf.shape(data)[1]\n",
    "        flat_data = tf.reshape(data, (batch_size*subsample_size, -1))\n",
    "        encoded = self.subbatch_predict(self.encoder, flat_data, 128)\n",
    "        return tf.reshape(encoded, (batch_size, subsample_size, -1))\n",
    "    \n",
    "    def call(self, data):\n",
    "        return  self.modify_data_for_input(data)"
   ]
  },
  {
   "cell_type": "markdown",
   "id": "aa47f6fd-2a44-46f8-8b46-15fc33786e13",
   "metadata": {},
   "source": [
    "---\n",
    "# Set Transformer Class"
   ]
  },
  {
   "cell_type": "code",
   "execution_count": 16,
   "id": "f11e396d-98b4-47ce-903a-c342ec73e234",
   "metadata": {
    "tags": []
   },
   "outputs": [],
   "source": [
    "class Set_Transformer_Model(keras.Model):\n",
    "    def __init__(self, num_induce, embed_dim, num_heads, stack, use_layernorm, pre_layernorm, use_keras_mha, seq_len, encoder, output_shape):\n",
    "        super(Set_Transformer_Model, self).__init__()\n",
    "        \n",
    "        self.embedding_layer = Create_Embeddings(encoder)\n",
    "        self.linear_layer = keras.layers.Dense(embed_dim)\n",
    "        \n",
    "        self.isabs = []\n",
    "        \n",
    "        for i in range(stack):\n",
    "            self.isabs.append(Set_Transformer.SetAttentionBlock(embed_dim=embed_dim,num_heads=num_heads,use_layernorm=use_layernorm,pre_layernorm=pre_layernorm,use_keras_mha=use_keras_mha))\n",
    "      \n",
    "        self.pooling_layer = Set_Transformer.PoolingByMultiHeadAttention(num_seeds=1,embed_dim=embed_dim,num_heads=1,use_layernorm=use_layernorm,pre_layernorm=pre_layernorm,use_keras_mha=use_keras_mha,is_final_block=True)\n",
    "    \n",
    "        self.reshape_layer = keras.layers.Reshape((embed_dim,))\n",
    "        \n",
    "        self.output_layer = keras.layers.Dense(output_shape)\n",
    "    \n",
    "    def call(self, data):\n",
    "        \n",
    "            embeddings = self.embedding_layer(data)\n",
    "            \n",
    "            linear_transform = self.linear_layer(embeddings)\n",
    "            \n",
    "            attention = linear_transform\n",
    "            \n",
    "            for isab in self.isabs:\n",
    "                attention = isab([attention, None])\n",
    "                \n",
    "            pooling = self.pooling_layer(attention)\n",
    "        \n",
    "            reshape = self.reshape_layer(pooling)\n",
    "            \n",
    "            output = self.output_layer(reshape)    \n",
    "            \n",
    "            return output"
   ]
  },
  {
   "cell_type": "markdown",
   "id": "6e1c8632-97aa-46b0-9af1-afee2c87613f",
   "metadata": {},
   "source": [
    "---\n",
    "# Create Model"
   ]
  },
  {
   "cell_type": "code",
   "execution_count": 23,
   "id": "15b79d89-3c83-41f0-954f-86419d612032",
   "metadata": {},
   "outputs": [],
   "source": [
    "#Hyperparameters\n",
    "num_induce = 48\n",
    "embed_dim = 64\n",
    "num_heads = 8\n",
    "stack = 4\n",
    "use_layernorm = True\n",
    "pre_layernorm = True\n",
    "use_keras_mha = True\n",
    "seq_len = 148\n",
    "encoder = pretrained_encoder\n",
    "output_shape = max_files"
   ]
  },
  {
   "cell_type": "code",
   "execution_count": 24,
   "id": "d174e7c1-fd3c-466b-a211-79555706313f",
   "metadata": {},
   "outputs": [],
   "source": [
    "Parameters = dict(\n",
    "    num_induce = 48,\n",
    "    embed_dim = 64,\n",
    "    num_heads = 8,\n",
    "    stack = 4,\n",
    "    use_layernorm = True,\n",
    "    pre_layernorm = True,\n",
    "    use_keras_mha = True,\n",
    "    seq_len = 148,\n",
    "    output_shape = max_files)"
   ]
  },
  {
   "cell_type": "code",
   "execution_count": 25,
   "id": "ef28007c-fa3c-4608-befb-9e6b0a4f0d88",
   "metadata": {},
   "outputs": [
    {
     "data": {
      "text/html": [
       "Finishing last run (ID:2pao1r66) before initializing another..."
      ],
      "text/plain": [
       "<IPython.core.display.HTML object>"
      ]
     },
     "metadata": {},
     "output_type": "display_data"
    },
    {
     "data": {
      "text/html": [
       "Waiting for W&B process to finish... <strong style=\"color:green\">(success).</strong>"
      ],
      "text/plain": [
       "<IPython.core.display.HTML object>"
      ]
     },
     "metadata": {},
     "output_type": "display_data"
    },
    {
     "data": {
      "application/vnd.jupyter.widget-view+json": {
       "model_id": "",
       "version_major": 2,
       "version_minor": 0
      },
      "text/plain": [
       "VBox(children=(Label(value='0.001 MB of 0.001 MB uploaded (0.000 MB deduped)\\r'), FloatProgress(value=1.0, max…"
      ]
     },
     "metadata": {},
     "output_type": "display_data"
    },
    {
     "data": {
      "text/html": [
       "Synced <strong style=\"color:#cdcd00\">laced-gorge-3</strong>: <a href=\"https://wandb.ai/kendragivens/Str/runs/2pao1r66\" target=\"_blank\">https://wandb.ai/kendragivens/Str/runs/2pao1r66</a><br/>Synced 5 W&B file(s), 0 media file(s), 0 artifact file(s) and 0 other file(s)"
      ],
      "text/plain": [
       "<IPython.core.display.HTML object>"
      ]
     },
     "metadata": {},
     "output_type": "display_data"
    },
    {
     "data": {
      "text/html": [
       "Find logs at: <code>./wandb/run-20220726_144919-2pao1r66/logs</code>"
      ],
      "text/plain": [
       "<IPython.core.display.HTML object>"
      ]
     },
     "metadata": {},
     "output_type": "display_data"
    },
    {
     "data": {
      "text/html": [
       "Successfully finished last run (ID:2pao1r66). Initializing new run:<br/>"
      ],
      "text/plain": [
       "<IPython.core.display.HTML object>"
      ]
     },
     "metadata": {},
     "output_type": "display_data"
    },
    {
     "data": {
      "text/html": [
       "Tracking run with wandb version 0.12.21"
      ],
      "text/plain": [
       "<IPython.core.display.HTML object>"
      ]
     },
     "metadata": {},
     "output_type": "display_data"
    },
    {
     "data": {
      "text/html": [
       "Run data is saved locally in <code>/home/jovyan/work/TransformerXL/STR_XL/wandb/run-20220726_145051-6mu5tf2x</code>"
      ],
      "text/plain": [
       "<IPython.core.display.HTML object>"
      ]
     },
     "metadata": {},
     "output_type": "display_data"
    },
    {
     "data": {
      "text/html": [
       "Syncing run <strong><a href=\"https://wandb.ai/kendragivens/Str/runs/6mu5tf2x\" target=\"_blank\">denim-shape-4</a></strong> to <a href=\"https://wandb.ai/kendragivens/Str\" target=\"_blank\">Weights & Biases</a> (<a href=\"https://wandb.me/run\" target=\"_blank\">docs</a>)<br/>"
      ],
      "text/plain": [
       "<IPython.core.display.HTML object>"
      ]
     },
     "metadata": {},
     "output_type": "display_data"
    }
   ],
   "source": [
    "run = wandb.init(project=\"Str\", config=Parameters)"
   ]
  },
  {
   "cell_type": "code",
   "execution_count": 26,
   "id": "11a8fa23-80d6-47e7-9f5d-39e6d55c6816",
   "metadata": {},
   "outputs": [],
   "source": [
    "model = Set_Transformer_Model(num_induce, embed_dim, num_heads, stack, use_layernorm, pre_layernorm, use_keras_mha, seq_len, encoder, output_shape)\n",
    "model.compile(optimizer=keras.optimizers.Adam(1e-3),loss=keras.losses.SparseCategoricalCrossentropy(from_logits=True), metrics = [keras.metrics.sparse_categorical_accuracy])"
   ]
  },
  {
   "cell_type": "code",
   "execution_count": 27,
   "id": "51fbd3f6-ad09-4e86-a5e4-27703b9e21eb",
   "metadata": {},
   "outputs": [],
   "source": [
    "epochs = 10000"
   ]
  },
  {
   "cell_type": "code",
   "execution_count": null,
   "id": "c7dbf382",
   "metadata": {
    "tags": []
   },
   "outputs": [
    {
     "name": "stderr",
     "output_type": "stream",
     "text": [
      "\u001b[34m\u001b[1mwandb\u001b[0m: \u001b[33mWARNING\u001b[0m Unable to compute FLOPs for this model.\n"
     ]
    },
    {
     "name": "stdout",
     "output_type": "stream",
     "text": [
      "Epoch 1/10000\n",
      "20/20 [==============================] - 119s 6s/step - loss: 3.9910 - sparse_categorical_accuracy: 0.0375 - val_loss: 3.6718 - val_sparse_categorical_accuracy: 0.0500 - _timestamp: 1658865182.0000 - _runtime: 127.0000\n",
      "Epoch 2/10000\n",
      "20/20 [==============================] - 111s 6s/step - loss: 3.5583 - sparse_categorical_accuracy: 0.0550 - val_loss: 3.4149 - val_sparse_categorical_accuracy: 0.0400 - _timestamp: 1658865293.0000 - _runtime: 238.0000\n",
      "Epoch 3/10000\n",
      "20/20 [==============================] - 110s 6s/step - loss: 3.3805 - sparse_categorical_accuracy: 0.0500 - val_loss: 3.4159 - val_sparse_categorical_accuracy: 0.0400 - _timestamp: 1658865404.0000 - _runtime: 349.0000\n",
      "Epoch 4/10000\n",
      "20/20 [==============================] - 112s 6s/step - loss: 3.3593 - sparse_categorical_accuracy: 0.0275 - val_loss: 3.3617 - val_sparse_categorical_accuracy: 0.0600 - _timestamp: 1658865516.0000 - _runtime: 461.0000\n",
      "Epoch 5/10000\n",
      "20/20 [==============================] - 112s 6s/step - loss: 3.3174 - sparse_categorical_accuracy: 0.0525 - val_loss: 3.3131 - val_sparse_categorical_accuracy: 0.0300 - _timestamp: 1658865628.0000 - _runtime: 573.0000\n",
      "Epoch 6/10000\n",
      "20/20 [==============================] - 112s 6s/step - loss: 3.2875 - sparse_categorical_accuracy: 0.0400 - val_loss: 3.2372 - val_sparse_categorical_accuracy: 0.0500 - _timestamp: 1658865740.0000 - _runtime: 685.0000\n",
      "Epoch 7/10000\n",
      "20/20 [==============================] - 112s 6s/step - loss: 3.3227 - sparse_categorical_accuracy: 0.0350 - val_loss: 3.2722 - val_sparse_categorical_accuracy: 0.0300 - _timestamp: 1658865852.0000 - _runtime: 797.0000\n",
      "Epoch 8/10000\n",
      "20/20 [==============================] - 112s 6s/step - loss: 3.2800 - sparse_categorical_accuracy: 0.0575 - val_loss: 3.2986 - val_sparse_categorical_accuracy: 0.0500 - _timestamp: 1658865964.0000 - _runtime: 909.0000\n",
      "Epoch 9/10000\n",
      "20/20 [==============================] - 112s 6s/step - loss: 3.3082 - sparse_categorical_accuracy: 0.0275 - val_loss: 3.2957 - val_sparse_categorical_accuracy: 0.0300 - _timestamp: 1658866076.0000 - _runtime: 1021.0000\n",
      "Epoch 10/10000\n",
      "20/20 [==============================] - 112s 6s/step - loss: 3.2701 - sparse_categorical_accuracy: 0.0325 - val_loss: 3.2938 - val_sparse_categorical_accuracy: 0.0400 - _timestamp: 1658866187.0000 - _runtime: 1132.0000\n",
      "Epoch 11/10000\n",
      "20/20 [==============================] - 112s 6s/step - loss: 3.2700 - sparse_categorical_accuracy: 0.0225 - val_loss: 3.2840 - val_sparse_categorical_accuracy: 0.0500 - _timestamp: 1658866299.0000 - _runtime: 1244.0000\n",
      "Epoch 12/10000\n",
      "20/20 [==============================] - 112s 6s/step - loss: 3.2610 - sparse_categorical_accuracy: 0.0375 - val_loss: 3.2678 - val_sparse_categorical_accuracy: 0.0900 - _timestamp: 1658866411.0000 - _runtime: 1356.0000\n",
      "Epoch 13/10000\n",
      "20/20 [==============================] - 112s 6s/step - loss: 3.2625 - sparse_categorical_accuracy: 0.0300 - val_loss: 3.2770 - val_sparse_categorical_accuracy: 0.0100 - _timestamp: 1658866522.0000 - _runtime: 1467.0000\n",
      "Epoch 14/10000\n",
      "20/20 [==============================] - 112s 6s/step - loss: 3.2146 - sparse_categorical_accuracy: 0.0575 - val_loss: 3.2713 - val_sparse_categorical_accuracy: 0.0300 - _timestamp: 1658866634.0000 - _runtime: 1579.0000\n",
      "Epoch 15/10000\n",
      "20/20 [==============================] - 112s 6s/step - loss: 3.1920 - sparse_categorical_accuracy: 0.0725 - val_loss: 3.1195 - val_sparse_categorical_accuracy: 0.0900 - _timestamp: 1658866746.0000 - _runtime: 1691.0000\n",
      "Epoch 16/10000\n",
      "20/20 [==============================] - 112s 6s/step - loss: 3.1049 - sparse_categorical_accuracy: 0.0725 - val_loss: 3.0839 - val_sparse_categorical_accuracy: 0.0600 - _timestamp: 1658866859.0000 - _runtime: 1804.0000\n",
      "Epoch 17/10000\n",
      "20/20 [==============================] - 112s 6s/step - loss: 3.1086 - sparse_categorical_accuracy: 0.0725 - val_loss: 3.1218 - val_sparse_categorical_accuracy: 0.0700 - _timestamp: 1658866971.0000 - _runtime: 1916.0000\n",
      "Epoch 18/10000\n",
      "20/20 [==============================] - 112s 6s/step - loss: 3.0285 - sparse_categorical_accuracy: 0.0925 - val_loss: 3.0401 - val_sparse_categorical_accuracy: 0.0300 - _timestamp: 1658867082.0000 - _runtime: 2027.0000\n",
      "Epoch 19/10000\n",
      "20/20 [==============================] - 112s 6s/step - loss: 2.9672 - sparse_categorical_accuracy: 0.1025 - val_loss: 2.9826 - val_sparse_categorical_accuracy: 0.0900 - _timestamp: 1658867194.0000 - _runtime: 2139.0000\n",
      "Epoch 20/10000\n",
      "20/20 [==============================] - 112s 6s/step - loss: 2.9410 - sparse_categorical_accuracy: 0.1050 - val_loss: 2.9397 - val_sparse_categorical_accuracy: 0.0600 - _timestamp: 1658867307.0000 - _runtime: 2252.0000\n",
      "Epoch 21/10000\n",
      "20/20 [==============================] - 112s 6s/step - loss: 2.9578 - sparse_categorical_accuracy: 0.0950 - val_loss: 3.1733 - val_sparse_categorical_accuracy: 0.0700 - _timestamp: 1658867419.0000 - _runtime: 2364.0000\n",
      "Epoch 22/10000\n",
      "20/20 [==============================] - 112s 6s/step - loss: 3.0407 - sparse_categorical_accuracy: 0.0750 - val_loss: 2.8618 - val_sparse_categorical_accuracy: 0.1300 - _timestamp: 1658867531.0000 - _runtime: 2476.0000\n",
      "Epoch 23/10000\n",
      "20/20 [==============================] - 112s 6s/step - loss: 2.8489 - sparse_categorical_accuracy: 0.1125 - val_loss: 2.8365 - val_sparse_categorical_accuracy: 0.1400 - _timestamp: 1658867643.0000 - _runtime: 2588.0000\n",
      "Epoch 24/10000\n",
      "20/20 [==============================] - 112s 6s/step - loss: 2.8540 - sparse_categorical_accuracy: 0.1100 - val_loss: 2.8453 - val_sparse_categorical_accuracy: 0.1200 - _timestamp: 1658867755.0000 - _runtime: 2700.0000\n",
      "Epoch 25/10000\n",
      "20/20 [==============================] - 112s 6s/step - loss: 2.8236 - sparse_categorical_accuracy: 0.1100 - val_loss: 2.7465 - val_sparse_categorical_accuracy: 0.1100 - _timestamp: 1658867867.0000 - _runtime: 2812.0000\n",
      "Epoch 26/10000\n",
      "20/20 [==============================] - 112s 6s/step - loss: 2.7934 - sparse_categorical_accuracy: 0.1250 - val_loss: 2.8013 - val_sparse_categorical_accuracy: 0.1000 - _timestamp: 1658867979.0000 - _runtime: 2924.0000\n",
      "Epoch 27/10000\n",
      "20/20 [==============================] - 112s 6s/step - loss: 2.7342 - sparse_categorical_accuracy: 0.1250 - val_loss: 2.7766 - val_sparse_categorical_accuracy: 0.1100 - _timestamp: 1658868091.0000 - _runtime: 3036.0000\n",
      "Epoch 28/10000\n",
      "20/20 [==============================] - 112s 6s/step - loss: 2.7269 - sparse_categorical_accuracy: 0.1150 - val_loss: 2.7354 - val_sparse_categorical_accuracy: 0.1200 - _timestamp: 1658868202.0000 - _runtime: 3147.0000\n",
      "Epoch 29/10000\n",
      "20/20 [==============================] - 112s 6s/step - loss: 2.6861 - sparse_categorical_accuracy: 0.1775 - val_loss: 2.6332 - val_sparse_categorical_accuracy: 0.1700 - _timestamp: 1658868315.0000 - _runtime: 3260.0000\n",
      "Epoch 30/10000\n",
      "20/20 [==============================] - 112s 6s/step - loss: 2.7154 - sparse_categorical_accuracy: 0.1525 - val_loss: 2.7262 - val_sparse_categorical_accuracy: 0.1200 - _timestamp: 1658868427.0000 - _runtime: 3372.0000\n",
      "Epoch 31/10000\n",
      "20/20 [==============================] - 112s 6s/step - loss: 2.7633 - sparse_categorical_accuracy: 0.1200 - val_loss: 2.7311 - val_sparse_categorical_accuracy: 0.1700 - _timestamp: 1658868538.0000 - _runtime: 3483.0000\n",
      "Epoch 32/10000\n",
      "20/20 [==============================] - 112s 6s/step - loss: 2.7673 - sparse_categorical_accuracy: 0.1225 - val_loss: 2.6722 - val_sparse_categorical_accuracy: 0.1900 - _timestamp: 1658868650.0000 - _runtime: 3595.0000\n",
      "Epoch 33/10000\n",
      "20/20 [==============================] - 112s 6s/step - loss: 2.6492 - sparse_categorical_accuracy: 0.1475 - val_loss: 2.6397 - val_sparse_categorical_accuracy: 0.1900 - _timestamp: 1658868762.0000 - _runtime: 3707.0000\n",
      "Epoch 34/10000\n",
      "20/20 [==============================] - 112s 6s/step - loss: 2.6248 - sparse_categorical_accuracy: 0.1500 - val_loss: 2.6916 - val_sparse_categorical_accuracy: 0.1300 - _timestamp: 1658868874.0000 - _runtime: 3819.0000\n",
      "Epoch 35/10000\n",
      "20/20 [==============================] - 112s 6s/step - loss: 2.6028 - sparse_categorical_accuracy: 0.1550 - val_loss: 2.5810 - val_sparse_categorical_accuracy: 0.1600 - _timestamp: 1658868986.0000 - _runtime: 3931.0000\n",
      "Epoch 36/10000\n",
      "20/20 [==============================] - 112s 6s/step - loss: 2.6592 - sparse_categorical_accuracy: 0.1375 - val_loss: 2.5953 - val_sparse_categorical_accuracy: 0.1200 - _timestamp: 1658869098.0000 - _runtime: 4043.0000\n",
      "Epoch 37/10000\n",
      "20/20 [==============================] - 112s 6s/step - loss: 2.5735 - sparse_categorical_accuracy: 0.1725 - val_loss: 2.5920 - val_sparse_categorical_accuracy: 0.1100 - _timestamp: 1658869210.0000 - _runtime: 4155.0000\n",
      "Epoch 38/10000\n",
      "20/20 [==============================] - 112s 6s/step - loss: 2.6276 - sparse_categorical_accuracy: 0.1550 - val_loss: 2.7119 - val_sparse_categorical_accuracy: 0.1000 - _timestamp: 1658869321.0000 - _runtime: 4266.0000\n",
      "Epoch 39/10000\n",
      "20/20 [==============================] - 112s 6s/step - loss: 2.5561 - sparse_categorical_accuracy: 0.1550 - val_loss: 2.6943 - val_sparse_categorical_accuracy: 0.1600 - _timestamp: 1658869433.0000 - _runtime: 4378.0000\n",
      "Epoch 40/10000\n",
      "20/20 [==============================] - 112s 6s/step - loss: 2.6166 - sparse_categorical_accuracy: 0.1450 - val_loss: 2.5232 - val_sparse_categorical_accuracy: 0.1500 - _timestamp: 1658869545.0000 - _runtime: 4490.0000\n",
      "Epoch 41/10000\n",
      "20/20 [==============================] - 112s 6s/step - loss: 2.4559 - sparse_categorical_accuracy: 0.1525 - val_loss: 2.3659 - val_sparse_categorical_accuracy: 0.2100 - _timestamp: 1658869657.0000 - _runtime: 4602.0000\n",
      "Epoch 42/10000\n",
      "20/20 [==============================] - 112s 6s/step - loss: 2.5316 - sparse_categorical_accuracy: 0.1450 - val_loss: 2.6892 - val_sparse_categorical_accuracy: 0.1200 - _timestamp: 1658869769.0000 - _runtime: 4714.0000\n",
      "Epoch 43/10000\n",
      "20/20 [==============================] - 112s 6s/step - loss: 2.5204 - sparse_categorical_accuracy: 0.1750 - val_loss: 2.7744 - val_sparse_categorical_accuracy: 0.1700 - _timestamp: 1658869881.0000 - _runtime: 4826.0000\n",
      "Epoch 44/10000\n",
      "20/20 [==============================] - 112s 6s/step - loss: 2.4174 - sparse_categorical_accuracy: 0.1775 - val_loss: 2.4886 - val_sparse_categorical_accuracy: 0.2000 - _timestamp: 1658869993.0000 - _runtime: 4938.0000\n",
      "Epoch 45/10000\n",
      "20/20 [==============================] - 112s 6s/step - loss: 2.4001 - sparse_categorical_accuracy: 0.1825 - val_loss: 2.8213 - val_sparse_categorical_accuracy: 0.1300 - _timestamp: 1658870105.0000 - _runtime: 5050.0000\n",
      "Epoch 46/10000\n",
      "20/20 [==============================] - 112s 6s/step - loss: 2.2719 - sparse_categorical_accuracy: 0.2050 - val_loss: 2.4058 - val_sparse_categorical_accuracy: 0.1700 - _timestamp: 1658870216.0000 - _runtime: 5161.0000\n",
      "Epoch 47/10000\n",
      "20/20 [==============================] - 112s 6s/step - loss: 2.5568 - sparse_categorical_accuracy: 0.1400 - val_loss: 2.5892 - val_sparse_categorical_accuracy: 0.1300 - _timestamp: 1658870328.0000 - _runtime: 5273.0000\n",
      "Epoch 48/10000\n",
      "20/20 [==============================] - 112s 6s/step - loss: 2.2940 - sparse_categorical_accuracy: 0.2000 - val_loss: 2.4375 - val_sparse_categorical_accuracy: 0.1500 - _timestamp: 1658870440.0000 - _runtime: 5385.0000\n",
      "Epoch 49/10000\n",
      "20/20 [==============================] - 112s 6s/step - loss: 2.2513 - sparse_categorical_accuracy: 0.1950 - val_loss: 2.5736 - val_sparse_categorical_accuracy: 0.1300 - _timestamp: 1658870552.0000 - _runtime: 5497.0000\n",
      "Epoch 50/10000\n",
      "20/20 [==============================] - 112s 6s/step - loss: 2.2309 - sparse_categorical_accuracy: 0.1900 - val_loss: 2.4564 - val_sparse_categorical_accuracy: 0.1200 - _timestamp: 1658870664.0000 - _runtime: 5609.0000\n",
      "Epoch 51/10000\n",
      "20/20 [==============================] - 112s 6s/step - loss: 2.2735 - sparse_categorical_accuracy: 0.1650 - val_loss: 2.9778 - val_sparse_categorical_accuracy: 0.0900 - _timestamp: 1658870776.0000 - _runtime: 5721.0000\n",
      "Epoch 52/10000\n",
      "20/20 [==============================] - 112s 6s/step - loss: 2.3557 - sparse_categorical_accuracy: 0.1575 - val_loss: 2.8153 - val_sparse_categorical_accuracy: 0.1400 - _timestamp: 1658870887.0000 - _runtime: 5832.0000\n",
      "Epoch 53/10000\n",
      "20/20 [==============================] - 112s 6s/step - loss: 2.4063 - sparse_categorical_accuracy: 0.1325 - val_loss: 2.1451 - val_sparse_categorical_accuracy: 0.1800 - _timestamp: 1658870999.0000 - _runtime: 5944.0000\n",
      "Epoch 54/10000\n",
      "20/20 [==============================] - 112s 6s/step - loss: 2.2612 - sparse_categorical_accuracy: 0.2175 - val_loss: 2.3689 - val_sparse_categorical_accuracy: 0.2200 - _timestamp: 1658871112.0000 - _runtime: 6057.0000\n",
      "Epoch 55/10000\n",
      "20/20 [==============================] - 112s 6s/step - loss: 2.1851 - sparse_categorical_accuracy: 0.1875 - val_loss: 2.0397 - val_sparse_categorical_accuracy: 0.2400 - _timestamp: 1658871223.0000 - _runtime: 6168.0000\n",
      "Epoch 56/10000\n",
      "20/20 [==============================] - 112s 6s/step - loss: 2.3323 - sparse_categorical_accuracy: 0.1425 - val_loss: 2.4139 - val_sparse_categorical_accuracy: 0.1400 - _timestamp: 1658871336.0000 - _runtime: 6281.0000\n",
      "Epoch 57/10000\n",
      "20/20 [==============================] - 112s 6s/step - loss: 2.1496 - sparse_categorical_accuracy: 0.2500 - val_loss: 2.2037 - val_sparse_categorical_accuracy: 0.2000 - _timestamp: 1658871448.0000 - _runtime: 6393.0000\n",
      "Epoch 58/10000\n",
      "20/20 [==============================] - 112s 6s/step - loss: 2.1644 - sparse_categorical_accuracy: 0.2025 - val_loss: 2.2235 - val_sparse_categorical_accuracy: 0.1800 - _timestamp: 1658871559.0000 - _runtime: 6504.0000\n",
      "Epoch 59/10000\n",
      "20/20 [==============================] - 112s 6s/step - loss: 2.1341 - sparse_categorical_accuracy: 0.2100 - val_loss: 2.8692 - val_sparse_categorical_accuracy: 0.1200 - _timestamp: 1658871671.0000 - _runtime: 6616.0000\n",
      "Epoch 60/10000\n",
      "20/20 [==============================] - 112s 6s/step - loss: 2.1006 - sparse_categorical_accuracy: 0.2375 - val_loss: 2.3472 - val_sparse_categorical_accuracy: 0.1500 - _timestamp: 1658871783.0000 - _runtime: 6728.0000\n",
      "Epoch 61/10000\n",
      "20/20 [==============================] - 112s 6s/step - loss: 2.0864 - sparse_categorical_accuracy: 0.2600 - val_loss: 2.3245 - val_sparse_categorical_accuracy: 0.2200 - _timestamp: 1658871895.0000 - _runtime: 6840.0000\n",
      "Epoch 62/10000\n",
      "20/20 [==============================] - 112s 6s/step - loss: 2.0802 - sparse_categorical_accuracy: 0.2575 - val_loss: 2.4133 - val_sparse_categorical_accuracy: 0.2000 - _timestamp: 1658872007.0000 - _runtime: 6952.0000\n",
      "Epoch 63/10000\n",
      "20/20 [==============================] - 112s 6s/step - loss: 2.1517 - sparse_categorical_accuracy: 0.2100 - val_loss: 2.4306 - val_sparse_categorical_accuracy: 0.2000 - _timestamp: 1658872118.0000 - _runtime: 7063.0000\n",
      "Epoch 64/10000\n",
      "20/20 [==============================] - 112s 6s/step - loss: 2.0197 - sparse_categorical_accuracy: 0.2425 - val_loss: 2.0487 - val_sparse_categorical_accuracy: 0.2700 - _timestamp: 1658872230.0000 - _runtime: 7175.0000\n",
      "Epoch 65/10000\n",
      "20/20 [==============================] - 112s 6s/step - loss: 2.0146 - sparse_categorical_accuracy: 0.2450 - val_loss: 2.1840 - val_sparse_categorical_accuracy: 0.2700 - _timestamp: 1658872342.0000 - _runtime: 7287.0000\n",
      "Epoch 66/10000\n",
      "20/20 [==============================] - 112s 6s/step - loss: 2.0225 - sparse_categorical_accuracy: 0.2175 - val_loss: 2.0640 - val_sparse_categorical_accuracy: 0.2500 - _timestamp: 1658872454.0000 - _runtime: 7399.0000\n",
      "Epoch 67/10000\n",
      "20/20 [==============================] - 112s 6s/step - loss: 2.0626 - sparse_categorical_accuracy: 0.2450 - val_loss: 2.0932 - val_sparse_categorical_accuracy: 0.2000 - _timestamp: 1658872566.0000 - _runtime: 7511.0000\n",
      "Epoch 68/10000\n",
      "20/20 [==============================] - 112s 6s/step - loss: 2.0545 - sparse_categorical_accuracy: 0.2350 - val_loss: 2.2035 - val_sparse_categorical_accuracy: 0.2000 - _timestamp: 1658872678.0000 - _runtime: 7623.0000\n",
      "Epoch 69/10000\n",
      "20/20 [==============================] - 112s 6s/step - loss: 2.0088 - sparse_categorical_accuracy: 0.2325 - val_loss: 2.0125 - val_sparse_categorical_accuracy: 0.2500 - _timestamp: 1658872789.0000 - _runtime: 7734.0000\n",
      "Epoch 70/10000\n",
      "20/20 [==============================] - 112s 6s/step - loss: 2.0078 - sparse_categorical_accuracy: 0.2400 - val_loss: 2.4819 - val_sparse_categorical_accuracy: 0.2100 - _timestamp: 1658872902.0000 - _runtime: 7847.0000\n",
      "Epoch 71/10000\n",
      "20/20 [==============================] - 112s 6s/step - loss: 2.0856 - sparse_categorical_accuracy: 0.2550 - val_loss: 2.1152 - val_sparse_categorical_accuracy: 0.2300 - _timestamp: 1658873014.0000 - _runtime: 7959.0000\n",
      "Epoch 72/10000\n",
      "20/20 [==============================] - 112s 6s/step - loss: 2.0327 - sparse_categorical_accuracy: 0.2475 - val_loss: 2.0042 - val_sparse_categorical_accuracy: 0.3300 - _timestamp: 1658873126.0000 - _runtime: 8071.0000\n",
      "Epoch 73/10000\n",
      "20/20 [==============================] - 112s 6s/step - loss: 1.9558 - sparse_categorical_accuracy: 0.2875 - val_loss: 2.3022 - val_sparse_categorical_accuracy: 0.1600 - _timestamp: 1658873238.0000 - _runtime: 8183.0000\n",
      "Epoch 74/10000\n",
      "20/20 [==============================] - 112s 6s/step - loss: 2.0704 - sparse_categorical_accuracy: 0.2225 - val_loss: 2.0280 - val_sparse_categorical_accuracy: 0.3100 - _timestamp: 1658873350.0000 - _runtime: 8295.0000\n",
      "Epoch 75/10000\n",
      "20/20 [==============================] - 112s 6s/step - loss: 2.0107 - sparse_categorical_accuracy: 0.2650 - val_loss: 2.0135 - val_sparse_categorical_accuracy: 0.2700 - _timestamp: 1658873461.0000 - _runtime: 8406.0000\n",
      "Epoch 76/10000\n",
      "20/20 [==============================] - 112s 6s/step - loss: 1.9959 - sparse_categorical_accuracy: 0.2750 - val_loss: 2.0356 - val_sparse_categorical_accuracy: 0.2700 - _timestamp: 1658873573.0000 - _runtime: 8518.0000\n",
      "Epoch 77/10000\n",
      "20/20 [==============================] - 112s 6s/step - loss: 1.9496 - sparse_categorical_accuracy: 0.2725 - val_loss: 1.9295 - val_sparse_categorical_accuracy: 0.2500 - _timestamp: 1658873685.0000 - _runtime: 8630.0000\n",
      "Epoch 78/10000\n",
      "20/20 [==============================] - 112s 6s/step - loss: 1.9611 - sparse_categorical_accuracy: 0.2625 - val_loss: 2.1593 - val_sparse_categorical_accuracy: 0.2000 - _timestamp: 1658873797.0000 - _runtime: 8742.0000\n",
      "Epoch 79/10000\n",
      "20/20 [==============================] - 112s 6s/step - loss: 1.8924 - sparse_categorical_accuracy: 0.2900 - val_loss: 2.0442 - val_sparse_categorical_accuracy: 0.3000 - _timestamp: 1658873909.0000 - _runtime: 8854.0000\n",
      "Epoch 80/10000\n",
      "20/20 [==============================] - 112s 6s/step - loss: 1.8858 - sparse_categorical_accuracy: 0.3200 - val_loss: 2.4554 - val_sparse_categorical_accuracy: 0.2500 - _timestamp: 1658874021.0000 - _runtime: 8966.0000\n",
      "Epoch 81/10000\n",
      "20/20 [==============================] - 112s 6s/step - loss: 1.8947 - sparse_categorical_accuracy: 0.3100 - val_loss: 2.1907 - val_sparse_categorical_accuracy: 0.2300 - _timestamp: 1658874133.0000 - _runtime: 9078.0000\n",
      "Epoch 82/10000\n",
      "20/20 [==============================] - 112s 6s/step - loss: 1.8264 - sparse_categorical_accuracy: 0.3125 - val_loss: 2.1017 - val_sparse_categorical_accuracy: 0.2400 - _timestamp: 1658874245.0000 - _runtime: 9190.0000\n",
      "Epoch 83/10000\n",
      "20/20 [==============================] - 112s 6s/step - loss: 1.9495 - sparse_categorical_accuracy: 0.2375 - val_loss: 1.8366 - val_sparse_categorical_accuracy: 0.2700 - _timestamp: 1658874357.0000 - _runtime: 9302.0000\n",
      "Epoch 84/10000\n",
      "20/20 [==============================] - 112s 6s/step - loss: 1.8840 - sparse_categorical_accuracy: 0.2775 - val_loss: 2.1159 - val_sparse_categorical_accuracy: 0.3200 - _timestamp: 1658874469.0000 - _runtime: 9414.0000\n",
      "Epoch 85/10000\n",
      "20/20 [==============================] - 112s 6s/step - loss: 1.7906 - sparse_categorical_accuracy: 0.3150 - val_loss: 2.4773 - val_sparse_categorical_accuracy: 0.1900 - _timestamp: 1658874581.0000 - _runtime: 9526.0000\n",
      "Epoch 86/10000\n",
      "20/20 [==============================] - 112s 6s/step - loss: 1.8597 - sparse_categorical_accuracy: 0.2925 - val_loss: 2.2609 - val_sparse_categorical_accuracy: 0.2200 - _timestamp: 1658874693.0000 - _runtime: 9638.0000\n",
      "Epoch 87/10000\n",
      "20/20 [==============================] - 112s 6s/step - loss: 1.8792 - sparse_categorical_accuracy: 0.2750 - val_loss: 2.3654 - val_sparse_categorical_accuracy: 0.1800 - _timestamp: 1658874804.0000 - _runtime: 9749.0000\n",
      "Epoch 88/10000\n",
      "20/20 [==============================] - 112s 6s/step - loss: 1.8387 - sparse_categorical_accuracy: 0.2925 - val_loss: 1.8835 - val_sparse_categorical_accuracy: 0.2300 - _timestamp: 1658874916.0000 - _runtime: 9861.0000\n",
      "Epoch 89/10000\n",
      "20/20 [==============================] - 112s 6s/step - loss: 1.8723 - sparse_categorical_accuracy: 0.3075 - val_loss: 2.0465 - val_sparse_categorical_accuracy: 0.2900 - _timestamp: 1658875028.0000 - _runtime: 9973.0000\n",
      "Epoch 90/10000\n",
      "20/20 [==============================] - 112s 6s/step - loss: 1.9054 - sparse_categorical_accuracy: 0.2650 - val_loss: 2.4689 - val_sparse_categorical_accuracy: 0.1200 - _timestamp: 1658875140.0000 - _runtime: 10085.0000\n",
      "Epoch 91/10000\n",
      "20/20 [==============================] - 112s 6s/step - loss: 1.7843 - sparse_categorical_accuracy: 0.3225 - val_loss: 1.9851 - val_sparse_categorical_accuracy: 0.1800 - _timestamp: 1658875252.0000 - _runtime: 10197.0000\n",
      "Epoch 92/10000\n",
      "20/20 [==============================] - 112s 6s/step - loss: 1.8605 - sparse_categorical_accuracy: 0.2825 - val_loss: 2.2109 - val_sparse_categorical_accuracy: 0.1900 - _timestamp: 1658875364.0000 - _runtime: 10309.0000\n",
      "Epoch 93/10000\n",
      "20/20 [==============================] - 112s 6s/step - loss: 1.7221 - sparse_categorical_accuracy: 0.3400 - val_loss: 2.3160 - val_sparse_categorical_accuracy: 0.2700 - _timestamp: 1658875476.0000 - _runtime: 10421.0000\n",
      "Epoch 94/10000\n",
      "20/20 [==============================] - 112s 6s/step - loss: 1.7132 - sparse_categorical_accuracy: 0.3275 - val_loss: 2.4147 - val_sparse_categorical_accuracy: 0.3200 - _timestamp: 1658875587.0000 - _runtime: 10532.0000\n",
      "Epoch 95/10000\n",
      "20/20 [==============================] - 112s 6s/step - loss: 1.9644 - sparse_categorical_accuracy: 0.2500 - val_loss: 2.1487 - val_sparse_categorical_accuracy: 0.2500 - _timestamp: 1658875699.0000 - _runtime: 10644.0000\n",
      "Epoch 96/10000\n",
      "20/20 [==============================] - 112s 6s/step - loss: 1.7471 - sparse_categorical_accuracy: 0.3400 - val_loss: 2.3837 - val_sparse_categorical_accuracy: 0.1900 - _timestamp: 1658875811.0000 - _runtime: 10756.0000\n",
      "Epoch 97/10000\n",
      "20/20 [==============================] - 112s 6s/step - loss: 1.7415 - sparse_categorical_accuracy: 0.3400 - val_loss: 2.3976 - val_sparse_categorical_accuracy: 0.2100 - _timestamp: 1658875923.0000 - _runtime: 10868.0000\n",
      "Epoch 98/10000\n",
      "20/20 [==============================] - 112s 6s/step - loss: 1.7309 - sparse_categorical_accuracy: 0.3150 - val_loss: 1.9460 - val_sparse_categorical_accuracy: 0.2800 - _timestamp: 1658876035.0000 - _runtime: 10980.0000\n",
      "Epoch 99/10000\n",
      "20/20 [==============================] - 112s 6s/step - loss: 1.6544 - sparse_categorical_accuracy: 0.3725 - val_loss: 2.0327 - val_sparse_categorical_accuracy: 0.2500 - _timestamp: 1658876147.0000 - _runtime: 11092.0000\n",
      "Epoch 100/10000\n",
      "20/20 [==============================] - 112s 6s/step - loss: 1.7800 - sparse_categorical_accuracy: 0.3375 - val_loss: 2.0400 - val_sparse_categorical_accuracy: 0.2000 - _timestamp: 1658876259.0000 - _runtime: 11204.0000\n",
      "Epoch 101/10000\n",
      "20/20 [==============================] - 112s 6s/step - loss: 1.6820 - sparse_categorical_accuracy: 0.3275 - val_loss: 1.8455 - val_sparse_categorical_accuracy: 0.3100 - _timestamp: 1658876371.0000 - _runtime: 11316.0000\n",
      "Epoch 102/10000\n",
      "20/20 [==============================] - 112s 6s/step - loss: 1.6074 - sparse_categorical_accuracy: 0.3625 - val_loss: 2.5309 - val_sparse_categorical_accuracy: 0.2400 - _timestamp: 1658876483.0000 - _runtime: 11428.0000\n",
      "Epoch 103/10000\n",
      "20/20 [==============================] - 112s 6s/step - loss: 1.7808 - sparse_categorical_accuracy: 0.3075 - val_loss: 1.9470 - val_sparse_categorical_accuracy: 0.3200 - _timestamp: 1658876594.0000 - _runtime: 11539.0000\n",
      "Epoch 104/10000\n",
      "20/20 [==============================] - 112s 6s/step - loss: 1.8575 - sparse_categorical_accuracy: 0.3075 - val_loss: 1.9098 - val_sparse_categorical_accuracy: 0.3100 - _timestamp: 1658876706.0000 - _runtime: 11651.0000\n",
      "Epoch 105/10000\n",
      "20/20 [==============================] - 112s 6s/step - loss: 1.7706 - sparse_categorical_accuracy: 0.3500 - val_loss: 2.0266 - val_sparse_categorical_accuracy: 0.3100 - _timestamp: 1658876818.0000 - _runtime: 11763.0000\n",
      "Epoch 106/10000\n",
      "20/20 [==============================] - 112s 6s/step - loss: 1.5845 - sparse_categorical_accuracy: 0.3750 - val_loss: 1.9924 - val_sparse_categorical_accuracy: 0.2900 - _timestamp: 1658876930.0000 - _runtime: 11875.0000\n",
      "Epoch 107/10000\n",
      "20/20 [==============================] - 112s 6s/step - loss: 1.6457 - sparse_categorical_accuracy: 0.3900 - val_loss: 1.9257 - val_sparse_categorical_accuracy: 0.2800 - _timestamp: 1658877042.0000 - _runtime: 11987.0000\n",
      "Epoch 108/10000\n",
      "20/20 [==============================] - 112s 6s/step - loss: 1.6025 - sparse_categorical_accuracy: 0.3800 - val_loss: 2.2164 - val_sparse_categorical_accuracy: 0.1900 - _timestamp: 1658877153.0000 - _runtime: 12098.0000\n",
      "Epoch 109/10000\n",
      "20/20 [==============================] - 112s 6s/step - loss: 1.7289 - sparse_categorical_accuracy: 0.3350 - val_loss: 1.7463 - val_sparse_categorical_accuracy: 0.3300 - _timestamp: 1658877265.0000 - _runtime: 12210.0000\n",
      "Epoch 110/10000\n",
      "20/20 [==============================] - 112s 6s/step - loss: 1.5882 - sparse_categorical_accuracy: 0.4125 - val_loss: 2.1802 - val_sparse_categorical_accuracy: 0.2900 - _timestamp: 1658877378.0000 - _runtime: 12323.0000\n",
      "Epoch 111/10000\n",
      "20/20 [==============================] - 112s 6s/step - loss: 1.6227 - sparse_categorical_accuracy: 0.3725 - val_loss: 1.9126 - val_sparse_categorical_accuracy: 0.3300 - _timestamp: 1658877490.0000 - _runtime: 12435.0000\n",
      "Epoch 112/10000\n",
      "20/20 [==============================] - 112s 6s/step - loss: 1.6416 - sparse_categorical_accuracy: 0.3375 - val_loss: 2.1067 - val_sparse_categorical_accuracy: 0.2800 - _timestamp: 1658877601.0000 - _runtime: 12546.0000\n",
      "Epoch 113/10000\n",
      "20/20 [==============================] - 112s 6s/step - loss: 1.6575 - sparse_categorical_accuracy: 0.3425 - val_loss: 1.6466 - val_sparse_categorical_accuracy: 0.4100 - _timestamp: 1658877713.0000 - _runtime: 12658.0000\n",
      "Epoch 114/10000\n",
      "20/20 [==============================] - 112s 6s/step - loss: 1.6207 - sparse_categorical_accuracy: 0.3575 - val_loss: 2.2282 - val_sparse_categorical_accuracy: 0.3200 - _timestamp: 1658877825.0000 - _runtime: 12770.0000\n",
      "Epoch 115/10000\n",
      "20/20 [==============================] - 112s 6s/step - loss: 1.5607 - sparse_categorical_accuracy: 0.3975 - val_loss: 1.8271 - val_sparse_categorical_accuracy: 0.3600 - _timestamp: 1658877937.0000 - _runtime: 12882.0000\n",
      "Epoch 116/10000\n",
      "20/20 [==============================] - 112s 6s/step - loss: 1.6978 - sparse_categorical_accuracy: 0.3750 - val_loss: 2.1822 - val_sparse_categorical_accuracy: 0.2300 - _timestamp: 1658878049.0000 - _runtime: 12994.0000\n",
      "Epoch 117/10000\n",
      "20/20 [==============================] - 112s 6s/step - loss: 1.6927 - sparse_categorical_accuracy: 0.3475 - val_loss: 2.0789 - val_sparse_categorical_accuracy: 0.2500 - _timestamp: 1658878161.0000 - _runtime: 13106.0000\n",
      "Epoch 118/10000\n",
      "20/20 [==============================] - 112s 6s/step - loss: 1.5826 - sparse_categorical_accuracy: 0.3675 - val_loss: 1.8754 - val_sparse_categorical_accuracy: 0.2800 - _timestamp: 1658878273.0000 - _runtime: 13218.0000\n",
      "Epoch 119/10000\n",
      "20/20 [==============================] - 112s 6s/step - loss: 1.6712 - sparse_categorical_accuracy: 0.3500 - val_loss: 2.5550 - val_sparse_categorical_accuracy: 0.2100 - _timestamp: 1658878385.0000 - _runtime: 13330.0000\n",
      "Epoch 120/10000\n",
      "20/20 [==============================] - 112s 6s/step - loss: 1.6403 - sparse_categorical_accuracy: 0.3500 - val_loss: 1.9160 - val_sparse_categorical_accuracy: 0.2900 - _timestamp: 1658878497.0000 - _runtime: 13442.0000\n",
      "Epoch 121/10000\n",
      "20/20 [==============================] - 112s 6s/step - loss: 1.5607 - sparse_categorical_accuracy: 0.4100 - val_loss: 1.8731 - val_sparse_categorical_accuracy: 0.2800 - _timestamp: 1658878609.0000 - _runtime: 13554.0000\n",
      "Epoch 122/10000\n",
      "20/20 [==============================] - 112s 6s/step - loss: 1.5894 - sparse_categorical_accuracy: 0.4000 - val_loss: 1.9257 - val_sparse_categorical_accuracy: 0.3200 - _timestamp: 1658878721.0000 - _runtime: 13666.0000\n",
      "Epoch 123/10000\n",
      "20/20 [==============================] - 112s 6s/step - loss: 1.6528 - sparse_categorical_accuracy: 0.3550 - val_loss: 2.0882 - val_sparse_categorical_accuracy: 0.2800 - _timestamp: 1658878832.0000 - _runtime: 13777.0000\n",
      "Epoch 124/10000\n",
      "20/20 [==============================] - 112s 6s/step - loss: 1.6672 - sparse_categorical_accuracy: 0.3300 - val_loss: 1.8331 - val_sparse_categorical_accuracy: 0.3600 - _timestamp: 1658878944.0000 - _runtime: 13889.0000\n",
      "Epoch 125/10000\n",
      "20/20 [==============================] - 112s 6s/step - loss: 1.7030 - sparse_categorical_accuracy: 0.3550 - val_loss: 1.6157 - val_sparse_categorical_accuracy: 0.4600 - _timestamp: 1658879056.0000 - _runtime: 14001.0000\n",
      "Epoch 126/10000\n",
      "20/20 [==============================] - 112s 6s/step - loss: 1.5206 - sparse_categorical_accuracy: 0.4125 - val_loss: 1.6750 - val_sparse_categorical_accuracy: 0.4100 - _timestamp: 1658879168.0000 - _runtime: 14113.0000\n",
      "Epoch 127/10000\n",
      "20/20 [==============================] - 112s 6s/step - loss: 1.5497 - sparse_categorical_accuracy: 0.3825 - val_loss: 1.8944 - val_sparse_categorical_accuracy: 0.2700 - _timestamp: 1658879280.0000 - _runtime: 14225.0000\n",
      "Epoch 128/10000\n",
      "20/20 [==============================] - 112s 6s/step - loss: 1.5325 - sparse_categorical_accuracy: 0.3600 - val_loss: 1.7761 - val_sparse_categorical_accuracy: 0.4400 - _timestamp: 1658879392.0000 - _runtime: 14337.0000\n",
      "Epoch 129/10000\n",
      "18/20 [==========================>...] - ETA: 8s - loss: 1.3880 - sparse_categorical_accuracy: 0.4361 "
     ]
    }
   ],
   "source": [
    "history = model.fit(x=train_dataset, validation_data=val_dataset, epochs=epochs, verbose=1, callbacks=[wandb.keras.WandbCallback(save_weights_only=True)])"
   ]
  },
  {
   "cell_type": "code",
   "execution_count": null,
   "id": "547d0269-2b98-46af-8084-742c2e254389",
   "metadata": {},
   "outputs": [],
   "source": [
    "run.finish()"
   ]
  },
  {
   "cell_type": "code",
   "execution_count": null,
   "id": "ea7d585f-8f1a-455d-a812-4b1931ab19b1",
   "metadata": {},
   "outputs": [],
   "source": [
    "model.save_weights(\"./Saved_Models/Str_Run1.h5\")"
   ]
  },
  {
   "cell_type": "code",
   "execution_count": null,
   "id": "c565d8f6-2e7a-4a97-8a6a-aa3cfc571008",
   "metadata": {},
   "outputs": [],
   "source": [
    "model.evaluate(val_dataset)"
   ]
  },
  {
   "cell_type": "code",
   "execution_count": null,
   "id": "7d2c99b9-a5d1-4d9e-a1ee-8d39f8e6dba9",
   "metadata": {},
   "outputs": [],
   "source": [
    "trimmed_samples[0:5]"
   ]
  },
  {
   "cell_type": "code",
   "execution_count": 23,
   "id": "e24ec60e",
   "metadata": {},
   "outputs": [
    {
     "ename": "NameError",
     "evalue": "name 'history' is not defined",
     "output_type": "error",
     "traceback": [
      "\u001b[0;31m---------------------------------------------------------------------------\u001b[0m",
      "\u001b[0;31mNameError\u001b[0m                                 Traceback (most recent call last)",
      "Input \u001b[0;32mIn [23]\u001b[0m, in \u001b[0;36m<cell line: 3>\u001b[0;34m()\u001b[0m\n\u001b[1;32m      1\u001b[0m \u001b[38;5;66;03m#Plot history and accuracy\u001b[39;00m\n\u001b[1;32m      2\u001b[0m plt\u001b[38;5;241m.\u001b[39msubplot(\u001b[38;5;241m211\u001b[39m)\n\u001b[0;32m----> 3\u001b[0m plt\u001b[38;5;241m.\u001b[39mplot(\u001b[43mhistory\u001b[49m\u001b[38;5;241m.\u001b[39mhistory[\u001b[38;5;124m'\u001b[39m\u001b[38;5;124msparse_categorical_accuracy\u001b[39m\u001b[38;5;124m'\u001b[39m])\n\u001b[1;32m      4\u001b[0m plt\u001b[38;5;241m.\u001b[39mtitle(\u001b[38;5;124m'\u001b[39m\u001b[38;5;124mmodel accuracy\u001b[39m\u001b[38;5;124m'\u001b[39m)\n\u001b[1;32m      5\u001b[0m plt\u001b[38;5;241m.\u001b[39mylabel(\u001b[38;5;124m'\u001b[39m\u001b[38;5;124maccuracy\u001b[39m\u001b[38;5;124m'\u001b[39m)\n",
      "\u001b[0;31mNameError\u001b[0m: name 'history' is not defined"
     ]
    },
    {
     "data": {
      "image/png": "[encoded data removed]",
      "text/plain": [
       "<Figure size 432x288 with 1 Axes>"
      ]
     },
     "metadata": {
      "needs_background": "light"
     },
     "output_type": "display_data"
    }
   ],
   "source": [
    "#Plot history and accuracy\n",
    "plt.subplot(211)\n",
    "plt.plot(history.history['sparse_categorical_accuracy'])\n",
    "plt.title('model accuracy')\n",
    "plt.ylabel('accuracy')\n",
    "plt.xlabel('epoch')\n",
    "\n",
    "plt.subplot(212)\n",
    "plt.plot(history.history['loss'])\n",
    "plt.title('model loss')\n",
    "plt.ylabel('loss')\n",
    "plt.xlabel('epoch')\n",
    "plt.tight_layout()\n",
    "plt.show() "
   ]
  },
  {
   "cell_type": "code",
   "execution_count": null,
   "id": "5ae52ab4-742c-4cc1-bdc7-feb96529a535",
   "metadata": {},
   "outputs": [],
   "source": []
  }
 ],
 "metadata": {
  "interpreter": {
   "hash": "d4d1e4263499bec80672ea0156c357c1ee493ec2b1c70f0acce89fc37c4a6abe"
  },
  "kernelspec": {
   "display_name": "Python 3 (ipykernel)",
   "language": "python",
   "name": "python3"
  },
  "language_info": {
   "codemirror_mode": {
    "name": "ipython",
    "version": 3
   },
   "file_extension": ".py",
   "mimetype": "text/x-python",
   "name": "python",
   "nbconvert_exporter": "python",
   "pygments_lexer": "ipython3",
   "version": "3.10.4"
  },
  "toc-autonumbering": false,
  "toc-showmarkdowntxt": true,
  "toc-showtags": false
 },
 "nbformat": 4,
 "nbformat_minor": 5
}

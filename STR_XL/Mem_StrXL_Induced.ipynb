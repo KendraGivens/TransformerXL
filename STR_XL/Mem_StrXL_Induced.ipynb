{
 "cells": [
  {
   "cell_type": "markdown",
   "id": "5ccea5cd-89de-452b-afa6-703df9e9a604",
   "metadata": {},
   "source": [
    "---\n",
    "# Transformer XL\n",
    "---"
   ]
  },
  {
   "cell_type": "markdown",
   "id": "ad2c14f8-8dd8-459f-81fe-a6708e6a8355",
   "metadata": {},
   "source": [
    "---\n",
    "# Import Libraries"
   ]
  },
  {
   "cell_type": "code",
   "execution_count": 1,
   "id": "3dcad43d-67f7-49b9-84ce-6d91a0f468a6",
   "metadata": {},
   "outputs": [],
   "source": [
    "import os\n",
    "import sys"
   ]
  },
  {
   "cell_type": "code",
   "execution_count": 2,
   "id": "5e7cb9df-5746-44a3-998a-b671b284957f",
   "metadata": {},
   "outputs": [],
   "source": [
    "os.environ[\"TF_CPP_MIN_LOG_LEVEL\"] = \"2\""
   ]
  },
  {
   "cell_type": "code",
   "execution_count": 3,
   "id": "2c507a85-fe6f-4d3c-ae1f-16914fdec693",
   "metadata": {},
   "outputs": [],
   "source": [
    "sys.path.append(\"../../deep-learning-dna\")"
   ]
  },
  {
   "cell_type": "code",
   "execution_count": 4,
   "id": "31b9c98a-b4ee-4667-89a3-5f04549f7d66",
   "metadata": {},
   "outputs": [],
   "source": [
    "import wandb"
   ]
  },
  {
   "cell_type": "code",
   "execution_count": 5,
   "id": "fda64db1-8058-4e15-b2d4-1a3e64f23fbe",
   "metadata": {},
   "outputs": [],
   "source": [
    "import tensorflow as tf\n",
    "import tensorflow.keras as keras\n",
    "import numpy as np\n",
    "import matplotlib.pyplot as plt\n",
    "%matplotlib inline\n",
    "from IPython.display import display\n",
    "import math\n",
    "import string\n",
    "\n",
    "import Set_Transformer \n",
    "from common.models import dnabert\n",
    "from common import dna\n",
    "from lmdbm import Lmdb\n",
    "from common.data import DnaSequenceGenerator, DnaLabelType, DnaSampleGenerator, find_dbs\n",
    "import wandb\n",
    "\n",
    "import tf_utils as tfu"
   ]
  },
  {
   "cell_type": "code",
   "execution_count": 6,
   "id": "0dfb3b1a-2db7-4463-a208-b5d29e20f97a",
   "metadata": {},
   "outputs": [],
   "source": [
    "strategy = tfu.devices.select_gpu(0, use_dynamic_memory=True)"
   ]
  },
  {
   "cell_type": "markdown",
   "id": "54593a0f-b5b4-401e-91e2-8c1a1598432e",
   "metadata": {
    "tags": []
   },
   "source": [
    "---\n",
    "# Load Data"
   ]
  },
  {
   "cell_type": "code",
   "execution_count": 7,
   "id": "153ec0c2-f4ac-418f-93a5-7f8b21b286ae",
   "metadata": {
    "tags": []
   },
   "outputs": [
    {
     "data": {
      "text/plain": [
       "<common.models.dnabert.DnaBertPretrainModel at 0x7f2e76220130>"
      ]
     },
     "execution_count": 7,
     "metadata": {},
     "output_type": "execute_result"
    }
   ],
   "source": [
    "#Import pretrained model\n",
    "api = wandb.Api()\n",
    "model_path = api.artifact(\"sirdavidludwig/dnabert-pretrain/dnabert-pretrain-8dim:latest\").download()\n",
    "pretrained_model = dnabert.DnaBertModel.load(model_path)\n",
    "pretrained_model.load_weights(model_path + \"/model.h5\")\n",
    "pretrained_model"
   ]
  },
  {
   "cell_type": "code",
   "execution_count": 8,
   "id": "4eb8a00e-6821-4a74-87cb-ecd6c405d3f3",
   "metadata": {},
   "outputs": [
    {
     "name": "stderr",
     "output_type": "stream",
     "text": [
      "\u001b[34m\u001b[1mwandb\u001b[0m: Downloading large artifact dnasamples-complete:latest, 4079.09MB. 420 files... Done. 0:0:0.1\n"
     ]
    },
    {
     "data": {
      "text/plain": [
       "'/data/dna_samples:v1/train/WS-CCW-Jul2015_S82_L001_R1_001.db'"
      ]
     },
     "execution_count": 8,
     "metadata": {},
     "output_type": "execute_result"
    }
   ],
   "source": [
    "#Load datafiles\n",
    "dataset_path = api.artifact(\"sirdavidludwig/nachusa-dna/dnasamples-complete:latest\").download('/data/dna_samples:v1')\n",
    "samples = find_dbs(dataset_path + '/train')\n",
    "samples[13]"
   ]
  },
  {
   "cell_type": "markdown",
   "id": "c6523647-1042-4dc6-aa46-1ad979f03892",
   "metadata": {
    "tags": []
   },
   "source": [
    "---\n",
    "# Create Dataset"
   ]
  },
  {
   "cell_type": "code",
   "execution_count": 9,
   "id": "a14bf26f-f2d8-4907-991e-7dcbbc68f206",
   "metadata": {
    "tags": []
   },
   "outputs": [],
   "source": [
    "split_ratios = [0.8, 0.2]\n",
    "set_len = 1000\n",
    "sequence_len = 150\n",
    "kmer = 3\n",
    "batch_size = [20,5]\n",
    "batches_per_epoch = 20\n",
    "augument = True\n",
    "labels = DnaLabelType.SampleIds\n",
    "seed = 0\n",
    "rng = np.random.default_rng(seed)\n",
    "random_samples = samples.copy()"
   ]
  },
  {
   "cell_type": "code",
   "execution_count": 10,
   "id": "d827ca7f-1900-4e88-a514-ae29daf45858",
   "metadata": {},
   "outputs": [],
   "source": [
    "rng.shuffle(random_samples)"
   ]
  },
  {
   "cell_type": "code",
   "execution_count": 11,
   "id": "1116c1ae-77e7-44c9-a010-efb23c23db48",
   "metadata": {},
   "outputs": [
    {
     "name": "stdout",
     "output_type": "stream",
     "text": [
      "Sample '/data/dna_samples:v1/train/Wes7-PCRblank1_S8_L001_R1_001.db' does not contain enough sequences. This sample will be ignored.\n",
      "Sample '/data/dna_samples:v1/train/Wes7-PCRblank1_S8_L001_R1_001.db' does not contain enough sequences. This sample will be ignored.\n"
     ]
    }
   ],
   "source": [
    "trimmed_samples, (train_dataset, val_dataset) = DnaSampleGenerator.split(samples=random_samples[0:50], split_ratios=split_ratios, subsample_length=set_len, sequence_length=sequence_len, kmer=kmer,batch_size=batch_size,batches_per_epoch=batches_per_epoch,augment=augument,labels=labels, rng=rng)"
   ]
  },
  {
   "cell_type": "code",
   "execution_count": 12,
   "id": "aac0a881-4dc6-4916-a18c-8c59e026e552",
   "metadata": {},
   "outputs": [
    {
     "data": {
      "text/plain": [
       "['/data/dna_samples:v1/train/WS-CCE-Apr2016_S6_L001_R1_001.db',\n",
       " '/data/dna_samples:v1/train/Wes52-10-TC_S53_L001_R1_001.db',\n",
       " '/data/dna_samples:v1/train/WS-WH-Jul2016_S46_L001_R1_001.db',\n",
       " '/data/dna_samples:v1/train/Wes41-10-HN_S42_L001_R1_001.db',\n",
       " '/data/dna_samples:v1/train/Wesley026-Ag-072820_S165_L001_R1_001.db',\n",
       " '/data/dna_samples:v1/train/WS-MU-Apr2016_S84_L001_R1_001.db',\n",
       " '/data/dna_samples:v1/train/Wes5-5-CCE_S6_L001_R1_001.db',\n",
       " '/data/dna_samples:v1/train/WS-MR-Apr2016_S13_L001_R1_001.db',\n",
       " '/data/dna_samples:v1/train/WS-MU-Sep2015_S43_L001_R1_001.db',\n",
       " '/data/dna_samples:v1/train/Wesley012-HN-051120_S151_L001_R1_001.db',\n",
       " '/data/dna_samples:v1/train/WS-HPN-Sep2015_S91_L001_R1_001.db',\n",
       " '/data/dna_samples:v1/train/WS-TCR-Sep2015_S52_L001_R1_001.db',\n",
       " '/data/dna_samples:v1/train/Wes26-8-AG_S27_L001_R1_001.db',\n",
       " '/data/dna_samples:v1/train/WS-SB-Jul2016_S22_L001_R1_001.db',\n",
       " '/data/dna_samples:v1/train/Wes25-8-MU_S26_L001_R1_001.db',\n",
       " '/data/dna_samples:v1/train/WS-SB-Oct2016_S63_L001_R1_001.db',\n",
       " '/data/dna_samples:v1/train/Wes3-5-TCR_S4_L001_R1_001.db',\n",
       " '/data/dna_samples:v1/train/WS-WH-May2015_S160_L001_R1_001.db',\n",
       " '/data/dna_samples:v1/train/WS-TCR-Oct2016_S80_L001_R1_001.db',\n",
       " '/data/dna_samples:v1/train/WS-TC-Jul2015_S74_L001_R1_001.db',\n",
       " '/data/dna_samples:v1/train/WS-SB-Sep2015_S35_L001_R1_001.db',\n",
       " '/data/dna_samples:v1/train/WS-CCW-Sep2015_S28_L001_R1_001.db',\n",
       " '/data/dna_samples:v1/train/WS-TC-Oct2016_S48_L001_R1_001.db',\n",
       " '/data/dna_samples:v1/train/WS-HF-Jul2015_S42_L001_R1_001.db',\n",
       " '/data/dna_samples:v1/train/WS-TCR-May2015_S73_L001_R1_001.db',\n",
       " '/data/dna_samples:v1/train/WS-HPN-Apr2016_S37_L001_R1_001.db',\n",
       " '/data/dna_samples:v1/train/WS-AG-Apr2016_S85_L001_R1_001.db',\n",
       " '/data/dna_samples:v1/train/Wes7-PCRblank1_S8_L001_R1_001.db',\n",
       " '/data/dna_samples:v1/train/Wes20-8-HF_S21_L001_R1_001.db',\n",
       " '/data/dna_samples:v1/train/Wes38-10-WH_S39_L001_R1_001.db',\n",
       " '/data/dna_samples:v1/train/Wesley047-SF-100420_S186_L001_R1_001.db',\n",
       " '/data/dna_samples:v1/train/Wesley055-HAP-051120_S194_L001_R1_001.db',\n",
       " '/data/dna_samples:v1/train/Wesley006-HLP-051220_S145_L001_R1_001.db',\n",
       " '/data/dna_samples:v1/train/Wes39-10-HF_S40_L001_R1_001.db',\n",
       " '/data/dna_samples:v1/train/WS-SF-Jul2016_S38_L001_R1_001.db',\n",
       " '/data/dna_samples:v1/train/Wesley035-HLP2-072820_S174_L001_R1_001.db',\n",
       " '/data/dna_samples:v1/train/Wes13-5-HLP_S14_L001_R1_001.db',\n",
       " '/data/dna_samples:v1/train/WS-HPN-May2015_S17_L001_R1_001.db',\n",
       " '/data/dna_samples:v1/train/Wesley005-HF-051220_S144_L001_R1_001.db',\n",
       " '/data/dna_samples:v1/train/Wes47-10-FC_S48_L001_R1_001.db',\n",
       " '/data/dna_samples:v1/train/WS-SF-May2015_S152_L001_R1_001.db',\n",
       " '/data/dna_samples:v1/train/Wesley045-HLP-100420_S184_L001_R1_001.db',\n",
       " '/data/dna_samples:v1/train/Wesley033-MU-072820_S172_L001_R1_001.db',\n",
       " '/data/dna_samples:v1/train/Wesley043-L-100420_S182_L001_R1_001.db',\n",
       " '/data/dna_samples:v1/train/Wes48-10-CCW_S49_L001_R1_001.db',\n",
       " '/data/dna_samples:v1/train/WS-AG-Sep2015_S44_L001_R1_001.db',\n",
       " '/data/dna_samples:v1/train/Wesley010-HW-051120_S149_L001_R1_001.db',\n",
       " '/data/dna_samples:v1/train/Wes36-8-HW_S37_L001_R1_001.db',\n",
       " '/data/dna_samples:v1/train/Wesley011-Ag-051120_S150_L001_R1_001.db',\n",
       " '/data/dna_samples:v1/train/Wesley027-HLP-072820_S166_L001_R1_001.db']"
      ]
     },
     "execution_count": 12,
     "metadata": {},
     "output_type": "execute_result"
    }
   ],
   "source": [
    "random_samples[0:50]"
   ]
  },
  {
   "cell_type": "markdown",
   "id": "fd855356-4e5a-4047-ae81-323277b11b44",
   "metadata": {
    "tags": []
   },
   "source": [
    "--- \n",
    "# Batch Parameters"
   ]
  },
  {
   "cell_type": "code",
   "execution_count": 13,
   "id": "e23e34f9-3066-4756-ad0b-ccc1a3194438",
   "metadata": {},
   "outputs": [
    {
     "data": {
      "text/plain": [
       "49"
      ]
     },
     "execution_count": 13,
     "metadata": {},
     "output_type": "execute_result"
    }
   ],
   "source": [
    "block_size = 200\n",
    "seq_len = set_len\n",
    "maxlen = set_len\n",
    "vocab_size = 5\n",
    "num_chars_data = set_len*sequence_len\n",
    "max_files = len(train_dataset.samples)\n",
    "max_files"
   ]
  },
  {
   "cell_type": "code",
   "execution_count": 14,
   "id": "e768970c-7af4-4626-9d6e-d712ab7de959",
   "metadata": {},
   "outputs": [],
   "source": [
    "if block_size-2 > seq_len:\n",
    "    raise ValueError(\"Block size should not be bigger than sequence length\")"
   ]
  },
  {
   "cell_type": "code",
   "execution_count": 15,
   "id": "dce0777e-c8af-4835-833d-f1717dbf2501",
   "metadata": {},
   "outputs": [
    {
     "name": "stdout",
     "output_type": "stream",
     "text": [
      "1000\n",
      "5\n",
      "150000\n"
     ]
    }
   ],
   "source": [
    "print(maxlen)\n",
    "print(vocab_size)\n",
    "print(num_chars_data)"
   ]
  },
  {
   "cell_type": "markdown",
   "id": "ea3649b2-2e47-4b30-88e5-6792f1646058",
   "metadata": {},
   "source": [
    "---\n",
    "# Create Embeddings"
   ]
  },
  {
   "cell_type": "code",
   "execution_count": 16,
   "id": "cf74ee78-6d96-41ed-9989-e66cfd5cb1b0",
   "metadata": {},
   "outputs": [],
   "source": [
    "#Create 8 dimensional embeddings\n",
    "pretrained_encoder = dnabert.DnaBertEncoderModel(pretrained_model.base)\n",
    "pretrained_encoder.trainable = False"
   ]
  },
  {
   "cell_type": "code",
   "execution_count": 17,
   "id": "3d33b634-4927-4f9a-a241-8c33c9249a3a",
   "metadata": {},
   "outputs": [],
   "source": [
    "class Create_Embeddings(keras.layers.Layer):\n",
    "    def __init__(self, encoder):\n",
    "        super(Create_Embeddings, self).__init__()\n",
    "        self.encoder = encoder\n",
    "        \n",
    "    def subbatch_predict(self, model, batch, subbatch_size, concat=lambda old, new: tf.concat((old, new), axis=0)):\n",
    "        def predict(i, result=None):\n",
    "            n = i + subbatch_size\n",
    "            pred = tf.stop_gradient(model(batch[i:n]))\n",
    "            if result is None:\n",
    "                return [n, pred]\n",
    "            return [n, concat(result, pred)]\n",
    "        i, result = predict(0)\n",
    "        batch_size = tf.shape(batch)[0]\n",
    "        i, result = tf.while_loop(\n",
    "            cond=lambda i, _: i < batch_size,\n",
    "            body=predict,\n",
    "            loop_vars=[i, result],\n",
    "            parallel_iterations=1)\n",
    "\n",
    "        return result\n",
    "    \n",
    "    def modify_data_for_input(self, data):\n",
    "        batch_size = tf.shape(data)[0]\n",
    "        subsample_size = tf.shape(data)[1]\n",
    "        flat_data = tf.reshape(data, (batch_size*subsample_size, -1))\n",
    "        encoded = self.subbatch_predict(self.encoder, flat_data, 128)\n",
    "        return tf.reshape(encoded, (batch_size, subsample_size, -1))\n",
    "    \n",
    "    def call(self, data):\n",
    "        return  self.modify_data_for_input(data)"
   ]
  },
  {
   "cell_type": "markdown",
   "id": "70b66c98-f8b5-4b80-9736-66a9769cc966",
   "metadata": {},
   "source": [
    "---\n",
    "# Setup"
   ]
  },
  {
   "cell_type": "code",
   "execution_count": 18,
   "id": "9af4ac04-1eab-4d74-bfc0-716408efeed4",
   "metadata": {},
   "outputs": [],
   "source": [
    "def clone_initializer(initializer):\n",
    "    if isinstance(initializer, tf.keras.initializers.Initializer):\n",
    "        return initializer.__class__.from_config(initializer.get_config())\n",
    "    return initializer"
   ]
  },
  {
   "cell_type": "markdown",
   "id": "835c39dd-9fb5-49bf-8763-14ca694a1a35",
   "metadata": {},
   "source": [
    "---\n",
    "# Cache Memory"
   ]
  },
  {
   "cell_type": "code",
   "execution_count": 19,
   "id": "da4cb5e4-2d26-4e40-a00f-3e71f470b273",
   "metadata": {},
   "outputs": [],
   "source": [
    "def _cache_memory(current_state, previous_state, memory_length, reuse_length=0):\n",
    "    if memory_length is None or memory_length == 0:\n",
    "        return None\n",
    "    else:\n",
    "        if reuse_length > 0:\n",
    "            current_state = current_state[:, :reuse_length, :]\n",
    "\n",
    "        if previous_state is None:\n",
    "            new_mem = current_state[:, -memory_length:, :]\n",
    "        else:\n",
    "            new_mem = tf.concat(\n",
    "                    [previous_state, current_state], 1)[:, -memory_length:, :]\n",
    "\n",
    "    return tf.stop_gradient(new_mem)"
   ]
  },
  {
   "cell_type": "markdown",
   "id": "d5c32bb5-4520-4802-a8f0-5f7849905a83",
   "metadata": {},
   "source": [
    "---\n",
    "# XL Block"
   ]
  },
  {
   "cell_type": "code",
   "execution_count": 20,
   "id": "7245b7dd-a3b2-464a-9f5b-7efd4a9d0ed2",
   "metadata": {},
   "outputs": [],
   "source": [
    "class TransformerXLBlock(tf.keras.layers.Layer):\n",
    "    def __init__(self,\n",
    "                 stack,\n",
    "                 num_induce,\n",
    "                 vocab_size,\n",
    "                 hidden_size,\n",
    "                 num_attention_heads,\n",
    "                 head_size,\n",
    "                 inner_size,\n",
    "                 dropout_rate,\n",
    "                 attention_dropout_rate,\n",
    "                 norm_epsilon=1e-12,\n",
    "                 inner_activation=\"relu\",\n",
    "                 kernel_initializer=\"variance_scaling\",\n",
    "                 inner_dropout=0.0,\n",
    "                 **kwargs):\n",
    "\n",
    "        super(TransformerXLBlock, self).__init__(**kwargs)\n",
    "        self._stack = stack\n",
    "        self._num_induce = num_induce\n",
    "        self._vocab_size = vocab_size\n",
    "        self._num_heads = num_attention_heads\n",
    "        self._head_size = head_size\n",
    "        self._hidden_size = hidden_size\n",
    "        self._inner_size = inner_size\n",
    "        self._dropout_rate = dropout_rate\n",
    "        self._attention_dropout_rate = attention_dropout_rate\n",
    "        self._inner_activation = inner_activation\n",
    "        self._norm_epsilon = norm_epsilon\n",
    "        self._kernel_initializer = kernel_initializer\n",
    "        self._inner_dropout = inner_dropout\n",
    "        self._attention_layer_type = Set_Attention\n",
    "        \n",
    "    def build(self, input_shape):\n",
    "        input_tensor = input_shape[0] if len(input_shape) == 2 else input_shape\n",
    "        input_tensor_shape = tf.TensorShape(input_tensor)\n",
    "        if len(input_tensor_shape.as_list()) != 3:\n",
    "            raise ValueError(\"TransformerLayer expects a three-dimensional input of \"\n",
    "                                             \"shape [batch, sequence, width].\")\n",
    "        batch_size, sequence_length, hidden_size = input_tensor_shape\n",
    "\n",
    "        if hidden_size % self._num_heads != 0:\n",
    "            raise ValueError(\n",
    "                    \"The input size (%d) is not a multiple of the number of attention \"\n",
    "                    \"heads (%d)\" % (hidden_size, self._num_heads))\n",
    "            \n",
    "            \n",
    "        self._attention_layer= self._attention_layer_type(num_induce=self._num_induce, embed_dim=self._head_size,num_heads=self._num_heads, stack=self._stack,\n",
    "                                                   use_layernorm=True,pre_layernorm=True,use_keras_mha=True)\n",
    "        \n",
    "        super(TransformerXLBlock, self).build(input_shape)\n",
    "\n",
    "   \n",
    "    def call(self,\n",
    "             content_stream,\n",
    "             content_attention_bias,\n",
    "             positional_attention_bias,\n",
    "             relative_position_encoding=None,\n",
    "             state=None,\n",
    "             content_attention_mask=None,\n",
    "             query_attention_mask=None,\n",
    "             target_mapping=None):\n",
    "        \n",
    "        attention_output = {\"content_attention\": self._attention_layer(content_stream, state)}        \n",
    "\n",
    "        return attention_output"
   ]
  },
  {
   "cell_type": "markdown",
   "id": "8749ec30-1281-4f9d-8baa-54b890fb7949",
   "metadata": {},
   "source": [
    "---\n",
    "# Transformer XL"
   ]
  },
  {
   "cell_type": "code",
   "execution_count": 21,
   "id": "019ca25d-e899-4e17-8f41-dfdc3d9bdee5",
   "metadata": {},
   "outputs": [],
   "source": [
    "class TransformerXL(tf.keras.layers.Layer):\n",
    "    def __init__(self,\n",
    "                 stack, \n",
    "                 num_induce, \n",
    "                 vocab_size,\n",
    "                 num_layers,\n",
    "                 hidden_size,\n",
    "                 maxlen,\n",
    "                 embed_dim,\n",
    "                 num_attention_heads,\n",
    "                 head_size,\n",
    "                 inner_size,\n",
    "                 dropout_rate,\n",
    "                 attention_dropout_rate,\n",
    "                 initializer,\n",
    "                 tie_attention_biases=True,\n",
    "                 memory_length=None,\n",
    "                 reuse_length=None,\n",
    "                 inner_activation=\"relu\",\n",
    "                 **kwargs):\n",
    "        super(TransformerXL, self).__init__(**kwargs)\n",
    "\n",
    "        self._stack = stack\n",
    "        self._num_induce = num_induce\n",
    "        self._vocab_size = vocab_size\n",
    "        self._initializer = initializer\n",
    "        self._num_layers = num_layers\n",
    "        self._hidden_size = hidden_size\n",
    "        self._num_attention_heads = num_attention_heads\n",
    "        self._head_size = head_size\n",
    "        self._inner_size = inner_size\n",
    "        self._inner_activation = inner_activation\n",
    "        self._dropout_rate = dropout_rate\n",
    "        self._attention_dropout_rate = attention_dropout_rate\n",
    "        self._tie_attention_biases = tie_attention_biases\n",
    "        self._memory_length = memory_length\n",
    "        self._reuse_length = reuse_length\n",
    "\n",
    "        self.transformer_xl_layers = []\n",
    "        \n",
    "        for i in range(self._num_layers):\n",
    "            self.transformer_xl_layers.append(\n",
    "                    TransformerXLBlock(\n",
    "                            stack=self._stack,\n",
    "                            num_induce=num_induce, \n",
    "                            vocab_size=self._vocab_size,\n",
    "                            hidden_size=self._head_size * self._num_attention_heads,\n",
    "                            num_attention_heads=self._num_attention_heads,\n",
    "                            head_size=self._head_size,\n",
    "                            inner_size=self._inner_size,\n",
    "                            dropout_rate=self._dropout_rate,\n",
    "                            attention_dropout_rate=self._attention_dropout_rate,\n",
    "                            norm_epsilon=1e-12,\n",
    "                            inner_activation=self._inner_activation,\n",
    "                            kernel_initializer=\"variance_scaling\",\n",
    "                            name=\"layer_%d\" % i))\n",
    "\n",
    "        self.output_dropout = tf.keras.layers.Dropout(rate=self._dropout_rate)\n",
    "\n",
    "    def call(self,\n",
    "             content_stream,\n",
    "             relative_position_encoding,\n",
    "             state=None,\n",
    "             content_attention_mask=None,\n",
    "             query_attention_mask=None,\n",
    "             target_mapping=None):\n",
    "        \n",
    "        new_mems = []\n",
    "\n",
    "        if state is None:\n",
    "            state = [None] * self._num_layers\n",
    "            \n",
    "        for i in range(self._num_layers):\n",
    "            #new_mems.append(_cache_memory(content_stream, state[i], self._memory_length, self._reuse_length))\n",
    "            \n",
    "            transformer_xl_layer = self.transformer_xl_layers[i]\n",
    "            \n",
    "            transformer_xl_output = transformer_xl_layer(\n",
    "                    content_stream=content_stream,\n",
    "                    content_attention_bias=None,\n",
    "                    positional_attention_bias=None,\n",
    "                    relative_position_encoding=None,\n",
    "                    state=state[i],\n",
    "                    content_attention_mask=content_attention_mask,\n",
    "                    query_attention_mask=query_attention_mask,\n",
    "                    target_mapping=target_mapping)\n",
    "            \n",
    "            content_stream = transformer_xl_output[\"content_attention\"]\n",
    "            \n",
    "            new_mems.append(_cache_memory(content_stream, state[i], self._memory_length, self._reuse_length))\n",
    "\n",
    "        output_stream = content_stream\n",
    "        return output_stream, new_mems"
   ]
  },
  {
   "cell_type": "code",
   "execution_count": 22,
   "id": "b77a89f5-b11a-48e4-bf4f-cc70f1e74e04",
   "metadata": {},
   "outputs": [],
   "source": [
    "class Set_Attention(keras.Model):\n",
    "    def __init__(self, num_induce, embed_dim, num_heads, stack, use_layernorm, pre_layernorm, use_keras_mha):\n",
    "        super(Set_Attention, self).__init__()\n",
    "        \n",
    "        self.set_attention = (Set_Transformer.InducedSetAttentionBlock(embed_dim=embed_dim,num_heads=num_heads, num_induce=num_induce, use_layernorm=use_layernorm,pre_layernorm=pre_layernorm,use_keras_mha=use_keras_mha))\n",
    "      \n",
    "    def call(self, data, mems):\n",
    "                \n",
    "            attention = self.set_attention([data, mems])\n",
    "                \n",
    "            return attention"
   ]
  },
  {
   "cell_type": "markdown",
   "id": "a127a4b5-15e3-46e3-838b-a5e18e4d8dc8",
   "metadata": {},
   "source": [
    "---\n",
    "# Xl Model Class"
   ]
  },
  {
   "cell_type": "code",
   "execution_count": 23,
   "id": "855d43dd-e182-4c2a-961a-ff9781141f81",
   "metadata": {},
   "outputs": [],
   "source": [
    "class XlModel(keras.Model):\n",
    "    def __init__(self, stack, num_induce, max_files, encoder, block_size, seq_len_padded, embed_dim, vocab_size, num_layers, hidden_size, num_attention_heads, maxlen, memory_length, reuse_length, head_size, inner_size, dropout_rate, attention_dropout_rate, initializer):\n",
    "        super(XlModel, self).__init__()\n",
    "        \n",
    "        self.block_size = block_size\n",
    "        self.seq_len_padded = seq_len_padded\n",
    "        self.embed_dim = embed_dim\n",
    "        self.num_heads = num_attention_heads\n",
    "        self.hidden_size = hidden_size\n",
    "        self.num_layers = num_layers\n",
    "        self.maxlen = maxlen\n",
    "        self.memory_length = memory_length\n",
    "        self.max_files = max_files\n",
    "        self.encoder = encoder\n",
    "        self.isabs = []\n",
    "        \n",
    "        self.embedding_layer = Create_Embeddings(encoder)\n",
    "\n",
    "        self.linear_layer = keras.layers.Dense(embed_dim)\n",
    "        \n",
    "        self.transformer_xl = TransformerXL(\n",
    "                stack=stack, \n",
    "                num_induce=num_induce, \n",
    "                vocab_size=vocab_size,\n",
    "                num_layers=num_layers,\n",
    "                hidden_size=hidden_size,\n",
    "                num_attention_heads=num_attention_heads,\n",
    "                maxlen=maxlen,\n",
    "                embed_dim=embed_dim,\n",
    "                memory_length=memory_length,\n",
    "                reuse_length=reuse_length,\n",
    "                head_size=head_size,\n",
    "                inner_size=inner_size,\n",
    "                dropout_rate=dropout_rate,\n",
    "                attention_dropout_rate=attention_dropout_rate,\n",
    "                initializer=initializer, \n",
    "            )\n",
    "        \n",
    "\n",
    "        self.pooling_layer = Set_Transformer.PoolingByMultiHeadAttention(num_seeds=1,embed_dim=embed_dim,num_heads=self.num_heads,use_layernorm=True,pre_layernorm=True, use_keras_mha=True,is_final_block=True)\n",
    "    \n",
    "        self.reshape_layer = keras.layers.Reshape((embed_dim,))\n",
    "   \n",
    "        self.output_layer = keras.layers.Dense(self.max_files, activation=keras.activations.softmax)\n",
    "        \n",
    "    \n",
    "    def call(self, x, training=None):        \n",
    " \n",
    "        mems = tf.zeros((self.num_layers, tf.shape(x)[0], self.memory_length, self.embed_dim))\n",
    "        \n",
    "        embeddings = self.embedding_layer(x)\n",
    "            \n",
    "        linear_transform = self.linear_layer(embeddings)    \n",
    "            \n",
    "        for i in range(0, self.seq_len_padded, self.block_size):\n",
    "            block = embeddings[:,i:i+self.block_size]\n",
    "            \n",
    "            output, mems = self.transformer_xl(content_stream=block, relative_position_encoding=None, state=mems)\n",
    "                \n",
    "        pooling = self.pooling_layer(output)\n",
    "\n",
    "        reshape = self.reshape_layer(pooling)\n",
    "\n",
    "        output = self.output_layer(reshape)          \n",
    "        \n",
    "        return output"
   ]
  },
  {
   "cell_type": "markdown",
   "id": "e3469de1-250d-4c14-bb79-a4e74f0fe93e",
   "metadata": {},
   "source": [
    "---\n",
    "# Xl Parameters"
   ]
  },
  {
   "cell_type": "code",
   "execution_count": 24,
   "id": "2bc3ea7d-d4a1-4a1e-bf2a-7cd1c91430cf",
   "metadata": {},
   "outputs": [],
   "source": [
    "#Xl Parameters\n",
    "stack = 1\n",
    "num_induce = 48\n",
    "embed_dim = 8\n",
    "num_layers = 8\n",
    "hidden_size = 64\n",
    "num_attention_heads = 8\n",
    "memory_length = 200\n",
    "reuse_length = 0\n",
    "head_size = 8\n",
    "inner_size = 64\n",
    "dropout_rate = 0.01\n",
    "attention_dropout_rate = 0.01\n",
    "initializer = keras.initializers.RandomNormal(stddev=0.1) \n",
    "\n",
    "encoder = pretrained_encoder\n",
    "epochs = 10000"
   ]
  },
  {
   "cell_type": "code",
   "execution_count": 25,
   "id": "73dc6b6c-ad4a-4b28-916d-160d16dfc7ec",
   "metadata": {},
   "outputs": [],
   "source": [
    "Parameters = dict(\n",
    "    mem_switched = True,\n",
    "    stack = 1,\n",
    "    num_induce = 48,\n",
    "    embed_dim = 8,\n",
    "    num_layers = 8,\n",
    "    hidden_size = 64,\n",
    "    num_attention_heads = 8,\n",
    "    memory_length = 200,\n",
    "    reuse_length = 0,\n",
    "    head_size = 8,\n",
    "    inner_size = 64,\n",
    "    dropout_rate = 0.01,\n",
    "    attention_dropout_rate = 0.01,\n",
    "    block_size = block_size,\n",
    "    set_len=set_len)"
   ]
  },
  {
   "cell_type": "code",
   "execution_count": 26,
   "id": "a2a89bb3-457d-4af9-b749-1a9d91656db7",
   "metadata": {},
   "outputs": [
    {
     "name": "stderr",
     "output_type": "stream",
     "text": [
      "Failed to detect the name of this notebook, you can set it manually with the WANDB_NOTEBOOK_NAME environment variable to enable code saving.\n",
      "\u001b[34m\u001b[1mwandb\u001b[0m: Currently logged in as: \u001b[33mkendragivens\u001b[0m. Use \u001b[1m`wandb login --relogin`\u001b[0m to force relogin\n"
     ]
    },
    {
     "data": {
      "text/html": [
       "Tracking run with wandb version 0.12.21"
      ],
      "text/plain": [
       "<IPython.core.display.HTML object>"
      ]
     },
     "metadata": {},
     "output_type": "display_data"
    },
    {
     "data": {
      "text/html": [
       "Run data is saved locally in <code>/home/jovyan/work/TransformerXL/STR_XL/wandb/run-20220726_150322-25y0qp0g</code>"
      ],
      "text/plain": [
       "<IPython.core.display.HTML object>"
      ]
     },
     "metadata": {},
     "output_type": "display_data"
    },
    {
     "data": {
      "text/html": [
       "Syncing run <strong><a href=\"https://wandb.ai/kendragivens/Mem_StrXL_Induced/runs/25y0qp0g\" target=\"_blank\">icy-cherry-1</a></strong> to <a href=\"https://wandb.ai/kendragivens/Mem_StrXL_Induced\" target=\"_blank\">Weights & Biases</a> (<a href=\"https://wandb.me/run\" target=\"_blank\">docs</a>)<br/>"
      ],
      "text/plain": [
       "<IPython.core.display.HTML object>"
      ]
     },
     "metadata": {},
     "output_type": "display_data"
    }
   ],
   "source": [
    "run = wandb.init(project=\"Mem_StrXL_Induced\", config=Parameters)"
   ]
  },
  {
   "cell_type": "markdown",
   "id": "89649663-7d18-48bc-8678-ce5f093908cc",
   "metadata": {},
   "source": [
    "---\n",
    "# Create Models"
   ]
  },
  {
   "cell_type": "code",
   "execution_count": 27,
   "id": "821b0c4a-6d05-4867-a713-474bfdbff881",
   "metadata": {},
   "outputs": [],
   "source": [
    "model = XlModel(stack, num_induce, max_files, encoder, block_size, seq_len, embed_dim, vocab_size, num_layers, hidden_size, num_attention_heads, maxlen, memory_length, reuse_length, head_size, inner_size, dropout_rate, attention_dropout_rate, initializer)\n",
    "model.compile(loss = keras.losses.SparseCategoricalCrossentropy(from_logits=False), optimizer = keras.optimizers.Adam(1e-3), metrics = keras.metrics.SparseCategoricalAccuracy())"
   ]
  },
  {
   "cell_type": "code",
   "execution_count": null,
   "id": "3a4e79fc-5cbf-4807-a782-ed7cbe4e4e56",
   "metadata": {},
   "outputs": [
    {
     "name": "stderr",
     "output_type": "stream",
     "text": [
      "\u001b[34m\u001b[1mwandb\u001b[0m: \u001b[33mWARNING\u001b[0m The save_model argument by default saves the model in the HDF5 format that cannot save custom objects like subclassed models and custom layers. This behavior will be deprecated in a future release in favor of the SavedModel format. Meanwhile, the HDF5 model is saved as W&B files and the SavedModel as W&B Artifacts.\n",
      "\u001b[34m\u001b[1mwandb\u001b[0m: \u001b[33mWARNING\u001b[0m Unable to compute FLOPs for this model.\n"
     ]
    },
    {
     "name": "stdout",
     "output_type": "stream",
     "text": [
      "Epoch 1/10000\n",
      "WARNING:tensorflow:Gradients do not exist for variables ['xl_model/dense_17/kernel:0', 'xl_model/dense_17/bias:0'] when minimizing the loss. If you're using `model.compile()`, did you forget to provide a `loss`argument?\n",
      "WARNING:tensorflow:Gradients do not exist for variables ['xl_model/dense_17/kernel:0', 'xl_model/dense_17/bias:0'] when minimizing the loss. If you're using `model.compile()`, did you forget to provide a `loss`argument?\n",
      "20/20 [==============================] - 149s 6s/step - loss: 3.9166 - sparse_categorical_accuracy: 0.0200 - val_loss: 3.7563 - val_sparse_categorical_accuracy: 0.0400 - _timestamp: 1658865960.0000 - _runtime: 158.0000\n",
      "Epoch 2/10000\n",
      "20/20 [==============================] - 116s 6s/step - loss: 3.7584 - sparse_categorical_accuracy: 0.0300 - val_loss: 3.7339 - val_sparse_categorical_accuracy: 0.0300 - _timestamp: 1658866076.0000 - _runtime: 274.0000\n",
      "Epoch 3/10000\n",
      "20/20 [==============================] - 116s 6s/step - loss: 3.7174 - sparse_categorical_accuracy: 0.0625 - val_loss: 3.6953 - val_sparse_categorical_accuracy: 0.0200 - _timestamp: 1658866192.0000 - _runtime: 390.0000\n",
      "Epoch 4/10000\n",
      "20/20 [==============================] - 116s 6s/step - loss: 3.6559 - sparse_categorical_accuracy: 0.0225 - val_loss: 3.6371 - val_sparse_categorical_accuracy: 0.0300 - _timestamp: 1658866308.0000 - _runtime: 506.0000\n",
      "Epoch 5/10000\n",
      "20/20 [==============================] - 116s 6s/step - loss: 3.5849 - sparse_categorical_accuracy: 0.0525 - val_loss: 3.5888 - val_sparse_categorical_accuracy: 0.0500 - _timestamp: 1658866424.0000 - _runtime: 622.0000\n",
      "Epoch 6/10000\n",
      "20/20 [==============================] - 116s 6s/step - loss: 3.5706 - sparse_categorical_accuracy: 0.0475 - val_loss: 3.5125 - val_sparse_categorical_accuracy: 0.0600 - _timestamp: 1658866540.0000 - _runtime: 738.0000\n",
      "Epoch 7/10000\n",
      "20/20 [==============================] - 116s 6s/step - loss: 3.5832 - sparse_categorical_accuracy: 0.0300 - val_loss: 3.5356 - val_sparse_categorical_accuracy: 0.0400 - _timestamp: 1658866656.0000 - _runtime: 854.0000\n",
      "Epoch 8/10000\n",
      "20/20 [==============================] - 116s 6s/step - loss: 3.5339 - sparse_categorical_accuracy: 0.0475 - val_loss: 3.4821 - val_sparse_categorical_accuracy: 0.0600 - _timestamp: 1658866771.0000 - _runtime: 969.0000\n",
      "Epoch 9/10000\n",
      "20/20 [==============================] - 116s 6s/step - loss: 3.4845 - sparse_categorical_accuracy: 0.0475 - val_loss: 3.4635 - val_sparse_categorical_accuracy: 0.0500 - _timestamp: 1658866887.0000 - _runtime: 1085.0000\n",
      "Epoch 10/10000\n",
      "20/20 [==============================] - 116s 6s/step - loss: 3.4871 - sparse_categorical_accuracy: 0.0375 - val_loss: 3.5579 - val_sparse_categorical_accuracy: 0.0200 - _timestamp: 1658867004.0000 - _runtime: 1202.0000\n",
      "Epoch 11/10000\n",
      "20/20 [==============================] - 116s 6s/step - loss: 3.5027 - sparse_categorical_accuracy: 0.0300 - val_loss: 3.4978 - val_sparse_categorical_accuracy: 0.0200 - _timestamp: 1658867119.0000 - _runtime: 1317.0000\n",
      "Epoch 12/10000\n",
      "20/20 [==============================] - 116s 6s/step - loss: 3.4442 - sparse_categorical_accuracy: 0.0475 - val_loss: 3.4534 - val_sparse_categorical_accuracy: 0.0200 - _timestamp: 1658867235.0000 - _runtime: 1433.0000\n",
      "Epoch 13/10000\n",
      "20/20 [==============================] - 116s 6s/step - loss: 3.4297 - sparse_categorical_accuracy: 0.0475 - val_loss: 3.4450 - val_sparse_categorical_accuracy: 0.0400 - _timestamp: 1658867351.0000 - _runtime: 1549.0000\n",
      "Epoch 14/10000\n",
      "20/20 [==============================] - 116s 6s/step - loss: 3.3965 - sparse_categorical_accuracy: 0.0425 - val_loss: 3.4087 - val_sparse_categorical_accuracy: 0.0300 - _timestamp: 1658867467.0000 - _runtime: 1665.0000\n",
      "Epoch 15/10000\n",
      "20/20 [==============================] - 116s 6s/step - loss: 3.4007 - sparse_categorical_accuracy: 0.0450 - val_loss: 3.4368 - val_sparse_categorical_accuracy: 0.0400 - _timestamp: 1658867583.0000 - _runtime: 1781.0000\n",
      "Epoch 16/10000\n",
      "20/20 [==============================] - 116s 6s/step - loss: 3.3799 - sparse_categorical_accuracy: 0.0300 - val_loss: 3.3761 - val_sparse_categorical_accuracy: 0.0200 - _timestamp: 1658867699.0000 - _runtime: 1897.0000\n",
      "Epoch 17/10000\n",
      "20/20 [==============================] - 116s 6s/step - loss: 3.3669 - sparse_categorical_accuracy: 0.0600 - val_loss: 3.3500 - val_sparse_categorical_accuracy: 0.0600 - _timestamp: 1658867815.0000 - _runtime: 2013.0000\n",
      "Epoch 18/10000\n",
      "20/20 [==============================] - 116s 6s/step - loss: 3.3785 - sparse_categorical_accuracy: 0.0375 - val_loss: 3.3480 - val_sparse_categorical_accuracy: 0.0600 - _timestamp: 1658867931.0000 - _runtime: 2129.0000\n",
      "Epoch 19/10000\n",
      "20/20 [==============================] - 116s 6s/step - loss: 3.3581 - sparse_categorical_accuracy: 0.0350 - val_loss: 3.3752 - val_sparse_categorical_accuracy: 0.0500 - _timestamp: 1658868047.0000 - _runtime: 2245.0000\n",
      "Epoch 20/10000\n",
      "20/20 [==============================] - 116s 6s/step - loss: 3.3379 - sparse_categorical_accuracy: 0.0575 - val_loss: 3.3694 - val_sparse_categorical_accuracy: 0.0100 - _timestamp: 1658868163.0000 - _runtime: 2361.0000\n",
      "Epoch 21/10000\n",
      "20/20 [==============================] - 116s 6s/step - loss: 3.3280 - sparse_categorical_accuracy: 0.0450 - val_loss: 3.3524 - val_sparse_categorical_accuracy: 0.0500 - _timestamp: 1658868278.0000 - _runtime: 2476.0000\n",
      "Epoch 22/10000\n",
      "20/20 [==============================] - 116s 6s/step - loss: 3.3393 - sparse_categorical_accuracy: 0.0475 - val_loss: 3.3384 - val_sparse_categorical_accuracy: 0.0300 - _timestamp: 1658868394.0000 - _runtime: 2592.0000\n",
      "Epoch 23/10000\n",
      "20/20 [==============================] - 116s 6s/step - loss: 3.3141 - sparse_categorical_accuracy: 0.0350 - val_loss: 3.3355 - val_sparse_categorical_accuracy: 0.0300 - _timestamp: 1658868510.0000 - _runtime: 2708.0000\n",
      "Epoch 24/10000\n",
      "20/20 [==============================] - 116s 6s/step - loss: 3.3267 - sparse_categorical_accuracy: 0.0450 - val_loss: 3.3054 - val_sparse_categorical_accuracy: 0.0300 - _timestamp: 1658868626.0000 - _runtime: 2824.0000\n",
      "Epoch 25/10000\n",
      "20/20 [==============================] - 116s 6s/step - loss: 3.3244 - sparse_categorical_accuracy: 0.0300 - val_loss: 3.3048 - val_sparse_categorical_accuracy: 0.0700 - _timestamp: 1658868742.0000 - _runtime: 2940.0000\n",
      "Epoch 26/10000\n",
      "20/20 [==============================] - 116s 6s/step - loss: 3.3073 - sparse_categorical_accuracy: 0.0475 - val_loss: 3.3041 - val_sparse_categorical_accuracy: 0.0300 - _timestamp: 1658868858.0000 - _runtime: 3056.0000\n",
      "Epoch 27/10000\n",
      "20/20 [==============================] - 116s 6s/step - loss: 3.2938 - sparse_categorical_accuracy: 0.0375 - val_loss: 3.2995 - val_sparse_categorical_accuracy: 0.0400 - _timestamp: 1658868974.0000 - _runtime: 3172.0000\n",
      "Epoch 28/10000\n",
      "20/20 [==============================] - 116s 6s/step - loss: 3.3107 - sparse_categorical_accuracy: 0.0375 - val_loss: 3.2977 - val_sparse_categorical_accuracy: 0.0700 - _timestamp: 1658869090.0000 - _runtime: 3288.0000\n",
      "Epoch 29/10000\n",
      "20/20 [==============================] - 116s 6s/step - loss: 3.2914 - sparse_categorical_accuracy: 0.0700 - val_loss: 3.2797 - val_sparse_categorical_accuracy: 0.0500 - _timestamp: 1658869206.0000 - _runtime: 3404.0000\n",
      "Epoch 30/10000\n",
      "20/20 [==============================] - 116s 6s/step - loss: 3.2864 - sparse_categorical_accuracy: 0.0400 - val_loss: 3.2996 - val_sparse_categorical_accuracy: 0.0500 - _timestamp: 1658869322.0000 - _runtime: 3520.0000\n",
      "Epoch 31/10000\n",
      "20/20 [==============================] - 116s 6s/step - loss: 3.2984 - sparse_categorical_accuracy: 0.0675 - val_loss: 3.2677 - val_sparse_categorical_accuracy: 0.0600 - _timestamp: 1658869438.0000 - _runtime: 3636.0000\n",
      "Epoch 32/10000\n",
      "20/20 [==============================] - 116s 6s/step - loss: 3.2958 - sparse_categorical_accuracy: 0.0375 - val_loss: 3.2674 - val_sparse_categorical_accuracy: 0.0500 - _timestamp: 1658869554.0000 - _runtime: 3752.0000\n",
      "Epoch 33/10000\n",
      "20/20 [==============================] - 116s 6s/step - loss: 3.2822 - sparse_categorical_accuracy: 0.0525 - val_loss: 3.2853 - val_sparse_categorical_accuracy: 0.0100 - _timestamp: 1658869670.0000 - _runtime: 3868.0000\n",
      "Epoch 34/10000\n",
      "20/20 [==============================] - 132s 7s/step - loss: 3.2867 - sparse_categorical_accuracy: 0.0275 - val_loss: 3.2698 - val_sparse_categorical_accuracy: 0.0900 - _timestamp: 1658869802.0000 - _runtime: 4000.0000\n",
      "Epoch 35/10000\n",
      "20/20 [==============================] - 116s 6s/step - loss: 3.2817 - sparse_categorical_accuracy: 0.0550 - val_loss: 3.2776 - val_sparse_categorical_accuracy: 0.0400 - _timestamp: 1658869918.0000 - _runtime: 4116.0000\n",
      "Epoch 36/10000\n",
      "20/20 [==============================] - 116s 6s/step - loss: 3.2725 - sparse_categorical_accuracy: 0.0525 - val_loss: 3.2762 - val_sparse_categorical_accuracy: 0.0400 - _timestamp: 1658870034.0000 - _runtime: 4232.0000\n",
      "Epoch 37/10000\n",
      "20/20 [==============================] - 116s 6s/step - loss: 3.2769 - sparse_categorical_accuracy: 0.0425 - val_loss: 3.2632 - val_sparse_categorical_accuracy: 0.0100 - _timestamp: 1658870150.0000 - _runtime: 4348.0000\n",
      "Epoch 38/10000\n",
      "20/20 [==============================] - 116s 6s/step - loss: 3.2727 - sparse_categorical_accuracy: 0.0425 - val_loss: 3.2584 - val_sparse_categorical_accuracy: 0.0500 - _timestamp: 1658870266.0000 - _runtime: 4464.0000\n",
      "Epoch 39/10000\n",
      "20/20 [==============================] - 116s 6s/step - loss: 3.2752 - sparse_categorical_accuracy: 0.0325 - val_loss: 3.2750 - val_sparse_categorical_accuracy: 0.0700 - _timestamp: 1658870382.0000 - _runtime: 4580.0000\n",
      "Epoch 40/10000\n",
      "20/20 [==============================] - 116s 6s/step - loss: 3.2582 - sparse_categorical_accuracy: 0.0700 - val_loss: 3.2448 - val_sparse_categorical_accuracy: 0.0400 - _timestamp: 1658870498.0000 - _runtime: 4696.0000\n",
      "Epoch 41/10000\n",
      "20/20 [==============================] - 116s 6s/step - loss: 3.2489 - sparse_categorical_accuracy: 0.0200 - val_loss: 3.2747 - val_sparse_categorical_accuracy: 0.0400 - _timestamp: 1658870614.0000 - _runtime: 4812.0000\n",
      "Epoch 42/10000\n",
      "20/20 [==============================] - 116s 6s/step - loss: 3.2567 - sparse_categorical_accuracy: 0.0575 - val_loss: 3.2576 - val_sparse_categorical_accuracy: 0.0100 - _timestamp: 1658870730.0000 - _runtime: 4928.0000\n",
      "Epoch 43/10000\n",
      "20/20 [==============================] - 116s 6s/step - loss: 3.2454 - sparse_categorical_accuracy: 0.0275 - val_loss: 3.2256 - val_sparse_categorical_accuracy: 0.0500 - _timestamp: 1658870845.0000 - _runtime: 5043.0000\n",
      "Epoch 44/10000\n",
      "20/20 [==============================] - 116s 6s/step - loss: 3.2448 - sparse_categorical_accuracy: 0.0400 - val_loss: 3.2819 - val_sparse_categorical_accuracy: 0.0000e+00 - _timestamp: 1658870961.0000 - _runtime: 5159.0000\n",
      "Epoch 45/10000\n",
      "20/20 [==============================] - 116s 6s/step - loss: 3.2318 - sparse_categorical_accuracy: 0.0475 - val_loss: 3.2452 - val_sparse_categorical_accuracy: 0.0300 - _timestamp: 1658871077.0000 - _runtime: 5275.0000\n",
      "Epoch 46/10000\n",
      "20/20 [==============================] - 116s 6s/step - loss: 3.2200 - sparse_categorical_accuracy: 0.0625 - val_loss: 3.1927 - val_sparse_categorical_accuracy: 0.0500 - _timestamp: 1658871193.0000 - _runtime: 5391.0000\n",
      "Epoch 47/10000\n",
      "20/20 [==============================] - 116s 6s/step - loss: 3.2302 - sparse_categorical_accuracy: 0.0600 - val_loss: 3.1834 - val_sparse_categorical_accuracy: 0.1200 - _timestamp: 1658871309.0000 - _runtime: 5507.0000\n",
      "Epoch 48/10000\n",
      "20/20 [==============================] - 116s 6s/step - loss: 3.2341 - sparse_categorical_accuracy: 0.0475 - val_loss: 3.2104 - val_sparse_categorical_accuracy: 0.0700 - _timestamp: 1658871425.0000 - _runtime: 5623.0000\n",
      "Epoch 49/10000\n",
      "20/20 [==============================] - 116s 6s/step - loss: 3.2356 - sparse_categorical_accuracy: 0.0450 - val_loss: 3.1869 - val_sparse_categorical_accuracy: 0.0600 - _timestamp: 1658871541.0000 - _runtime: 5739.0000\n",
      "Epoch 50/10000\n",
      "20/20 [==============================] - 116s 6s/step - loss: 3.1934 - sparse_categorical_accuracy: 0.0525 - val_loss: 3.1876 - val_sparse_categorical_accuracy: 0.0400 - _timestamp: 1658871657.0000 - _runtime: 5855.0000\n",
      "Epoch 51/10000\n",
      "20/20 [==============================] - 116s 6s/step - loss: 3.1900 - sparse_categorical_accuracy: 0.0875 - val_loss: 3.2402 - val_sparse_categorical_accuracy: 0.0300 - _timestamp: 1658871772.0000 - _runtime: 5970.0000\n",
      "Epoch 52/10000\n",
      "20/20 [==============================] - 116s 6s/step - loss: 3.1671 - sparse_categorical_accuracy: 0.0825 - val_loss: 3.1395 - val_sparse_categorical_accuracy: 0.1000 - _timestamp: 1658871888.0000 - _runtime: 6086.0000\n",
      "Epoch 53/10000\n",
      "20/20 [==============================] - 116s 6s/step - loss: 3.1833 - sparse_categorical_accuracy: 0.0600 - val_loss: 3.1833 - val_sparse_categorical_accuracy: 0.0400 - _timestamp: 1658872004.0000 - _runtime: 6202.0000\n",
      "Epoch 54/10000\n",
      "20/20 [==============================] - 116s 6s/step - loss: 3.1651 - sparse_categorical_accuracy: 0.0800 - val_loss: 3.1141 - val_sparse_categorical_accuracy: 0.0800 - _timestamp: 1658872120.0000 - _runtime: 6318.0000\n",
      "Epoch 55/10000\n",
      "20/20 [==============================] - 116s 6s/step - loss: 3.1277 - sparse_categorical_accuracy: 0.0850 - val_loss: 3.0948 - val_sparse_categorical_accuracy: 0.0700 - _timestamp: 1658872236.0000 - _runtime: 6434.0000\n",
      "Epoch 56/10000\n",
      "20/20 [==============================] - 116s 6s/step - loss: 3.1295 - sparse_categorical_accuracy: 0.0675 - val_loss: 3.1368 - val_sparse_categorical_accuracy: 0.0700 - _timestamp: 1658872352.0000 - _runtime: 6550.0000\n",
      "Epoch 57/10000\n",
      "20/20 [==============================] - 116s 6s/step - loss: 3.1055 - sparse_categorical_accuracy: 0.0725 - val_loss: 3.1469 - val_sparse_categorical_accuracy: 0.0500 - _timestamp: 1658872468.0000 - _runtime: 6666.0000\n",
      "Epoch 58/10000\n",
      "20/20 [==============================] - 116s 6s/step - loss: 3.0813 - sparse_categorical_accuracy: 0.0675 - val_loss: 3.0177 - val_sparse_categorical_accuracy: 0.1500 - _timestamp: 1658872583.0000 - _runtime: 6781.0000\n",
      "Epoch 59/10000\n",
      "20/20 [==============================] - 116s 6s/step - loss: 3.0710 - sparse_categorical_accuracy: 0.0850 - val_loss: 3.0250 - val_sparse_categorical_accuracy: 0.1000 - _timestamp: 1658872699.0000 - _runtime: 6897.0000\n",
      "Epoch 60/10000\n",
      "20/20 [==============================] - 116s 6s/step - loss: 3.0878 - sparse_categorical_accuracy: 0.0650 - val_loss: 3.1833 - val_sparse_categorical_accuracy: 0.0800 - _timestamp: 1658872815.0000 - _runtime: 7013.0000\n",
      "Epoch 61/10000\n",
      "20/20 [==============================] - 116s 6s/step - loss: 3.0587 - sparse_categorical_accuracy: 0.0850 - val_loss: 3.1155 - val_sparse_categorical_accuracy: 0.0800 - _timestamp: 1658872931.0000 - _runtime: 7129.0000\n",
      "Epoch 62/10000\n",
      "20/20 [==============================] - 116s 6s/step - loss: 3.0084 - sparse_categorical_accuracy: 0.1225 - val_loss: 3.1401 - val_sparse_categorical_accuracy: 0.1000 - _timestamp: 1658873047.0000 - _runtime: 7245.0000\n",
      "Epoch 63/10000\n",
      "20/20 [==============================] - 116s 6s/step - loss: 3.0439 - sparse_categorical_accuracy: 0.0675 - val_loss: 3.0910 - val_sparse_categorical_accuracy: 0.1200 - _timestamp: 1658873162.0000 - _runtime: 7360.0000\n",
      "Epoch 64/10000\n",
      "20/20 [==============================] - 116s 6s/step - loss: 2.9892 - sparse_categorical_accuracy: 0.0950 - val_loss: 2.9969 - val_sparse_categorical_accuracy: 0.1000 - _timestamp: 1658873278.0000 - _runtime: 7476.0000\n",
      "Epoch 65/10000\n",
      "20/20 [==============================] - 116s 6s/step - loss: 2.9767 - sparse_categorical_accuracy: 0.1150 - val_loss: 3.0103 - val_sparse_categorical_accuracy: 0.0800 - _timestamp: 1658873394.0000 - _runtime: 7592.0000\n",
      "Epoch 66/10000\n",
      "20/20 [==============================] - 116s 6s/step - loss: 2.9275 - sparse_categorical_accuracy: 0.1050 - val_loss: 2.9589 - val_sparse_categorical_accuracy: 0.1000 - _timestamp: 1658873510.0000 - _runtime: 7708.0000\n",
      "Epoch 67/10000\n",
      "20/20 [==============================] - 116s 6s/step - loss: 2.9409 - sparse_categorical_accuracy: 0.1275 - val_loss: 2.9987 - val_sparse_categorical_accuracy: 0.0800 - _timestamp: 1658873626.0000 - _runtime: 7824.0000\n",
      "Epoch 68/10000\n",
      "20/20 [==============================] - 116s 6s/step - loss: 2.8986 - sparse_categorical_accuracy: 0.1025 - val_loss: 2.9186 - val_sparse_categorical_accuracy: 0.0700 - _timestamp: 1658873742.0000 - _runtime: 7940.0000\n",
      "Epoch 69/10000\n",
      "20/20 [==============================] - 116s 6s/step - loss: 2.8542 - sparse_categorical_accuracy: 0.1200 - val_loss: 2.9138 - val_sparse_categorical_accuracy: 0.0700 - _timestamp: 1658873858.0000 - _runtime: 8056.0000\n",
      "Epoch 70/10000\n",
      "20/20 [==============================] - 116s 6s/step - loss: 2.8605 - sparse_categorical_accuracy: 0.1175 - val_loss: 2.9360 - val_sparse_categorical_accuracy: 0.1200 - _timestamp: 1658873974.0000 - _runtime: 8172.0000\n",
      "Epoch 71/10000\n",
      "20/20 [==============================] - 116s 6s/step - loss: 2.8280 - sparse_categorical_accuracy: 0.1175 - val_loss: 2.8552 - val_sparse_categorical_accuracy: 0.1200 - _timestamp: 1658874089.0000 - _runtime: 8287.0000\n",
      "Epoch 72/10000\n",
      "20/20 [==============================] - 116s 6s/step - loss: 2.8657 - sparse_categorical_accuracy: 0.1050 - val_loss: 2.8385 - val_sparse_categorical_accuracy: 0.1100 - _timestamp: 1658874205.0000 - _runtime: 8403.0000\n",
      "Epoch 73/10000\n",
      "20/20 [==============================] - 116s 6s/step - loss: 2.8621 - sparse_categorical_accuracy: 0.1150 - val_loss: 2.8461 - val_sparse_categorical_accuracy: 0.1600 - _timestamp: 1658874321.0000 - _runtime: 8519.0000\n",
      "Epoch 74/10000\n",
      "20/20 [==============================] - 116s 6s/step - loss: 2.8060 - sparse_categorical_accuracy: 0.1425 - val_loss: 2.9151 - val_sparse_categorical_accuracy: 0.0800 - _timestamp: 1658874437.0000 - _runtime: 8635.0000\n",
      "Epoch 75/10000\n",
      "20/20 [==============================] - 116s 6s/step - loss: 2.7520 - sparse_categorical_accuracy: 0.1950 - val_loss: 2.8556 - val_sparse_categorical_accuracy: 0.1100 - _timestamp: 1658874553.0000 - _runtime: 8751.0000\n",
      "Epoch 76/10000\n",
      "20/20 [==============================] - 116s 6s/step - loss: 2.7569 - sparse_categorical_accuracy: 0.1375 - val_loss: 2.8297 - val_sparse_categorical_accuracy: 0.2300 - _timestamp: 1658874669.0000 - _runtime: 8867.0000\n",
      "Epoch 77/10000\n",
      "20/20 [==============================] - 116s 6s/step - loss: 2.7938 - sparse_categorical_accuracy: 0.1250 - val_loss: 2.8067 - val_sparse_categorical_accuracy: 0.1200 - _timestamp: 1658874785.0000 - _runtime: 8983.0000\n",
      "Epoch 78/10000\n",
      "20/20 [==============================] - 116s 6s/step - loss: 2.7906 - sparse_categorical_accuracy: 0.1325 - val_loss: 2.8024 - val_sparse_categorical_accuracy: 0.0900 - _timestamp: 1658874901.0000 - _runtime: 9099.0000\n",
      "Epoch 79/10000\n",
      "20/20 [==============================] - 116s 6s/step - loss: 2.7260 - sparse_categorical_accuracy: 0.1375 - val_loss: 2.7475 - val_sparse_categorical_accuracy: 0.1700 - _timestamp: 1658875017.0000 - _runtime: 9215.0000\n",
      "Epoch 80/10000\n",
      "20/20 [==============================] - 116s 6s/step - loss: 2.7023 - sparse_categorical_accuracy: 0.1675 - val_loss: 2.8490 - val_sparse_categorical_accuracy: 0.1100 - _timestamp: 1658875133.0000 - _runtime: 9331.0000\n",
      "Epoch 81/10000\n",
      "20/20 [==============================] - 116s 6s/step - loss: 2.7126 - sparse_categorical_accuracy: 0.1450 - val_loss: 2.7581 - val_sparse_categorical_accuracy: 0.1500 - _timestamp: 1658875249.0000 - _runtime: 9447.0000\n",
      "Epoch 82/10000\n",
      "20/20 [==============================] - 116s 6s/step - loss: 2.6882 - sparse_categorical_accuracy: 0.1550 - val_loss: 2.7360 - val_sparse_categorical_accuracy: 0.1200 - _timestamp: 1658875365.0000 - _runtime: 9563.0000\n",
      "Epoch 83/10000\n",
      "20/20 [==============================] - 116s 6s/step - loss: 2.7117 - sparse_categorical_accuracy: 0.1375 - val_loss: 2.7250 - val_sparse_categorical_accuracy: 0.1100 - _timestamp: 1658875481.0000 - _runtime: 9679.0000\n",
      "Epoch 84/10000\n",
      "20/20 [==============================] - 116s 6s/step - loss: 2.6636 - sparse_categorical_accuracy: 0.1450 - val_loss: 2.7031 - val_sparse_categorical_accuracy: 0.1900 - _timestamp: 1658875597.0000 - _runtime: 9795.0000\n",
      "Epoch 85/10000\n",
      "20/20 [==============================] - 116s 6s/step - loss: 2.6705 - sparse_categorical_accuracy: 0.1500 - val_loss: 2.6605 - val_sparse_categorical_accuracy: 0.1300 - _timestamp: 1658875713.0000 - _runtime: 9911.0000\n",
      "Epoch 86/10000\n",
      "20/20 [==============================] - 116s 6s/step - loss: 2.6657 - sparse_categorical_accuracy: 0.1300 - val_loss: 2.8336 - val_sparse_categorical_accuracy: 0.1500 - _timestamp: 1658875829.0000 - _runtime: 10027.0000\n",
      "Epoch 87/10000\n",
      "20/20 [==============================] - 116s 6s/step - loss: 2.7104 - sparse_categorical_accuracy: 0.1500 - val_loss: 2.9325 - val_sparse_categorical_accuracy: 0.0900 - _timestamp: 1658875945.0000 - _runtime: 10143.0000\n",
      "Epoch 88/10000\n",
      "20/20 [==============================] - 116s 6s/step - loss: 2.7034 - sparse_categorical_accuracy: 0.1425 - val_loss: 2.6934 - val_sparse_categorical_accuracy: 0.1300 - _timestamp: 1658876060.0000 - _runtime: 10258.0000\n",
      "Epoch 89/10000\n",
      "20/20 [==============================] - 116s 6s/step - loss: 2.6668 - sparse_categorical_accuracy: 0.1225 - val_loss: 2.7299 - val_sparse_categorical_accuracy: 0.1200 - _timestamp: 1658876176.0000 - _runtime: 10374.0000\n",
      "Epoch 90/10000\n",
      "20/20 [==============================] - 116s 6s/step - loss: 2.6983 - sparse_categorical_accuracy: 0.1650 - val_loss: 2.6202 - val_sparse_categorical_accuracy: 0.1700 - _timestamp: 1658876292.0000 - _runtime: 10490.0000\n",
      "Epoch 91/10000\n",
      "20/20 [==============================] - 116s 6s/step - loss: 2.7086 - sparse_categorical_accuracy: 0.1425 - val_loss: 2.5917 - val_sparse_categorical_accuracy: 0.1200 - _timestamp: 1658876408.0000 - _runtime: 10606.0000\n",
      "Epoch 92/10000\n",
      "20/20 [==============================] - 116s 6s/step - loss: 2.6078 - sparse_categorical_accuracy: 0.1575 - val_loss: 2.6215 - val_sparse_categorical_accuracy: 0.1400 - _timestamp: 1658876524.0000 - _runtime: 10722.0000\n",
      "Epoch 93/10000\n",
      "20/20 [==============================] - 116s 6s/step - loss: 2.6140 - sparse_categorical_accuracy: 0.1250 - val_loss: 2.5750 - val_sparse_categorical_accuracy: 0.1600 - _timestamp: 1658876640.0000 - _runtime: 10838.0000\n",
      "Epoch 94/10000\n",
      "20/20 [==============================] - 116s 6s/step - loss: 2.6468 - sparse_categorical_accuracy: 0.1675 - val_loss: 2.8592 - val_sparse_categorical_accuracy: 0.1000 - _timestamp: 1658876756.0000 - _runtime: 10954.0000\n",
      "Epoch 95/10000\n",
      "20/20 [==============================] - 116s 6s/step - loss: 2.6135 - sparse_categorical_accuracy: 0.1550 - val_loss: 2.5686 - val_sparse_categorical_accuracy: 0.2400 - _timestamp: 1658876872.0000 - _runtime: 11070.0000\n",
      "Epoch 96/10000\n",
      "20/20 [==============================] - 116s 6s/step - loss: 2.5745 - sparse_categorical_accuracy: 0.1450 - val_loss: 2.5498 - val_sparse_categorical_accuracy: 0.1800 - _timestamp: 1658876988.0000 - _runtime: 11186.0000\n",
      "Epoch 97/10000\n",
      "20/20 [==============================] - 116s 6s/step - loss: 2.5268 - sparse_categorical_accuracy: 0.1425 - val_loss: 2.5041 - val_sparse_categorical_accuracy: 0.1800 - _timestamp: 1658877104.0000 - _runtime: 11302.0000\n",
      "Epoch 98/10000\n",
      "20/20 [==============================] - 116s 6s/step - loss: 2.5154 - sparse_categorical_accuracy: 0.1800 - val_loss: 2.5944 - val_sparse_categorical_accuracy: 0.1800 - _timestamp: 1658877220.0000 - _runtime: 11418.0000\n",
      "Epoch 99/10000\n",
      "20/20 [==============================] - 116s 6s/step - loss: 2.5558 - sparse_categorical_accuracy: 0.1600 - val_loss: 2.6054 - val_sparse_categorical_accuracy: 0.1200 - _timestamp: 1658877336.0000 - _runtime: 11534.0000\n",
      "Epoch 100/10000\n",
      "20/20 [==============================] - 116s 6s/step - loss: 2.5505 - sparse_categorical_accuracy: 0.1725 - val_loss: 2.5852 - val_sparse_categorical_accuracy: 0.1500 - _timestamp: 1658877451.0000 - _runtime: 11649.0000\n",
      "Epoch 101/10000\n",
      "20/20 [==============================] - 116s 6s/step - loss: 2.5538 - sparse_categorical_accuracy: 0.1750 - val_loss: 2.5378 - val_sparse_categorical_accuracy: 0.1600 - _timestamp: 1658877567.0000 - _runtime: 11765.0000\n",
      "Epoch 102/10000\n",
      "20/20 [==============================] - 116s 6s/step - loss: 2.5087 - sparse_categorical_accuracy: 0.1500 - val_loss: 2.6061 - val_sparse_categorical_accuracy: 0.2100 - _timestamp: 1658877683.0000 - _runtime: 11881.0000\n",
      "Epoch 103/10000\n",
      "20/20 [==============================] - 116s 6s/step - loss: 2.5336 - sparse_categorical_accuracy: 0.1650 - val_loss: 2.4204 - val_sparse_categorical_accuracy: 0.2500 - _timestamp: 1658877798.0000 - _runtime: 11996.0000\n",
      "Epoch 104/10000\n",
      "20/20 [==============================] - 116s 6s/step - loss: 2.5780 - sparse_categorical_accuracy: 0.1525 - val_loss: 2.5599 - val_sparse_categorical_accuracy: 0.1000 - _timestamp: 1658877914.0000 - _runtime: 12112.0000\n",
      "Epoch 105/10000\n",
      "20/20 [==============================] - 116s 6s/step - loss: 2.5239 - sparse_categorical_accuracy: 0.1575 - val_loss: 2.5088 - val_sparse_categorical_accuracy: 0.1900 - _timestamp: 1658878030.0000 - _runtime: 12228.0000\n",
      "Epoch 106/10000\n",
      "20/20 [==============================] - 116s 6s/step - loss: 2.4489 - sparse_categorical_accuracy: 0.1850 - val_loss: 2.5148 - val_sparse_categorical_accuracy: 0.1100 - _timestamp: 1658878146.0000 - _runtime: 12344.0000\n",
      "Epoch 107/10000\n",
      "20/20 [==============================] - 116s 6s/step - loss: 2.5172 - sparse_categorical_accuracy: 0.1500 - val_loss: 2.5764 - val_sparse_categorical_accuracy: 0.1000 - _timestamp: 1658878262.0000 - _runtime: 12460.0000\n",
      "Epoch 108/10000\n",
      "20/20 [==============================] - 116s 6s/step - loss: 2.4943 - sparse_categorical_accuracy: 0.1900 - val_loss: 2.5275 - val_sparse_categorical_accuracy: 0.1500 - _timestamp: 1658878377.0000 - _runtime: 12575.0000\n",
      "Epoch 109/10000\n",
      "20/20 [==============================] - 116s 6s/step - loss: 2.4551 - sparse_categorical_accuracy: 0.1650 - val_loss: 2.5963 - val_sparse_categorical_accuracy: 0.1300 - _timestamp: 1658878493.0000 - _runtime: 12691.0000\n",
      "Epoch 110/10000\n",
      "20/20 [==============================] - 116s 6s/step - loss: 2.4048 - sparse_categorical_accuracy: 0.1900 - val_loss: 2.4082 - val_sparse_categorical_accuracy: 0.2000 - _timestamp: 1658878609.0000 - _runtime: 12807.0000\n",
      "Epoch 111/10000\n",
      "20/20 [==============================] - 116s 6s/step - loss: 2.4365 - sparse_categorical_accuracy: 0.1650 - val_loss: 2.5576 - val_sparse_categorical_accuracy: 0.2500 - _timestamp: 1658878725.0000 - _runtime: 12923.0000\n",
      "Epoch 112/10000\n",
      "20/20 [==============================] - 116s 6s/step - loss: 2.4365 - sparse_categorical_accuracy: 0.1725 - val_loss: 2.4408 - val_sparse_categorical_accuracy: 0.1400 - _timestamp: 1658878841.0000 - _runtime: 13039.0000\n",
      "Epoch 113/10000\n",
      "20/20 [==============================] - 116s 6s/step - loss: 2.4297 - sparse_categorical_accuracy: 0.1775 - val_loss: 2.4279 - val_sparse_categorical_accuracy: 0.1700 - _timestamp: 1658878957.0000 - _runtime: 13155.0000\n",
      "Epoch 114/10000\n",
      "20/20 [==============================] - 116s 6s/step - loss: 2.3764 - sparse_categorical_accuracy: 0.2375 - val_loss: 2.3720 - val_sparse_categorical_accuracy: 0.2300 - _timestamp: 1658879072.0000 - _runtime: 13270.0000\n",
      "Epoch 115/10000\n",
      "20/20 [==============================] - 116s 6s/step - loss: 2.4429 - sparse_categorical_accuracy: 0.1500 - val_loss: 2.4415 - val_sparse_categorical_accuracy: 0.1600 - _timestamp: 1658879189.0000 - _runtime: 13387.0000\n",
      "Epoch 116/10000\n",
      "20/20 [==============================] - 116s 6s/step - loss: 2.4187 - sparse_categorical_accuracy: 0.1575 - val_loss: 2.4923 - val_sparse_categorical_accuracy: 0.1300 - _timestamp: 1658879304.0000 - _runtime: 13502.0000\n",
      "Epoch 117/10000\n",
      "20/20 [==============================] - 116s 6s/step - loss: 2.3704 - sparse_categorical_accuracy: 0.1950 - val_loss: 2.4940 - val_sparse_categorical_accuracy: 0.1200 - _timestamp: 1658879420.0000 - _runtime: 13618.0000\n",
      "Epoch 118/10000\n",
      "13/20 [==================>...........] - ETA: 31s - loss: 2.3764 - sparse_categorical_accuracy: 0.1692"
     ]
    }
   ],
   "source": [
    "history = model.fit(x=train_dataset, validation_data=val_dataset, epochs=epochs, verbose=1, callbacks=[wandb.keras.WandbCallback(save_weights_only=True)])"
   ]
  },
  {
   "cell_type": "code",
   "execution_count": null,
   "id": "edd6e04f-8083-48e5-a7cf-1d38fa2a3716",
   "metadata": {},
   "outputs": [],
   "source": [
    "run.finish()"
   ]
  },
  {
   "cell_type": "code",
   "execution_count": null,
   "id": "68a6add5-4de7-4339-8689-408e9549634c",
   "metadata": {},
   "outputs": [],
   "source": [
    "model.save_weights(\"./Saved_Models/Mem_StrXL_Induced_Run1.h5\")"
   ]
  },
  {
   "cell_type": "code",
   "execution_count": null,
   "id": "c565d8f6-2e7a-4a97-8a6a-aa3cfc571008",
   "metadata": {},
   "outputs": [],
   "source": [
    "u = model.evaluate(val_dataset)"
   ]
  },
  {
   "cell_type": "code",
   "execution_count": null,
   "id": "5ab0feaa-ccf4-4352-bddc-728529531858",
   "metadata": {},
   "outputs": [],
   "source": [
    "u = model.predict(train_dataset)"
   ]
  },
  {
   "cell_type": "code",
   "execution_count": null,
   "id": "d67c3f83-2d73-4c19-a50e-eb8a5c636edc",
   "metadata": {},
   "outputs": [],
   "source": [
    "u = u.argmax(-1)"
   ]
  },
  {
   "cell_type": "code",
   "execution_count": null,
   "id": "ae9ebaae-0583-4553-a957-7d1f45958d22",
   "metadata": {},
   "outputs": [],
   "source": [
    "u"
   ]
  },
  {
   "cell_type": "code",
   "execution_count": null,
   "id": "52eef17b-b311-4277-9bb7-87f05d897473",
   "metadata": {},
   "outputs": [],
   "source": [
    "val_dataset[0][1]"
   ]
  },
  {
   "cell_type": "code",
   "execution_count": null,
   "id": "7d2c99b9-a5d1-4d9e-a1ee-8d39f8e6dba9",
   "metadata": {},
   "outputs": [],
   "source": [
    "trimmed_samples[0:5]"
   ]
  },
  {
   "cell_type": "code",
   "execution_count": null,
   "id": "2504f3ab-5e7b-4082-b017-f46b0b8fbcbf",
   "metadata": {},
   "outputs": [],
   "source": []
  }
 ],
 "metadata": {
  "kernelspec": {
   "display_name": "Python 3 (ipykernel)",
   "language": "python",
   "name": "python3"
  },
  "language_info": {
   "codemirror_mode": {
    "name": "ipython",
    "version": 3
   },
   "file_extension": ".py",
   "mimetype": "text/x-python",
   "name": "python",
   "nbconvert_exporter": "python",
   "pygments_lexer": "ipython3",
   "version": "3.10.4"
  }
 },
 "nbformat": 4,
 "nbformat_minor": 5
}

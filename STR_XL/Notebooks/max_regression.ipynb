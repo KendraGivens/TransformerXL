{
 "cells": [
  {
   "cell_type": "markdown",
   "id": "db4a328c",
   "metadata": {
    "tags": []
   },
   "source": [
    "# Max Regression\n",
    "\n",
    "A demo of the toy max-regression problem from the paper. These models learn to approximate the largest number in the given set, regardless of the order presented."
   ]
  },
  {
   "cell_type": "code",
   "execution_count": 1,
   "id": "25da03ad-5c66-4344-9977-9c7683b1bf2c",
   "metadata": {},
   "outputs": [],
   "source": [
    "import sys"
   ]
  },
  {
   "cell_type": "code",
   "execution_count": 2,
   "id": "5868635c-57f6-4bae-b291-35c71864b81e",
   "metadata": {},
   "outputs": [],
   "source": [
    "sys.path.append(\"../../../deep-learning-dna\")\n",
    "sys.path.append(\"../\")\n",
    "sys.path.append(\"../../../deep-learning-dna/common\")"
   ]
  },
  {
   "cell_type": "code",
   "execution_count": 15,
   "id": "4198c41f",
   "metadata": {},
   "outputs": [],
   "source": [
    "import matplotlib.pyplot as plt\n",
    "import numpy as np\n",
    "import tensorflow as tf\n",
    "import tensorflow.keras as keras\n",
    "\n",
    "import tf_utils as tfu\n",
    "\n",
    "from Attention import Set_Transformer as stf"
   ]
  },
  {
   "cell_type": "code",
   "execution_count": 16,
   "id": "dad3b90b-2ed9-43d6-bf46-b9063539a3f5",
   "metadata": {},
   "outputs": [],
   "source": [
    "strategy = tfu.devices.select_gpu(0, use_dynamic_memory=True)"
   ]
  },
  {
   "cell_type": "markdown",
   "id": "d7de36a5",
   "metadata": {},
   "source": [
    "---\n",
    "## Data Generation\n",
    "\n",
    "The following function generates a batch sets, each consisting of *length* numbers."
   ]
  },
  {
   "cell_type": "code",
   "execution_count": 17,
   "id": "c98262fe",
   "metadata": {},
   "outputs": [],
   "source": [
    "def gen_data(batch_size, length=5):\n",
    "    x = np.random.randint(1, 100, (batch_size, length))\n",
    "    y = np.max(x, axis=1)\n",
    "    return x, y # (batch_size, length)"
   ]
  },
  {
   "cell_type": "code",
   "execution_count": 18,
   "id": "84927dc3",
   "metadata": {},
   "outputs": [],
   "source": [
    "x, y = gen_data(5, 10)"
   ]
  },
  {
   "cell_type": "code",
   "execution_count": 19,
   "id": "343ea9ea",
   "metadata": {},
   "outputs": [
    {
     "name": "stdout",
     "output_type": "stream",
     "text": [
      "(5, 10) (5,)\n"
     ]
    }
   ],
   "source": [
    "print(x.shape, y.shape)"
   ]
  },
  {
   "cell_type": "code",
   "execution_count": 20,
   "id": "9493cdee",
   "metadata": {},
   "outputs": [
    {
     "data": {
      "text/plain": [
       "array([[10, 81, 70, 74, 89, 91, 41,  7, 40, 51],\n",
       "       [34, 61, 46, 94, 13, 40, 98, 95, 97,  2],\n",
       "       [47,  3, 73, 64, 78, 38, 38, 52, 96,  3],\n",
       "       [97, 89, 54, 50, 13, 39, 57, 99, 20, 17],\n",
       "       [ 8, 71, 64, 55, 28, 41, 79, 49, 13, 97]])"
      ]
     },
     "execution_count": 20,
     "metadata": {},
     "output_type": "execute_result"
    }
   ],
   "source": [
    "x"
   ]
  },
  {
   "cell_type": "code",
   "execution_count": 21,
   "id": "53e6fd7f",
   "metadata": {},
   "outputs": [
    {
     "data": {
      "text/plain": [
       "array([91, 98, 96, 99, 97])"
      ]
     },
     "execution_count": 21,
     "metadata": {},
     "output_type": "execute_result"
    }
   ],
   "source": [
    "y"
   ]
  },
  {
   "cell_type": "markdown",
   "id": "fb645b7b",
   "metadata": {
    "tags": []
   },
   "source": [
    "---\n",
    "## Model\n",
    "\n",
    "This model learns to approximate the largest number in the given set of numbers, regardless of the order presented."
   ]
  },
  {
   "cell_type": "code",
   "execution_count": 22,
   "id": "831c7812",
   "metadata": {},
   "outputs": [],
   "source": [
    "def create_model(\n",
    "    embed_dim=64,\n",
    "    num_heads=4,\n",
    "    stack=2,\n",
    "    use_layernorm=False,\n",
    "    pre_layernorm=False,\n",
    "    use_keras_mha=False # Use Keras' MHA implementation over the traditional Vaswani implementation\n",
    "):\n",
    "    y = x = keras.layers.Input((None,))\n",
    "    print(x.shape)\n",
    "    y = keras.layers.Lambda(lambda x: tf.expand_dims(x, axis=2))(y)\n",
    "    y = keras.layers.Dense(embed_dim)(y)\n",
    "    for _ in range(stack):\n",
    "        y = stf.SetAttentionBlock(\n",
    "                embed_dim=embed_dim,\n",
    "                num_heads=num_heads,\n",
    "                use_layernorm=use_layernorm,\n",
    "                pre_layernorm=pre_layernorm,\n",
    "                use_keras_mha=use_keras_mha)(y)\n",
    "\n",
    "    y = stf.PoolingByMultiHeadAttention(\n",
    "            num_seeds=1,\n",
    "            embed_dim=embed_dim,\n",
    "            num_heads=1,\n",
    "            use_layernorm=use_layernorm,\n",
    "            pre_layernorm=pre_layernorm,\n",
    "            use_keras_mha=use_keras_mha,\n",
    "            is_final_block=True)(y)\n",
    "    y = keras.layers.Dense(1)(y)\n",
    "    y = keras.layers.Lambda(lambda x: tf.squeeze(x))(y)\n",
    "\n",
    "    return keras.Model(x, y)"
   ]
  },
  {
   "cell_type": "markdown",
   "id": "c54c7052",
   "metadata": {},
   "source": [
    "---\n",
    "## Training (No Layernorm)"
   ]
  },
  {
   "cell_type": "code",
   "execution_count": 23,
   "id": "40812f96",
   "metadata": {},
   "outputs": [
    {
     "name": "stdout",
     "output_type": "stream",
     "text": [
      "(None, None)\n"
     ]
    },
    {
     "ename": "ValueError",
     "evalue": "Exception encountered when calling layer \"set_attention_block\" (type SetAttentionBlock).\n\nin user code:\n\n    File \"/home/jovyan/work/TransformerXL/STR_XL/Notebooks/../Attention/Set_Transformer/__init__.py\", line 270, in call  *\n        return super().call([x, mems], training=training)\n    File \"/home/jovyan/work/TransformerXL/STR_XL/Notebooks/../Attention/Set_Transformer/__init__.py\", line 239, in call  *\n        return self.call_post_layernorm(x, y, training)\n    File \"/home/jovyan/work/TransformerXL/STR_XL/Notebooks/../Attention/Set_Transformer/__init__.py\", line 221, in call_post_layernorm  *\n        attn = x + self.att(x, y, y, training=training)\n    File \"/opt/conda/lib/python3.10/site-packages/keras/utils/traceback_utils.py\", line 67, in error_handler  **\n        raise e.with_traceback(filtered_tb) from None\n\n    ValueError: Exception encountered when calling layer \"vaswani_multi_head_attention\" (type VaswaniMultiHeadAttention).\n    \n    in user code:\n    \n        File \"/home/jovyan/work/TransformerXL/STR_XL/Notebooks/../Attention/Set_Transformer/__init__.py\", line 138, in call  *\n            q_split = tf.concat(tf.split(q, self.num_heads, 2), 0)\n    \n        ValueError: Dimension size, given by scalar input 2 must be in range [-2, 2) for '{{node set_attention_block/vaswani_multi_head_attention/split}} = Split[T=DT_FLOAT, num_split=4](set_attention_block/vaswani_multi_head_attention/split/split_dim, set_attention_block/vaswani_multi_head_attention/dense_3/BiasAdd)' with input shapes: [], [?,64] and with computed input tensors: input[0] = <2>.\n    \n    \n    Call arguments received:\n      • q=tf.Tensor(shape=(None, 64), dtype=float32)\n      • v=tf.Tensor(shape=(None, 128), dtype=float32)\n      • k=tf.Tensor(shape=(None, 128), dtype=float32)\n      • training=None\n\n\nCall arguments received:\n  • inputs=tf.Tensor(shape=(None, None, 64), dtype=float32)\n  • training=None",
     "output_type": "error",
     "traceback": [
      "\u001b[0;31m---------------------------------------------------------------------------\u001b[0m",
      "\u001b[0;31mValueError\u001b[0m                                Traceback (most recent call last)",
      "Input \u001b[0;32mIn [23]\u001b[0m, in \u001b[0;36m<cell line: 1>\u001b[0;34m()\u001b[0m\n\u001b[0;32m----> 1\u001b[0m model \u001b[38;5;241m=\u001b[39m \u001b[43mcreate_model\u001b[49m\u001b[43m(\u001b[49m\u001b[43muse_layernorm\u001b[49m\u001b[38;5;241;43m=\u001b[39;49m\u001b[38;5;28;43;01mFalse\u001b[39;49;00m\u001b[43m)\u001b[49m\n\u001b[1;32m      2\u001b[0m model\u001b[38;5;241m.\u001b[39mcompile(\n\u001b[1;32m      3\u001b[0m     optimizer\u001b[38;5;241m=\u001b[39mkeras\u001b[38;5;241m.\u001b[39moptimizers\u001b[38;5;241m.\u001b[39mAdam(\u001b[38;5;241m1e-4\u001b[39m),\n\u001b[1;32m      4\u001b[0m     loss\u001b[38;5;241m=\u001b[39mkeras\u001b[38;5;241m.\u001b[39mlosses\u001b[38;5;241m.\u001b[39mMeanAbsoluteError())\n",
      "Input \u001b[0;32mIn [22]\u001b[0m, in \u001b[0;36mcreate_model\u001b[0;34m(embed_dim, num_heads, stack, use_layernorm, pre_layernorm, use_keras_mha)\u001b[0m\n\u001b[1;32m     12\u001b[0m y \u001b[38;5;241m=\u001b[39m keras\u001b[38;5;241m.\u001b[39mlayers\u001b[38;5;241m.\u001b[39mDense(embed_dim)(y)\n\u001b[1;32m     13\u001b[0m \u001b[38;5;28;01mfor\u001b[39;00m _ \u001b[38;5;129;01min\u001b[39;00m \u001b[38;5;28mrange\u001b[39m(stack):\n\u001b[0;32m---> 14\u001b[0m     y \u001b[38;5;241m=\u001b[39m \u001b[43mstf\u001b[49m\u001b[38;5;241;43m.\u001b[39;49m\u001b[43mSetAttentionBlock\u001b[49m\u001b[43m(\u001b[49m\n\u001b[1;32m     15\u001b[0m \u001b[43m            \u001b[49m\u001b[43membed_dim\u001b[49m\u001b[38;5;241;43m=\u001b[39;49m\u001b[43membed_dim\u001b[49m\u001b[43m,\u001b[49m\n\u001b[1;32m     16\u001b[0m \u001b[43m            \u001b[49m\u001b[43mnum_heads\u001b[49m\u001b[38;5;241;43m=\u001b[39;49m\u001b[43mnum_heads\u001b[49m\u001b[43m,\u001b[49m\n\u001b[1;32m     17\u001b[0m \u001b[43m            \u001b[49m\u001b[43muse_layernorm\u001b[49m\u001b[38;5;241;43m=\u001b[39;49m\u001b[43muse_layernorm\u001b[49m\u001b[43m,\u001b[49m\n\u001b[1;32m     18\u001b[0m \u001b[43m            \u001b[49m\u001b[43mpre_layernorm\u001b[49m\u001b[38;5;241;43m=\u001b[39;49m\u001b[43mpre_layernorm\u001b[49m\u001b[43m,\u001b[49m\n\u001b[1;32m     19\u001b[0m \u001b[43m            \u001b[49m\u001b[43muse_keras_mha\u001b[49m\u001b[38;5;241;43m=\u001b[39;49m\u001b[43muse_keras_mha\u001b[49m\u001b[43m)\u001b[49m\u001b[43m(\u001b[49m\u001b[43my\u001b[49m\u001b[43m)\u001b[49m\n\u001b[1;32m     21\u001b[0m y \u001b[38;5;241m=\u001b[39m stf\u001b[38;5;241m.\u001b[39mPoolingByMultiHeadAttention(\n\u001b[1;32m     22\u001b[0m         num_seeds\u001b[38;5;241m=\u001b[39m\u001b[38;5;241m1\u001b[39m,\n\u001b[1;32m     23\u001b[0m         embed_dim\u001b[38;5;241m=\u001b[39membed_dim,\n\u001b[0;32m   (...)\u001b[0m\n\u001b[1;32m     27\u001b[0m         use_keras_mha\u001b[38;5;241m=\u001b[39muse_keras_mha,\n\u001b[1;32m     28\u001b[0m         is_final_block\u001b[38;5;241m=\u001b[39m\u001b[38;5;28;01mTrue\u001b[39;00m)(y)\n\u001b[1;32m     29\u001b[0m y \u001b[38;5;241m=\u001b[39m keras\u001b[38;5;241m.\u001b[39mlayers\u001b[38;5;241m.\u001b[39mDense(\u001b[38;5;241m1\u001b[39m)(y)\n",
      "File \u001b[0;32m/opt/conda/lib/python3.10/site-packages/keras/utils/traceback_utils.py:67\u001b[0m, in \u001b[0;36mfilter_traceback.<locals>.error_handler\u001b[0;34m(*args, **kwargs)\u001b[0m\n\u001b[1;32m     65\u001b[0m \u001b[38;5;28;01mexcept\u001b[39;00m \u001b[38;5;167;01mException\u001b[39;00m \u001b[38;5;28;01mas\u001b[39;00m e:  \u001b[38;5;66;03m# pylint: disable=broad-except\u001b[39;00m\n\u001b[1;32m     66\u001b[0m   filtered_tb \u001b[38;5;241m=\u001b[39m _process_traceback_frames(e\u001b[38;5;241m.\u001b[39m__traceback__)\n\u001b[0;32m---> 67\u001b[0m   \u001b[38;5;28;01mraise\u001b[39;00m e\u001b[38;5;241m.\u001b[39mwith_traceback(filtered_tb) \u001b[38;5;28;01mfrom\u001b[39;00m \u001b[38;5;28mNone\u001b[39m\n\u001b[1;32m     68\u001b[0m \u001b[38;5;28;01mfinally\u001b[39;00m:\n\u001b[1;32m     69\u001b[0m   \u001b[38;5;28;01mdel\u001b[39;00m filtered_tb\n",
      "File \u001b[0;32m/opt/conda/lib/python3.10/site-packages/tensorflow/python/autograph/impl/api.py:692\u001b[0m, in \u001b[0;36mconvert.<locals>.decorator.<locals>.wrapper\u001b[0;34m(*args, **kwargs)\u001b[0m\n\u001b[1;32m    690\u001b[0m \u001b[38;5;28;01mexcept\u001b[39;00m \u001b[38;5;167;01mException\u001b[39;00m \u001b[38;5;28;01mas\u001b[39;00m e:  \u001b[38;5;66;03m# pylint:disable=broad-except\u001b[39;00m\n\u001b[1;32m    691\u001b[0m   \u001b[38;5;28;01mif\u001b[39;00m \u001b[38;5;28mhasattr\u001b[39m(e, \u001b[38;5;124m'\u001b[39m\u001b[38;5;124mag_error_metadata\u001b[39m\u001b[38;5;124m'\u001b[39m):\n\u001b[0;32m--> 692\u001b[0m     \u001b[38;5;28;01mraise\u001b[39;00m e\u001b[38;5;241m.\u001b[39mag_error_metadata\u001b[38;5;241m.\u001b[39mto_exception(e)\n\u001b[1;32m    693\u001b[0m   \u001b[38;5;28;01melse\u001b[39;00m:\n\u001b[1;32m    694\u001b[0m     \u001b[38;5;28;01mraise\u001b[39;00m\n",
      "\u001b[0;31mValueError\u001b[0m: Exception encountered when calling layer \"set_attention_block\" (type SetAttentionBlock).\n\nin user code:\n\n    File \"/home/jovyan/work/TransformerXL/STR_XL/Notebooks/../Attention/Set_Transformer/__init__.py\", line 270, in call  *\n        return super().call([x, mems], training=training)\n    File \"/home/jovyan/work/TransformerXL/STR_XL/Notebooks/../Attention/Set_Transformer/__init__.py\", line 239, in call  *\n        return self.call_post_layernorm(x, y, training)\n    File \"/home/jovyan/work/TransformerXL/STR_XL/Notebooks/../Attention/Set_Transformer/__init__.py\", line 221, in call_post_layernorm  *\n        attn = x + self.att(x, y, y, training=training)\n    File \"/opt/conda/lib/python3.10/site-packages/keras/utils/traceback_utils.py\", line 67, in error_handler  **\n        raise e.with_traceback(filtered_tb) from None\n\n    ValueError: Exception encountered when calling layer \"vaswani_multi_head_attention\" (type VaswaniMultiHeadAttention).\n    \n    in user code:\n    \n        File \"/home/jovyan/work/TransformerXL/STR_XL/Notebooks/../Attention/Set_Transformer/__init__.py\", line 138, in call  *\n            q_split = tf.concat(tf.split(q, self.num_heads, 2), 0)\n    \n        ValueError: Dimension size, given by scalar input 2 must be in range [-2, 2) for '{{node set_attention_block/vaswani_multi_head_attention/split}} = Split[T=DT_FLOAT, num_split=4](set_attention_block/vaswani_multi_head_attention/split/split_dim, set_attention_block/vaswani_multi_head_attention/dense_3/BiasAdd)' with input shapes: [], [?,64] and with computed input tensors: input[0] = <2>.\n    \n    \n    Call arguments received:\n      • q=tf.Tensor(shape=(None, 64), dtype=float32)\n      • v=tf.Tensor(shape=(None, 128), dtype=float32)\n      • k=tf.Tensor(shape=(None, 128), dtype=float32)\n      • training=None\n\n\nCall arguments received:\n  • inputs=tf.Tensor(shape=(None, None, 64), dtype=float32)\n  • training=None"
     ]
    }
   ],
   "source": [
    "model = create_model(use_layernorm=False)\n",
    "model.compile(\n",
    "    optimizer=keras.optimizers.Adam(1e-4),\n",
    "    loss=keras.losses.MeanAbsoluteError())"
   ]
  },
  {
   "cell_type": "code",
   "execution_count": null,
   "id": "d0754d9c",
   "metadata": {},
   "outputs": [],
   "source": [
    "x[:4]"
   ]
  },
  {
   "cell_type": "code",
   "execution_count": 24,
   "id": "31f3a121-c3c8-4b9e-8bcb-0f77c5b9beae",
   "metadata": {},
   "outputs": [],
   "source": [
    "#5, 10"
   ]
  },
  {
   "cell_type": "code",
   "execution_count": null,
   "id": "27bbc91f-1b90-4532-b191-19e89243751b",
   "metadata": {},
   "outputs": [],
   "source": [
    "model(x[:4])"
   ]
  },
  {
   "cell_type": "code",
   "execution_count": null,
   "id": "62b58f89",
   "metadata": {},
   "outputs": [],
   "source": [
    "model.predict(x[:2])"
   ]
  },
  {
   "cell_type": "code",
   "execution_count": null,
   "id": "26b17ca6",
   "metadata": {},
   "outputs": [],
   "source": [
    "x, y = gen_data(batch_size=2 ** 10, length=5)"
   ]
  },
  {
   "cell_type": "code",
   "execution_count": null,
   "id": "c7dbf382",
   "metadata": {
    "tags": []
   },
   "outputs": [],
   "source": [
    "history_nln = model.fit(x, y, epochs=500, verbose=0)"
   ]
  },
  {
   "cell_type": "code",
   "execution_count": null,
   "id": "956ec275",
   "metadata": {},
   "outputs": [],
   "source": [
    "x[:3]"
   ]
  },
  {
   "cell_type": "code",
   "execution_count": null,
   "id": "9911f678",
   "metadata": {},
   "outputs": [],
   "source": [
    "model.predict(x[:3])"
   ]
  },
  {
   "cell_type": "markdown",
   "id": "964e52b7-5d83-4f0b-beab-fee0434bbb3d",
   "metadata": {},
   "source": [
    "---\n",
    "## Training (Post-Layernorm)"
   ]
  },
  {
   "cell_type": "code",
   "execution_count": 12,
   "id": "919145f6-f59f-4515-9b8d-447348bfefb0",
   "metadata": {},
   "outputs": [
    {
     "name": "stdout",
     "output_type": "stream",
     "text": [
      "(None, None)\n"
     ]
    },
    {
     "ename": "NameError",
     "evalue": "name 'stf' is not defined",
     "output_type": "error",
     "traceback": [
      "\u001b[0;31m---------------------------------------------------------------------------\u001b[0m",
      "\u001b[0;31mNameError\u001b[0m                                 Traceback (most recent call last)",
      "Input \u001b[0;32mIn [12]\u001b[0m, in \u001b[0;36m<cell line: 1>\u001b[0;34m()\u001b[0m\n\u001b[0;32m----> 1\u001b[0m model \u001b[38;5;241m=\u001b[39m \u001b[43mcreate_model\u001b[49m\u001b[43m(\u001b[49m\u001b[43muse_layernorm\u001b[49m\u001b[38;5;241;43m=\u001b[39;49m\u001b[38;5;28;43;01mTrue\u001b[39;49;00m\u001b[43m,\u001b[49m\u001b[43m \u001b[49m\u001b[43mpre_layernorm\u001b[49m\u001b[38;5;241;43m=\u001b[39;49m\u001b[38;5;28;43;01mFalse\u001b[39;49;00m\u001b[43m)\u001b[49m\n\u001b[1;32m      2\u001b[0m model\u001b[38;5;241m.\u001b[39mcompile(\n\u001b[1;32m      3\u001b[0m     optimizer\u001b[38;5;241m=\u001b[39mkeras\u001b[38;5;241m.\u001b[39moptimizers\u001b[38;5;241m.\u001b[39mAdam(\u001b[38;5;241m1e-4\u001b[39m),\n\u001b[1;32m      4\u001b[0m     loss\u001b[38;5;241m=\u001b[39mkeras\u001b[38;5;241m.\u001b[39mlosses\u001b[38;5;241m.\u001b[39mMeanAbsoluteError())\n",
      "Input \u001b[0;32mIn [10]\u001b[0m, in \u001b[0;36mcreate_model\u001b[0;34m(embed_dim, num_heads, stack, use_layernorm, pre_layernorm, use_keras_mha)\u001b[0m\n\u001b[1;32m     12\u001b[0m y \u001b[38;5;241m=\u001b[39m keras\u001b[38;5;241m.\u001b[39mlayers\u001b[38;5;241m.\u001b[39mDense(embed_dim)(y)\n\u001b[1;32m     13\u001b[0m \u001b[38;5;28;01mfor\u001b[39;00m _ \u001b[38;5;129;01min\u001b[39;00m \u001b[38;5;28mrange\u001b[39m(stack):\n\u001b[0;32m---> 14\u001b[0m     y \u001b[38;5;241m=\u001b[39m \u001b[43mstf\u001b[49m\u001b[38;5;241m.\u001b[39mSetAttentionBlock(\n\u001b[1;32m     15\u001b[0m             embed_dim\u001b[38;5;241m=\u001b[39membed_dim,\n\u001b[1;32m     16\u001b[0m             num_heads\u001b[38;5;241m=\u001b[39mnum_heads,\n\u001b[1;32m     17\u001b[0m             use_layernorm\u001b[38;5;241m=\u001b[39muse_layernorm,\n\u001b[1;32m     18\u001b[0m             pre_layernorm\u001b[38;5;241m=\u001b[39mpre_layernorm,\n\u001b[1;32m     19\u001b[0m             use_keras_mha\u001b[38;5;241m=\u001b[39muse_keras_mha)(y)\n\u001b[1;32m     21\u001b[0m y \u001b[38;5;241m=\u001b[39m stf\u001b[38;5;241m.\u001b[39mPoolingByMultiHeadAttention(\n\u001b[1;32m     22\u001b[0m         num_seeds\u001b[38;5;241m=\u001b[39m\u001b[38;5;241m1\u001b[39m,\n\u001b[1;32m     23\u001b[0m         embed_dim\u001b[38;5;241m=\u001b[39membed_dim,\n\u001b[0;32m   (...)\u001b[0m\n\u001b[1;32m     27\u001b[0m         use_keras_mha\u001b[38;5;241m=\u001b[39muse_keras_mha,\n\u001b[1;32m     28\u001b[0m         is_final_block\u001b[38;5;241m=\u001b[39m\u001b[38;5;28;01mTrue\u001b[39;00m)(y)\n\u001b[1;32m     29\u001b[0m y \u001b[38;5;241m=\u001b[39m keras\u001b[38;5;241m.\u001b[39mlayers\u001b[38;5;241m.\u001b[39mDense(\u001b[38;5;241m1\u001b[39m)(y)\n",
      "\u001b[0;31mNameError\u001b[0m: name 'stf' is not defined"
     ]
    }
   ],
   "source": [
    "model = create_model(use_layernorm=True, pre_layernorm=False)\n",
    "model.compile(\n",
    "    optimizer=keras.optimizers.Adam(1e-4),\n",
    "    loss=keras.losses.MeanAbsoluteError())"
   ]
  },
  {
   "cell_type": "code",
   "execution_count": 22,
   "id": "a57c0133-4394-4bbd-ab64-1d5e474208ef",
   "metadata": {},
   "outputs": [
    {
     "data": {
      "text/plain": [
       "array([[32, 18, 82, 83, 65],\n",
       "       [51, 32, 22, 82, 28]])"
      ]
     },
     "execution_count": 22,
     "metadata": {},
     "output_type": "execute_result"
    }
   ],
   "source": [
    "x[:2]"
   ]
  },
  {
   "cell_type": "code",
   "execution_count": 23,
   "id": "240a550d-513c-482a-ba84-78cd69d1ba3d",
   "metadata": {},
   "outputs": [
    {
     "data": {
      "text/plain": [
       "array([-2.483456 , -2.5711875], dtype=float32)"
      ]
     },
     "execution_count": 23,
     "metadata": {},
     "output_type": "execute_result"
    }
   ],
   "source": [
    "model.predict(x[:2])"
   ]
  },
  {
   "cell_type": "code",
   "execution_count": 24,
   "id": "b622e493-1a73-4078-b736-a7da0c68d426",
   "metadata": {},
   "outputs": [],
   "source": [
    "x, y = gen_data(batch_size=2 ** 10, length=5)"
   ]
  },
  {
   "cell_type": "code",
   "execution_count": 28,
   "id": "2d51cd0c-c990-4759-bb97-2f64b0e418a2",
   "metadata": {
    "tags": []
   },
   "outputs": [],
   "source": [
    "history_post_ln = model.fit(x, y, epochs=500, verbose=0)"
   ]
  },
  {
   "cell_type": "code",
   "execution_count": 26,
   "id": "f1d1393f-471b-46ae-b4d1-555cb5486583",
   "metadata": {},
   "outputs": [
    {
     "data": {
      "text/plain": [
       "array([[ 1, 51, 91, 97, 91],\n",
       "       [41, 42, 33, 82, 53],\n",
       "       [15, 80, 33, 95, 33]])"
      ]
     },
     "execution_count": 26,
     "metadata": {},
     "output_type": "execute_result"
    }
   ],
   "source": [
    "x[:3]"
   ]
  },
  {
   "cell_type": "code",
   "execution_count": 27,
   "id": "2f53c16d-157f-49b6-9122-04ed43789b55",
   "metadata": {},
   "outputs": [
    {
     "data": {
      "text/plain": [
       "array([96.06869, 83.52949, 95.00522], dtype=float32)"
      ]
     },
     "execution_count": 27,
     "metadata": {},
     "output_type": "execute_result"
    }
   ],
   "source": [
    "model.predict(x[:3])"
   ]
  },
  {
   "cell_type": "markdown",
   "id": "f1f2152d-9c74-4b40-9ebf-f5176b4f32c4",
   "metadata": {},
   "source": [
    "---\n",
    "## Training (Pre-Layernorm)"
   ]
  },
  {
   "cell_type": "code",
   "execution_count": 28,
   "id": "3e3944a1-fe92-42ea-a77f-7c4a5a7029e3",
   "metadata": {},
   "outputs": [],
   "source": [
    "model = create_model(use_layernorm=True, pre_layernorm=True)\n",
    "model.compile(\n",
    "    optimizer=keras.optimizers.Adam(1e-4),\n",
    "    loss=keras.losses.MeanAbsoluteError())"
   ]
  },
  {
   "cell_type": "code",
   "execution_count": 29,
   "id": "20177d67-915e-4844-a8fe-d6130712f6ac",
   "metadata": {},
   "outputs": [
    {
     "data": {
      "text/plain": [
       "array([[ 1, 51, 91, 97, 91],\n",
       "       [41, 42, 33, 82, 53]])"
      ]
     },
     "execution_count": 29,
     "metadata": {},
     "output_type": "execute_result"
    }
   ],
   "source": [
    "x[:2]"
   ]
  },
  {
   "cell_type": "code",
   "execution_count": 30,
   "id": "92243167-3eb5-43f9-9553-80934a1a9d0a",
   "metadata": {},
   "outputs": [
    {
     "data": {
      "text/plain": [
       "array([-1.484148 , -1.4941418], dtype=float32)"
      ]
     },
     "execution_count": 30,
     "metadata": {},
     "output_type": "execute_result"
    }
   ],
   "source": [
    "model.predict(x[:2])"
   ]
  },
  {
   "cell_type": "code",
   "execution_count": 31,
   "id": "e8c58de6-d81d-4089-a363-b5e1802815c5",
   "metadata": {},
   "outputs": [],
   "source": [
    "x, y = gen_data(batch_size=2 ** 10, length=5)"
   ]
  },
  {
   "cell_type": "code",
   "execution_count": 32,
   "id": "69918790-bca3-4a1a-ab0e-9a40b1234da9",
   "metadata": {
    "tags": []
   },
   "outputs": [],
   "source": [
    "history_pre_ln = model.fit(x, y, epochs=500, verbose=0)"
   ]
  },
  {
   "cell_type": "code",
   "execution_count": 33,
   "id": "5b6255a9-7264-4e54-9352-041a008f5a97",
   "metadata": {},
   "outputs": [
    {
     "data": {
      "text/plain": [
       "array([[14, 21,  4, 92, 39],\n",
       "       [52,  6, 83, 53, 93],\n",
       "       [46, 83, 11, 38, 78]])"
      ]
     },
     "execution_count": 33,
     "metadata": {},
     "output_type": "execute_result"
    }
   ],
   "source": [
    "x[:3]"
   ]
  },
  {
   "cell_type": "code",
   "execution_count": 34,
   "id": "3f05f12d-71b0-4ab1-9b83-6946e7655140",
   "metadata": {},
   "outputs": [
    {
     "data": {
      "text/plain": [
       "array([92.11145 , 93.088806, 83.09186 ], dtype=float32)"
      ]
     },
     "execution_count": 34,
     "metadata": {},
     "output_type": "execute_result"
    }
   ],
   "source": [
    "model.predict(x[:3])"
   ]
  },
  {
   "cell_type": "code",
   "execution_count": null,
   "id": "08e70a82-3777-4774-823f-2337ae462831",
   "metadata": {},
   "outputs": [],
   "source": []
  },
  {
   "cell_type": "code",
   "execution_count": 37,
   "id": "815ba118-1b22-4ddb-b641-55aa01e3f150",
   "metadata": {},
   "outputs": [
    {
     "data": {
      "image/png": "[encoded data removed]",
      "text/plain": [
       "<Figure size 432x288 with 1 Axes>"
      ]
     },
     "metadata": {
      "needs_background": "light"
     },
     "output_type": "display_data"
    }
   ],
   "source": [
    "plt.plot(history_nln.history[\"loss\"])\n",
    "plt.plot(history_post_ln.history[\"loss\"])\n",
    "plt.plot(history_pre_ln.history[\"loss\"])\n",
    "plt.legend([\"No layernorm\", \"Post-layernorm\", \"Pre-layernorm\"])\n",
    "plt.title(\"Loss Over Time\")\n",
    "plt.show()"
   ]
  },
  {
   "cell_type": "code",
   "execution_count": null,
   "id": "11e5dc6a-a80c-4b6e-88e2-65f801df8af9",
   "metadata": {},
   "outputs": [],
   "source": []
  }
 ],
 "metadata": {
  "interpreter": {
   "hash": "d4d1e4263499bec80672ea0156c357c1ee493ec2b1c70f0acce89fc37c4a6abe"
  },
  "kernelspec": {
   "display_name": "Python 3 (ipykernel)",
   "language": "python",
   "name": "python3"
  },
  "language_info": {
   "codemirror_mode": {
    "name": "ipython",
    "version": 3
   },
   "file_extension": ".py",
   "mimetype": "text/x-python",
   "name": "python",
   "nbconvert_exporter": "python",
   "pygments_lexer": "ipython3",
   "version": "3.10.4"
  }
 },
 "nbformat": 4,
 "nbformat_minor": 5
}

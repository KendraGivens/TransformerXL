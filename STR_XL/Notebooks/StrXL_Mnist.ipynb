{
 "cells": [
  {
   "cell_type": "markdown",
   "id": "ad2c14f8-8dd8-459f-81fe-a6708e6a8355",
   "metadata": {},
   "source": [
    "---\n",
    "# Import Libraries"
   ]
  },
  {
   "cell_type": "code",
   "execution_count": 36,
   "id": "3dcad43d-67f7-49b9-84ce-6d91a0f468a6",
   "metadata": {},
   "outputs": [],
   "source": [
    "import os\n",
    "import sys"
   ]
  },
  {
   "cell_type": "code",
   "execution_count": 37,
   "id": "5e7cb9df-5746-44a3-998a-b671b284957f",
   "metadata": {},
   "outputs": [],
   "source": [
    "os.environ[\"TF_CPP_MIN_LOG_LEVEL\"] = \"2\""
   ]
  },
  {
   "cell_type": "code",
   "execution_count": 38,
   "id": "2c507a85-fe6f-4d3c-ae1f-16914fdec693",
   "metadata": {},
   "outputs": [],
   "source": [
    "sys.path.append(\"../../../deep-learning-dna\")\n",
    "sys.path.append(\"../\")\n",
    "sys.path.append(\"../../../deep-learning-dna/common\")"
   ]
  },
  {
   "cell_type": "code",
   "execution_count": 39,
   "id": "31b9c98a-b4ee-4667-89a3-5f04549f7d66",
   "metadata": {},
   "outputs": [],
   "source": [
    "import wandb"
   ]
  },
  {
   "cell_type": "code",
   "execution_count": 40,
   "id": "fda64db1-8058-4e15-b2d4-1a3e64f23fbe",
   "metadata": {},
   "outputs": [],
   "source": [
    "import tensorflow as tf\n",
    "import tensorflow.keras as keras\n",
    "import numpy as np\n",
    "import matplotlib.pyplot as plt\n",
    "from IPython.display import display\n",
    "import math\n",
    "import string\n",
    "\n",
    "from Attention import Set_Transformer\n",
    "from common.models import dnabert\n",
    "from common import dna\n",
    "from lmdbm import Lmdb\n",
    "from common.data import DnaSequenceGenerator, DnaLabelType, DnaSampleGenerator, find_dbs\n",
    "import wandb\n",
    "\n",
    "import tf_utilities as tfu"
   ]
  },
  {
   "cell_type": "code",
   "execution_count": 41,
   "id": "0dfb3b1a-2db7-4463-a208-b5d29e20f97a",
   "metadata": {},
   "outputs": [],
   "source": [
    "strategy = tfu.devices.select_gpu(0, use_dynamic_memory=True)"
   ]
  },
  {
   "cell_type": "markdown",
   "id": "54593a0f-b5b4-401e-91e2-8c1a1598432e",
   "metadata": {
    "tags": []
   },
   "source": [
    "---\n",
    "# Load Data"
   ]
  },
  {
   "cell_type": "markdown",
   "id": "26aeaffd-bdd5-4509-ad29-79b42c50d560",
   "metadata": {},
   "source": [
    "## MNIST dataset"
   ]
  },
  {
   "cell_type": "code",
   "execution_count": 42,
   "id": "0761351f",
   "metadata": {},
   "outputs": [],
   "source": [
    "(x_train, y_train), (x_test, y_test) = keras.datasets.mnist.load_data()"
   ]
  },
  {
   "cell_type": "code",
   "execution_count": 43,
   "id": "2c2f95fa",
   "metadata": {},
   "outputs": [
    {
     "name": "stdout",
     "output_type": "stream",
     "text": [
      "(60000, 28, 28) (60000,)\n"
     ]
    }
   ],
   "source": [
    "print(x_train.shape, y_train.shape)"
   ]
  },
  {
   "cell_type": "code",
   "execution_count": 44,
   "id": "d3a5e9aa",
   "metadata": {},
   "outputs": [
    {
     "name": "stdout",
     "output_type": "stream",
     "text": [
      "(10000, 28, 28) (10000,)\n"
     ]
    }
   ],
   "source": [
    "print(x_test.shape, y_test.shape)"
   ]
  },
  {
   "cell_type": "code",
   "execution_count": 45,
   "id": "5b039b36",
   "metadata": {},
   "outputs": [
    {
     "data": {
      "text/plain": [
       "<matplotlib.image.AxesImage at 0x7f6ed82d7340>"
      ]
     },
     "execution_count": 45,
     "metadata": {},
     "output_type": "execute_result"
    },
    {
     "data": {
      "image/png": "[encoded data removed]",
      "text/plain": [
       "<Figure size 640x480 with 1 Axes>"
      ]
     },
     "metadata": {},
     "output_type": "display_data"
    }
   ],
   "source": [
    "plt.imshow(x_train[0])"
   ]
  },
  {
   "cell_type": "markdown",
   "id": "18a4a3e2-d92c-4ec3-8e80-5369fde6d20f",
   "metadata": {},
   "source": [
    "## MNIST Point Cloud Generation"
   ]
  },
  {
   "cell_type": "code",
   "execution_count": 46,
   "id": "64acb8b5",
   "metadata": {},
   "outputs": [],
   "source": [
    "class MnistPointCloudGenerator(keras.utils.Sequence):\n",
    "\n",
    "    def __init__(self, x, y=None, num_points=1000, batch_size=32, threshold=70, shuffle=True, rng=None):\n",
    "        self.x = x\n",
    "        self.y = y.astype(np.int32) if y is not None else None\n",
    "        self.num_points = num_points\n",
    "        self.batch_size = batch_size if batch_size is not None else len(x)\n",
    "        self.threshold = threshold\n",
    "        self.should_shuffle = shuffle\n",
    "        self.rng = rng if rng is not None else np.random.default_rng()\n",
    "\n",
    "        self.num_batches = len(self.x) // self.batch_size\n",
    "\n",
    "        self.init()\n",
    "        self.shuffle()\n",
    "\n",
    "    def init(self):\n",
    "        img_ids, y_pixels, x_pixels = np.nonzero(self.x > self.threshold)\n",
    "        self.pixels = (np.column_stack((x_pixels, 28 - y_pixels)) - 13.5) / 13.5\n",
    "        _, self.pixel_counts = np.unique(img_ids, return_counts=True)\n",
    "        self.pixel_offsets = np.concatenate(([0], np.cumsum(self.pixel_counts)))\n",
    "\n",
    "    def shuffle(self):\n",
    "        # Randomize the order of the images\n",
    "        num_elems = self.num_batches*self.batch_size\n",
    "        if self.shuffle:\n",
    "            self.indices = np.reshape(self.rng.permutation(len(self.x))[:num_elems], (-1, self.batch_size))\n",
    "        else:\n",
    "            self.indices = np.reshape(np.arange(num_elems), (-1, self.batch_size))\n",
    "\n",
    "        # Select random pixel indices\n",
    "        noise = self.rng.uniform(size=(len(self.x), self.num_points))\n",
    "        self.pixel_indices = (noise * np.reshape(self.pixel_counts, (-1, 1))).astype(np.int64) \\\n",
    "                           + np.reshape(self.pixel_offsets[:-1], (-1, 1))\n",
    "\n",
    "        # Generate noise for the pixels\n",
    "        self.pixel_noise = self.rng.normal(size=(len(self.x), self.num_points, 2), scale=1/13.5/2)\n",
    "\n",
    "    def __len__(self):\n",
    "        return self.num_batches\n",
    "\n",
    "    def __getitem__(self, batch_index):\n",
    "        indices = self.indices[batch_index]\n",
    "        batch_x = self.pixels[self.pixel_indices[indices]] + self.pixel_noise[indices]\n",
    "        if self.y is not None:\n",
    "            return batch_x, self.y[indices]\n",
    "        return batch_x\n",
    "\n",
    "    def on_epoch_end(self):\n",
    "        self.shuffle()"
   ]
  },
  {
   "cell_type": "code",
   "execution_count": 47,
   "id": "236d778d",
   "metadata": {},
   "outputs": [],
   "source": [
    "dataset = MnistPointCloudGenerator(x_train, y_train)"
   ]
  },
  {
   "cell_type": "code",
   "execution_count": 48,
   "id": "75abc945",
   "metadata": {},
   "outputs": [
    {
     "name": "stdout",
     "output_type": "stream",
     "text": [
      "(32, 1000, 2) (32,)\n"
     ]
    }
   ],
   "source": [
    "point_clouds, labels = dataset[0] # fetch a batch\n",
    "print(point_clouds.shape, labels.shape)"
   ]
  },
  {
   "cell_type": "code",
   "execution_count": 49,
   "id": "c116afc8",
   "metadata": {},
   "outputs": [
    {
     "name": "stdout",
     "output_type": "stream",
     "text": [
      "The digit is a 6\n"
     ]
    },
    {
     "data": {
      "image/png": "[encoded data removed]",
      "text/plain": [
       "<Figure size 300x300 with 1 Axes>"
      ]
     },
     "metadata": {},
     "output_type": "display_data"
    }
   ],
   "source": [
    "index = 1 # the index of the batch to show\n",
    "\n",
    "print(\"The digit is a\", labels[index])\n",
    "\n",
    "plt.figure(figsize=(3, 3))\n",
    "plt.scatter(*point_clouds[index].T, s=1.7)\n",
    "plt.xlim((-1, 1))\n",
    "plt.ylim((-1, 1))\n",
    "plt.xticks([])\n",
    "plt.yticks([])\n",
    "plt.show()"
   ]
  },
  {
   "cell_type": "markdown",
   "id": "835c39dd-9fb5-49bf-8763-14ca694a1a35",
   "metadata": {
    "tags": []
   },
   "source": [
    "---\n",
    "# Cache Memory"
   ]
  },
  {
   "cell_type": "code",
   "execution_count": 50,
   "id": "da4cb5e4-2d26-4e40-a00f-3e71f470b273",
   "metadata": {},
   "outputs": [],
   "source": [
    "def Cache_Memory(current_state, previous_state, memory_length):\n",
    "    \n",
    "    if memory_length is None or memory_length == 0:\n",
    "        return None\n",
    "    else:\n",
    "        if previous_state is None:\n",
    "            new_mem = current_state[:, -memory_length:, :]\n",
    "        else:\n",
    "            new_mem = tf.concat(\n",
    "                    [previous_state, current_state], 1)[:, -memory_length:, :]\n",
    "\n",
    "    return tf.stop_gradient(new_mem)"
   ]
  },
  {
   "cell_type": "markdown",
   "id": "bb50453f-628c-412e-942b-d486d01c6b8a",
   "metadata": {},
   "source": [
    "---\n",
    "# Attention"
   ]
  },
  {
   "cell_type": "code",
   "execution_count": 51,
   "id": "1bf9ef79-9ede-4271-8542-223cdd1e11ed",
   "metadata": {},
   "outputs": [],
   "source": [
    "class Attention(keras.Model):\n",
    "    def __init__(self, num_induce, embed_dim, num_heads, use_layernorm, pre_layernorm, use_keras_mha):\n",
    "        super(Attention, self).__init__()\n",
    "        \n",
    "        self.num_induce = num_induce\n",
    "        self.embed_dim = embed_dim\n",
    "        self.num_heads = num_heads\n",
    "        self.use_layernorm = use_layernorm\n",
    "        self.pre_layernorm = pre_layernorm\n",
    "        self.use_keras_mha = use_keras_mha\n",
    "        \n",
    "        if self.num_induce == 0:       \n",
    "            self.attention = (Set_Transformer.SetAttentionBlock(embed_dim=self.embed_dim, num_heads=self.num_heads, use_layernorm=self.use_layernorm,pre_layernorm=self.pre_layernorm,use_keras_mha=self.use_keras_mha))\n",
    "        else:\n",
    "            self.attention = Set_Transformer.InducedSetAttentionBlock(embed_dim=self.embed_dim, num_heads=self.num_heads, num_induce=self.num_induce, use_layernorm=self.use_layernorm, pre_layernorm=self.pre_layernorm, use_keras_mha=self.use_keras_mha)\n",
    "    \n",
    "    \n",
    "    def call(self, data, mems):\n",
    "                \n",
    "            attention = self.attention([data, mems])\n",
    "                \n",
    "            return attention"
   ]
  },
  {
   "cell_type": "markdown",
   "id": "d5c32bb5-4520-4802-a8f0-5f7849905a83",
   "metadata": {},
   "source": [
    "---\n",
    "# XL Block"
   ]
  },
  {
   "cell_type": "code",
   "execution_count": 52,
   "id": "7245b7dd-a3b2-464a-9f5b-7efd4a9d0ed2",
   "metadata": {},
   "outputs": [],
   "source": [
    "class TransformerXLBlock(tf.keras.layers.Layer):\n",
    "    def __init__(self,\n",
    "                 num_induce, \n",
    "                 embed_dim,\n",
    "                 num_heads,\n",
    "                 use_layernorm,\n",
    "                 pre_layernorm,\n",
    "                 use_keras_mha,):\n",
    "\n",
    "        super(TransformerXLBlock, self).__init__()\n",
    "        \n",
    "        self.num_induce = num_induce\n",
    "        self.embed_dim = embed_dim\n",
    "        self.num_heads = num_heads\n",
    "        self.use_layernorm = use_layernorm\n",
    "        self.pre_layernorm = pre_layernorm\n",
    "        self.use_keras_mha = use_keras_mha\n",
    "        \n",
    "        self.attention = Attention\n",
    "        \n",
    "        self.attention_layer = self.attention(self.num_induce, self.embed_dim, self.num_heads, self.use_layernorm, self.pre_layernorm, self.use_keras_mha)\n",
    "\n",
    "   \n",
    "    def call(self,\n",
    "             content_stream,\n",
    "             state=None):\n",
    "        \n",
    "        attention_output = self.attention_layer(content_stream, state)\n",
    "\n",
    "        return attention_output"
   ]
  },
  {
   "cell_type": "markdown",
   "id": "8749ec30-1281-4f9d-8baa-54b890fb7949",
   "metadata": {},
   "source": [
    "---\n",
    "# Transformer XL"
   ]
  },
  {
   "cell_type": "code",
   "execution_count": 53,
   "id": "019ca25d-e899-4e17-8f41-dfdc3d9bdee5",
   "metadata": {},
   "outputs": [],
   "source": [
    "class TransformerXL(tf.keras.layers.Layer):\n",
    "    def __init__(self,\n",
    "                 mem_switched, \n",
    "                 num_layers,\n",
    "                 num_induce,\n",
    "                 embed_dim,\n",
    "                 num_heads,\n",
    "                 dropout_rate,\n",
    "                 mem_len=None,\n",
    "                 use_layernorm=True,\n",
    "                 pre_layernorm=True, \n",
    "                 use_keras_mha=True):\n",
    "        \n",
    "        super(TransformerXL, self).__init__()\n",
    "\n",
    "        self.mem_switched = mem_switched\n",
    "        self.num_layers = num_layers\n",
    "        self.num_induce = num_induce\n",
    "        self.embed_dim = embed_dim\n",
    "        self.num_heads = num_heads\n",
    "        self.dropout_rate = dropout_rate\n",
    "        self.mem_len = mem_len\n",
    "        self.use_layernorm = use_layernorm\n",
    "        self.pre_layernorm = pre_layernorm\n",
    "        self.use_keras_mha = use_keras_mha\n",
    "\n",
    "        self.transformer_xl_layers = []\n",
    "        \n",
    "        for i in range(self.num_layers):\n",
    "            self.transformer_xl_layers.append(\n",
    "                    TransformerXLBlock(self.num_induce,\n",
    "                                        self.embed_dim,\n",
    "                                        self.num_heads,\n",
    "                                        self.use_layernorm,\n",
    "                                        self.pre_layernorm, \n",
    "                                        self.use_keras_mha))\n",
    "\n",
    "        self.output_dropout = tf.keras.layers.Dropout(rate=self.dropout_rate)\n",
    "\n",
    "    def call(self,\n",
    "             content_stream,\n",
    "             state=None):\n",
    "        \n",
    "        new_mems = []\n",
    "\n",
    "        if state is None:\n",
    "            state = [None] * self.num_layers\n",
    "            \n",
    "        for i in range(self.num_layers):\n",
    "            if self.mem_switched == False:\n",
    "                new_mems.append(Cache_Memory(content_stream, state[i], self.mem_len))\n",
    "            \n",
    "            transformer_xl_layer = self.transformer_xl_layers[i]\n",
    "            \n",
    "            transformer_xl_output = transformer_xl_layer(content_stream=content_stream,\n",
    "                                                        state=state[i])\n",
    "            \n",
    "            content_stream = self.output_dropout(transformer_xl_output)\n",
    "            \n",
    "            if self.mem_switched == True:\n",
    "                new_mems.append(Cache_Memory(content_stream, state[i], self.mem_len))\n",
    "\n",
    "        output_stream = content_stream\n",
    "        return output_stream, new_mems"
   ]
  },
  {
   "cell_type": "markdown",
   "id": "a127a4b5-15e3-46e3-838b-a5e18e4d8dc8",
   "metadata": {},
   "source": [
    "---\n",
    "# Xl Model Class"
   ]
  },
  {
   "cell_type": "code",
   "execution_count": 54,
   "id": "855d43dd-e182-4c2a-961a-ff9781141f81",
   "metadata": {},
   "outputs": [],
   "source": [
    "class XlModel(keras.Model):\n",
    "    def __init__(self, mem_switched, max_files, encoder, block_size, max_set_len, num_induce, embed_dim, num_layers, num_heads, mem_len, dropout_rate, num_seeds, use_layernorm, pre_layernorm, use_keras_mha):\n",
    "        super(XlModel, self).__init__()\n",
    "        \n",
    "        self.mem_switched = mem_switched\n",
    "        self.max_files = max_files\n",
    "        self.encoder = encoder\n",
    "        self.block_size = block_size\n",
    "        self.max_set_len = max_set_len\n",
    "        self.num_induce = num_induce\n",
    "        self.embed_dim = embed_dim\n",
    "        self.num_layers = num_layers\n",
    "        self.num_heads = num_heads\n",
    "        self.mem_len = mem_len\n",
    "        self.dropout_rate = dropout_rate\n",
    "        self.num_seeds = num_seeds\n",
    "        self.use_layernorm = use_layernorm\n",
    "        self.pre_layernorm = pre_layernorm\n",
    "        self.use_keras_mha = use_keras_mha\n",
    "        \n",
    "        self.linear_layer = keras.layers.Dense(self.embed_dim)\n",
    "        \n",
    "        self.transformer_xl = TransformerXL(self.mem_switched,\n",
    "                                            self.num_layers,\n",
    "                                             self.num_induce,\n",
    "                                             self.embed_dim,\n",
    "                                             self.num_heads,\n",
    "                                             self.dropout_rate,\n",
    "                                             self.mem_len,\n",
    "                                             self.use_layernorm,\n",
    "                                             self.pre_layernorm,\n",
    "                                             self.use_keras_mha)\n",
    "        \n",
    "\n",
    "        self.pooling_layer = Set_Transformer.PoolingByMultiHeadAttention(num_seeds=self.num_seeds,embed_dim=self.embed_dim,num_heads=self.num_heads,use_layernorm=self.use_layernorm,pre_layernorm=self.pre_layernorm, use_keras_mha=self.use_keras_mha, is_final_block=True)\n",
    "    \n",
    "        self.reshape_layer = keras.layers.Reshape((embed_dim,))\n",
    "        \n",
    "        self.dropout_layer = keras.layers.Dropout(.5)\n",
    "        \n",
    "        self.dense_layer = keras.layers.Dense(10)                                       \n",
    "\n",
    "    def call(self, x, training=None):    \n",
    " \n",
    "        mems = tf.zeros((self.num_layers, tf.shape(x)[0], self.mem_len, self.embed_dim))\n",
    "        \n",
    "        linear_transform = self.linear_layer(x)\n",
    "\n",
    "        for i in range(0, self.max_set_len, self.block_size):\n",
    "\n",
    "            block = linear_transform[:,i:i+self.block_size]\n",
    "            \n",
    "            output, mems = self.transformer_xl(content_stream=block, state=mems)\n",
    "\n",
    "        pooling = self.pooling_layer(output)\n",
    "\n",
    "        dropout = self.dropout_layer(pooling)\n",
    "\n",
    "        reshape = self.reshape_layer(dropout)\n",
    "\n",
    "        output = self.dense_layer(reshape)       \n",
    "        \n",
    "        return output"
   ]
  },
  {
   "cell_type": "markdown",
   "id": "e3469de1-250d-4c14-bb79-a4e74f0fe93e",
   "metadata": {},
   "source": [
    "---\n",
    "# Xl Parameters"
   ]
  },
  {
   "cell_type": "code",
   "execution_count": 55,
   "id": "2bc3ea7d-d4a1-4a1e-bf2a-7cd1c91430cf",
   "metadata": {},
   "outputs": [],
   "source": [
    "#Xl Parameters\n",
    "max_files = 0\n",
    "encoder = 0\n",
    "mem_switched = True\n",
    "num_induce = 0\n",
    "embed_dim = 32\n",
    "num_layers = 2\n",
    "num_heads = 4\n",
    "mem_len = 250\n",
    "dropout_rate = 0.01\n",
    "num_seeds = 1\n",
    "use_layernorm = True\n",
    "pre_layernorm = True\n",
    "use_keras_mha = True"
   ]
  },
  {
   "cell_type": "markdown",
   "id": "16dbeff7-e467-4f3a-8dc4-cdf8b474cfc7",
   "metadata": {
    "tags": []
   },
   "source": [
    "---\n",
    "## 1000-Element Point Clouds"
   ]
  },
  {
   "cell_type": "markdown",
   "id": "d547417a-1510-43b5-b87a-a4a707c3f934",
   "metadata": {},
   "source": [
    "### Dataset"
   ]
  },
  {
   "cell_type": "code",
   "execution_count": 56,
   "id": "d1c519f1-3c00-4e89-8a1e-901eea0b302c",
   "metadata": {},
   "outputs": [],
   "source": [
    "split_index = int(0.2*len(x_train))\n",
    "\n",
    "train_dataset = MnistPointCloudGenerator(x_train[split_index:], y_train[split_index:], num_points=1000)\n",
    "val_dataset = MnistPointCloudGenerator(x_train[:split_index], y_train[:split_index], num_points=1000)\n",
    "test_dataset = MnistPointCloudGenerator(x_test, y_test, num_points=1000)\n"
   ]
  },
  {
   "cell_type": "markdown",
   "id": "89649663-7d18-48bc-8678-ce5f093908cc",
   "metadata": {},
   "source": [
    "---\n",
    "# Create Models"
   ]
  },
  {
   "cell_type": "code",
   "execution_count": 57,
   "id": "d6709d90-e797-4f99-b863-119a9ee20cac",
   "metadata": {},
   "outputs": [],
   "source": [
    "block_size = 250"
   ]
  },
  {
   "cell_type": "code",
   "execution_count": 58,
   "id": "63636972-d74a-4840-b731-2b9bb46823d1",
   "metadata": {},
   "outputs": [],
   "source": [
    "max_set_len = 1000\n",
    "set_len = 1000"
   ]
  },
  {
   "cell_type": "code",
   "execution_count": 59,
   "id": "821b0c4a-6d05-4867-a713-474bfdbff881",
   "metadata": {},
   "outputs": [],
   "source": [
    "model = XlModel(mem_switched, max_files, encoder, block_size, max_set_len, num_induce, embed_dim, num_layers, num_heads, mem_len, dropout_rate, num_seeds, use_layernorm, pre_layernorm, use_keras_mha)\n",
    "model.compile(\n",
    "        optimizer=keras.optimizers.Adam(1e-3),\n",
    "        loss=keras.losses.SparseCategoricalCrossentropy(from_logits=True),\n",
    "        metrics=keras.metrics.SparseCategoricalAccuracy()\n",
    "    )"
   ]
  },
  {
   "cell_type": "code",
   "execution_count": 60,
   "id": "bbdb466e-ec6a-47d0-aaec-751bb42eab07",
   "metadata": {},
   "outputs": [
    {
     "name": "stdout",
     "output_type": "stream",
     "text": [
      "1/1 [==============================] - 2s 2s/step\n"
     ]
    },
    {
     "data": {
      "text/plain": [
       "<tf.Tensor: shape=(32,), dtype=int64, numpy=\n",
       "array([8, 8, 8, 8, 8, 8, 8, 8, 8, 8, 8, 8, 8, 8, 8, 8, 8, 8, 8, 8, 8, 8,\n",
       "       8, 8, 8, 8, 8, 8, 8, 8, 8, 8])>"
      ]
     },
     "execution_count": 60,
     "metadata": {},
     "output_type": "execute_result"
    }
   ],
   "source": [
    "tf.argmax(model.predict(train_dataset[0][0]), -1)"
   ]
  },
  {
   "cell_type": "code",
   "execution_count": 61,
   "id": "7ddcc096-cb9a-4c19-a838-0aa92a6a13bc",
   "metadata": {},
   "outputs": [],
   "source": [
    "epochs = 30"
   ]
  },
  {
   "cell_type": "code",
   "execution_count": 62,
   "id": "298f7f75-d867-43af-96ef-4206bc3bf628",
   "metadata": {},
   "outputs": [
    {
     "data": {
      "text/html": [
       "wandb version 0.15.2 is available!  To upgrade, please run:\n",
       " $ pip install wandb --upgrade"
      ],
      "text/plain": [
       "<IPython.core.display.HTML object>"
      ]
     },
     "metadata": {},
     "output_type": "display_data"
    },
    {
     "data": {
      "text/html": [
       "Tracking run with wandb version 0.14.0"
      ],
      "text/plain": [
       "<IPython.core.display.HTML object>"
      ]
     },
     "metadata": {},
     "output_type": "display_data"
    },
    {
     "data": {
      "text/html": [
       "Run data is saved locally in <code>/home/jovyan/work/TransformerXL/STR_XL/Notebooks/wandb/run-20230516_203409-tmt1c4ap</code>"
      ],
      "text/plain": [
       "<IPython.core.display.HTML object>"
      ]
     },
     "metadata": {},
     "output_type": "display_data"
    },
    {
     "data": {
      "text/html": [
       "Syncing run <strong><a href='https://wandb.ai/kendragivens/StrXL_MNIST/runs/tmt1c4ap' target=\"_blank\">hardy-dust-3</a></strong> to <a href='https://wandb.ai/kendragivens/StrXL_MNIST' target=\"_blank\">Weights & Biases</a> (<a href='https://wandb.me/run' target=\"_blank\">docs</a>)<br/>"
      ],
      "text/plain": [
       "<IPython.core.display.HTML object>"
      ]
     },
     "metadata": {},
     "output_type": "display_data"
    },
    {
     "data": {
      "text/html": [
       " View project at <a href='https://wandb.ai/kendragivens/StrXL_MNIST' target=\"_blank\">https://wandb.ai/kendragivens/StrXL_MNIST</a>"
      ],
      "text/plain": [
       "<IPython.core.display.HTML object>"
      ]
     },
     "metadata": {},
     "output_type": "display_data"
    },
    {
     "data": {
      "text/html": [
       " View run at <a href='https://wandb.ai/kendragivens/StrXL_MNIST/runs/tmt1c4ap' target=\"_blank\">https://wandb.ai/kendragivens/StrXL_MNIST/runs/tmt1c4ap</a>"
      ],
      "text/plain": [
       "<IPython.core.display.HTML object>"
      ]
     },
     "metadata": {},
     "output_type": "display_data"
    }
   ],
   "source": [
    "run = wandb.init(project = \"StrXL_MNIST\")"
   ]
  },
  {
   "cell_type": "code",
   "execution_count": null,
   "id": "3fb21f6f-a78b-4e97-9034-11a1fc94dedc",
   "metadata": {},
   "outputs": [
    {
     "name": "stdout",
     "output_type": "stream",
     "text": [
      "Epoch 1/30\n",
      "1500/1500 [==============================] - 250s 164ms/step - loss: 1.1520 - sparse_categorical_accuracy: 0.6198 - val_loss: 0.4716 - val_sparse_categorical_accuracy: 0.8493\n",
      "Epoch 2/30\n",
      "1500/1500 [==============================] - 236s 157ms/step - loss: 0.4556 - sparse_categorical_accuracy: 0.8696 - val_loss: 0.2888 - val_sparse_categorical_accuracy: 0.9093\n",
      "Epoch 3/30\n",
      "1500/1500 [==============================] - 228s 152ms/step - loss: 0.3642 - sparse_categorical_accuracy: 0.8997 - val_loss: 0.2495 - val_sparse_categorical_accuracy: 0.9243\n",
      "Epoch 4/30\n",
      "1500/1500 [==============================] - 275s 184ms/step - loss: 0.3164 - sparse_categorical_accuracy: 0.9133 - val_loss: 0.2483 - val_sparse_categorical_accuracy: 0.9216\n",
      "Epoch 5/30\n",
      "1500/1500 [==============================] - 213s 142ms/step - loss: 0.2887 - sparse_categorical_accuracy: 0.9198 - val_loss: 0.2472 - val_sparse_categorical_accuracy: 0.9224\n",
      "Epoch 6/30\n",
      "1500/1500 [==============================] - 244s 163ms/step - loss: 0.2633 - sparse_categorical_accuracy: 0.9282 - val_loss: 0.2306 - val_sparse_categorical_accuracy: 0.9286\n",
      "Epoch 7/30\n",
      "1500/1500 [==============================] - 235s 157ms/step - loss: 0.2517 - sparse_categorical_accuracy: 0.9309 - val_loss: 0.1959 - val_sparse_categorical_accuracy: 0.9407\n",
      "Epoch 8/30\n",
      "1500/1500 [==============================] - 225s 150ms/step - loss: 0.2395 - sparse_categorical_accuracy: 0.9332 - val_loss: 0.2067 - val_sparse_categorical_accuracy: 0.9362\n",
      "Epoch 9/30\n",
      "1500/1500 [==============================] - 244s 163ms/step - loss: 0.2291 - sparse_categorical_accuracy: 0.9367 - val_loss: 0.1598 - val_sparse_categorical_accuracy: 0.9509\n",
      "Epoch 10/30\n",
      "1500/1500 [==============================] - 227s 152ms/step - loss: 0.2205 - sparse_categorical_accuracy: 0.9385 - val_loss: 0.1671 - val_sparse_categorical_accuracy: 0.9491\n",
      "Epoch 11/30\n",
      "1500/1500 [==============================] - 245s 163ms/step - loss: 0.2115 - sparse_categorical_accuracy: 0.9417 - val_loss: 0.1604 - val_sparse_categorical_accuracy: 0.9522\n",
      "Epoch 12/30\n",
      "1500/1500 [==============================] - 262s 174ms/step - loss: 0.1973 - sparse_categorical_accuracy: 0.9454 - val_loss: 0.1387 - val_sparse_categorical_accuracy: 0.9567\n",
      "Epoch 13/30\n",
      "1500/1500 [==============================] - 196s 131ms/step - loss: 0.1864 - sparse_categorical_accuracy: 0.9479 - val_loss: 0.1832 - val_sparse_categorical_accuracy: 0.9454\n",
      "Epoch 14/30\n",
      "1500/1500 [==============================] - 157s 104ms/step - loss: 0.1828 - sparse_categorical_accuracy: 0.9499 - val_loss: 0.1394 - val_sparse_categorical_accuracy: 0.9570\n",
      "Epoch 15/30\n",
      "1500/1500 [==============================] - 149s 99ms/step - loss: 0.1861 - sparse_categorical_accuracy: 0.9477 - val_loss: 0.1667 - val_sparse_categorical_accuracy: 0.9479\n",
      "Epoch 16/30\n",
      "1500/1500 [==============================] - 99s 66ms/step - loss: 0.1809 - sparse_categorical_accuracy: 0.9510 - val_loss: 0.1401 - val_sparse_categorical_accuracy: 0.9577\n",
      "Epoch 17/30\n",
      "1500/1500 [==============================] - 53s 35ms/step - loss: 0.1711 - sparse_categorical_accuracy: 0.9539 - val_loss: 0.1343 - val_sparse_categorical_accuracy: 0.9617\n",
      "Epoch 18/30\n",
      "1500/1500 [==============================] - 52s 35ms/step - loss: 0.1688 - sparse_categorical_accuracy: 0.9529 - val_loss: 0.1408 - val_sparse_categorical_accuracy: 0.9567\n",
      "Epoch 19/30\n",
      "1500/1500 [==============================] - 52s 35ms/step - loss: 0.1630 - sparse_categorical_accuracy: 0.9550 - val_loss: 0.1273 - val_sparse_categorical_accuracy: 0.9606\n",
      "Epoch 20/30\n",
      "1500/1500 [==============================] - 52s 35ms/step - loss: 0.1642 - sparse_categorical_accuracy: 0.9546 - val_loss: 0.1454 - val_sparse_categorical_accuracy: 0.9536\n",
      "Epoch 21/30\n",
      "1500/1500 [==============================] - 52s 35ms/step - loss: 0.1575 - sparse_categorical_accuracy: 0.9564 - val_loss: 0.1861 - val_sparse_categorical_accuracy: 0.9444\n",
      "Epoch 22/30\n",
      "1500/1500 [==============================] - 52s 35ms/step - loss: 0.1500 - sparse_categorical_accuracy: 0.9590 - val_loss: 0.1215 - val_sparse_categorical_accuracy: 0.9626\n",
      "Epoch 23/30\n",
      "1500/1500 [==============================] - 52s 35ms/step - loss: 0.1512 - sparse_categorical_accuracy: 0.9583 - val_loss: 0.1265 - val_sparse_categorical_accuracy: 0.9628\n",
      "Epoch 24/30\n",
      "1500/1500 [==============================] - 52s 35ms/step - loss: 0.1490 - sparse_categorical_accuracy: 0.9585 - val_loss: 0.1463 - val_sparse_categorical_accuracy: 0.9555\n",
      "Epoch 25/30\n",
      "1500/1500 [==============================] - 52s 35ms/step - loss: 0.1445 - sparse_categorical_accuracy: 0.9598 - val_loss: 0.1169 - val_sparse_categorical_accuracy: 0.9630\n",
      "Epoch 26/30\n",
      "1500/1500 [==============================] - 52s 35ms/step - loss: 0.1441 - sparse_categorical_accuracy: 0.9598 - val_loss: 0.1583 - val_sparse_categorical_accuracy: 0.9482\n",
      "Epoch 27/30\n",
      "1500/1500 [==============================] - 52s 35ms/step - loss: 0.1404 - sparse_categorical_accuracy: 0.9610 - val_loss: 0.1393 - val_sparse_categorical_accuracy: 0.9571\n",
      "Epoch 28/30\n",
      "1500/1500 [==============================] - 52s 35ms/step - loss: 0.1347 - sparse_categorical_accuracy: 0.9619 - val_loss: 0.1115 - val_sparse_categorical_accuracy: 0.9648\n",
      "Epoch 29/30\n",
      "1500/1500 [==============================] - 97s 64ms/step - loss: 0.1351 - sparse_categorical_accuracy: 0.9624 - val_loss: 0.1167 - val_sparse_categorical_accuracy: 0.9652\n",
      "Epoch 30/30\n",
      " 470/1500 [========>.....................] - ETA: 1:30 - loss: 0.1302 - sparse_categorical_accuracy: 0.9640"
     ]
    }
   ],
   "source": [
    "model_path = \"StrXL_MNIST\"\n",
    "wandb_callback = wandb.keras.WandbCallback(save_model=False)\n",
    "wandb_callback.save_model_as_artifact = False\n",
    "\n",
    "model.fit(x=train_dataset, validation_data=val_dataset, epochs=epochs, verbose=1, callbacks=[wandb_callback])\n",
    "\n",
    "model.save_weights(model_path + \".h5\")"
   ]
  },
  {
   "cell_type": "code",
   "execution_count": null,
   "id": "7952362f-809a-4378-b182-adcbcbec5e96",
   "metadata": {},
   "outputs": [],
   "source": [
    "run.finish()"
   ]
  },
  {
   "cell_type": "code",
   "execution_count": null,
   "id": "464db094-1903-4570-bd57-386c01bfb578",
   "metadata": {},
   "outputs": [],
   "source": [
    "1"
   ]
  },
  {
   "cell_type": "markdown",
   "id": "c5f84447-165c-4edf-8000-d43954ca8979",
   "metadata": {},
   "source": [
    "## "
   ]
  }
 ],
 "metadata": {
  "kernelspec": {
   "display_name": "Python 3 (ipykernel)",
   "language": "python",
   "name": "python3"
  },
  "language_info": {
   "codemirror_mode": {
    "name": "ipython",
    "version": 3
   },
   "file_extension": ".py",
   "mimetype": "text/x-python",
   "name": "python",
   "nbconvert_exporter": "python",
   "pygments_lexer": "ipython3",
   "version": "3.10.8"
  }
 },
 "nbformat": 4,
 "nbformat_minor": 5
}

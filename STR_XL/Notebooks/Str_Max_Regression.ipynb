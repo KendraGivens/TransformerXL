{
 "cells": [
  {
   "cell_type": "code",
   "execution_count": null,
   "id": "477b0698-1d5c-4d85-b5a5-0c4cc9766421",
   "metadata": {},
   "outputs": [],
   "source": [
    "import os\n",
    "import sys"
   ]
  },
  {
   "cell_type": "code",
   "execution_count": null,
   "id": "665026fc-9622-4dc3-972e-4e8c3de33e32",
   "metadata": {},
   "outputs": [],
   "source": [
    "os.environ[\"TF_CPP_MIN_LOG_LEVEL\"] = \"2\""
   ]
  },
  {
   "cell_type": "code",
   "execution_count": null,
   "id": "d5a20b11-1a27-4f59-8054-f4686a12e6aa",
   "metadata": {},
   "outputs": [],
   "source": [
    "sys.path.append(\"../../../deep-learning-dna\")\n",
    "sys.path.append(\"../\")"
   ]
  },
  {
   "cell_type": "code",
   "execution_count": null,
   "id": "487d6841-517e-4726-aefd-ba8e7c6d33fe",
   "metadata": {},
   "outputs": [],
   "source": [
    "import wandb"
   ]
  },
  {
   "cell_type": "code",
   "execution_count": null,
   "id": "4198c41f",
   "metadata": {},
   "outputs": [],
   "source": [
    "import tensorflow as tf\n",
    "import tensorflow.keras as keras\n",
    "import numpy as np\n",
    "import matplotlib.pyplot as plt\n",
    "%matplotlib inline\n",
    "from IPython.display import display\n",
    "import math\n",
    "import string\n",
    "\n",
    "from Attention import Set_Transformer \n",
    "from common.models import dnabert\n",
    "from common import dna\n",
    "from lmdbm import Lmdb\n",
    "from common.data import DnaSequenceGenerator, DnaLabelType, DnaSampleGenerator, find_dbs\n",
    "import wandb\n",
    "\n",
    "import tf_utils as tfu"
   ]
  },
  {
   "cell_type": "code",
   "execution_count": null,
   "id": "1dae2ca0-69c8-442c-8bee-da802a6b26bf",
   "metadata": {},
   "outputs": [],
   "source": [
    "strategy = tfu.devices.select_gpu(0, use_dynamic_memory=True)"
   ]
  },
  {
   "cell_type": "markdown",
   "id": "5b4300b2-d429-48f4-85ed-68772465def6",
   "metadata": {
    "tags": []
   },
   "source": [
    "---\n",
    "# Load Data"
   ]
  },
  {
   "cell_type": "code",
   "execution_count": null,
   "id": "65e83dc7-9349-4aab-b240-1e0d39988513",
   "metadata": {},
   "outputs": [],
   "source": [
    "def gen_data(batch_size, length=5):\n",
    "    x = np.random.randint(1, 100, (batch_size, length))\n",
    "    y = np.max(x, axis=1)\n",
    "    return x, y # (batch_size, length)"
   ]
  },
  {
   "cell_type": "code",
   "execution_count": null,
   "id": "f47ff082-2d44-4467-872b-c925150812b9",
   "metadata": {},
   "outputs": [],
   "source": [
    "x, y = gen_data(3, 5)"
   ]
  },
  {
   "cell_type": "code",
   "execution_count": null,
   "id": "df9ded01-96fb-4df2-b52f-429f623ab30b",
   "metadata": {},
   "outputs": [
    {
     "name": "stdout",
     "output_type": "stream",
     "text": [
      "(3, 5) (3,)\n"
     ]
    }
   ],
   "source": [
    "print(x.shape, y.shape)"
   ]
  },
  {
   "cell_type": "code",
   "execution_count": null,
   "id": "0adef207-d041-409c-9f7b-f57799812e38",
   "metadata": {},
   "outputs": [
    {
     "data": {
      "text/plain": [
       "array([[47, 66, 31, 73,  6],\n",
       "       [95, 76, 68, 60, 31],\n",
       "       [12, 14, 22, 55, 43]])"
      ]
     },
     "execution_count": 10,
     "metadata": {},
     "output_type": "execute_result"
    }
   ],
   "source": [
    "x"
   ]
  },
  {
   "cell_type": "code",
   "execution_count": null,
   "id": "73a565ef-e1d8-4a93-8389-0df681875eb2",
   "metadata": {},
   "outputs": [
    {
     "data": {
      "text/plain": [
       "array([3, 0, 3])"
      ]
     },
     "execution_count": 11,
     "metadata": {},
     "output_type": "execute_result"
    }
   ],
   "source": [
    "y"
   ]
  },
  {
   "cell_type": "markdown",
   "id": "aa47f6fd-2a44-46f8-8b46-15fc33786e13",
   "metadata": {},
   "source": [
    "---\n",
    "# Set Transformer Class"
   ]
  },
  {
   "cell_type": "code",
   "execution_count": null,
   "id": "f11e396d-98b4-47ce-903a-c342ec73e234",
   "metadata": {
    "tags": []
   },
   "outputs": [],
   "source": [
    "class Set_Transformer_Model(keras.Model):\n",
    "    def __init__(self, num_induce, embed_dim, attention_num_heads, stack, use_layernorm, pre_layernorm, use_keras_mha, num_seeds, pooling_num_heads):\n",
    "        super(Set_Transformer_Model, self).__init__()\n",
    "        \n",
    "        self.num_induce = num_induce\n",
    "        self.embed_dim = embed_dim\n",
    "        self.attention_num_heads = attention_num_heads\n",
    "        self.stack = stack\n",
    "        self.use_layernorm = use_layernorm\n",
    "        self.pre_layernorm = pre_layernorm\n",
    "        self.use_keras_mha = use_keras_mha\n",
    "        self.num_seeds = num_seeds \n",
    "        self.pooling_num_heads = pooling_num_heads\n",
    "        \n",
    "        self.linear_layer = keras.layers.Dense(self.embed_dim)\n",
    "        self.attention_blocks = []\n",
    "        \n",
    "        if self.num_induce == 0:\n",
    "            for i in range(self.stack):\n",
    "                self.attention_blocks.append(Set_Transformer.SetAttentionBlock(embed_dim=self.embed_dim,num_heads=self.attention_num_heads,use_layernorm=self.use_layernorm,pre_layernorm=self.pre_layernorm,use_keras_mha=self.use_keras_mha))\n",
    "        else:\n",
    "            for i in range(self.stack):\n",
    "                self.attention_blocks.append(Set_Transformer.InducedSetAttentionBlock(embed_dim=self.embed_dim,num_heads=self.attention_num_heads, num_induce=self.num_induce, use_layernorm=self.use_layernorm,pre_layernorm=self.pre_layernorm,use_keras_mha=self.use_keras_mha))\n",
    "\n",
    "        self.pooling_layer = Set_Transformer.PoolingByMultiHeadAttention(num_seeds=self.num_seeds,embed_dim=self.embed_dim,num_heads=self.pooling_num_heads,use_layernorm=self.use_layernorm,pre_layernorm=self.pre_layernorm,use_keras_mha=self.use_keras_mha,is_final_block=True)\n",
    "        \n",
    "        self.dense_layer = keras.layers.Dense(1)                                       \n",
    "    \n",
    "    def call(self, data):\n",
    "        \n",
    "            data = tf.expand_dims(data, axis=2)\n",
    "        \n",
    "            linear_transform = self.linear_layer(data)\n",
    "            \n",
    "            attention = linear_transform\n",
    "            \n",
    "            for attention_block in self.attention_blocks:\n",
    "                attention = attention_block([attention, None])\n",
    "                \n",
    "            pooling = self.pooling_layer(attention)\n",
    "        \n",
    "            dense = self.dense_layer(pooling)\n",
    "            \n",
    "            output = tf.reshape(dense, tf.shape(dense)[:2])\n",
    "            \n",
    "            return output"
   ]
  },
  {
   "cell_type": "markdown",
   "id": "6e1c8632-97aa-46b0-9af1-afee2c87613f",
   "metadata": {},
   "source": [
    "---\n",
    "# Create Model"
   ]
  },
  {
   "cell_type": "code",
   "execution_count": null,
   "id": "62c7be3b-aa6b-4507-aa9b-1016b4342466",
   "metadata": {},
   "outputs": [],
   "source": [
    "x, y = gen_data(batch_size=2 ** 10, length=20)"
   ]
  },
  {
   "cell_type": "code",
   "execution_count": null,
   "id": "15b79d89-3c83-41f0-954f-86419d612032",
   "metadata": {},
   "outputs": [],
   "source": [
    "#Hyperparameters\n",
    "num_induce = 0\n",
    "embed_dim = 64\n",
    "attention_num_heads = 8\n",
    "stack = 4\n",
    "use_layernorm = True\n",
    "pre_layernorm = True\n",
    "use_keras_mha = True\n",
    "num_seeds = 1\n",
    "pooling_num_heads = 1"
   ]
  },
  {
   "cell_type": "code",
   "execution_count": null,
   "id": "11a8fa23-80d6-47e7-9f5d-39e6d55c6816",
   "metadata": {},
   "outputs": [],
   "source": [
    "model = Set_Transformer_Model(num_induce, embed_dim, attention_num_heads, stack, use_layernorm, pre_layernorm, use_keras_mha, num_seeds, pooling_num_heads)\n",
    "model.compile(optimizer=keras.optimizers.Adam(1e-3),loss=keras.losses.MeanAbsoluteError())"
   ]
  },
  {
   "cell_type": "code",
   "execution_count": null,
   "id": "0e1392c8-7cba-4f36-a2ae-5c161c7c4304",
   "metadata": {},
   "outputs": [
    {
     "data": {
      "text/plain": [
       "array([[40, 28, 69, 80, 75, 16, 94, 77, 10,  4, 65, 15, 52,  4, 63, 63,\n",
       "        53, 67, 21, 61],\n",
       "       [32, 60,  6, 31, 24, 81, 30, 48, 62, 33, 34, 87,  3, 33,  2, 96,\n",
       "        85, 13, 47, 57],\n",
       "       [35, 39, 86, 98, 41, 43, 43, 50, 64, 83, 30, 15, 11, 74, 72, 67,\n",
       "        37,  3, 41, 96],\n",
       "       [60, 43, 41, 31, 81, 85, 79, 81, 84,  4, 41, 81, 69, 46, 97, 76,\n",
       "        26,  4, 65, 46],\n",
       "       [93, 49, 11, 26,  2, 91, 67, 59, 85, 23, 27, 52,  9, 63, 73, 40,\n",
       "        12, 11, 52, 44],\n",
       "       [81, 15, 19, 90, 36,  1, 49, 42, 21, 90, 79, 67, 93, 67, 58, 97,\n",
       "         5, 78, 31, 45],\n",
       "       [34, 92,  8,  3, 15, 75, 55, 73, 47, 47, 75, 77, 19,  8, 82, 81,\n",
       "        29, 63, 23, 13],\n",
       "       [31, 79, 33, 17, 59, 74, 67, 60, 74, 53, 53,  5, 48, 15, 94, 57,\n",
       "        96, 98, 30, 19],\n",
       "       [69, 85, 96, 53, 45, 13, 61, 22,  9, 27, 18, 65, 71, 92,  8, 94,\n",
       "        64, 77, 78, 83],\n",
       "       [70, 31, 49, 33, 84, 89, 64, 32, 28, 42, 11, 15, 36, 45, 14, 16,\n",
       "        19, 74, 29, 83]])"
      ]
     },
     "execution_count": 20,
     "metadata": {},
     "output_type": "execute_result"
    }
   ],
   "source": [
    "x"
   ]
  },
  {
   "cell_type": "code",
   "execution_count": null,
   "id": "2621249a-6139-419f-86a6-a0ee1ca05090",
   "metadata": {},
   "outputs": [
    {
     "data": {
      "text/plain": [
       "array([[1.157297 ],\n",
       "       [1.1036431],\n",
       "       [1.2188632],\n",
       "       [1.2527688],\n",
       "       [1.1129992],\n",
       "       [1.1849427],\n",
       "       [1.1257389],\n",
       "       [1.2237768],\n",
       "       [1.21368  ],\n",
       "       [1.1609969]], dtype=float32)"
      ]
     },
     "execution_count": 21,
     "metadata": {},
     "output_type": "execute_result"
    }
   ],
   "source": [
    "model.predict(x[:10])"
   ]
  },
  {
   "cell_type": "code",
   "execution_count": null,
   "id": "51fbd3f6-ad09-4e86-a5e4-27703b9e21eb",
   "metadata": {},
   "outputs": [],
   "source": [
    "epochs = 500"
   ]
  },
  {
   "cell_type": "code",
   "execution_count": null,
   "id": "c7dbf382",
   "metadata": {
    "tags": []
   },
   "outputs": [
    {
     "name": "stdout",
     "output_type": "stream",
     "text": [
      "Epoch 1/500\n",
      "1/1 [==============================] - 5s 5s/step - loss: nan - sparse_categorical_accuracy: 0.1000\n",
      "Epoch 2/500\n",
      "1/1 [==============================] - 0s 32ms/step - loss: nan - sparse_categorical_accuracy: 0.1000\n",
      "Epoch 3/500\n",
      "1/1 [==============================] - 0s 28ms/step - loss: nan - sparse_categorical_accuracy: 0.1000\n",
      "Epoch 4/500\n",
      "1/1 [==============================] - 0s 30ms/step - loss: nan - sparse_categorical_accuracy: 0.1000\n",
      "Epoch 5/500\n",
      "1/1 [==============================] - 0s 26ms/step - loss: nan - sparse_categorical_accuracy: 0.1000\n",
      "Epoch 6/500\n",
      "1/1 [==============================] - 0s 30ms/step - loss: nan - sparse_categorical_accuracy: 0.1000\n",
      "Epoch 7/500\n",
      "1/1 [==============================] - 0s 30ms/step - loss: nan - sparse_categorical_accuracy: 0.1000\n",
      "Epoch 8/500\n",
      "1/1 [==============================] - 0s 27ms/step - loss: nan - sparse_categorical_accuracy: 0.1000\n",
      "Epoch 9/500\n",
      "1/1 [==============================] - 0s 31ms/step - loss: nan - sparse_categorical_accuracy: 0.1000\n",
      "Epoch 10/500\n",
      "1/1 [==============================] - 0s 27ms/step - loss: nan - sparse_categorical_accuracy: 0.1000\n",
      "Epoch 11/500\n",
      "1/1 [==============================] - 0s 29ms/step - loss: nan - sparse_categorical_accuracy: 0.1000\n",
      "Epoch 12/500\n",
      "1/1 [==============================] - 0s 29ms/step - loss: nan - sparse_categorical_accuracy: 0.1000\n",
      "Epoch 13/500\n",
      "1/1 [==============================] - 0s 29ms/step - loss: nan - sparse_categorical_accuracy: 0.1000\n",
      "Epoch 14/500\n",
      "1/1 [==============================] - 0s 27ms/step - loss: nan - sparse_categorical_accuracy: 0.1000\n",
      "Epoch 15/500\n",
      "1/1 [==============================] - 0s 27ms/step - loss: nan - sparse_categorical_accuracy: 0.1000\n",
      "Epoch 16/500\n",
      "1/1 [==============================] - 0s 27ms/step - loss: nan - sparse_categorical_accuracy: 0.1000\n",
      "Epoch 17/500\n",
      "1/1 [==============================] - 0s 28ms/step - loss: nan - sparse_categorical_accuracy: 0.1000\n",
      "Epoch 18/500\n",
      "1/1 [==============================] - 0s 27ms/step - loss: nan - sparse_categorical_accuracy: 0.1000\n",
      "Epoch 19/500\n",
      "1/1 [==============================] - 0s 30ms/step - loss: nan - sparse_categorical_accuracy: 0.1000\n",
      "Epoch 20/500\n",
      "1/1 [==============================] - 0s 27ms/step - loss: nan - sparse_categorical_accuracy: 0.1000\n",
      "Epoch 21/500\n",
      "1/1 [==============================] - 0s 27ms/step - loss: nan - sparse_categorical_accuracy: 0.1000\n",
      "Epoch 22/500\n",
      "1/1 [==============================] - 0s 29ms/step - loss: nan - sparse_categorical_accuracy: 0.1000\n",
      "Epoch 23/500\n",
      "1/1 [==============================] - 0s 29ms/step - loss: nan - sparse_categorical_accuracy: 0.1000\n",
      "Epoch 24/500\n",
      "1/1 [==============================] - 0s 28ms/step - loss: nan - sparse_categorical_accuracy: 0.1000\n",
      "Epoch 25/500\n",
      "1/1 [==============================] - 0s 29ms/step - loss: nan - sparse_categorical_accuracy: 0.1000\n",
      "Epoch 26/500\n",
      "1/1 [==============================] - 0s 28ms/step - loss: nan - sparse_categorical_accuracy: 0.1000\n",
      "Epoch 27/500\n",
      "1/1 [==============================] - 0s 28ms/step - loss: nan - sparse_categorical_accuracy: 0.1000\n",
      "Epoch 28/500\n",
      "1/1 [==============================] - 0s 26ms/step - loss: nan - sparse_categorical_accuracy: 0.1000\n",
      "Epoch 29/500\n",
      "1/1 [==============================] - 0s 29ms/step - loss: nan - sparse_categorical_accuracy: 0.1000\n",
      "Epoch 30/500\n",
      "1/1 [==============================] - 0s 29ms/step - loss: nan - sparse_categorical_accuracy: 0.1000\n",
      "Epoch 31/500\n",
      "1/1 [==============================] - 0s 28ms/step - loss: nan - sparse_categorical_accuracy: 0.1000\n",
      "Epoch 32/500\n",
      "1/1 [==============================] - 0s 29ms/step - loss: nan - sparse_categorical_accuracy: 0.1000\n",
      "Epoch 33/500\n",
      "1/1 [==============================] - 0s 29ms/step - loss: nan - sparse_categorical_accuracy: 0.1000\n",
      "Epoch 34/500\n",
      "1/1 [==============================] - 0s 31ms/step - loss: nan - sparse_categorical_accuracy: 0.1000\n",
      "Epoch 35/500\n",
      "1/1 [==============================] - 0s 28ms/step - loss: nan - sparse_categorical_accuracy: 0.1000\n",
      "Epoch 36/500\n",
      "1/1 [==============================] - 0s 28ms/step - loss: nan - sparse_categorical_accuracy: 0.1000\n",
      "Epoch 37/500\n",
      "1/1 [==============================] - 0s 31ms/step - loss: nan - sparse_categorical_accuracy: 0.1000\n",
      "Epoch 38/500\n",
      "1/1 [==============================] - 0s 27ms/step - loss: nan - sparse_categorical_accuracy: 0.1000\n",
      "Epoch 39/500\n",
      "1/1 [==============================] - 0s 29ms/step - loss: nan - sparse_categorical_accuracy: 0.1000\n",
      "Epoch 40/500\n",
      "1/1 [==============================] - 0s 28ms/step - loss: nan - sparse_categorical_accuracy: 0.1000\n",
      "Epoch 41/500\n",
      "1/1 [==============================] - 0s 29ms/step - loss: nan - sparse_categorical_accuracy: 0.1000\n",
      "Epoch 42/500\n",
      "1/1 [==============================] - 0s 29ms/step - loss: nan - sparse_categorical_accuracy: 0.1000\n",
      "Epoch 43/500\n",
      "1/1 [==============================] - 0s 31ms/step - loss: nan - sparse_categorical_accuracy: 0.1000\n",
      "Epoch 44/500\n",
      "1/1 [==============================] - 0s 29ms/step - loss: nan - sparse_categorical_accuracy: 0.1000\n",
      "Epoch 45/500\n",
      "1/1 [==============================] - 0s 33ms/step - loss: nan - sparse_categorical_accuracy: 0.1000\n",
      "Epoch 46/500\n",
      "1/1 [==============================] - 0s 32ms/step - loss: nan - sparse_categorical_accuracy: 0.1000\n",
      "Epoch 47/500\n",
      "1/1 [==============================] - 0s 28ms/step - loss: nan - sparse_categorical_accuracy: 0.1000\n",
      "Epoch 48/500\n",
      "1/1 [==============================] - 0s 29ms/step - loss: nan - sparse_categorical_accuracy: 0.1000\n",
      "Epoch 49/500\n",
      "1/1 [==============================] - 0s 28ms/step - loss: nan - sparse_categorical_accuracy: 0.1000\n",
      "Epoch 50/500\n",
      "1/1 [==============================] - 0s 30ms/step - loss: nan - sparse_categorical_accuracy: 0.1000\n",
      "Epoch 51/500\n",
      "1/1 [==============================] - 0s 29ms/step - loss: nan - sparse_categorical_accuracy: 0.1000\n",
      "Epoch 52/500\n",
      "1/1 [==============================] - 0s 31ms/step - loss: nan - sparse_categorical_accuracy: 0.1000\n",
      "Epoch 53/500\n",
      "1/1 [==============================] - 0s 28ms/step - loss: nan - sparse_categorical_accuracy: 0.1000\n",
      "Epoch 54/500\n",
      "1/1 [==============================] - 0s 31ms/step - loss: nan - sparse_categorical_accuracy: 0.1000\n",
      "Epoch 55/500\n",
      "1/1 [==============================] - 0s 28ms/step - loss: nan - sparse_categorical_accuracy: 0.1000\n",
      "Epoch 56/500\n",
      "1/1 [==============================] - 0s 29ms/step - loss: nan - sparse_categorical_accuracy: 0.1000\n",
      "Epoch 57/500\n",
      "1/1 [==============================] - 0s 28ms/step - loss: nan - sparse_categorical_accuracy: 0.1000\n",
      "Epoch 58/500\n",
      "1/1 [==============================] - 0s 31ms/step - loss: nan - sparse_categorical_accuracy: 0.1000\n",
      "Epoch 59/500\n",
      "1/1 [==============================] - 0s 31ms/step - loss: nan - sparse_categorical_accuracy: 0.1000\n",
      "Epoch 60/500\n",
      "1/1 [==============================] - 0s 29ms/step - loss: nan - sparse_categorical_accuracy: 0.1000\n",
      "Epoch 61/500\n",
      "1/1 [==============================] - 0s 28ms/step - loss: nan - sparse_categorical_accuracy: 0.1000\n",
      "Epoch 62/500\n",
      "1/1 [==============================] - 0s 30ms/step - loss: nan - sparse_categorical_accuracy: 0.1000\n",
      "Epoch 63/500\n",
      "1/1 [==============================] - 0s 25ms/step - loss: nan - sparse_categorical_accuracy: 0.1000\n",
      "Epoch 64/500\n",
      "1/1 [==============================] - 0s 32ms/step - loss: nan - sparse_categorical_accuracy: 0.1000\n",
      "Epoch 65/500\n",
      "1/1 [==============================] - 0s 28ms/step - loss: nan - sparse_categorical_accuracy: 0.1000\n",
      "Epoch 66/500\n",
      "1/1 [==============================] - 0s 29ms/step - loss: nan - sparse_categorical_accuracy: 0.1000\n",
      "Epoch 67/500\n",
      "1/1 [==============================] - 0s 32ms/step - loss: nan - sparse_categorical_accuracy: 0.1000\n",
      "Epoch 68/500\n",
      "1/1 [==============================] - 0s 31ms/step - loss: nan - sparse_categorical_accuracy: 0.1000\n",
      "Epoch 69/500\n",
      "1/1 [==============================] - 0s 28ms/step - loss: nan - sparse_categorical_accuracy: 0.1000\n",
      "Epoch 70/500\n",
      "1/1 [==============================] - 0s 30ms/step - loss: nan - sparse_categorical_accuracy: 0.1000\n",
      "Epoch 71/500\n",
      "1/1 [==============================] - 0s 30ms/step - loss: nan - sparse_categorical_accuracy: 0.1000\n",
      "Epoch 72/500\n",
      "1/1 [==============================] - 0s 29ms/step - loss: nan - sparse_categorical_accuracy: 0.1000\n",
      "Epoch 73/500\n",
      "1/1 [==============================] - 0s 30ms/step - loss: nan - sparse_categorical_accuracy: 0.1000\n",
      "Epoch 74/500\n",
      "1/1 [==============================] - 0s 27ms/step - loss: nan - sparse_categorical_accuracy: 0.1000\n",
      "Epoch 75/500\n",
      "1/1 [==============================] - 0s 27ms/step - loss: nan - sparse_categorical_accuracy: 0.1000\n",
      "Epoch 76/500\n",
      "1/1 [==============================] - 0s 26ms/step - loss: nan - sparse_categorical_accuracy: 0.1000\n",
      "Epoch 77/500\n",
      "1/1 [==============================] - 0s 28ms/step - loss: nan - sparse_categorical_accuracy: 0.1000\n",
      "Epoch 78/500\n",
      "1/1 [==============================] - 0s 37ms/step - loss: nan - sparse_categorical_accuracy: 0.1000\n",
      "Epoch 79/500\n",
      "1/1 [==============================] - 0s 29ms/step - loss: nan - sparse_categorical_accuracy: 0.1000\n",
      "Epoch 80/500\n",
      "1/1 [==============================] - 0s 36ms/step - loss: nan - sparse_categorical_accuracy: 0.1000\n",
      "Epoch 81/500\n",
      "1/1 [==============================] - 0s 32ms/step - loss: nan - sparse_categorical_accuracy: 0.1000\n",
      "Epoch 82/500\n",
      "1/1 [==============================] - 0s 30ms/step - loss: nan - sparse_categorical_accuracy: 0.1000\n",
      "Epoch 83/500\n",
      "1/1 [==============================] - 0s 30ms/step - loss: nan - sparse_categorical_accuracy: 0.1000\n",
      "Epoch 84/500\n",
      "1/1 [==============================] - 0s 29ms/step - loss: nan - sparse_categorical_accuracy: 0.1000\n",
      "Epoch 85/500\n",
      "1/1 [==============================] - 0s 30ms/step - loss: nan - sparse_categorical_accuracy: 0.1000\n",
      "Epoch 86/500\n",
      "1/1 [==============================] - 0s 30ms/step - loss: nan - sparse_categorical_accuracy: 0.1000\n",
      "Epoch 87/500\n",
      "1/1 [==============================] - 0s 29ms/step - loss: nan - sparse_categorical_accuracy: 0.1000\n",
      "Epoch 88/500\n",
      "1/1 [==============================] - 0s 29ms/step - loss: nan - sparse_categorical_accuracy: 0.1000\n",
      "Epoch 89/500\n",
      "1/1 [==============================] - 0s 29ms/step - loss: nan - sparse_categorical_accuracy: 0.1000\n",
      "Epoch 90/500\n",
      "1/1 [==============================] - 0s 28ms/step - loss: nan - sparse_categorical_accuracy: 0.1000\n",
      "Epoch 91/500\n",
      "1/1 [==============================] - 0s 27ms/step - loss: nan - sparse_categorical_accuracy: 0.1000\n",
      "Epoch 92/500\n",
      "1/1 [==============================] - 0s 25ms/step - loss: nan - sparse_categorical_accuracy: 0.1000\n",
      "Epoch 93/500\n",
      "1/1 [==============================] - 0s 26ms/step - loss: nan - sparse_categorical_accuracy: 0.1000\n",
      "Epoch 94/500\n",
      "1/1 [==============================] - 0s 31ms/step - loss: nan - sparse_categorical_accuracy: 0.1000\n",
      "Epoch 95/500\n",
      "1/1 [==============================] - 0s 30ms/step - loss: nan - sparse_categorical_accuracy: 0.1000\n",
      "Epoch 96/500\n",
      "1/1 [==============================] - 0s 30ms/step - loss: nan - sparse_categorical_accuracy: 0.1000\n",
      "Epoch 97/500\n",
      "1/1 [==============================] - 0s 31ms/step - loss: nan - sparse_categorical_accuracy: 0.1000\n",
      "Epoch 98/500\n",
      "1/1 [==============================] - 0s 30ms/step - loss: nan - sparse_categorical_accuracy: 0.1000\n",
      "Epoch 99/500\n",
      "1/1 [==============================] - 0s 29ms/step - loss: nan - sparse_categorical_accuracy: 0.1000\n",
      "Epoch 100/500\n",
      "1/1 [==============================] - 0s 30ms/step - loss: nan - sparse_categorical_accuracy: 0.1000\n",
      "Epoch 101/500\n",
      "1/1 [==============================] - 0s 26ms/step - loss: nan - sparse_categorical_accuracy: 0.1000\n",
      "Epoch 102/500\n",
      "1/1 [==============================] - 0s 28ms/step - loss: nan - sparse_categorical_accuracy: 0.1000\n",
      "Epoch 103/500\n",
      "1/1 [==============================] - 0s 31ms/step - loss: nan - sparse_categorical_accuracy: 0.1000\n",
      "Epoch 104/500\n",
      "1/1 [==============================] - 0s 27ms/step - loss: nan - sparse_categorical_accuracy: 0.1000\n",
      "Epoch 105/500\n",
      "1/1 [==============================] - 0s 27ms/step - loss: nan - sparse_categorical_accuracy: 0.1000\n",
      "Epoch 106/500\n",
      "1/1 [==============================] - 0s 30ms/step - loss: nan - sparse_categorical_accuracy: 0.1000\n",
      "Epoch 107/500\n",
      "1/1 [==============================] - 0s 28ms/step - loss: nan - sparse_categorical_accuracy: 0.1000\n",
      "Epoch 108/500\n",
      "1/1 [==============================] - 0s 29ms/step - loss: nan - sparse_categorical_accuracy: 0.1000\n",
      "Epoch 109/500\n",
      "1/1 [==============================] - 0s 31ms/step - loss: nan - sparse_categorical_accuracy: 0.1000\n",
      "Epoch 110/500\n",
      "1/1 [==============================] - 0s 29ms/step - loss: nan - sparse_categorical_accuracy: 0.1000\n",
      "Epoch 111/500\n",
      "1/1 [==============================] - 0s 27ms/step - loss: nan - sparse_categorical_accuracy: 0.1000\n",
      "Epoch 112/500\n",
      "1/1 [==============================] - 0s 27ms/step - loss: nan - sparse_categorical_accuracy: 0.1000\n",
      "Epoch 113/500\n",
      "1/1 [==============================] - 0s 28ms/step - loss: nan - sparse_categorical_accuracy: 0.1000\n",
      "Epoch 114/500\n",
      "1/1 [==============================] - 0s 28ms/step - loss: nan - sparse_categorical_accuracy: 0.1000\n",
      "Epoch 115/500\n"
     ]
    },
    {
     "ename": "KeyboardInterrupt",
     "evalue": "",
     "output_type": "error",
     "traceback": [
      "\u001b[0;31m---------------------------------------------------------------------------\u001b[0m",
      "\u001b[0;31mKeyboardInterrupt\u001b[0m                         Traceback (most recent call last)",
      "Input \u001b[0;32mIn [23]\u001b[0m, in \u001b[0;36m<cell line: 1>\u001b[0;34m()\u001b[0m\n\u001b[0;32m----> 1\u001b[0m history \u001b[38;5;241m=\u001b[39m \u001b[43mmodel\u001b[49m\u001b[38;5;241;43m.\u001b[39;49m\u001b[43mfit\u001b[49m\u001b[43m(\u001b[49m\u001b[43mx\u001b[49m\u001b[43m,\u001b[49m\u001b[43m \u001b[49m\u001b[43my\u001b[49m\u001b[43m,\u001b[49m\u001b[43m \u001b[49m\u001b[43mepochs\u001b[49m\u001b[38;5;241;43m=\u001b[39;49m\u001b[43mepochs\u001b[49m\u001b[43m,\u001b[49m\u001b[43m \u001b[49m\u001b[43mverbose\u001b[49m\u001b[38;5;241;43m=\u001b[39;49m\u001b[38;5;241;43m1\u001b[39;49m\u001b[43m,\u001b[49m\u001b[43m)\u001b[49m\n",
      "File \u001b[0;32m/opt/conda/lib/python3.10/site-packages/keras/utils/traceback_utils.py:64\u001b[0m, in \u001b[0;36mfilter_traceback.<locals>.error_handler\u001b[0;34m(*args, **kwargs)\u001b[0m\n\u001b[1;32m     62\u001b[0m filtered_tb \u001b[38;5;241m=\u001b[39m \u001b[38;5;28;01mNone\u001b[39;00m\n\u001b[1;32m     63\u001b[0m \u001b[38;5;28;01mtry\u001b[39;00m:\n\u001b[0;32m---> 64\u001b[0m   \u001b[38;5;28;01mreturn\u001b[39;00m \u001b[43mfn\u001b[49m\u001b[43m(\u001b[49m\u001b[38;5;241;43m*\u001b[39;49m\u001b[43margs\u001b[49m\u001b[43m,\u001b[49m\u001b[43m \u001b[49m\u001b[38;5;241;43m*\u001b[39;49m\u001b[38;5;241;43m*\u001b[39;49m\u001b[43mkwargs\u001b[49m\u001b[43m)\u001b[49m\n\u001b[1;32m     65\u001b[0m \u001b[38;5;28;01mexcept\u001b[39;00m \u001b[38;5;167;01mException\u001b[39;00m \u001b[38;5;28;01mas\u001b[39;00m e:  \u001b[38;5;66;03m# pylint: disable=broad-except\u001b[39;00m\n\u001b[1;32m     66\u001b[0m   filtered_tb \u001b[38;5;241m=\u001b[39m _process_traceback_frames(e\u001b[38;5;241m.\u001b[39m__traceback__)\n",
      "File \u001b[0;32m/opt/conda/lib/python3.10/site-packages/keras/engine/training.py:1384\u001b[0m, in \u001b[0;36mModel.fit\u001b[0;34m(self, x, y, batch_size, epochs, verbose, callbacks, validation_split, validation_data, shuffle, class_weight, sample_weight, initial_epoch, steps_per_epoch, validation_steps, validation_batch_size, validation_freq, max_queue_size, workers, use_multiprocessing)\u001b[0m\n\u001b[1;32m   1377\u001b[0m \u001b[38;5;28;01mwith\u001b[39;00m tf\u001b[38;5;241m.\u001b[39mprofiler\u001b[38;5;241m.\u001b[39mexperimental\u001b[38;5;241m.\u001b[39mTrace(\n\u001b[1;32m   1378\u001b[0m     \u001b[38;5;124m'\u001b[39m\u001b[38;5;124mtrain\u001b[39m\u001b[38;5;124m'\u001b[39m,\n\u001b[1;32m   1379\u001b[0m     epoch_num\u001b[38;5;241m=\u001b[39mepoch,\n\u001b[1;32m   1380\u001b[0m     step_num\u001b[38;5;241m=\u001b[39mstep,\n\u001b[1;32m   1381\u001b[0m     batch_size\u001b[38;5;241m=\u001b[39mbatch_size,\n\u001b[1;32m   1382\u001b[0m     _r\u001b[38;5;241m=\u001b[39m\u001b[38;5;241m1\u001b[39m):\n\u001b[1;32m   1383\u001b[0m   callbacks\u001b[38;5;241m.\u001b[39mon_train_batch_begin(step)\n\u001b[0;32m-> 1384\u001b[0m   tmp_logs \u001b[38;5;241m=\u001b[39m \u001b[38;5;28;43mself\u001b[39;49m\u001b[38;5;241;43m.\u001b[39;49m\u001b[43mtrain_function\u001b[49m\u001b[43m(\u001b[49m\u001b[43miterator\u001b[49m\u001b[43m)\u001b[49m\n\u001b[1;32m   1385\u001b[0m   \u001b[38;5;28;01mif\u001b[39;00m data_handler\u001b[38;5;241m.\u001b[39mshould_sync:\n\u001b[1;32m   1386\u001b[0m     context\u001b[38;5;241m.\u001b[39masync_wait()\n",
      "File \u001b[0;32m/opt/conda/lib/python3.10/site-packages/tensorflow/python/util/traceback_utils.py:150\u001b[0m, in \u001b[0;36mfilter_traceback.<locals>.error_handler\u001b[0;34m(*args, **kwargs)\u001b[0m\n\u001b[1;32m    148\u001b[0m filtered_tb \u001b[38;5;241m=\u001b[39m \u001b[38;5;28;01mNone\u001b[39;00m\n\u001b[1;32m    149\u001b[0m \u001b[38;5;28;01mtry\u001b[39;00m:\n\u001b[0;32m--> 150\u001b[0m   \u001b[38;5;28;01mreturn\u001b[39;00m \u001b[43mfn\u001b[49m\u001b[43m(\u001b[49m\u001b[38;5;241;43m*\u001b[39;49m\u001b[43margs\u001b[49m\u001b[43m,\u001b[49m\u001b[43m \u001b[49m\u001b[38;5;241;43m*\u001b[39;49m\u001b[38;5;241;43m*\u001b[39;49m\u001b[43mkwargs\u001b[49m\u001b[43m)\u001b[49m\n\u001b[1;32m    151\u001b[0m \u001b[38;5;28;01mexcept\u001b[39;00m \u001b[38;5;167;01mException\u001b[39;00m \u001b[38;5;28;01mas\u001b[39;00m e:\n\u001b[1;32m    152\u001b[0m   filtered_tb \u001b[38;5;241m=\u001b[39m _process_traceback_frames(e\u001b[38;5;241m.\u001b[39m__traceback__)\n",
      "File \u001b[0;32m/opt/conda/lib/python3.10/site-packages/tensorflow/python/eager/def_function.py:915\u001b[0m, in \u001b[0;36mFunction.__call__\u001b[0;34m(self, *args, **kwds)\u001b[0m\n\u001b[1;32m    912\u001b[0m compiler \u001b[38;5;241m=\u001b[39m \u001b[38;5;124m\"\u001b[39m\u001b[38;5;124mxla\u001b[39m\u001b[38;5;124m\"\u001b[39m \u001b[38;5;28;01mif\u001b[39;00m \u001b[38;5;28mself\u001b[39m\u001b[38;5;241m.\u001b[39m_jit_compile \u001b[38;5;28;01melse\u001b[39;00m \u001b[38;5;124m\"\u001b[39m\u001b[38;5;124mnonXla\u001b[39m\u001b[38;5;124m\"\u001b[39m\n\u001b[1;32m    914\u001b[0m \u001b[38;5;28;01mwith\u001b[39;00m OptionalXlaContext(\u001b[38;5;28mself\u001b[39m\u001b[38;5;241m.\u001b[39m_jit_compile):\n\u001b[0;32m--> 915\u001b[0m   result \u001b[38;5;241m=\u001b[39m \u001b[38;5;28;43mself\u001b[39;49m\u001b[38;5;241;43m.\u001b[39;49m\u001b[43m_call\u001b[49m\u001b[43m(\u001b[49m\u001b[38;5;241;43m*\u001b[39;49m\u001b[43margs\u001b[49m\u001b[43m,\u001b[49m\u001b[43m \u001b[49m\u001b[38;5;241;43m*\u001b[39;49m\u001b[38;5;241;43m*\u001b[39;49m\u001b[43mkwds\u001b[49m\u001b[43m)\u001b[49m\n\u001b[1;32m    917\u001b[0m new_tracing_count \u001b[38;5;241m=\u001b[39m \u001b[38;5;28mself\u001b[39m\u001b[38;5;241m.\u001b[39mexperimental_get_tracing_count()\n\u001b[1;32m    918\u001b[0m without_tracing \u001b[38;5;241m=\u001b[39m (tracing_count \u001b[38;5;241m==\u001b[39m new_tracing_count)\n",
      "File \u001b[0;32m/opt/conda/lib/python3.10/site-packages/tensorflow/python/eager/def_function.py:947\u001b[0m, in \u001b[0;36mFunction._call\u001b[0;34m(self, *args, **kwds)\u001b[0m\n\u001b[1;32m    944\u001b[0m   \u001b[38;5;28mself\u001b[39m\u001b[38;5;241m.\u001b[39m_lock\u001b[38;5;241m.\u001b[39mrelease()\n\u001b[1;32m    945\u001b[0m   \u001b[38;5;66;03m# In this case we have created variables on the first call, so we run the\u001b[39;00m\n\u001b[1;32m    946\u001b[0m   \u001b[38;5;66;03m# defunned version which is guaranteed to never create variables.\u001b[39;00m\n\u001b[0;32m--> 947\u001b[0m   \u001b[38;5;28;01mreturn\u001b[39;00m \u001b[38;5;28;43mself\u001b[39;49m\u001b[38;5;241;43m.\u001b[39;49m\u001b[43m_stateless_fn\u001b[49m\u001b[43m(\u001b[49m\u001b[38;5;241;43m*\u001b[39;49m\u001b[43margs\u001b[49m\u001b[43m,\u001b[49m\u001b[43m \u001b[49m\u001b[38;5;241;43m*\u001b[39;49m\u001b[38;5;241;43m*\u001b[39;49m\u001b[43mkwds\u001b[49m\u001b[43m)\u001b[49m  \u001b[38;5;66;03m# pylint: disable=not-callable\u001b[39;00m\n\u001b[1;32m    948\u001b[0m \u001b[38;5;28;01melif\u001b[39;00m \u001b[38;5;28mself\u001b[39m\u001b[38;5;241m.\u001b[39m_stateful_fn \u001b[38;5;129;01mis\u001b[39;00m \u001b[38;5;129;01mnot\u001b[39;00m \u001b[38;5;28;01mNone\u001b[39;00m:\n\u001b[1;32m    949\u001b[0m   \u001b[38;5;66;03m# Release the lock early so that multiple threads can perform the call\u001b[39;00m\n\u001b[1;32m    950\u001b[0m   \u001b[38;5;66;03m# in parallel.\u001b[39;00m\n\u001b[1;32m    951\u001b[0m   \u001b[38;5;28mself\u001b[39m\u001b[38;5;241m.\u001b[39m_lock\u001b[38;5;241m.\u001b[39mrelease()\n",
      "File \u001b[0;32m/opt/conda/lib/python3.10/site-packages/tensorflow/python/eager/function.py:2956\u001b[0m, in \u001b[0;36mFunction.__call__\u001b[0;34m(self, *args, **kwargs)\u001b[0m\n\u001b[1;32m   2953\u001b[0m \u001b[38;5;28;01mwith\u001b[39;00m \u001b[38;5;28mself\u001b[39m\u001b[38;5;241m.\u001b[39m_lock:\n\u001b[1;32m   2954\u001b[0m   (graph_function,\n\u001b[1;32m   2955\u001b[0m    filtered_flat_args) \u001b[38;5;241m=\u001b[39m \u001b[38;5;28mself\u001b[39m\u001b[38;5;241m.\u001b[39m_maybe_define_function(args, kwargs)\n\u001b[0;32m-> 2956\u001b[0m \u001b[38;5;28;01mreturn\u001b[39;00m \u001b[43mgraph_function\u001b[49m\u001b[38;5;241;43m.\u001b[39;49m\u001b[43m_call_flat\u001b[49m\u001b[43m(\u001b[49m\n\u001b[1;32m   2957\u001b[0m \u001b[43m    \u001b[49m\u001b[43mfiltered_flat_args\u001b[49m\u001b[43m,\u001b[49m\u001b[43m \u001b[49m\u001b[43mcaptured_inputs\u001b[49m\u001b[38;5;241;43m=\u001b[39;49m\u001b[43mgraph_function\u001b[49m\u001b[38;5;241;43m.\u001b[39;49m\u001b[43mcaptured_inputs\u001b[49m\u001b[43m)\u001b[49m\n",
      "File \u001b[0;32m/opt/conda/lib/python3.10/site-packages/tensorflow/python/eager/function.py:1853\u001b[0m, in \u001b[0;36mConcreteFunction._call_flat\u001b[0;34m(self, args, captured_inputs, cancellation_manager)\u001b[0m\n\u001b[1;32m   1849\u001b[0m possible_gradient_type \u001b[38;5;241m=\u001b[39m gradients_util\u001b[38;5;241m.\u001b[39mPossibleTapeGradientTypes(args)\n\u001b[1;32m   1850\u001b[0m \u001b[38;5;28;01mif\u001b[39;00m (possible_gradient_type \u001b[38;5;241m==\u001b[39m gradients_util\u001b[38;5;241m.\u001b[39mPOSSIBLE_GRADIENT_TYPES_NONE\n\u001b[1;32m   1851\u001b[0m     \u001b[38;5;129;01mand\u001b[39;00m executing_eagerly):\n\u001b[1;32m   1852\u001b[0m   \u001b[38;5;66;03m# No tape is watching; skip to running the function.\u001b[39;00m\n\u001b[0;32m-> 1853\u001b[0m   \u001b[38;5;28;01mreturn\u001b[39;00m \u001b[38;5;28mself\u001b[39m\u001b[38;5;241m.\u001b[39m_build_call_outputs(\u001b[38;5;28;43mself\u001b[39;49m\u001b[38;5;241;43m.\u001b[39;49m\u001b[43m_inference_function\u001b[49m\u001b[38;5;241;43m.\u001b[39;49m\u001b[43mcall\u001b[49m\u001b[43m(\u001b[49m\n\u001b[1;32m   1854\u001b[0m \u001b[43m      \u001b[49m\u001b[43mctx\u001b[49m\u001b[43m,\u001b[49m\u001b[43m \u001b[49m\u001b[43margs\u001b[49m\u001b[43m,\u001b[49m\u001b[43m \u001b[49m\u001b[43mcancellation_manager\u001b[49m\u001b[38;5;241;43m=\u001b[39;49m\u001b[43mcancellation_manager\u001b[49m\u001b[43m)\u001b[49m)\n\u001b[1;32m   1855\u001b[0m forward_backward \u001b[38;5;241m=\u001b[39m \u001b[38;5;28mself\u001b[39m\u001b[38;5;241m.\u001b[39m_select_forward_and_backward_functions(\n\u001b[1;32m   1856\u001b[0m     args,\n\u001b[1;32m   1857\u001b[0m     possible_gradient_type,\n\u001b[1;32m   1858\u001b[0m     executing_eagerly)\n\u001b[1;32m   1859\u001b[0m forward_function, args_with_tangents \u001b[38;5;241m=\u001b[39m forward_backward\u001b[38;5;241m.\u001b[39mforward()\n",
      "File \u001b[0;32m/opt/conda/lib/python3.10/site-packages/tensorflow/python/eager/function.py:499\u001b[0m, in \u001b[0;36m_EagerDefinedFunction.call\u001b[0;34m(self, ctx, args, cancellation_manager)\u001b[0m\n\u001b[1;32m    497\u001b[0m \u001b[38;5;28;01mwith\u001b[39;00m _InterpolateFunctionError(\u001b[38;5;28mself\u001b[39m):\n\u001b[1;32m    498\u001b[0m   \u001b[38;5;28;01mif\u001b[39;00m cancellation_manager \u001b[38;5;129;01mis\u001b[39;00m \u001b[38;5;28;01mNone\u001b[39;00m:\n\u001b[0;32m--> 499\u001b[0m     outputs \u001b[38;5;241m=\u001b[39m \u001b[43mexecute\u001b[49m\u001b[38;5;241;43m.\u001b[39;49m\u001b[43mexecute\u001b[49m\u001b[43m(\u001b[49m\n\u001b[1;32m    500\u001b[0m \u001b[43m        \u001b[49m\u001b[38;5;28;43mstr\u001b[39;49m\u001b[43m(\u001b[49m\u001b[38;5;28;43mself\u001b[39;49m\u001b[38;5;241;43m.\u001b[39;49m\u001b[43msignature\u001b[49m\u001b[38;5;241;43m.\u001b[39;49m\u001b[43mname\u001b[49m\u001b[43m)\u001b[49m\u001b[43m,\u001b[49m\n\u001b[1;32m    501\u001b[0m \u001b[43m        \u001b[49m\u001b[43mnum_outputs\u001b[49m\u001b[38;5;241;43m=\u001b[39;49m\u001b[38;5;28;43mself\u001b[39;49m\u001b[38;5;241;43m.\u001b[39;49m\u001b[43m_num_outputs\u001b[49m\u001b[43m,\u001b[49m\n\u001b[1;32m    502\u001b[0m \u001b[43m        \u001b[49m\u001b[43minputs\u001b[49m\u001b[38;5;241;43m=\u001b[39;49m\u001b[43margs\u001b[49m\u001b[43m,\u001b[49m\n\u001b[1;32m    503\u001b[0m \u001b[43m        \u001b[49m\u001b[43mattrs\u001b[49m\u001b[38;5;241;43m=\u001b[39;49m\u001b[43mattrs\u001b[49m\u001b[43m,\u001b[49m\n\u001b[1;32m    504\u001b[0m \u001b[43m        \u001b[49m\u001b[43mctx\u001b[49m\u001b[38;5;241;43m=\u001b[39;49m\u001b[43mctx\u001b[49m\u001b[43m)\u001b[49m\n\u001b[1;32m    505\u001b[0m   \u001b[38;5;28;01melse\u001b[39;00m:\n\u001b[1;32m    506\u001b[0m     outputs \u001b[38;5;241m=\u001b[39m execute\u001b[38;5;241m.\u001b[39mexecute_with_cancellation(\n\u001b[1;32m    507\u001b[0m         \u001b[38;5;28mstr\u001b[39m(\u001b[38;5;28mself\u001b[39m\u001b[38;5;241m.\u001b[39msignature\u001b[38;5;241m.\u001b[39mname),\n\u001b[1;32m    508\u001b[0m         num_outputs\u001b[38;5;241m=\u001b[39m\u001b[38;5;28mself\u001b[39m\u001b[38;5;241m.\u001b[39m_num_outputs,\n\u001b[0;32m   (...)\u001b[0m\n\u001b[1;32m    511\u001b[0m         ctx\u001b[38;5;241m=\u001b[39mctx,\n\u001b[1;32m    512\u001b[0m         cancellation_manager\u001b[38;5;241m=\u001b[39mcancellation_manager)\n",
      "File \u001b[0;32m/opt/conda/lib/python3.10/site-packages/tensorflow/python/eager/execute.py:54\u001b[0m, in \u001b[0;36mquick_execute\u001b[0;34m(op_name, num_outputs, inputs, attrs, ctx, name)\u001b[0m\n\u001b[1;32m     52\u001b[0m \u001b[38;5;28;01mtry\u001b[39;00m:\n\u001b[1;32m     53\u001b[0m   ctx\u001b[38;5;241m.\u001b[39mensure_initialized()\n\u001b[0;32m---> 54\u001b[0m   tensors \u001b[38;5;241m=\u001b[39m \u001b[43mpywrap_tfe\u001b[49m\u001b[38;5;241;43m.\u001b[39;49m\u001b[43mTFE_Py_Execute\u001b[49m\u001b[43m(\u001b[49m\u001b[43mctx\u001b[49m\u001b[38;5;241;43m.\u001b[39;49m\u001b[43m_handle\u001b[49m\u001b[43m,\u001b[49m\u001b[43m \u001b[49m\u001b[43mdevice_name\u001b[49m\u001b[43m,\u001b[49m\u001b[43m \u001b[49m\u001b[43mop_name\u001b[49m\u001b[43m,\u001b[49m\n\u001b[1;32m     55\u001b[0m \u001b[43m                                      \u001b[49m\u001b[43minputs\u001b[49m\u001b[43m,\u001b[49m\u001b[43m \u001b[49m\u001b[43mattrs\u001b[49m\u001b[43m,\u001b[49m\u001b[43m \u001b[49m\u001b[43mnum_outputs\u001b[49m\u001b[43m)\u001b[49m\n\u001b[1;32m     56\u001b[0m \u001b[38;5;28;01mexcept\u001b[39;00m core\u001b[38;5;241m.\u001b[39m_NotOkStatusException \u001b[38;5;28;01mas\u001b[39;00m e:\n\u001b[1;32m     57\u001b[0m   \u001b[38;5;28;01mif\u001b[39;00m name \u001b[38;5;129;01mis\u001b[39;00m \u001b[38;5;129;01mnot\u001b[39;00m \u001b[38;5;28;01mNone\u001b[39;00m:\n",
      "\u001b[0;31mKeyboardInterrupt\u001b[0m: "
     ]
    }
   ],
   "source": [
    "history = model.fit(x, y, epochs=epochs, verbose=1,)"
   ]
  },
  {
   "cell_type": "code",
   "execution_count": null,
   "id": "75fc47b4-eee0-428d-945b-24ef77d8ee5f",
   "metadata": {},
   "outputs": [],
   "source": [
    "x[:3]"
   ]
  },
  {
   "cell_type": "code",
   "execution_count": null,
   "id": "24bd2958-2de6-47d4-9066-5f42c7de1264",
   "metadata": {},
   "outputs": [],
   "source": [
    "model.predict(x[:10])"
   ]
  },
  {
   "cell_type": "code",
   "execution_count": null,
   "id": "1d7dc3ac-b353-4f68-a788-0ebe3cc2763d",
   "metadata": {},
   "outputs": [],
   "source": []
  }
 ],
 "metadata": {
  "interpreter": {
   "hash": "d4d1e4263499bec80672ea0156c357c1ee493ec2b1c70f0acce89fc37c4a6abe"
  },
  "kernelspec": {
   "display_name": "Python 3 (ipykernel)",
   "language": "python",
   "name": "python3"
  },
  "language_info": {
   "codemirror_mode": {
    "name": "ipython",
    "version": 3
   },
   "file_extension": ".py",
   "mimetype": "text/x-python",
   "name": "python",
   "nbconvert_exporter": "python",
   "pygments_lexer": "ipython3",
   "version": "3.10.5"
  },
  "toc-autonumbering": false,
  "toc-showmarkdowntxt": true,
  "toc-showtags": false
 },
 "nbformat": 4,
 "nbformat_minor": 5
}

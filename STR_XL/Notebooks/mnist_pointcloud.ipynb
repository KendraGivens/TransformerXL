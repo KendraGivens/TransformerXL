{
 "cells": [
  {
   "cell_type": "markdown",
   "id": "fbec5590",
   "metadata": {
    "tags": []
   },
   "source": [
    "# MNIST Point Cloud Classification\n",
    "\n",
    "This task attempts to classify a set of 2D-points in the shape of a number. Using the MNIST dataset, point clouds are generated with a random number of points.\n",
    "\n",
    "**Note:** the datasets are not included in this repository. Instead, they need to be generated using the [MNIST Point Cloud](https://github.com/DLii-Research/mnist-pointcloud) library."
   ]
  },
  {
   "cell_type": "code",
   "execution_count": 1,
   "id": "f1af3a40",
   "metadata": {},
   "outputs": [],
   "source": [
    "import matplotlib.pyplot as plt\n",
    "import numpy as np\n",
    "import tensorflow as tf\n",
    "import tensorflow.keras as keras\n",
    "\n",
    "import settransformer as stf"
   ]
  },
  {
   "cell_type": "markdown",
   "id": "98192acd",
   "metadata": {},
   "source": [
    "## Strategy\n",
    "\n",
    "Grab the appropriate compute device(s)."
   ]
  },
  {
   "cell_type": "code",
   "execution_count": 2,
   "id": "5f566b62",
   "metadata": {},
   "outputs": [],
   "source": [
    "DEVICE = \"gpu:0\"\n",
    "MULTI_GPU = False"
   ]
  },
  {
   "cell_type": "code",
   "execution_count": 3,
   "id": "bc1770bb",
   "metadata": {},
   "outputs": [
    {
     "name": "stderr",
     "output_type": "stream",
     "text": [
      "2022-06-09 04:44:15.656334: I tensorflow/stream_executor/cuda/cuda_gpu_executor.cc:939] successful NUMA node read from SysFS had negative value (-1), but there must be at least one NUMA node, so returning NUMA node zero\n",
      "2022-06-09 04:44:15.656600: I tensorflow/stream_executor/cuda/cuda_gpu_executor.cc:939] successful NUMA node read from SysFS had negative value (-1), but there must be at least one NUMA node, so returning NUMA node zero\n",
      "2022-06-09 04:44:15.663469: I tensorflow/stream_executor/cuda/cuda_gpu_executor.cc:939] successful NUMA node read from SysFS had negative value (-1), but there must be at least one NUMA node, so returning NUMA node zero\n",
      "2022-06-09 04:44:15.663681: I tensorflow/stream_executor/cuda/cuda_gpu_executor.cc:939] successful NUMA node read from SysFS had negative value (-1), but there must be at least one NUMA node, so returning NUMA node zero\n",
      "2022-06-09 04:44:15.663848: I tensorflow/stream_executor/cuda/cuda_gpu_executor.cc:939] successful NUMA node read from SysFS had negative value (-1), but there must be at least one NUMA node, so returning NUMA node zero\n",
      "2022-06-09 04:44:15.664006: I tensorflow/stream_executor/cuda/cuda_gpu_executor.cc:939] successful NUMA node read from SysFS had negative value (-1), but there must be at least one NUMA node, so returning NUMA node zero\n",
      "2022-06-09 04:44:15.664834: I tensorflow/core/platform/cpu_feature_guard.cc:151] This TensorFlow binary is optimized with oneAPI Deep Neural Network Library (oneDNN) to use the following CPU instructions in performance-critical operations:  SSE4.1 SSE4.2 AVX AVX2 FMA\n",
      "To enable them in other operations, rebuild TensorFlow with the appropriate compiler flags.\n",
      "2022-06-09 04:44:15.881867: I tensorflow/stream_executor/cuda/cuda_gpu_executor.cc:939] successful NUMA node read from SysFS had negative value (-1), but there must be at least one NUMA node, so returning NUMA node zero\n",
      "2022-06-09 04:44:15.882065: I tensorflow/stream_executor/cuda/cuda_gpu_executor.cc:939] successful NUMA node read from SysFS had negative value (-1), but there must be at least one NUMA node, so returning NUMA node zero\n",
      "2022-06-09 04:44:15.882232: I tensorflow/stream_executor/cuda/cuda_gpu_executor.cc:939] successful NUMA node read from SysFS had negative value (-1), but there must be at least one NUMA node, so returning NUMA node zero\n",
      "2022-06-09 04:44:15.882382: I tensorflow/stream_executor/cuda/cuda_gpu_executor.cc:939] successful NUMA node read from SysFS had negative value (-1), but there must be at least one NUMA node, so returning NUMA node zero\n",
      "2022-06-09 04:44:15.882530: I tensorflow/stream_executor/cuda/cuda_gpu_executor.cc:939] successful NUMA node read from SysFS had negative value (-1), but there must be at least one NUMA node, so returning NUMA node zero\n",
      "2022-06-09 04:44:15.882678: I tensorflow/stream_executor/cuda/cuda_gpu_executor.cc:939] successful NUMA node read from SysFS had negative value (-1), but there must be at least one NUMA node, so returning NUMA node zero\n",
      "2022-06-09 04:44:16.686477: I tensorflow/stream_executor/cuda/cuda_gpu_executor.cc:939] successful NUMA node read from SysFS had negative value (-1), but there must be at least one NUMA node, so returning NUMA node zero\n",
      "2022-06-09 04:44:16.686700: I tensorflow/stream_executor/cuda/cuda_gpu_executor.cc:939] successful NUMA node read from SysFS had negative value (-1), but there must be at least one NUMA node, so returning NUMA node zero\n",
      "2022-06-09 04:44:16.686869: I tensorflow/stream_executor/cuda/cuda_gpu_executor.cc:939] successful NUMA node read from SysFS had negative value (-1), but there must be at least one NUMA node, so returning NUMA node zero\n",
      "2022-06-09 04:44:16.687032: I tensorflow/stream_executor/cuda/cuda_gpu_executor.cc:939] successful NUMA node read from SysFS had negative value (-1), but there must be at least one NUMA node, so returning NUMA node zero\n",
      "2022-06-09 04:44:16.687194: I tensorflow/stream_executor/cuda/cuda_gpu_executor.cc:939] successful NUMA node read from SysFS had negative value (-1), but there must be at least one NUMA node, so returning NUMA node zero\n",
      "2022-06-09 04:44:16.687347: I tensorflow/core/common_runtime/gpu/gpu_device.cc:1525] Created device /job:localhost/replica:0/task:0/device:GPU:0 with 22284 MB memory:  -> device: 0, name: NVIDIA GeForce RTX 3090, pci bus id: 0000:01:00.0, compute capability: 8.6\n",
      "2022-06-09 04:44:16.687634: I tensorflow/stream_executor/cuda/cuda_gpu_executor.cc:939] successful NUMA node read from SysFS had negative value (-1), but there must be at least one NUMA node, so returning NUMA node zero\n",
      "2022-06-09 04:44:16.687769: I tensorflow/core/common_runtime/gpu/gpu_device.cc:1525] Created device /job:localhost/replica:0/task:0/device:GPU:1 with 551 MB memory:  -> device: 1, name: NVIDIA GeForce RTX 3090, pci bus id: 0000:21:00.0, compute capability: 8.6\n"
     ]
    }
   ],
   "source": [
    "if MULTI_GPU:\n",
    "    strategy = tf.distribute.MirroredStrategy()\n",
    "else:\n",
    "    strategy = tf.distribute.OneDeviceStrategy(DEVICE)"
   ]
  },
  {
   "cell_type": "markdown",
   "id": "4a40de3c",
   "metadata": {},
   "source": [
    "## MNIST dataset"
   ]
  },
  {
   "cell_type": "code",
   "execution_count": 4,
   "id": "0761351f",
   "metadata": {},
   "outputs": [],
   "source": [
    "(x_train, y_train), (x_test, y_test) = keras.datasets.mnist.load_data()"
   ]
  },
  {
   "cell_type": "code",
   "execution_count": 5,
   "id": "2c2f95fa",
   "metadata": {},
   "outputs": [
    {
     "name": "stdout",
     "output_type": "stream",
     "text": [
      "(60000, 28, 28) (60000,)\n"
     ]
    }
   ],
   "source": [
    "print(x_train.shape, y_train.shape)"
   ]
  },
  {
   "cell_type": "code",
   "execution_count": 6,
   "id": "d3a5e9aa",
   "metadata": {},
   "outputs": [
    {
     "name": "stdout",
     "output_type": "stream",
     "text": [
      "(10000, 28, 28) (10000,)\n"
     ]
    }
   ],
   "source": [
    "print(x_test.shape, y_test.shape)"
   ]
  },
  {
   "cell_type": "code",
   "execution_count": 7,
   "id": "5b039b36",
   "metadata": {},
   "outputs": [
    {
     "data": {
      "text/plain": [
       "<matplotlib.image.AxesImage at 0x7fce4c0a75e0>"
      ]
     },
     "execution_count": 7,
     "metadata": {},
     "output_type": "execute_result"
    },
    {
     "data": {
      "image/png": "[encoded data removed]",
      "text/plain": [
       "<Figure size 432x288 with 1 Axes>"
      ]
     },
     "metadata": {
      "needs_background": "light"
     },
     "output_type": "display_data"
    }
   ],
   "source": [
    "plt.imshow(x_train[0])"
   ]
  },
  {
   "cell_type": "markdown",
   "id": "aad0e64b",
   "metadata": {},
   "source": [
    "## MNIST Point Cloud Generation"
   ]
  },
  {
   "cell_type": "code",
   "execution_count": 8,
   "id": "64acb8b5",
   "metadata": {},
   "outputs": [],
   "source": [
    "class MnistPointCloudGenerator(keras.utils.Sequence):\n",
    "\n",
    "    def __init__(self, x, y=None, num_points=1000, batch_size=32, threshold=70, shuffle=True, rng=None):\n",
    "        self.x = x\n",
    "        self.y = y.astype(np.int32) if y is not None else None\n",
    "        self.num_points = num_points\n",
    "        self.batch_size = batch_size if batch_size is not None else len(x)\n",
    "        self.threshold = threshold\n",
    "        self.should_shuffle = shuffle\n",
    "        self.rng = rng if rng is not None else np.random.default_rng()\n",
    "\n",
    "        self.num_batches = len(self.x) // self.batch_size\n",
    "\n",
    "        self.init()\n",
    "        self.shuffle()\n",
    "\n",
    "    def init(self):\n",
    "        img_ids, y_pixels, x_pixels = np.nonzero(self.x > self.threshold)\n",
    "        self.pixels = (np.column_stack((x_pixels, 28 - y_pixels)) - 13.5) / 13.5\n",
    "        _, self.pixel_counts = np.unique(img_ids, return_counts=True)\n",
    "        self.pixel_offsets = np.concatenate(([0], np.cumsum(self.pixel_counts)))\n",
    "\n",
    "    def shuffle(self):\n",
    "        # Randomize the order of the images\n",
    "        num_elems = self.num_batches*self.batch_size\n",
    "        if self.shuffle:\n",
    "            self.indices = np.reshape(self.rng.permutation(len(self.x))[:num_elems], (-1, self.batch_size))\n",
    "        else:\n",
    "            self.indices = np.reshape(np.arange(num_elems), (-1, self.batch_size))\n",
    "\n",
    "        # Select random pixel indices\n",
    "        noise = self.rng.uniform(size=(len(self.x), self.num_points))\n",
    "        self.pixel_indices = (noise * np.reshape(self.pixel_counts, (-1, 1))).astype(np.int64) \\\n",
    "                           + np.reshape(self.pixel_offsets[:-1], (-1, 1))\n",
    "\n",
    "        # Generate noise for the pixels\n",
    "        self.pixel_noise = self.rng.normal(size=(len(self.x), self.num_points, 2), scale=1/13.5/2)\n",
    "\n",
    "    def __len__(self):\n",
    "        return self.num_batches\n",
    "\n",
    "    def __getitem__(self, batch_index):\n",
    "        indices = self.indices[batch_index]\n",
    "        batch_x = self.pixels[self.pixel_indices[indices]] + self.pixel_noise[indices]\n",
    "        if self.y is not None:\n",
    "            return batch_x, self.y[indices]\n",
    "        return batch_x\n",
    "\n",
    "    def on_epoch_end(self):\n",
    "        self.shuffle()"
   ]
  },
  {
   "cell_type": "code",
   "execution_count": 9,
   "id": "236d778d",
   "metadata": {},
   "outputs": [],
   "source": [
    "dataset = MnistPointCloudGenerator(x_train, y_train)"
   ]
  },
  {
   "cell_type": "code",
   "execution_count": 10,
   "id": "75abc945",
   "metadata": {},
   "outputs": [
    {
     "name": "stdout",
     "output_type": "stream",
     "text": [
      "(32, 1000, 2) (32,)\n"
     ]
    }
   ],
   "source": [
    "point_clouds, labels = dataset[0] # fetch a batch\n",
    "print(point_clouds.shape, labels.shape)"
   ]
  },
  {
   "cell_type": "code",
   "execution_count": 11,
   "id": "c116afc8",
   "metadata": {},
   "outputs": [
    {
     "name": "stdout",
     "output_type": "stream",
     "text": [
      "The digit is a 5\n"
     ]
    },
    {
     "data": {
      "image/png": "[encoded data removed]",
      "text/plain": [
       "<Figure size 216x216 with 1 Axes>"
      ]
     },
     "metadata": {},
     "output_type": "display_data"
    }
   ],
   "source": [
    "index = 1 # the index of the batch to show\n",
    "\n",
    "print(\"The digit is a\", labels[index])\n",
    "\n",
    "plt.figure(figsize=(3, 3))\n",
    "plt.scatter(*point_clouds[index].T, s=1.7)\n",
    "plt.xlim((-1, 1))\n",
    "plt.ylim((-1, 1))\n",
    "plt.xticks([])\n",
    "plt.yticks([])\n",
    "plt.show()"
   ]
  },
  {
   "cell_type": "markdown",
   "id": "86c0f101",
   "metadata": {},
   "source": [
    "## Model Architecture"
   ]
  },
  {
   "cell_type": "code",
   "execution_count": 12,
   "id": "26e46300",
   "metadata": {},
   "outputs": [],
   "source": [
    "def create_model(\n",
    "    embed_dim=64,\n",
    "    num_heads=4,\n",
    "    num_induce=32,\n",
    "    stack=2,\n",
    "    ff_activation=\"gelu\",\n",
    "    dropout=0.5,\n",
    "    use_layernorm=False,\n",
    "    pre_layernorm=False,\n",
    "    use_keras_mha=False\n",
    "):\n",
    "    y = x = keras.layers.Input((None, 2))\n",
    "    y = keras.layers.Dense(embed_dim)(y)\n",
    "    for _ in range(stack):\n",
    "        y = stf.InducedSetAttentionBlock(\n",
    "            embed_dim=embed_dim,\n",
    "            num_heads=num_heads,\n",
    "            num_induce=num_induce,\n",
    "            ff_activation=ff_activation,\n",
    "            use_layernorm=use_layernorm,\n",
    "            pre_layernorm=pre_layernorm,\n",
    "            use_keras_mha=use_keras_mha)(y)\n",
    "    \n",
    "    y = keras.layers.Dropout(dropout)(y)\n",
    "    y = stf.PoolingByMultiHeadAttention(\n",
    "        num_seeds=1,\n",
    "        embed_dim=embed_dim,\n",
    "        num_heads=1,\n",
    "        ff_activation=ff_activation,\n",
    "        use_layernorm=use_layernorm,\n",
    "        pre_layernorm=pre_layernorm,\n",
    "        use_keras_mha=use_keras_mha,\n",
    "        is_final_block=True)(y)\n",
    "    y = keras.layers.Dropout(dropout)(y)\n",
    "    y = keras.layers.Reshape((embed_dim,))(y) # (batch_size, 10)\n",
    "    y = keras.layers.Dense(10)(y)\n",
    "\n",
    "    return keras.Model(x, y)"
   ]
  },
  {
   "cell_type": "markdown",
   "id": "08bdfd86",
   "metadata": {
    "tags": []
   },
   "source": [
    "---\n",
    "## 1000-Element Point Clouds"
   ]
  },
  {
   "cell_type": "markdown",
   "id": "1275db57",
   "metadata": {},
   "source": [
    "### Dataset"
   ]
  },
  {
   "cell_type": "code",
   "execution_count": 13,
   "id": "cc3018c6",
   "metadata": {},
   "outputs": [],
   "source": [
    "split_index = int(0.2*len(x_train))\n",
    "\n",
    "train_dataset = MnistPointCloudGenerator(x_train[split_index:], y_train[split_index:], num_points=1000)\n",
    "val_dataset = MnistPointCloudGenerator(x_train[:split_index], y_train[:split_index], num_points=1000)\n",
    "test_dataset = MnistPointCloudGenerator(x_test, y_test, num_points=1000)\n"
   ]
  },
  {
   "cell_type": "markdown",
   "id": "a6fd3ec7",
   "metadata": {},
   "source": [
    "### Model"
   ]
  },
  {
   "cell_type": "code",
   "execution_count": 14,
   "id": "b40a6763",
   "metadata": {},
   "outputs": [
    {
     "name": "stdout",
     "output_type": "stream",
     "text": [
      "Model: \"model\"\n",
      "_________________________________________________________________\n",
      " Layer (type)                Output Shape              Param #   \n",
      "=================================================================\n",
      " input_1 (InputLayer)        [(None, None, 2)]         0         \n",
      "                                                                 \n",
      " dense (Dense)               (None, None, 64)          192       \n",
      "                                                                 \n",
      " induced_set_attention_block  (None, None, 64)         43648     \n",
      "  (InducedSetAttentionBlock)                                     \n",
      "                                                                 \n",
      " induced_set_attention_block  (None, None, 64)         43648     \n",
      " _1 (InducedSetAttentionBloc                                     \n",
      " k)                                                              \n",
      "                                                                 \n",
      " dropout (Dropout)           (None, None, 64)          0         \n",
      "                                                                 \n",
      " pooling_by_multi_head_atten  (None, 1, 64)            20864     \n",
      " tion (PoolingByMultiHeadAtt                                     \n",
      " ention)                                                         \n",
      "                                                                 \n",
      " dropout_1 (Dropout)         (None, 1, 64)             0         \n",
      "                                                                 \n",
      " reshape (Reshape)           (None, 64)                0         \n",
      "                                                                 \n",
      " dense_26 (Dense)            (None, 10)                650       \n",
      "                                                                 \n",
      "=================================================================\n",
      "Total params: 109,002\n",
      "Trainable params: 109,002\n",
      "Non-trainable params: 0\n",
      "_________________________________________________________________\n"
     ]
    }
   ],
   "source": [
    "with strategy.scope():\n",
    "    model = create_model(use_keras_mha=False, dropout=0.5, stack=2, use_layernorm=False)\n",
    "    model.compile(\n",
    "        optimizer=keras.optimizers.Adam(1e-3),\n",
    "        loss=keras.losses.SparseCategoricalCrossentropy(from_logits=True),\n",
    "        metrics=keras.metrics.SparseCategoricalAccuracy()\n",
    "    )\n",
    "    model.summary()"
   ]
  },
  {
   "cell_type": "markdown",
   "id": "733319d3",
   "metadata": {},
   "source": [
    "### Training"
   ]
  },
  {
   "cell_type": "code",
   "execution_count": 15,
   "id": "048008bc",
   "metadata": {},
   "outputs": [
    {
     "name": "stderr",
     "output_type": "stream",
     "text": [
      "2022-06-09 04:44:24.886868: W tensorflow/core/grappler/optimizers/data/auto_shard.cc:766] AUTO sharding policy will apply DATA sharding policy as it failed to apply FILE sharding policy because of the following reason: Did not find a shardable source, walked to a node which is not a dataset: name: \"FlatMapDataset/_2\"\n",
      "op: \"FlatMapDataset\"\n",
      "input: \"TensorDataset/_1\"\n",
      "attr {\n",
      "  key: \"Targuments\"\n",
      "  value {\n",
      "    list {\n",
      "    }\n",
      "  }\n",
      "}\n",
      "attr {\n",
      "  key: \"_cardinality\"\n",
      "  value {\n",
      "    i: -2\n",
      "  }\n",
      "}\n",
      "attr {\n",
      "  key: \"f\"\n",
      "  value {\n",
      "    func {\n",
      "      name: \"__inference_Dataset_flat_map_flat_map_fn_1772\"\n",
      "    }\n",
      "  }\n",
      "}\n",
      "attr {\n",
      "  key: \"metadata\"\n",
      "  value {\n",
      "    s: \"\\n\\020FlatMapDataset:1\"\n",
      "  }\n",
      "}\n",
      "attr {\n",
      "  key: \"output_shapes\"\n",
      "  value {\n",
      "    list {\n",
      "      shape {\n",
      "        dim {\n",
      "          size: -1\n",
      "        }\n",
      "        dim {\n",
      "          size: -1\n",
      "        }\n",
      "        dim {\n",
      "          size: -1\n",
      "        }\n",
      "      }\n",
      "      shape {\n",
      "        dim {\n",
      "          size: -1\n",
      "        }\n",
      "      }\n",
      "    }\n",
      "  }\n",
      "}\n",
      "attr {\n",
      "  key: \"output_types\"\n",
      "  value {\n",
      "    list {\n",
      "      type: DT_FLOAT\n",
      "      type: DT_INT32\n",
      "    }\n",
      "  }\n",
      "}\n",
      ". Consider either turning off auto-sharding or switching the auto_shard_policy to DATA to shard this dataset. You can do this by creating a new `tf.data.Options()` object then setting `options.experimental_distribute.auto_shard_policy = AutoShardPolicy.DATA` before applying the options object to the dataset via `dataset.with_options(options)`.\n"
     ]
    },
    {
     "name": "stdout",
     "output_type": "stream",
     "text": [
      "Epoch 1/20\n",
      "  13/1500 [..............................] - ETA: 20s - loss: 2.3294 - sparse_categorical_accuracy: 0.1106"
     ]
    },
    {
     "name": "stderr",
     "output_type": "stream",
     "text": [
      "2022-06-09 04:44:27.314561: I tensorflow/stream_executor/cuda/cuda_blas.cc:1774] TensorFloat-32 will be used for the matrix multiplication. This will only be logged once.\n"
     ]
    },
    {
     "name": "stdout",
     "output_type": "stream",
     "text": [
      "1498/1500 [============================>.] - ETA: 0s - loss: 0.8958 - sparse_categorical_accuracy: 0.6853"
     ]
    },
    {
     "name": "stderr",
     "output_type": "stream",
     "text": [
      "2022-06-09 04:44:46.915670: W tensorflow/core/grappler/optimizers/data/auto_shard.cc:766] AUTO sharding policy will apply DATA sharding policy as it failed to apply FILE sharding policy because of the following reason: Did not find a shardable source, walked to a node which is not a dataset: name: \"FlatMapDataset/_2\"\n",
      "op: \"FlatMapDataset\"\n",
      "input: \"TensorDataset/_1\"\n",
      "attr {\n",
      "  key: \"Targuments\"\n",
      "  value {\n",
      "    list {\n",
      "    }\n",
      "  }\n",
      "}\n",
      "attr {\n",
      "  key: \"_cardinality\"\n",
      "  value {\n",
      "    i: -2\n",
      "  }\n",
      "}\n",
      "attr {\n",
      "  key: \"f\"\n",
      "  value {\n",
      "    func {\n",
      "      name: \"__inference_Dataset_flat_map_flat_map_fn_13160\"\n",
      "    }\n",
      "  }\n",
      "}\n",
      "attr {\n",
      "  key: \"metadata\"\n",
      "  value {\n",
      "    s: \"\\n\\021FlatMapDataset:15\"\n",
      "  }\n",
      "}\n",
      "attr {\n",
      "  key: \"output_shapes\"\n",
      "  value {\n",
      "    list {\n",
      "      shape {\n",
      "        dim {\n",
      "          size: -1\n",
      "        }\n",
      "        dim {\n",
      "          size: -1\n",
      "        }\n",
      "        dim {\n",
      "          size: -1\n",
      "        }\n",
      "      }\n",
      "      shape {\n",
      "        dim {\n",
      "          size: -1\n",
      "        }\n",
      "      }\n",
      "    }\n",
      "  }\n",
      "}\n",
      "attr {\n",
      "  key: \"output_types\"\n",
      "  value {\n",
      "    list {\n",
      "      type: DT_FLOAT\n",
      "      type: DT_INT32\n",
      "    }\n",
      "  }\n",
      "}\n",
      ". Consider either turning off auto-sharding or switching the auto_shard_policy to DATA to shard this dataset. You can do this by creating a new `tf.data.Options()` object then setting `options.experimental_distribute.auto_shard_policy = AutoShardPolicy.DATA` before applying the options object to the dataset via `dataset.with_options(options)`.\n"
     ]
    },
    {
     "name": "stdout",
     "output_type": "stream",
     "text": [
      "1500/1500 [==============================] - 25s 15ms/step - loss: 0.8949 - sparse_categorical_accuracy: 0.6856 - val_loss: 0.3538 - val_sparse_categorical_accuracy: 0.8868\n",
      "Epoch 2/20\n",
      "1500/1500 [==============================] - 23s 15ms/step - loss: 0.2857 - sparse_categorical_accuracy: 0.9126 - val_loss: 0.1912 - val_sparse_categorical_accuracy: 0.9393\n",
      "Epoch 3/20\n",
      "1500/1500 [==============================] - 23s 15ms/step - loss: 0.2140 - sparse_categorical_accuracy: 0.9368 - val_loss: 0.1924 - val_sparse_categorical_accuracy: 0.9393\n",
      "Epoch 4/20\n",
      "1500/1500 [==============================] - 23s 15ms/step - loss: 0.1858 - sparse_categorical_accuracy: 0.9449 - val_loss: 0.1634 - val_sparse_categorical_accuracy: 0.9473\n",
      "Epoch 5/20\n",
      "1500/1500 [==============================] - 23s 15ms/step - loss: 0.1663 - sparse_categorical_accuracy: 0.9502 - val_loss: 0.1289 - val_sparse_categorical_accuracy: 0.9600\n",
      "Epoch 6/20\n",
      "1500/1500 [==============================] - 23s 15ms/step - loss: 0.1581 - sparse_categorical_accuracy: 0.9535 - val_loss: 0.1374 - val_sparse_categorical_accuracy: 0.9583\n",
      "Epoch 7/20\n",
      "1500/1500 [==============================] - 23s 15ms/step - loss: 0.1493 - sparse_categorical_accuracy: 0.9559 - val_loss: 0.1488 - val_sparse_categorical_accuracy: 0.9530\n",
      "Epoch 8/20\n",
      "1500/1500 [==============================] - 23s 15ms/step - loss: 0.1391 - sparse_categorical_accuracy: 0.9590 - val_loss: 0.1242 - val_sparse_categorical_accuracy: 0.9602\n",
      "Epoch 9/20\n",
      "1500/1500 [==============================] - 23s 15ms/step - loss: 0.1277 - sparse_categorical_accuracy: 0.9616 - val_loss: 0.1861 - val_sparse_categorical_accuracy: 0.9420\n",
      "Epoch 10/20\n",
      "1500/1500 [==============================] - 23s 15ms/step - loss: 0.1270 - sparse_categorical_accuracy: 0.9626 - val_loss: 0.1093 - val_sparse_categorical_accuracy: 0.9643\n",
      "Epoch 11/20\n",
      "1500/1500 [==============================] - 23s 15ms/step - loss: 0.1220 - sparse_categorical_accuracy: 0.9633 - val_loss: 0.1179 - val_sparse_categorical_accuracy: 0.9607\n",
      "Epoch 12/20\n",
      "1500/1500 [==============================] - 23s 15ms/step - loss: 0.1198 - sparse_categorical_accuracy: 0.9648 - val_loss: 0.1398 - val_sparse_categorical_accuracy: 0.9557\n",
      "Epoch 13/20\n",
      "1500/1500 [==============================] - 23s 15ms/step - loss: 0.1097 - sparse_categorical_accuracy: 0.9667 - val_loss: 0.1297 - val_sparse_categorical_accuracy: 0.9583\n",
      "Epoch 14/20\n",
      "1500/1500 [==============================] - 23s 15ms/step - loss: 0.1116 - sparse_categorical_accuracy: 0.9669 - val_loss: 0.0857 - val_sparse_categorical_accuracy: 0.9730\n",
      "Epoch 15/20\n",
      "1500/1500 [==============================] - 23s 15ms/step - loss: 0.1070 - sparse_categorical_accuracy: 0.9684 - val_loss: 0.1024 - val_sparse_categorical_accuracy: 0.9707\n",
      "Epoch 16/20\n",
      "1500/1500 [==============================] - 23s 15ms/step - loss: 0.1028 - sparse_categorical_accuracy: 0.9700 - val_loss: 0.1128 - val_sparse_categorical_accuracy: 0.9657\n",
      "Epoch 17/20\n",
      "1500/1500 [==============================] - 23s 15ms/step - loss: 0.1025 - sparse_categorical_accuracy: 0.9700 - val_loss: 0.1250 - val_sparse_categorical_accuracy: 0.9621\n",
      "Epoch 18/20\n",
      "1500/1500 [==============================] - 23s 15ms/step - loss: 0.1002 - sparse_categorical_accuracy: 0.9702 - val_loss: 0.0844 - val_sparse_categorical_accuracy: 0.9748\n",
      "Epoch 19/20\n",
      "1500/1500 [==============================] - 23s 15ms/step - loss: 0.0967 - sparse_categorical_accuracy: 0.9710 - val_loss: 0.0999 - val_sparse_categorical_accuracy: 0.9697\n",
      "Epoch 20/20\n",
      "1500/1500 [==============================] - 23s 15ms/step - loss: 0.0931 - sparse_categorical_accuracy: 0.9722 - val_loss: 0.0950 - val_sparse_categorical_accuracy: 0.9738\n"
     ]
    }
   ],
   "source": [
    "with strategy.scope():\n",
    "    history = model.fit(train_dataset, validation_data=val_dataset, epochs=20)"
   ]
  },
  {
   "cell_type": "code",
   "execution_count": 16,
   "id": "77f69a1d",
   "metadata": {},
   "outputs": [
    {
     "data": {
      "image/png": "[encoded data removed]",
      "text/plain": [
       "<Figure size 432x288 with 1 Axes>"
      ]
     },
     "metadata": {
      "needs_background": "light"
     },
     "output_type": "display_data"
    }
   ],
   "source": [
    "plt.plot(history.history[\"sparse_categorical_accuracy\"])\n",
    "plt.plot(history.history[\"val_sparse_categorical_accuracy\"])\n",
    "plt.legend([\"Training\", \"Validation\"])\n",
    "plt.show()"
   ]
  },
  {
   "cell_type": "markdown",
   "id": "78ca53b9",
   "metadata": {},
   "source": [
    "### Evaluation"
   ]
  },
  {
   "cell_type": "code",
   "execution_count": 17,
   "id": "0a2d39d2",
   "metadata": {},
   "outputs": [
    {
     "name": "stdout",
     "output_type": "stream",
     "text": [
      " 15/312 [>.............................] - ETA: 2s - loss: 0.0548 - sparse_categorical_accuracy: 0.9771"
     ]
    },
    {
     "name": "stderr",
     "output_type": "stream",
     "text": [
      "2022-06-09 04:52:33.377040: W tensorflow/core/grappler/optimizers/data/auto_shard.cc:766] AUTO sharding policy will apply DATA sharding policy as it failed to apply FILE sharding policy because of the following reason: Did not find a shardable source, walked to a node which is not a dataset: name: \"FlatMapDataset/_2\"\n",
      "op: \"FlatMapDataset\"\n",
      "input: \"TensorDataset/_1\"\n",
      "attr {\n",
      "  key: \"Targuments\"\n",
      "  value {\n",
      "    list {\n",
      "    }\n",
      "  }\n",
      "}\n",
      "attr {\n",
      "  key: \"_cardinality\"\n",
      "  value {\n",
      "    i: -2\n",
      "  }\n",
      "}\n",
      "attr {\n",
      "  key: \"f\"\n",
      "  value {\n",
      "    func {\n",
      "      name: \"__inference_Dataset_flat_map_flat_map_fn_161713\"\n",
      "    }\n",
      "  }\n",
      "}\n",
      "attr {\n",
      "  key: \"metadata\"\n",
      "  value {\n",
      "    s: \"\\n\\022FlatMapDataset:295\"\n",
      "  }\n",
      "}\n",
      "attr {\n",
      "  key: \"output_shapes\"\n",
      "  value {\n",
      "    list {\n",
      "      shape {\n",
      "        dim {\n",
      "          size: -1\n",
      "        }\n",
      "        dim {\n",
      "          size: -1\n",
      "        }\n",
      "        dim {\n",
      "          size: -1\n",
      "        }\n",
      "      }\n",
      "      shape {\n",
      "        dim {\n",
      "          size: -1\n",
      "        }\n",
      "      }\n",
      "    }\n",
      "  }\n",
      "}\n",
      "attr {\n",
      "  key: \"output_types\"\n",
      "  value {\n",
      "    list {\n",
      "      type: DT_FLOAT\n",
      "      type: DT_INT32\n",
      "    }\n",
      "  }\n",
      "}\n",
      ". Consider either turning off auto-sharding or switching the auto_shard_policy to DATA to shard this dataset. You can do this by creating a new `tf.data.Options()` object then setting `options.experimental_distribute.auto_shard_policy = AutoShardPolicy.DATA` before applying the options object to the dataset via `dataset.with_options(options)`.\n"
     ]
    },
    {
     "name": "stdout",
     "output_type": "stream",
     "text": [
      "312/312 [==============================] - 3s 8ms/step - loss: 0.0771 - sparse_categorical_accuracy: 0.9777\n"
     ]
    }
   ],
   "source": [
    "with strategy.scope():\n",
    "    model.evaluate(test_dataset)"
   ]
  }
 ],
 "metadata": {
  "interpreter": {
   "hash": "d4d1e4263499bec80672ea0156c357c1ee493ec2b1c70f0acce89fc37c4a6abe"
  },
  "kernelspec": {
   "display_name": "Python 3 (ipykernel)",
   "language": "python",
   "name": "python3"
  },
  "language_info": {
   "codemirror_mode": {
    "name": "ipython",
    "version": 3
   },
   "file_extension": ".py",
   "mimetype": "text/x-python",
   "name": "python",
   "nbconvert_exporter": "python",
   "pygments_lexer": "ipython3",
   "version": "3.10.4"
  }
 },
 "nbformat": 4,
 "nbformat_minor": 5
}

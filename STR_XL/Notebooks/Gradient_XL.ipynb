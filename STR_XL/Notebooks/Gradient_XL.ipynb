{
 "cells": [
  {
   "cell_type": "markdown",
   "id": "5ccea5cd-89de-452b-afa6-703df9e9a604",
   "metadata": {},
   "source": [
    "---\n",
    "# Transformer XL\n",
    "---"
   ]
  },
  {
   "cell_type": "markdown",
   "id": "ad2c14f8-8dd8-459f-81fe-a6708e6a8355",
   "metadata": {},
   "source": [
    "---\n",
    "# Import Libraries"
   ]
  },
  {
   "cell_type": "code",
   "execution_count": 1,
   "id": "3dcad43d-67f7-49b9-84ce-6d91a0f468a6",
   "metadata": {},
   "outputs": [],
   "source": [
    "import os\n",
    "import sys"
   ]
  },
  {
   "cell_type": "code",
   "execution_count": 2,
   "id": "5e7cb9df-5746-44a3-998a-b671b284957f",
   "metadata": {},
   "outputs": [],
   "source": [
    "os.environ[\"TF_CPP_MIN_LOG_LEVEL\"] = \"2\""
   ]
  },
  {
   "cell_type": "code",
   "execution_count": 3,
   "id": "2c507a85-fe6f-4d3c-ae1f-16914fdec693",
   "metadata": {},
   "outputs": [],
   "source": [
    "sys.path.append(\"../../../deep-learning-dna\")\n",
    "sys.path.append(\"../\")\n",
    "sys.path.append(\"../../../deep-learning-dna/common\")"
   ]
  },
  {
   "cell_type": "code",
   "execution_count": 4,
   "id": "31b9c98a-b4ee-4667-89a3-5f04549f7d66",
   "metadata": {},
   "outputs": [],
   "source": [
    "import wandb"
   ]
  },
  {
   "cell_type": "code",
   "execution_count": 5,
   "id": "fda64db1-8058-4e15-b2d4-1a3e64f23fbe",
   "metadata": {},
   "outputs": [],
   "source": [
    "import tensorflow as tf\n",
    "import tensorflow.keras as keras\n",
    "import numpy as np\n",
    "import matplotlib.pyplot as plt\n",
    "from IPython.display import display\n",
    "import math\n",
    "import string\n",
    "\n",
    "from Attention import Set_Transformer\n",
    "from common.models import dnabert\n",
    "from common import dna\n",
    "from lmdbm import Lmdb\n",
    "from common.data import DnaSequenceGenerator, DnaLabelType, DnaSampleGenerator, find_dbs\n",
    "import wandb\n",
    "\n",
    "from core.custom_objects import CustomObject\n",
    "\n",
    "import tf_utils as tfu"
   ]
  },
  {
   "cell_type": "code",
   "execution_count": 6,
   "id": "0dfb3b1a-2db7-4463-a208-b5d29e20f97a",
   "metadata": {},
   "outputs": [],
   "source": [
    "strategy = tfu.devices.select_gpu(0, use_dynamic_memory=True)"
   ]
  },
  {
   "cell_type": "markdown",
   "id": "54593a0f-b5b4-401e-91e2-8c1a1598432e",
   "metadata": {
    "tags": []
   },
   "source": [
    "---\n",
    "# Load Data"
   ]
  },
  {
   "cell_type": "code",
   "execution_count": 7,
   "id": "153ec0c2-f4ac-418f-93a5-7f8b21b286ae",
   "metadata": {
    "tags": []
   },
   "outputs": [
    {
     "data": {
      "text/plain": [
       "<common.models.dnabert.DnaBertPretrainModel at 0x7f84c384f700>"
      ]
     },
     "execution_count": 7,
     "metadata": {},
     "output_type": "execute_result"
    }
   ],
   "source": [
    "#Import pretrained model\n",
    "api = wandb.Api()\n",
    "model_path = api.artifact(\"sirdavidludwig/dnabert-pretrain/dnabert-pretrain-64dim:latest\").download()\n",
    "pretrained_model = dnabert.DnaBertModel.load(model_path)\n",
    "pretrained_model.load_weights(model_path + \"/model.h5\")\n",
    "pretrained_model"
   ]
  },
  {
   "cell_type": "code",
   "execution_count": 8,
   "id": "4eb8a00e-6821-4a74-87cb-ecd6c405d3f3",
   "metadata": {},
   "outputs": [
    {
     "name": "stderr",
     "output_type": "stream",
     "text": [
      "\u001b[34m\u001b[1mwandb\u001b[0m: Downloading large artifact nachusa-dna:latest, 4079.09MB. 420 files... Done. 0:0:0.1\n"
     ]
    },
    {
     "data": {
      "text/plain": [
       "'/data/dna_samples:v1/train/WS-CCW-Jul2015_S82_L001_R1_001.db'"
      ]
     },
     "execution_count": 8,
     "metadata": {},
     "output_type": "execute_result"
    }
   ],
   "source": [
    "#Load datafiles\n",
    "dataset_path = api.artifact(\"sirdavidludwig/nachusa-dna/nachusa-dna:latest\").download('/data/dna_samples:v1')\n",
    "samples = find_dbs(dataset_path + '/train')\n",
    "samples[13]"
   ]
  },
  {
   "cell_type": "markdown",
   "id": "c6523647-1042-4dc6-aa46-1ad979f03892",
   "metadata": {
    "tags": []
   },
   "source": [
    "---\n",
    "# Create Dataset"
   ]
  },
  {
   "cell_type": "code",
   "execution_count": 9,
   "id": "a14bf26f-f2d8-4907-991e-7dcbbc68f206",
   "metadata": {
    "tags": []
   },
   "outputs": [],
   "source": [
    "split_ratios = [0.8, 0.2]\n",
    "set_len = 1000\n",
    "sequence_len = 150\n",
    "kmer = 3\n",
    "batch_size = [20,5]\n",
    "batches_per_epoch = 20\n",
    "augument = True\n",
    "labels = DnaLabelType.SampleIds\n",
    "seed = 0\n",
    "rng = np.random.default_rng(seed)\n",
    "random_samples = samples.copy()"
   ]
  },
  {
   "cell_type": "code",
   "execution_count": 10,
   "id": "d827ca7f-1900-4e88-a514-ae29daf45858",
   "metadata": {},
   "outputs": [],
   "source": [
    "rng.shuffle(random_samples)"
   ]
  },
  {
   "cell_type": "code",
   "execution_count": 11,
   "id": "1116c1ae-77e7-44c9-a010-efb23c23db48",
   "metadata": {},
   "outputs": [],
   "source": [
    "trimmed_samples, (train_dataset, val_dataset) = DnaSampleGenerator.split(samples=random_samples[0:5], split_ratios=split_ratios, subsample_length=set_len, sequence_length=sequence_len, kmer=kmer,batch_size=batch_size,batches_per_epoch=batches_per_epoch,augment=augument,labels=labels, rng=rng)"
   ]
  },
  {
   "cell_type": "code",
   "execution_count": 12,
   "id": "aac0a881-4dc6-4916-a18c-8c59e026e552",
   "metadata": {},
   "outputs": [
    {
     "data": {
      "text/plain": [
       "['/data/dna_samples:v1/train/WS-CCE-Apr2016_S6_L001_R1_001.db',\n",
       " '/data/dna_samples:v1/train/Wes52-10-TC_S53_L001_R1_001.db',\n",
       " '/data/dna_samples:v1/train/WS-WH-Jul2016_S46_L001_R1_001.db',\n",
       " '/data/dna_samples:v1/train/Wes41-10-HN_S42_L001_R1_001.db',\n",
       " '/data/dna_samples:v1/train/Wesley026-Ag-072820_S165_L001_R1_001.db']"
      ]
     },
     "execution_count": 12,
     "metadata": {},
     "output_type": "execute_result"
    }
   ],
   "source": [
    "random_samples[0:5]"
   ]
  },
  {
   "cell_type": "markdown",
   "id": "fd855356-4e5a-4047-ae81-323277b11b44",
   "metadata": {
    "tags": []
   },
   "source": [
    "--- \n",
    "# Batch Parameters"
   ]
  },
  {
   "cell_type": "code",
   "execution_count": 13,
   "id": "e23e34f9-3066-4756-ad0b-ccc1a3194438",
   "metadata": {},
   "outputs": [
    {
     "data": {
      "text/plain": [
       "5"
      ]
     },
     "execution_count": 13,
     "metadata": {},
     "output_type": "execute_result"
    }
   ],
   "source": [
    "seg_size = 200\n",
    "max_set_len = set_len\n",
    "max_files = len(train_dataset.samples)\n",
    "max_files"
   ]
  },
  {
   "cell_type": "code",
   "execution_count": 14,
   "id": "e768970c-7af4-4626-9d6e-d712ab7de959",
   "metadata": {},
   "outputs": [],
   "source": [
    "if seg_size-2 > set_len:\n",
    "    raise ValueError(\"Segment size should not be bigger than sequence length\")"
   ]
  },
  {
   "cell_type": "code",
   "execution_count": 15,
   "id": "dce0777e-c8af-4835-833d-f1717dbf2501",
   "metadata": {},
   "outputs": [
    {
     "name": "stdout",
     "output_type": "stream",
     "text": [
      "1000\n"
     ]
    }
   ],
   "source": [
    "print(max_set_len)"
   ]
  },
  {
   "cell_type": "markdown",
   "id": "ea3649b2-2e47-4b30-88e5-6792f1646058",
   "metadata": {},
   "source": [
    "---\n",
    "# Create Embeddings"
   ]
  },
  {
   "cell_type": "code",
   "execution_count": 16,
   "id": "cf74ee78-6d96-41ed-9989-e66cfd5cb1b0",
   "metadata": {},
   "outputs": [],
   "source": [
    "#Create 8 dimensional embeddings\n",
    "pretrained_encoder = dnabert.DnaBertEncoderModel(pretrained_model.base)\n",
    "pretrained_encoder.trainable = False"
   ]
  },
  {
   "cell_type": "code",
   "execution_count": 17,
   "id": "fd7ecbe1-3bf2-4cb8-ac2c-6c5e70d58a5a",
   "metadata": {},
   "outputs": [],
   "source": [
    "from common.utils import subbatch_predict"
   ]
  },
  {
   "cell_type": "code",
   "execution_count": 18,
   "id": "3d33b634-4927-4f9a-a241-8c33c9249a3a",
   "metadata": {},
   "outputs": [],
   "source": [
    "class Create_Embeddings():\n",
    "    def __init__(self, encoder):\n",
    "        super(Create_Embeddings, self).__init__()\n",
    "        self.encoder = encoder\n",
    "        \n",
    "    def subbatch_predict(self, model, batch, subbatch_size, concat=lambda old, new: tf.concat((old, new), axis=0)):\n",
    "        batch_size = tf.shape(batch)[0]\n",
    "        \n",
    "        result = tf.zeros((batch_size, 64))\n",
    "        \n",
    "        for i in range(0, tf.shape(batch)[0], subbatch_size):\n",
    "            subbatch = batch[i:i+subbatch_size]\n",
    "            clamp = tf.minimum(subbatch_size, batch_size-i)\n",
    "            encoded = self.encoder(subbatch)\n",
    "            result = tf.tensor_scatter_nd_update(result, tf.expand_dims(tf.range(i, i+clamp), 1), encoded)\n",
    "        return result\n",
    "    \n",
    "    def modify_data_for_input(self, data):\n",
    "        batch_size = tf.shape(data)[0]\n",
    "        subsample_size = tf.shape(data)[1]\n",
    "        flat_data = tf.reshape(data, (batch_size*subsample_size, -1))\n",
    "        encoded = self.subbatch_predict(self.encoder, flat_data, 128)\n",
    "        result = tf.reshape(encoded, (batch_size, subsample_size, -1))\n",
    "        return result\n",
    "    \n",
    "    def __call__(self, data):\n",
    "        embeddings = self.modify_data_for_input(data)\n",
    "        return embeddings"
   ]
  },
  {
   "cell_type": "markdown",
   "id": "835c39dd-9fb5-49bf-8763-14ca694a1a35",
   "metadata": {},
   "source": [
    "---\n",
    "# Cache Memory"
   ]
  },
  {
   "cell_type": "code",
   "execution_count": 19,
   "id": "da4cb5e4-2d26-4e40-a00f-3e71f470b273",
   "metadata": {},
   "outputs": [],
   "source": [
    "def Cache_Memory(current_state, previous_state, memory_length):\n",
    "    if memory_length is None or memory_length == 0:\n",
    "        return None\n",
    "    else:\n",
    "        if previous_state is None:\n",
    "            new_mem = current_state[:, -memory_length:, :]\n",
    "        else:\n",
    "            new_mem = tf.concat(\n",
    "                    [previous_state, current_state], 1)[:, -memory_length:, :]\n",
    "\n",
    "    return tf.stop_gradient(new_mem)"
   ]
  },
  {
   "cell_type": "markdown",
   "id": "bb50453f-628c-412e-942b-d486d01c6b8a",
   "metadata": {},
   "source": [
    "---\n",
    "# Attention"
   ]
  },
  {
   "cell_type": "code",
   "execution_count": 20,
   "id": "1bf9ef79-9ede-4271-8542-223cdd1e11ed",
   "metadata": {},
   "outputs": [],
   "source": [
    "class Attention(keras.layers.Layer):\n",
    "    def __init__(self, num_induce, embed_dim, num_heads, use_layernorm, pre_layernorm, use_keras_mha):\n",
    "        super(Attention, self).__init__()\n",
    "        \n",
    "        self.num_induce = num_induce\n",
    "        self.embed_dim = embed_dim\n",
    "        self.num_heads = num_heads\n",
    "        self.use_layernorm = use_layernorm\n",
    "        self.pre_layernorm = pre_layernorm\n",
    "        self.use_keras_mha = use_keras_mha\n",
    "        \n",
    "        if self.num_induce == 0:       \n",
    "            self.attention = (Set_Transformer.SetAttentionBlock(embed_dim=self.embed_dim, num_heads=self.num_heads, use_layernorm=self.use_layernorm,pre_layernorm=self.pre_layernorm,use_keras_mha=self.use_keras_mha))\n",
    "        else:\n",
    "            self.attention = Set_Transformer.InducedSetAttentionBlock(embed_dim=self.embed_dim, num_heads=self.num_heads, num_induce=self.num_induce, use_layernorm=self.use_layernorm, pre_layernorm=self.pre_layernorm, use_keras_mha=self.use_keras_mha)\n",
    "    \n",
    "    \n",
    "    def call(self, data, mems):\n",
    "                \n",
    "            attention = self.attention([data, mems])\n",
    "                \n",
    "            return attention"
   ]
  },
  {
   "cell_type": "markdown",
   "id": "d5c32bb5-4520-4802-a8f0-5f7849905a83",
   "metadata": {},
   "source": [
    "---\n",
    "# XL Block"
   ]
  },
  {
   "cell_type": "code",
   "execution_count": 21,
   "id": "7245b7dd-a3b2-464a-9f5b-7efd4a9d0ed2",
   "metadata": {},
   "outputs": [],
   "source": [
    "class TransformerXLBlock(tf.keras.layers.Layer):\n",
    "    def __init__(self,\n",
    "                 num_induce, \n",
    "                 embed_dim,\n",
    "                 num_heads,\n",
    "                 use_layernorm,\n",
    "                 pre_layernorm,\n",
    "                 use_keras_mha,):\n",
    "\n",
    "        super(TransformerXLBlock, self).__init__()\n",
    "        \n",
    "        self.num_induce = num_induce\n",
    "        self.embed_dim = embed_dim\n",
    "        self.num_heads = num_heads\n",
    "        self.use_layernorm = use_layernorm\n",
    "        self.pre_layernorm = pre_layernorm\n",
    "        self.use_keras_mha = use_keras_mha\n",
    "        \n",
    "        self.attention = Attention\n",
    "        \n",
    "        self.attention_layer = self.attention(self.num_induce, self.embed_dim, self.num_heads, self.use_layernorm, self.pre_layernorm, self.use_keras_mha)\n",
    "\n",
    "   \n",
    "    def call(self,\n",
    "             content_stream,\n",
    "             state=None):\n",
    "        \n",
    "        attention_output = self.attention_layer(content_stream, state)\n",
    "\n",
    "        return attention_output"
   ]
  },
  {
   "cell_type": "markdown",
   "id": "8749ec30-1281-4f9d-8baa-54b890fb7949",
   "metadata": {},
   "source": [
    "---\n",
    "# Transformer XL"
   ]
  },
  {
   "cell_type": "code",
   "execution_count": 22,
   "id": "019ca25d-e899-4e17-8f41-dfdc3d9bdee5",
   "metadata": {},
   "outputs": [],
   "source": [
    "class TransformerXL(keras.layers.Layer):\n",
    "    def __init__(self,\n",
    "                 mem_switched, \n",
    "                 num_layers,\n",
    "                 num_induce,\n",
    "                 embed_dim,\n",
    "                 num_heads,\n",
    "                 dropout_rate,\n",
    "                 mem_len=None,\n",
    "                 use_layernorm=True,\n",
    "                 pre_layernorm=True, \n",
    "                 use_keras_mha=True):\n",
    "        \n",
    "        super(TransformerXL, self).__init__()\n",
    "\n",
    "        self.mem_switched = mem_switched\n",
    "        self.num_layers = num_layers\n",
    "        self.num_induce = num_induce\n",
    "        self.embed_dim = embed_dim\n",
    "        self.num_heads = num_heads\n",
    "        self.dropout_rate = dropout_rate\n",
    "        self.mem_len = mem_len\n",
    "        self.use_layernorm = use_layernorm\n",
    "        self.pre_layernorm = pre_layernorm\n",
    "        self.use_keras_mha = use_keras_mha\n",
    "\n",
    "        self.transformer_xl_layers = []\n",
    "        \n",
    "        for i in range(self.num_layers):\n",
    "            self.transformer_xl_layers.append(\n",
    "                    TransformerXLBlock(self.num_induce,\n",
    "                                        self.embed_dim,\n",
    "                                        self.num_heads,\n",
    "                                        self.use_layernorm,\n",
    "                                        self.pre_layernorm, \n",
    "                                        self.use_keras_mha))\n",
    "\n",
    "        self.output_dropout = tf.keras.layers.Dropout(rate=self.dropout_rate)\n",
    "\n",
    "    def call(self,\n",
    "             content_stream,\n",
    "             state=None):\n",
    "        \n",
    "        new_mems = []\n",
    "\n",
    "        if state is None:\n",
    "            state = [None] * self.num_layers\n",
    "            \n",
    "        for i in range(self.num_layers):\n",
    "            if self.mem_switched == False:\n",
    "                new_mems.append(Cache_Memory(content_stream, state[i], self.mem_len))\n",
    "            \n",
    "            transformer_xl_layer = self.transformer_xl_layers[i]\n",
    "            \n",
    "            transformer_xl_output = transformer_xl_layer(content_stream=content_stream,\n",
    "                                                        state=state[i])\n",
    "            \n",
    "            content_stream = self.output_dropout(transformer_xl_output)\n",
    "            \n",
    "            if self.mem_switched == True:\n",
    "                new_mems.append(Cache_Memory(content_stream, state[i], self.mem_len))\n",
    "                \n",
    "        output_stream = content_stream\n",
    "        return output_stream, new_mems"
   ]
  },
  {
   "cell_type": "markdown",
   "id": "a127a4b5-15e3-46e3-838b-a5e18e4d8dc8",
   "metadata": {},
   "source": [
    "---\n",
    "# Xl Model Class"
   ]
  },
  {
   "cell_type": "code",
   "execution_count": 23,
   "id": "855d43dd-e182-4c2a-961a-ff9781141f81",
   "metadata": {},
   "outputs": [],
   "source": [
    "class XlModel(keras.Model):\n",
    "    def __init__(self, mem_switched, max_files, seg_size, max_set_len, num_induce, embed_dim, num_layers, num_heads, mem_len, dropout_rate, num_seeds, use_layernorm, pre_layernorm, use_keras_mha):\n",
    "        super(XlModel, self).__init__()\n",
    "        \n",
    "        self.mem_switched = mem_switched\n",
    "        self.max_files = max_files\n",
    "        self.seg_size = seg_size\n",
    "        self.max_set_len = max_set_len\n",
    "        self.num_induce = num_induce\n",
    "        self.embed_dim = embed_dim\n",
    "        self.num_layers = num_layers\n",
    "        self.num_heads = num_heads\n",
    "        self.mem_len = mem_len\n",
    "        self.dropout_rate = dropout_rate\n",
    "        self.num_seeds = num_seeds\n",
    "        self.use_layernorm = use_layernorm\n",
    "        self.pre_layernorm = pre_layernorm\n",
    "        self.use_keras_mha = use_keras_mha\n",
    "\n",
    "        self.linear_layer = keras.layers.Dense(self.embed_dim)\n",
    "        \n",
    "        self.transformer_xl = TransformerXL(self.mem_switched,\n",
    "                                            self.num_layers,\n",
    "                                             self.num_induce,\n",
    "                                             self.embed_dim,\n",
    "                                             self.num_heads,\n",
    "                                             self.dropout_rate,\n",
    "                                             self.mem_len,\n",
    "                                             self.use_layernorm,\n",
    "                                             self.pre_layernorm,\n",
    "                                             self.use_keras_mha)\n",
    "        \n",
    "\n",
    "        self.pooling_layer = Set_Transformer.PoolingByMultiHeadAttention(num_seeds=self.num_seeds,embed_dim=self.embed_dim,num_heads=self.num_heads,use_layernorm=self.use_layernorm,pre_layernorm=self.pre_layernorm, use_keras_mha=self.use_keras_mha, is_final_block=True)\n",
    "    \n",
    "        self.reshape_layer = keras.layers.Reshape((self.embed_dim,))\n",
    "   \n",
    "        self.output_layer = keras.layers.Dense(self.max_files, activation=keras.activations.softmax)\n",
    "        \n",
    "    \n",
    "    def call(self, embeddings, mems, index, training=None):        \n",
    "        \n",
    "        linear_transform = self.linear_layer(embeddings)\n",
    "        \n",
    "        segment = linear_transform[:, index:index+self.seg_size]\n",
    "        \n",
    "        output, mems = self.transformer_xl(content_stream=segment, state=mems)\n",
    "                \n",
    "        pooling = self.pooling_layer(output)\n",
    "\n",
    "        reshape = self.reshape_layer(pooling)\n",
    "\n",
    "        output = self.output_layer(reshape)          \n",
    "        \n",
    "        return output, mems"
   ]
  },
  {
   "cell_type": "markdown",
   "id": "e3469de1-250d-4c14-bb79-a4e74f0fe93e",
   "metadata": {},
   "source": [
    "---\n",
    "# Xl Parameters"
   ]
  },
  {
   "cell_type": "code",
   "execution_count": 24,
   "id": "2bc3ea7d-d4a1-4a1e-bf2a-7cd1c91430cf",
   "metadata": {},
   "outputs": [],
   "source": [
    "#Xl Parameters#\n",
    "mem_switched=False\n",
    "num_induce = 0\n",
    "embed_dim = 64\n",
    "num_layers = 8\n",
    "num_heads = 8\n",
    "mem_len = 200\n",
    "dropout_rate = 0.01\n",
    "num_seeds = 1\n",
    "use_layernorm = True\n",
    "pre_layernorm = True\n",
    "use_keras_mha = True"
   ]
  },
  {
   "cell_type": "markdown",
   "id": "89649663-7d18-48bc-8678-ce5f093908cc",
   "metadata": {},
   "source": [
    "---\n",
    "# Create Models"
   ]
  },
  {
   "cell_type": "code",
   "execution_count": 25,
   "id": "821b0c4a-6d05-4867-a713-474bfdbff881",
   "metadata": {},
   "outputs": [],
   "source": [
    "model = XlModel(mem_switched, max_files, seg_size, max_set_len, num_induce, embed_dim, num_layers, num_heads, mem_len, dropout_rate, num_seeds, use_layernorm, pre_layernorm, use_keras_mha)\n",
    "model.compile(loss = keras.losses.SparseCategoricalCrossentropy(from_logits=False), optimizer = keras.optimizers.Adam(1e-3), metrics = keras.metrics.SparseCategoricalAccuracy())"
   ]
  },
  {
   "cell_type": "code",
   "execution_count": 26,
   "id": "7ddcc096-cb9a-4c19-a838-0aa92a6a13bc",
   "metadata": {},
   "outputs": [],
   "source": [
    "epochs = 50"
   ]
  },
  {
   "cell_type": "code",
   "execution_count": 27,
   "id": "baf2dd08-1d8e-4e64-9125-450f66ddd4cf",
   "metadata": {},
   "outputs": [],
   "source": [
    "loss_function = keras.losses.SparseCategoricalCrossentropy(from_logits=False)\n",
    "accuracy_function = keras.metrics.SparseCategoricalAccuracy()"
   ]
  },
  {
   "cell_type": "code",
   "execution_count": 28,
   "id": "2cd72317-fe10-453b-9cde-1e8fb46f65f4",
   "metadata": {},
   "outputs": [],
   "source": [
    "subbatch_size = 1"
   ]
  },
  {
   "cell_type": "code",
   "execution_count": 29,
   "id": "4d4ceae0-e0b2-452c-8ce2-9cedc6054de0",
   "metadata": {},
   "outputs": [],
   "source": [
    "embedder = Create_Embeddings(pretrained_encoder)"
   ]
  },
  {
   "cell_type": "code",
   "execution_count": 30,
   "id": "5a822f59-eafd-4c3a-92a3-ab780c57cc90",
   "metadata": {},
   "outputs": [],
   "source": [
    "e = embedder(train_dataset[0][0])\n",
    "mems = tf.zeros((num_layers, tf.shape(e)[0], mem_len, embed_dim))\n",
    "e = model(e, mems, 0)"
   ]
  },
  {
   "cell_type": "code",
   "execution_count": 31,
   "id": "84263aa9-39d9-42a4-b150-654cd883d92b",
   "metadata": {},
   "outputs": [],
   "source": [
    "@tf.function()\n",
    "def train_step(inputs):\n",
    "    batch, max_set_len, seg_size = inputs\n",
    "    \n",
    "    #Iterate through subbatches\n",
    "    #Pull out one set at a time\n",
    "    for i in range (batch_size[0]):\n",
    "        n = i + subbatch_size\n",
    "        one_set = (batch[0][i:n], batch[1][i:n]) \n",
    "        x, y = one_set\n",
    "        i += 1\n",
    "        \n",
    "        #Initialize mems\n",
    "        mems = tf.zeros((num_layers, tf.shape(x)[0], mem_len, embed_dim))\n",
    "        \n",
    "        #Initialize embeddings\n",
    "        embeddings = embedder(x)\n",
    "        \n",
    "        #Initialize gradients\n",
    "        accum_grads = [tf.zeros_like(w) for w in model.trainable_weights]\n",
    "    \n",
    "        total_loss = 0.0\n",
    "        total_accuracy = 0.0\n",
    "    \n",
    "        #Split set into segments\n",
    "        for index in range(0, max_set_len, seg_size):\n",
    "            \n",
    "            #Pass entire set (for embeddings) and memories into model\n",
    "            with tf.GradientTape() as tape:\n",
    "                \n",
    "                segment_output, mems = model(embeddings, mems, index, True)\n",
    "\n",
    "                loss = loss_function(y, segment_output)\n",
    "                \n",
    "                #Set loss\n",
    "                total_loss += loss\n",
    "\n",
    "            #Compute segment level gradients\n",
    "            grads = tape.gradient(loss, model.trainable_weights)   \n",
    "\n",
    "            accum_grads = [(gs + ags) for gs, ags in zip(grads, accum_grads)]    \n",
    "\n",
    "        total_accuracy += accuracy_function(y, segment_output)\n",
    "        \n",
    "        #Apply gradients\n",
    "        model.optimizer.apply_gradients(zip(accum_grads, model.trainable_weights))\n",
    "\n",
    "    return total_loss, total_accuracy"
   ]
  },
  {
   "cell_type": "code",
   "execution_count": 32,
   "id": "1a0f3471-9e12-43b8-9f90-c0619b204bdf",
   "metadata": {},
   "outputs": [],
   "source": [
    "@tf.function()\n",
    "def test_step(inputs):\n",
    "    batch, max_set_len, seg_size = inputs\n",
    "    \n",
    "    #Iterate through subbatches\n",
    "    #Pull out one set at a time\n",
    "    for i in range (batch_size[1]):\n",
    "        n = i + subbatch_size\n",
    "        one_set = (batch[0][i:n], batch[1][i:n]) \n",
    "        x, y = one_set\n",
    "        i += 1\n",
    "\n",
    "        #Initialize mems\n",
    "        mems = tf.zeros((num_layers, tf.shape(x)[0], mem_len, embed_dim))\n",
    "\n",
    "        #Initialize embeddings\n",
    "        embeddings = embedder(x)\n",
    "\n",
    "        total_loss = 0.0\n",
    "        total_accuracy = 0.0\n",
    "\n",
    "        #Split set into segments\n",
    "        for index in range(0, max_set_len, seg_size):\n",
    "\n",
    "            #Pass entire set (for embeddings) and memories into model\n",
    "            segment_output, mems = model(embeddings, mems, index, True)\n",
    "\n",
    "            loss = loss_function(y, segment_output)\n",
    "\n",
    "            #Set loss\n",
    "            total_loss += loss\n",
    "\n",
    "        total_accuracy += accuracy_function(y, segment_output)\n",
    "\n",
    "    return total_loss, total_accuracy"
   ]
  },
  {
   "cell_type": "code",
   "execution_count": 33,
   "id": "5093a12f-e0e8-4f4c-a9c5-82e29c732957",
   "metadata": {},
   "outputs": [
    {
     "name": "stdout",
     "output_type": "stream",
     "text": [
      "31/50 testing batch: 10/20 Val Loss: 0.43860530853271484 Val Accuracy = 0.5901618003845215956328"
     ]
    },
    {
     "ename": "KeyboardInterrupt",
     "evalue": "",
     "output_type": "error",
     "traceback": [
      "\u001b[0;31m---------------------------------------------------------------------------\u001b[0m",
      "\u001b[0;31mKeyboardInterrupt\u001b[0m                         Traceback (most recent call last)",
      "Input \u001b[0;32mIn [33]\u001b[0m, in \u001b[0;36m<cell line: 1>\u001b[0;34m()\u001b[0m\n\u001b[1;32m     22\u001b[0m i \u001b[38;5;241m+\u001b[39m\u001b[38;5;241m=\u001b[39m \u001b[38;5;241m1\u001b[39m\n\u001b[1;32m     23\u001b[0m \u001b[38;5;66;03m#Pass one batch intro train_step\u001b[39;00m\n\u001b[0;32m---> 24\u001b[0m loss, accuracy \u001b[38;5;241m=\u001b[39m \u001b[43mtest_step\u001b[49m\u001b[43m(\u001b[49m\u001b[43m[\u001b[49m\u001b[43mbatch\u001b[49m\u001b[43m,\u001b[49m\u001b[43m \u001b[49m\u001b[43mmax_set_len\u001b[49m\u001b[43m,\u001b[49m\u001b[43m \u001b[49m\u001b[43mseg_size\u001b[49m\u001b[43m]\u001b[49m\u001b[43m)\u001b[49m\n\u001b[1;32m     26\u001b[0m \u001b[38;5;28mprint\u001b[39m(\u001b[38;5;124mf\u001b[39m\u001b[38;5;124m\"\u001b[39m\u001b[38;5;130;01m\\r\u001b[39;00m\u001b[38;5;132;01m{\u001b[39;00mepoch\u001b[38;5;241m+\u001b[39m\u001b[38;5;241m1\u001b[39m\u001b[38;5;132;01m}\u001b[39;00m\u001b[38;5;124m/\u001b[39m\u001b[38;5;132;01m{\u001b[39;00mepochs\u001b[38;5;132;01m}\u001b[39;00m\u001b[38;5;124m testing batch: \u001b[39m\u001b[38;5;132;01m{\u001b[39;00mi\u001b[38;5;132;01m}\u001b[39;00m\u001b[38;5;124m/\u001b[39m\u001b[38;5;132;01m{\u001b[39;00m\u001b[38;5;28mlen\u001b[39m(val_dataset)\u001b[38;5;132;01m}\u001b[39;00m\u001b[38;5;124m Val Loss: \u001b[39m\u001b[38;5;132;01m{\u001b[39;00mloss\u001b[38;5;132;01m}\u001b[39;00m\u001b[38;5;124m Val Accuracy = \u001b[39m\u001b[38;5;132;01m{\u001b[39;00maccuracy\u001b[38;5;132;01m}\u001b[39;00m\u001b[38;5;124m\"\u001b[39m, end\u001b[38;5;241m=\u001b[39m\u001b[38;5;124m\"\u001b[39m\u001b[38;5;124m\"\u001b[39m)\n",
      "File \u001b[0;32m/opt/conda/lib/python3.10/site-packages/tensorflow/python/util/traceback_utils.py:150\u001b[0m, in \u001b[0;36mfilter_traceback.<locals>.error_handler\u001b[0;34m(*args, **kwargs)\u001b[0m\n\u001b[1;32m    148\u001b[0m filtered_tb \u001b[38;5;241m=\u001b[39m \u001b[38;5;28;01mNone\u001b[39;00m\n\u001b[1;32m    149\u001b[0m \u001b[38;5;28;01mtry\u001b[39;00m:\n\u001b[0;32m--> 150\u001b[0m   \u001b[38;5;28;01mreturn\u001b[39;00m \u001b[43mfn\u001b[49m\u001b[43m(\u001b[49m\u001b[38;5;241;43m*\u001b[39;49m\u001b[43margs\u001b[49m\u001b[43m,\u001b[49m\u001b[43m \u001b[49m\u001b[38;5;241;43m*\u001b[39;49m\u001b[38;5;241;43m*\u001b[39;49m\u001b[43mkwargs\u001b[49m\u001b[43m)\u001b[49m\n\u001b[1;32m    151\u001b[0m \u001b[38;5;28;01mexcept\u001b[39;00m \u001b[38;5;167;01mException\u001b[39;00m \u001b[38;5;28;01mas\u001b[39;00m e:\n\u001b[1;32m    152\u001b[0m   filtered_tb \u001b[38;5;241m=\u001b[39m _process_traceback_frames(e\u001b[38;5;241m.\u001b[39m__traceback__)\n",
      "File \u001b[0;32m/opt/conda/lib/python3.10/site-packages/tensorflow/python/eager/def_function.py:915\u001b[0m, in \u001b[0;36mFunction.__call__\u001b[0;34m(self, *args, **kwds)\u001b[0m\n\u001b[1;32m    912\u001b[0m compiler \u001b[38;5;241m=\u001b[39m \u001b[38;5;124m\"\u001b[39m\u001b[38;5;124mxla\u001b[39m\u001b[38;5;124m\"\u001b[39m \u001b[38;5;28;01mif\u001b[39;00m \u001b[38;5;28mself\u001b[39m\u001b[38;5;241m.\u001b[39m_jit_compile \u001b[38;5;28;01melse\u001b[39;00m \u001b[38;5;124m\"\u001b[39m\u001b[38;5;124mnonXla\u001b[39m\u001b[38;5;124m\"\u001b[39m\n\u001b[1;32m    914\u001b[0m \u001b[38;5;28;01mwith\u001b[39;00m OptionalXlaContext(\u001b[38;5;28mself\u001b[39m\u001b[38;5;241m.\u001b[39m_jit_compile):\n\u001b[0;32m--> 915\u001b[0m   result \u001b[38;5;241m=\u001b[39m \u001b[38;5;28;43mself\u001b[39;49m\u001b[38;5;241;43m.\u001b[39;49m\u001b[43m_call\u001b[49m\u001b[43m(\u001b[49m\u001b[38;5;241;43m*\u001b[39;49m\u001b[43margs\u001b[49m\u001b[43m,\u001b[49m\u001b[43m \u001b[49m\u001b[38;5;241;43m*\u001b[39;49m\u001b[38;5;241;43m*\u001b[39;49m\u001b[43mkwds\u001b[49m\u001b[43m)\u001b[49m\n\u001b[1;32m    917\u001b[0m new_tracing_count \u001b[38;5;241m=\u001b[39m \u001b[38;5;28mself\u001b[39m\u001b[38;5;241m.\u001b[39mexperimental_get_tracing_count()\n\u001b[1;32m    918\u001b[0m without_tracing \u001b[38;5;241m=\u001b[39m (tracing_count \u001b[38;5;241m==\u001b[39m new_tracing_count)\n",
      "File \u001b[0;32m/opt/conda/lib/python3.10/site-packages/tensorflow/python/eager/def_function.py:954\u001b[0m, in \u001b[0;36mFunction._call\u001b[0;34m(self, *args, **kwds)\u001b[0m\n\u001b[1;32m    951\u001b[0m \u001b[38;5;28mself\u001b[39m\u001b[38;5;241m.\u001b[39m_lock\u001b[38;5;241m.\u001b[39mrelease()\n\u001b[1;32m    952\u001b[0m \u001b[38;5;66;03m# In this case we have not created variables on the first call. So we can\u001b[39;00m\n\u001b[1;32m    953\u001b[0m \u001b[38;5;66;03m# run the first trace but we should fail if variables are created.\u001b[39;00m\n\u001b[0;32m--> 954\u001b[0m results \u001b[38;5;241m=\u001b[39m \u001b[38;5;28;43mself\u001b[39;49m\u001b[38;5;241;43m.\u001b[39;49m\u001b[43m_stateful_fn\u001b[49m\u001b[43m(\u001b[49m\u001b[38;5;241;43m*\u001b[39;49m\u001b[43margs\u001b[49m\u001b[43m,\u001b[49m\u001b[43m \u001b[49m\u001b[38;5;241;43m*\u001b[39;49m\u001b[38;5;241;43m*\u001b[39;49m\u001b[43mkwds\u001b[49m\u001b[43m)\u001b[49m\n\u001b[1;32m    955\u001b[0m \u001b[38;5;28;01mif\u001b[39;00m \u001b[38;5;28mself\u001b[39m\u001b[38;5;241m.\u001b[39m_created_variables \u001b[38;5;129;01mand\u001b[39;00m \u001b[38;5;129;01mnot\u001b[39;00m ALLOW_DYNAMIC_VARIABLE_CREATION:\n\u001b[1;32m    956\u001b[0m   \u001b[38;5;28;01mraise\u001b[39;00m \u001b[38;5;167;01mValueError\u001b[39;00m(\u001b[38;5;124m\"\u001b[39m\u001b[38;5;124mCreating variables on a non-first call to a function\u001b[39m\u001b[38;5;124m\"\u001b[39m\n\u001b[1;32m    957\u001b[0m                    \u001b[38;5;124m\"\u001b[39m\u001b[38;5;124m decorated with tf.function.\u001b[39m\u001b[38;5;124m\"\u001b[39m)\n",
      "File \u001b[0;32m/opt/conda/lib/python3.10/site-packages/tensorflow/python/eager/function.py:2956\u001b[0m, in \u001b[0;36mFunction.__call__\u001b[0;34m(self, *args, **kwargs)\u001b[0m\n\u001b[1;32m   2953\u001b[0m \u001b[38;5;28;01mwith\u001b[39;00m \u001b[38;5;28mself\u001b[39m\u001b[38;5;241m.\u001b[39m_lock:\n\u001b[1;32m   2954\u001b[0m   (graph_function,\n\u001b[1;32m   2955\u001b[0m    filtered_flat_args) \u001b[38;5;241m=\u001b[39m \u001b[38;5;28mself\u001b[39m\u001b[38;5;241m.\u001b[39m_maybe_define_function(args, kwargs)\n\u001b[0;32m-> 2956\u001b[0m \u001b[38;5;28;01mreturn\u001b[39;00m \u001b[43mgraph_function\u001b[49m\u001b[38;5;241;43m.\u001b[39;49m\u001b[43m_call_flat\u001b[49m\u001b[43m(\u001b[49m\n\u001b[1;32m   2957\u001b[0m \u001b[43m    \u001b[49m\u001b[43mfiltered_flat_args\u001b[49m\u001b[43m,\u001b[49m\u001b[43m \u001b[49m\u001b[43mcaptured_inputs\u001b[49m\u001b[38;5;241;43m=\u001b[39;49m\u001b[43mgraph_function\u001b[49m\u001b[38;5;241;43m.\u001b[39;49m\u001b[43mcaptured_inputs\u001b[49m\u001b[43m)\u001b[49m\n",
      "File \u001b[0;32m/opt/conda/lib/python3.10/site-packages/tensorflow/python/eager/function.py:1853\u001b[0m, in \u001b[0;36mConcreteFunction._call_flat\u001b[0;34m(self, args, captured_inputs, cancellation_manager)\u001b[0m\n\u001b[1;32m   1849\u001b[0m possible_gradient_type \u001b[38;5;241m=\u001b[39m gradients_util\u001b[38;5;241m.\u001b[39mPossibleTapeGradientTypes(args)\n\u001b[1;32m   1850\u001b[0m \u001b[38;5;28;01mif\u001b[39;00m (possible_gradient_type \u001b[38;5;241m==\u001b[39m gradients_util\u001b[38;5;241m.\u001b[39mPOSSIBLE_GRADIENT_TYPES_NONE\n\u001b[1;32m   1851\u001b[0m     \u001b[38;5;129;01mand\u001b[39;00m executing_eagerly):\n\u001b[1;32m   1852\u001b[0m   \u001b[38;5;66;03m# No tape is watching; skip to running the function.\u001b[39;00m\n\u001b[0;32m-> 1853\u001b[0m   \u001b[38;5;28;01mreturn\u001b[39;00m \u001b[38;5;28mself\u001b[39m\u001b[38;5;241m.\u001b[39m_build_call_outputs(\u001b[38;5;28;43mself\u001b[39;49m\u001b[38;5;241;43m.\u001b[39;49m\u001b[43m_inference_function\u001b[49m\u001b[38;5;241;43m.\u001b[39;49m\u001b[43mcall\u001b[49m\u001b[43m(\u001b[49m\n\u001b[1;32m   1854\u001b[0m \u001b[43m      \u001b[49m\u001b[43mctx\u001b[49m\u001b[43m,\u001b[49m\u001b[43m \u001b[49m\u001b[43margs\u001b[49m\u001b[43m,\u001b[49m\u001b[43m \u001b[49m\u001b[43mcancellation_manager\u001b[49m\u001b[38;5;241;43m=\u001b[39;49m\u001b[43mcancellation_manager\u001b[49m\u001b[43m)\u001b[49m)\n\u001b[1;32m   1855\u001b[0m forward_backward \u001b[38;5;241m=\u001b[39m \u001b[38;5;28mself\u001b[39m\u001b[38;5;241m.\u001b[39m_select_forward_and_backward_functions(\n\u001b[1;32m   1856\u001b[0m     args,\n\u001b[1;32m   1857\u001b[0m     possible_gradient_type,\n\u001b[1;32m   1858\u001b[0m     executing_eagerly)\n\u001b[1;32m   1859\u001b[0m forward_function, args_with_tangents \u001b[38;5;241m=\u001b[39m forward_backward\u001b[38;5;241m.\u001b[39mforward()\n",
      "File \u001b[0;32m/opt/conda/lib/python3.10/site-packages/tensorflow/python/eager/function.py:499\u001b[0m, in \u001b[0;36m_EagerDefinedFunction.call\u001b[0;34m(self, ctx, args, cancellation_manager)\u001b[0m\n\u001b[1;32m    497\u001b[0m \u001b[38;5;28;01mwith\u001b[39;00m _InterpolateFunctionError(\u001b[38;5;28mself\u001b[39m):\n\u001b[1;32m    498\u001b[0m   \u001b[38;5;28;01mif\u001b[39;00m cancellation_manager \u001b[38;5;129;01mis\u001b[39;00m \u001b[38;5;28;01mNone\u001b[39;00m:\n\u001b[0;32m--> 499\u001b[0m     outputs \u001b[38;5;241m=\u001b[39m \u001b[43mexecute\u001b[49m\u001b[38;5;241;43m.\u001b[39;49m\u001b[43mexecute\u001b[49m\u001b[43m(\u001b[49m\n\u001b[1;32m    500\u001b[0m \u001b[43m        \u001b[49m\u001b[38;5;28;43mstr\u001b[39;49m\u001b[43m(\u001b[49m\u001b[38;5;28;43mself\u001b[39;49m\u001b[38;5;241;43m.\u001b[39;49m\u001b[43msignature\u001b[49m\u001b[38;5;241;43m.\u001b[39;49m\u001b[43mname\u001b[49m\u001b[43m)\u001b[49m\u001b[43m,\u001b[49m\n\u001b[1;32m    501\u001b[0m \u001b[43m        \u001b[49m\u001b[43mnum_outputs\u001b[49m\u001b[38;5;241;43m=\u001b[39;49m\u001b[38;5;28;43mself\u001b[39;49m\u001b[38;5;241;43m.\u001b[39;49m\u001b[43m_num_outputs\u001b[49m\u001b[43m,\u001b[49m\n\u001b[1;32m    502\u001b[0m \u001b[43m        \u001b[49m\u001b[43minputs\u001b[49m\u001b[38;5;241;43m=\u001b[39;49m\u001b[43margs\u001b[49m\u001b[43m,\u001b[49m\n\u001b[1;32m    503\u001b[0m \u001b[43m        \u001b[49m\u001b[43mattrs\u001b[49m\u001b[38;5;241;43m=\u001b[39;49m\u001b[43mattrs\u001b[49m\u001b[43m,\u001b[49m\n\u001b[1;32m    504\u001b[0m \u001b[43m        \u001b[49m\u001b[43mctx\u001b[49m\u001b[38;5;241;43m=\u001b[39;49m\u001b[43mctx\u001b[49m\u001b[43m)\u001b[49m\n\u001b[1;32m    505\u001b[0m   \u001b[38;5;28;01melse\u001b[39;00m:\n\u001b[1;32m    506\u001b[0m     outputs \u001b[38;5;241m=\u001b[39m execute\u001b[38;5;241m.\u001b[39mexecute_with_cancellation(\n\u001b[1;32m    507\u001b[0m         \u001b[38;5;28mstr\u001b[39m(\u001b[38;5;28mself\u001b[39m\u001b[38;5;241m.\u001b[39msignature\u001b[38;5;241m.\u001b[39mname),\n\u001b[1;32m    508\u001b[0m         num_outputs\u001b[38;5;241m=\u001b[39m\u001b[38;5;28mself\u001b[39m\u001b[38;5;241m.\u001b[39m_num_outputs,\n\u001b[0;32m   (...)\u001b[0m\n\u001b[1;32m    511\u001b[0m         ctx\u001b[38;5;241m=\u001b[39mctx,\n\u001b[1;32m    512\u001b[0m         cancellation_manager\u001b[38;5;241m=\u001b[39mcancellation_manager)\n",
      "File \u001b[0;32m/opt/conda/lib/python3.10/site-packages/tensorflow/python/eager/execute.py:54\u001b[0m, in \u001b[0;36mquick_execute\u001b[0;34m(op_name, num_outputs, inputs, attrs, ctx, name)\u001b[0m\n\u001b[1;32m     52\u001b[0m \u001b[38;5;28;01mtry\u001b[39;00m:\n\u001b[1;32m     53\u001b[0m   ctx\u001b[38;5;241m.\u001b[39mensure_initialized()\n\u001b[0;32m---> 54\u001b[0m   tensors \u001b[38;5;241m=\u001b[39m \u001b[43mpywrap_tfe\u001b[49m\u001b[38;5;241;43m.\u001b[39;49m\u001b[43mTFE_Py_Execute\u001b[49m\u001b[43m(\u001b[49m\u001b[43mctx\u001b[49m\u001b[38;5;241;43m.\u001b[39;49m\u001b[43m_handle\u001b[49m\u001b[43m,\u001b[49m\u001b[43m \u001b[49m\u001b[43mdevice_name\u001b[49m\u001b[43m,\u001b[49m\u001b[43m \u001b[49m\u001b[43mop_name\u001b[49m\u001b[43m,\u001b[49m\n\u001b[1;32m     55\u001b[0m \u001b[43m                                      \u001b[49m\u001b[43minputs\u001b[49m\u001b[43m,\u001b[49m\u001b[43m \u001b[49m\u001b[43mattrs\u001b[49m\u001b[43m,\u001b[49m\u001b[43m \u001b[49m\u001b[43mnum_outputs\u001b[49m\u001b[43m)\u001b[49m\n\u001b[1;32m     56\u001b[0m \u001b[38;5;28;01mexcept\u001b[39;00m core\u001b[38;5;241m.\u001b[39m_NotOkStatusException \u001b[38;5;28;01mas\u001b[39;00m e:\n\u001b[1;32m     57\u001b[0m   \u001b[38;5;28;01mif\u001b[39;00m name \u001b[38;5;129;01mis\u001b[39;00m \u001b[38;5;129;01mnot\u001b[39;00m \u001b[38;5;28;01mNone\u001b[39;00m:\n",
      "\u001b[0;31mKeyboardInterrupt\u001b[0m: "
     ]
    }
   ],
   "source": [
    "for epoch in range(epochs):    \n",
    "    loss = 0.0\n",
    "    accuracy = 0.0\n",
    "    i = 0\n",
    "    \n",
    "    #Iterate through batches\n",
    "    for batch in train_dataset:\n",
    "        \n",
    "        i += 1\n",
    "        #Pass one batch intro train_step\n",
    "        loss, accuracy = train_step([batch, max_set_len, seg_size])\n",
    "        \n",
    "        print(f\"\\r{epoch+1}/{epochs} training batch: {i}/{len(train_dataset)} Train Loss: {loss} Train Accuracy = {accuracy}\", end=\"\")\n",
    "    \n",
    "    loss = 0.0\n",
    "    accuracy = 0.0\n",
    "    i = 0\n",
    "\n",
    "    #Iterate through batches\n",
    "    for batch in val_dataset:\n",
    "        \n",
    "        i += 1\n",
    "        #Pass one batch intro train_step\n",
    "        loss, accuracy = test_step([batch, max_set_len, seg_size])\n",
    "        \n",
    "        print(f\"\\r{epoch+1}/{epochs} testing batch: {i}/{len(val_dataset)} Val Loss: {loss} Val Accuracy = {accuracy}\", end=\"\")"
   ]
  },
  {
   "cell_type": "code",
   "execution_count": 34,
   "id": "27de7a60-736a-4049-8616-a818292836ed",
   "metadata": {},
   "outputs": [],
   "source": [
    "def model_predict(inputs):\n",
    "    batch, max_set_len, seg_size = inputs\n",
    "    for i in range (batch_size[0]):\n",
    "        n = i + subbatch_size\n",
    "        one_set = (batch[0][i:n], batch[1][i:n]) \n",
    "        x, y = one_set\n",
    "        i += 1\n",
    "\n",
    "        #Initialize mems\n",
    "        mems = tf.zeros((num_layers, tf.shape(x)[0], mem_len, embed_dim))\n",
    "\n",
    "        #Initialize embeddings\n",
    "        embeddings = embedder(x)\n",
    "\n",
    "        total_loss = 0.0\n",
    "        total_accuracy = 0.0\n",
    "\n",
    "        #Split set into segments\n",
    "        for index in range(0, max_set_len, seg_size):\n",
    "\n",
    "            #Pass entire set (for embeddings) and memories into model\n",
    "            segment_output, mems = model(embeddings, mems, index, True)\n",
    "            print(\"Index:\", index, \"Predicted:\", tf.argmax(segment_output, -1), \"Correct:\", y)\n",
    "            \n",
    "            loss = loss_function(y, segment_output)\n",
    "\n",
    "            #Set loss\n",
    "            total_loss += loss\n",
    "\n",
    "        total_accuracy += accuracy_function(y, segment_output)\n",
    "\n",
    "    return total_loss, total_accuracy"
   ]
  },
  {
   "cell_type": "code",
   "execution_count": 35,
   "id": "76dc8dc6-6049-4f9f-84b0-095fd55f4e37",
   "metadata": {},
   "outputs": [],
   "source": [
    "def model_predict_val(inputs):\n",
    "    batch, max_set_len, seg_size = inputs\n",
    "    for i in range (batch_size[1]):\n",
    "        n = i + subbatch_size\n",
    "        one_set = (batch[0][i:n], batch[1][i:n]) \n",
    "        x, y = one_set\n",
    "        i += 1\n",
    "\n",
    "        #Initialize mems\n",
    "        mems = tf.zeros((num_layers, tf.shape(x)[0], mem_len, embed_dim))\n",
    "\n",
    "        #Initialize embeddings\n",
    "        embeddings = embedder(x)\n",
    "\n",
    "        total_loss = 0.0\n",
    "        total_accuracy = 0.0\n",
    "\n",
    "        #Split set into segments\n",
    "        for index in range(0, max_set_len, seg_size):\n",
    "\n",
    "            #Pass entire set (for embeddings) and memories into model\n",
    "            segment_output, mems = model(embeddings, mems, index, True)\n",
    "            print(\"Index:\", index, \"Predicted:\", tf.argmax(segment_output, -1), \"Correct:\", y)\n",
    "            \n",
    "            loss = loss_function(y, segment_output)\n",
    "\n",
    "            #Set loss\n",
    "            total_loss += loss\n",
    "\n",
    "        total_accuracy += accuracy_function(y, segment_output)\n",
    "\n",
    "    return total_loss, total_accuracy"
   ]
  },
  {
   "cell_type": "code",
   "execution_count": 36,
   "id": "4ad6e6e1-9af9-4d85-ba0b-8572f4dc2caf",
   "metadata": {},
   "outputs": [
    {
     "name": "stdout",
     "output_type": "stream",
     "text": [
      "Index: 0 Predicted: tf.Tensor([0], shape=(1,), dtype=int64) Correct: [2]\n",
      "Index: 200 Predicted: tf.Tensor([2], shape=(1,), dtype=int64) Correct: [2]\n",
      "Index: 400 Predicted: tf.Tensor([2], shape=(1,), dtype=int64) Correct: [2]\n",
      "Index: 600 Predicted: tf.Tensor([2], shape=(1,), dtype=int64) Correct: [2]\n",
      "Index: 800 Predicted: tf.Tensor([2], shape=(1,), dtype=int64) Correct: [2]\n",
      "Index: 0 Predicted: tf.Tensor([1], shape=(1,), dtype=int64) Correct: [4]\n",
      "Index: 200 Predicted: tf.Tensor([4], shape=(1,), dtype=int64) Correct: [4]\n",
      "Index: 400 Predicted: tf.Tensor([4], shape=(1,), dtype=int64) Correct: [4]\n",
      "Index: 600 Predicted: tf.Tensor([4], shape=(1,), dtype=int64) Correct: [4]\n",
      "Index: 800 Predicted: tf.Tensor([4], shape=(1,), dtype=int64) Correct: [4]\n",
      "Index: 0 Predicted: tf.Tensor([0], shape=(1,), dtype=int64) Correct: [0]\n",
      "Index: 200 Predicted: tf.Tensor([2], shape=(1,), dtype=int64) Correct: [0]\n",
      "Index: 400 Predicted: tf.Tensor([2], shape=(1,), dtype=int64) Correct: [0]\n",
      "Index: 600 Predicted: tf.Tensor([0], shape=(1,), dtype=int64) Correct: [0]\n",
      "Index: 800 Predicted: tf.Tensor([0], shape=(1,), dtype=int64) Correct: [0]\n",
      "Index: 0 Predicted: tf.Tensor([1], shape=(1,), dtype=int64) Correct: [1]\n",
      "Index: 200 Predicted: tf.Tensor([1], shape=(1,), dtype=int64) Correct: [1]\n",
      "Index: 400 Predicted: tf.Tensor([1], shape=(1,), dtype=int64) Correct: [1]\n",
      "Index: 600 Predicted: tf.Tensor([1], shape=(1,), dtype=int64) Correct: [1]\n",
      "Index: 800 Predicted: tf.Tensor([1], shape=(1,), dtype=int64) Correct: [1]\n",
      "Index: 0 Predicted: tf.Tensor([4], shape=(1,), dtype=int64) Correct: [4]\n",
      "Index: 200 Predicted: tf.Tensor([4], shape=(1,), dtype=int64) Correct: [4]\n",
      "Index: 400 Predicted: tf.Tensor([4], shape=(1,), dtype=int64) Correct: [4]\n",
      "Index: 600 Predicted: tf.Tensor([4], shape=(1,), dtype=int64) Correct: [4]\n",
      "Index: 800 Predicted: tf.Tensor([4], shape=(1,), dtype=int64) Correct: [4]\n",
      "Index: 0 Predicted: tf.Tensor([0], shape=(1,), dtype=int64) Correct: [2]\n",
      "Index: 200 Predicted: tf.Tensor([2], shape=(1,), dtype=int64) Correct: [2]\n",
      "Index: 400 Predicted: tf.Tensor([2], shape=(1,), dtype=int64) Correct: [2]\n",
      "Index: 600 Predicted: tf.Tensor([2], shape=(1,), dtype=int64) Correct: [2]\n",
      "Index: 800 Predicted: tf.Tensor([2], shape=(1,), dtype=int64) Correct: [2]\n",
      "Index: 0 Predicted: tf.Tensor([2], shape=(1,), dtype=int64) Correct: [2]\n",
      "Index: 200 Predicted: tf.Tensor([2], shape=(1,), dtype=int64) Correct: [2]\n",
      "Index: 400 Predicted: tf.Tensor([2], shape=(1,), dtype=int64) Correct: [2]\n",
      "Index: 600 Predicted: tf.Tensor([2], shape=(1,), dtype=int64) Correct: [2]\n",
      "Index: 800 Predicted: tf.Tensor([2], shape=(1,), dtype=int64) Correct: [2]\n",
      "Index: 0 Predicted: tf.Tensor([4], shape=(1,), dtype=int64) Correct: [4]\n",
      "Index: 200 Predicted: tf.Tensor([4], shape=(1,), dtype=int64) Correct: [4]\n",
      "Index: 400 Predicted: tf.Tensor([4], shape=(1,), dtype=int64) Correct: [4]\n",
      "Index: 600 Predicted: tf.Tensor([4], shape=(1,), dtype=int64) Correct: [4]\n",
      "Index: 800 Predicted: tf.Tensor([4], shape=(1,), dtype=int64) Correct: [4]\n",
      "Index: 0 Predicted: tf.Tensor([2], shape=(1,), dtype=int64) Correct: [0]\n",
      "Index: 200 Predicted: tf.Tensor([2], shape=(1,), dtype=int64) Correct: [0]\n",
      "Index: 400 Predicted: tf.Tensor([2], shape=(1,), dtype=int64) Correct: [0]\n",
      "Index: 600 Predicted: tf.Tensor([0], shape=(1,), dtype=int64) Correct: [0]\n",
      "Index: 800 Predicted: tf.Tensor([2], shape=(1,), dtype=int64) Correct: [0]\n",
      "Index: 0 Predicted: tf.Tensor([1], shape=(1,), dtype=int64) Correct: [1]\n",
      "Index: 200 Predicted: tf.Tensor([1], shape=(1,), dtype=int64) Correct: [1]\n",
      "Index: 400 Predicted: tf.Tensor([1], shape=(1,), dtype=int64) Correct: [1]\n",
      "Index: 600 Predicted: tf.Tensor([1], shape=(1,), dtype=int64) Correct: [1]\n",
      "Index: 800 Predicted: tf.Tensor([1], shape=(1,), dtype=int64) Correct: [1]\n",
      "Index: 0 Predicted: tf.Tensor([1], shape=(1,), dtype=int64) Correct: [3]\n",
      "Index: 200 Predicted: tf.Tensor([1], shape=(1,), dtype=int64) Correct: [3]\n",
      "Index: 400 Predicted: tf.Tensor([1], shape=(1,), dtype=int64) Correct: [3]\n",
      "Index: 600 Predicted: tf.Tensor([1], shape=(1,), dtype=int64) Correct: [3]\n",
      "Index: 800 Predicted: tf.Tensor([1], shape=(1,), dtype=int64) Correct: [3]\n",
      "Index: 0 Predicted: tf.Tensor([1], shape=(1,), dtype=int64) Correct: [1]\n",
      "Index: 200 Predicted: tf.Tensor([1], shape=(1,), dtype=int64) Correct: [1]\n",
      "Index: 400 Predicted: tf.Tensor([1], shape=(1,), dtype=int64) Correct: [1]\n",
      "Index: 600 Predicted: tf.Tensor([1], shape=(1,), dtype=int64) Correct: [1]\n",
      "Index: 800 Predicted: tf.Tensor([1], shape=(1,), dtype=int64) Correct: [1]\n",
      "Index: 0 Predicted: tf.Tensor([1], shape=(1,), dtype=int64) Correct: [1]\n",
      "Index: 200 Predicted: tf.Tensor([1], shape=(1,), dtype=int64) Correct: [1]\n",
      "Index: 400 Predicted: tf.Tensor([1], shape=(1,), dtype=int64) Correct: [1]\n",
      "Index: 600 Predicted: tf.Tensor([1], shape=(1,), dtype=int64) Correct: [1]\n",
      "Index: 800 Predicted: tf.Tensor([1], shape=(1,), dtype=int64) Correct: [1]\n",
      "Index: 0 Predicted: tf.Tensor([2], shape=(1,), dtype=int64) Correct: [0]\n",
      "Index: 200 Predicted: tf.Tensor([2], shape=(1,), dtype=int64) Correct: [0]\n",
      "Index: 400 Predicted: tf.Tensor([2], shape=(1,), dtype=int64) Correct: [0]\n",
      "Index: 600 Predicted: tf.Tensor([2], shape=(1,), dtype=int64) Correct: [0]\n",
      "Index: 800 Predicted: tf.Tensor([2], shape=(1,), dtype=int64) Correct: [0]\n",
      "Index: 0 Predicted: tf.Tensor([2], shape=(1,), dtype=int64) Correct: [0]\n",
      "Index: 200 Predicted: tf.Tensor([2], shape=(1,), dtype=int64) Correct: [0]\n",
      "Index: 400 Predicted: tf.Tensor([0], shape=(1,), dtype=int64) Correct: [0]\n",
      "Index: 600 Predicted: tf.Tensor([2], shape=(1,), dtype=int64) Correct: [0]\n",
      "Index: 800 Predicted: tf.Tensor([2], shape=(1,), dtype=int64) Correct: [0]\n",
      "Index: 0 Predicted: tf.Tensor([1], shape=(1,), dtype=int64) Correct: [3]\n",
      "Index: 200 Predicted: tf.Tensor([1], shape=(1,), dtype=int64) Correct: [3]\n",
      "Index: 400 Predicted: tf.Tensor([1], shape=(1,), dtype=int64) Correct: [3]\n",
      "Index: 600 Predicted: tf.Tensor([1], shape=(1,), dtype=int64) Correct: [3]\n",
      "Index: 800 Predicted: tf.Tensor([1], shape=(1,), dtype=int64) Correct: [3]\n",
      "Index: 0 Predicted: tf.Tensor([1], shape=(1,), dtype=int64) Correct: [3]\n",
      "Index: 200 Predicted: tf.Tensor([1], shape=(1,), dtype=int64) Correct: [3]\n",
      "Index: 400 Predicted: tf.Tensor([1], shape=(1,), dtype=int64) Correct: [3]\n",
      "Index: 600 Predicted: tf.Tensor([1], shape=(1,), dtype=int64) Correct: [3]\n",
      "Index: 800 Predicted: tf.Tensor([1], shape=(1,), dtype=int64) Correct: [3]\n",
      "Index: 0 Predicted: tf.Tensor([2], shape=(1,), dtype=int64) Correct: [0]\n",
      "Index: 200 Predicted: tf.Tensor([2], shape=(1,), dtype=int64) Correct: [0]\n",
      "Index: 400 Predicted: tf.Tensor([2], shape=(1,), dtype=int64) Correct: [0]\n",
      "Index: 600 Predicted: tf.Tensor([2], shape=(1,), dtype=int64) Correct: [0]\n",
      "Index: 800 Predicted: tf.Tensor([2], shape=(1,), dtype=int64) Correct: [0]\n",
      "Index: 0 Predicted: tf.Tensor([2], shape=(1,), dtype=int64) Correct: [0]\n",
      "Index: 200 Predicted: tf.Tensor([2], shape=(1,), dtype=int64) Correct: [0]\n",
      "Index: 400 Predicted: tf.Tensor([2], shape=(1,), dtype=int64) Correct: [0]\n",
      "Index: 600 Predicted: tf.Tensor([2], shape=(1,), dtype=int64) Correct: [0]\n",
      "Index: 800 Predicted: tf.Tensor([2], shape=(1,), dtype=int64) Correct: [0]\n",
      "Index: 0 Predicted: tf.Tensor([2], shape=(1,), dtype=int64) Correct: [2]\n",
      "Index: 200 Predicted: tf.Tensor([2], shape=(1,), dtype=int64) Correct: [2]\n",
      "Index: 400 Predicted: tf.Tensor([2], shape=(1,), dtype=int64) Correct: [2]\n",
      "Index: 600 Predicted: tf.Tensor([2], shape=(1,), dtype=int64) Correct: [2]\n",
      "Index: 800 Predicted: tf.Tensor([2], shape=(1,), dtype=int64) Correct: [2]\n"
     ]
    },
    {
     "data": {
      "text/plain": [
       "(<tf.Tensor: shape=(), dtype=float32, numpy=2.512153>,\n",
       " <tf.Tensor: shape=(), dtype=float32, numpy=0.59030694>)"
      ]
     },
     "execution_count": 36,
     "metadata": {},
     "output_type": "execute_result"
    }
   ],
   "source": [
    "model_predict([train_dataset[1], max_set_len, seg_size])"
   ]
  },
  {
   "cell_type": "code",
   "execution_count": 37,
   "id": "2f6b9a07-c81e-4e4a-ab6b-19b683654b99",
   "metadata": {},
   "outputs": [
    {
     "name": "stdout",
     "output_type": "stream",
     "text": [
      "Index: 0 Predicted: tf.Tensor([4], shape=(1,), dtype=int64) Correct: [4]\n",
      "Index: 200 Predicted: tf.Tensor([4], shape=(1,), dtype=int64) Correct: [4]\n",
      "Index: 400 Predicted: tf.Tensor([4], shape=(1,), dtype=int64) Correct: [4]\n",
      "Index: 600 Predicted: tf.Tensor([4], shape=(1,), dtype=int64) Correct: [4]\n",
      "Index: 800 Predicted: tf.Tensor([4], shape=(1,), dtype=int64) Correct: [4]\n",
      "Index: 0 Predicted: tf.Tensor([1], shape=(1,), dtype=int64) Correct: [4]\n",
      "Index: 200 Predicted: tf.Tensor([4], shape=(1,), dtype=int64) Correct: [4]\n",
      "Index: 400 Predicted: tf.Tensor([4], shape=(1,), dtype=int64) Correct: [4]\n",
      "Index: 600 Predicted: tf.Tensor([4], shape=(1,), dtype=int64) Correct: [4]\n",
      "Index: 800 Predicted: tf.Tensor([4], shape=(1,), dtype=int64) Correct: [4]\n",
      "Index: 0 Predicted: tf.Tensor([1], shape=(1,), dtype=int64) Correct: [3]\n",
      "Index: 200 Predicted: tf.Tensor([1], shape=(1,), dtype=int64) Correct: [3]\n",
      "Index: 400 Predicted: tf.Tensor([1], shape=(1,), dtype=int64) Correct: [3]\n",
      "Index: 600 Predicted: tf.Tensor([1], shape=(1,), dtype=int64) Correct: [3]\n",
      "Index: 800 Predicted: tf.Tensor([1], shape=(1,), dtype=int64) Correct: [3]\n",
      "Index: 0 Predicted: tf.Tensor([1], shape=(1,), dtype=int64) Correct: [1]\n",
      "Index: 200 Predicted: tf.Tensor([1], shape=(1,), dtype=int64) Correct: [1]\n",
      "Index: 400 Predicted: tf.Tensor([1], shape=(1,), dtype=int64) Correct: [1]\n",
      "Index: 600 Predicted: tf.Tensor([1], shape=(1,), dtype=int64) Correct: [1]\n",
      "Index: 800 Predicted: tf.Tensor([1], shape=(1,), dtype=int64) Correct: [1]\n",
      "Index: 0 Predicted: tf.Tensor([4], shape=(1,), dtype=int64) Correct: [4]\n",
      "Index: 200 Predicted: tf.Tensor([4], shape=(1,), dtype=int64) Correct: [4]\n",
      "Index: 400 Predicted: tf.Tensor([4], shape=(1,), dtype=int64) Correct: [4]\n",
      "Index: 600 Predicted: tf.Tensor([4], shape=(1,), dtype=int64) Correct: [4]\n",
      "Index: 800 Predicted: tf.Tensor([4], shape=(1,), dtype=int64) Correct: [4]\n"
     ]
    },
    {
     "data": {
      "text/plain": [
       "(<tf.Tensor: shape=(), dtype=float32, numpy=0.9745901>,\n",
       " <tf.Tensor: shape=(), dtype=float32, numpy=0.59037465>)"
      ]
     },
     "execution_count": 37,
     "metadata": {},
     "output_type": "execute_result"
    }
   ],
   "source": [
    "model_predict_val([val_dataset[2], max_set_len, seg_size])"
   ]
  },
  {
   "cell_type": "code",
   "execution_count": null,
   "id": "eaee4dd1-b07b-4f6d-8d30-a5cb0dc971fa",
   "metadata": {},
   "outputs": [],
   "source": []
  }
 ],
 "metadata": {
  "kernelspec": {
   "display_name": "Python 3 (ipykernel)",
   "language": "python",
   "name": "python3"
  },
  "language_info": {
   "codemirror_mode": {
    "name": "ipython",
    "version": 3
   },
   "file_extension": ".py",
   "mimetype": "text/x-python",
   "name": "python",
   "nbconvert_exporter": "python",
   "pygments_lexer": "ipython3",
   "version": "3.10.5"
  }
 },
 "nbformat": 4,
 "nbformat_minor": 5
}

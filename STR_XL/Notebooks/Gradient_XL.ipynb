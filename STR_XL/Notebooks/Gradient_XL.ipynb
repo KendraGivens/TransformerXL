{
 "cells": [
  {
   "cell_type": "markdown",
   "id": "5ccea5cd-89de-452b-afa6-703df9e9a604",
   "metadata": {},
   "source": [
    "---\n",
    "# Transformer XL\n",
    "---"
   ]
  },
  {
   "cell_type": "markdown",
   "id": "ad2c14f8-8dd8-459f-81fe-a6708e6a8355",
   "metadata": {},
   "source": [
    "---\n",
    "# Import Libraries"
   ]
  },
  {
   "cell_type": "code",
   "execution_count": 1,
   "id": "3dcad43d-67f7-49b9-84ce-6d91a0f468a6",
   "metadata": {},
   "outputs": [],
   "source": [
    "import os\n",
    "import sys"
   ]
  },
  {
   "cell_type": "code",
   "execution_count": 2,
   "id": "5e7cb9df-5746-44a3-998a-b671b284957f",
   "metadata": {},
   "outputs": [],
   "source": [
    "os.environ[\"TF_CPP_MIN_LOG_LEVEL\"] = \"2\""
   ]
  },
  {
   "cell_type": "code",
   "execution_count": 3,
   "id": "2c507a85-fe6f-4d3c-ae1f-16914fdec693",
   "metadata": {},
   "outputs": [],
   "source": [
    "sys.path.append(\"../../../deep-learning-dna\")\n",
    "sys.path.append(\"../\")\n",
    "sys.path.append(\"../../../deep-learning-dna/common\")"
   ]
  },
  {
   "cell_type": "code",
   "execution_count": 4,
   "id": "31b9c98a-b4ee-4667-89a3-5f04549f7d66",
   "metadata": {},
   "outputs": [],
   "source": [
    "import wandb"
   ]
  },
  {
   "cell_type": "code",
   "execution_count": 5,
   "id": "fda64db1-8058-4e15-b2d4-1a3e64f23fbe",
   "metadata": {},
   "outputs": [],
   "source": [
    "import tensorflow as tf\n",
    "import tensorflow.keras as keras\n",
    "import numpy as np\n",
    "import matplotlib.pyplot as plt\n",
    "from IPython.display import display\n",
    "import math\n",
    "import string\n",
    "\n",
    "from Attention import Set_Transformer\n",
    "from common.models import dnabert\n",
    "from common import dna\n",
    "from lmdbm import Lmdb\n",
    "from common.data import DnaSequenceGenerator, DnaLabelType, DnaSampleGenerator, find_dbs\n",
    "import wandb\n",
    "\n",
    "from core.custom_objects import CustomObject\n",
    "\n",
    "import tf_utils as tfu"
   ]
  },
  {
   "cell_type": "code",
   "execution_count": 6,
   "id": "0dfb3b1a-2db7-4463-a208-b5d29e20f97a",
   "metadata": {},
   "outputs": [],
   "source": [
    "strategy = tfu.devices.select_gpu(0, use_dynamic_memory=True)"
   ]
  },
  {
   "cell_type": "markdown",
   "id": "54593a0f-b5b4-401e-91e2-8c1a1598432e",
   "metadata": {
    "tags": []
   },
   "source": [
    "---\n",
    "# Load Data"
   ]
  },
  {
   "cell_type": "code",
   "execution_count": 7,
   "id": "153ec0c2-f4ac-418f-93a5-7f8b21b286ae",
   "metadata": {
    "tags": []
   },
   "outputs": [
    {
     "data": {
      "text/plain": [
       "<common.models.dnabert.DnaBertPretrainModel at 0x7ff37cb274f0>"
      ]
     },
     "execution_count": 7,
     "metadata": {},
     "output_type": "execute_result"
    }
   ],
   "source": [
    "#Import pretrained model\n",
    "api = wandb.Api()\n",
    "model_path = api.artifact(\"sirdavidludwig/dnabert-pretrain/dnabert-pretrain-64dim:latest\").download()\n",
    "pretrained_model = dnabert.DnaBertModel.load(model_path)\n",
    "pretrained_model.load_weights(model_path + \"/model.h5\")\n",
    "pretrained_model"
   ]
  },
  {
   "cell_type": "code",
   "execution_count": 8,
   "id": "4eb8a00e-6821-4a74-87cb-ecd6c405d3f3",
   "metadata": {},
   "outputs": [
    {
     "name": "stderr",
     "output_type": "stream",
     "text": [
      "\u001b[34m\u001b[1mwandb\u001b[0m: Downloading large artifact nachusa-dna:latest, 4079.09MB. 420 files... Done. 0:6:5.0\n"
     ]
    },
    {
     "data": {
      "text/plain": [
       "'/data/dna_samples:v1/train/WS-CCW-Jul2015_S82_L001_R1_001.db'"
      ]
     },
     "execution_count": 8,
     "metadata": {},
     "output_type": "execute_result"
    }
   ],
   "source": [
    "#Load datafiles\n",
    "dataset_path = api.artifact(\"sirdavidludwig/nachusa-dna/nachusa-dna:latest\").download('/data/dna_samples:v1')\n",
    "samples = find_dbs(dataset_path + '/train')\n",
    "samples[13]"
   ]
  },
  {
   "cell_type": "markdown",
   "id": "c6523647-1042-4dc6-aa46-1ad979f03892",
   "metadata": {
    "tags": []
   },
   "source": [
    "---\n",
    "# Create Dataset"
   ]
  },
  {
   "cell_type": "code",
   "execution_count": 9,
   "id": "a14bf26f-f2d8-4907-991e-7dcbbc68f206",
   "metadata": {
    "tags": []
   },
   "outputs": [],
   "source": [
    "split_ratios = [0.8, 0.2]\n",
    "set_len = 1000\n",
    "sequence_len = 150\n",
    "kmer = 3\n",
    "batch_size = [20,5]\n",
    "batches_per_epoch = 20\n",
    "augument = True\n",
    "labels = DnaLabelType.SampleIds\n",
    "seed = 0\n",
    "rng = np.random.default_rng(seed)\n",
    "random_samples = samples.copy()"
   ]
  },
  {
   "cell_type": "code",
   "execution_count": 10,
   "id": "d827ca7f-1900-4e88-a514-ae29daf45858",
   "metadata": {},
   "outputs": [],
   "source": [
    "rng.shuffle(random_samples)"
   ]
  },
  {
   "cell_type": "code",
   "execution_count": 11,
   "id": "1116c1ae-77e7-44c9-a010-efb23c23db48",
   "metadata": {},
   "outputs": [],
   "source": [
    "trimmed_samples, (train_dataset, val_dataset) = DnaSampleGenerator.split(samples=random_samples[0:5], split_ratios=split_ratios, subsample_length=set_len, sequence_length=sequence_len, kmer=kmer,batch_size=batch_size,batches_per_epoch=batches_per_epoch,augment=augument,labels=labels, rng=rng)"
   ]
  },
  {
   "cell_type": "code",
   "execution_count": 12,
   "id": "aac0a881-4dc6-4916-a18c-8c59e026e552",
   "metadata": {},
   "outputs": [
    {
     "data": {
      "text/plain": [
       "['/data/dna_samples:v1/train/WS-CCE-Apr2016_S6_L001_R1_001.db',\n",
       " '/data/dna_samples:v1/train/Wes52-10-TC_S53_L001_R1_001.db',\n",
       " '/data/dna_samples:v1/train/WS-WH-Jul2016_S46_L001_R1_001.db',\n",
       " '/data/dna_samples:v1/train/Wes41-10-HN_S42_L001_R1_001.db',\n",
       " '/data/dna_samples:v1/train/Wesley026-Ag-072820_S165_L001_R1_001.db']"
      ]
     },
     "execution_count": 12,
     "metadata": {},
     "output_type": "execute_result"
    }
   ],
   "source": [
    "random_samples[0:5]"
   ]
  },
  {
   "cell_type": "markdown",
   "id": "fd855356-4e5a-4047-ae81-323277b11b44",
   "metadata": {
    "tags": []
   },
   "source": [
    "--- \n",
    "# Batch Parameters"
   ]
  },
  {
   "cell_type": "code",
   "execution_count": 13,
   "id": "e23e34f9-3066-4756-ad0b-ccc1a3194438",
   "metadata": {},
   "outputs": [
    {
     "data": {
      "text/plain": [
       "5"
      ]
     },
     "execution_count": 13,
     "metadata": {},
     "output_type": "execute_result"
    }
   ],
   "source": [
    "seg_size = 200\n",
    "max_set_len = set_len\n",
    "max_files = len(train_dataset.samples)\n",
    "max_files"
   ]
  },
  {
   "cell_type": "code",
   "execution_count": 14,
   "id": "e768970c-7af4-4626-9d6e-d712ab7de959",
   "metadata": {},
   "outputs": [],
   "source": [
    "if seg_size-2 > set_len:\n",
    "    raise ValueError(\"Segment size should not be bigger than sequence length\")"
   ]
  },
  {
   "cell_type": "code",
   "execution_count": 15,
   "id": "dce0777e-c8af-4835-833d-f1717dbf2501",
   "metadata": {},
   "outputs": [
    {
     "name": "stdout",
     "output_type": "stream",
     "text": [
      "1000\n"
     ]
    }
   ],
   "source": [
    "print(max_set_len)"
   ]
  },
  {
   "cell_type": "markdown",
   "id": "ea3649b2-2e47-4b30-88e5-6792f1646058",
   "metadata": {},
   "source": [
    "---\n",
    "# Create Embeddings"
   ]
  },
  {
   "cell_type": "code",
   "execution_count": 16,
   "id": "cf74ee78-6d96-41ed-9989-e66cfd5cb1b0",
   "metadata": {},
   "outputs": [],
   "source": [
    "#Create 8 dimensional embeddings\n",
    "pretrained_encoder = dnabert.DnaBertEncoderModel(pretrained_model.base)\n",
    "pretrained_encoder.trainable = False"
   ]
  },
  {
   "cell_type": "code",
   "execution_count": 17,
   "id": "fd7ecbe1-3bf2-4cb8-ac2c-6c5e70d58a5a",
   "metadata": {},
   "outputs": [],
   "source": [
    "from common.utils import subbatch_predict"
   ]
  },
  {
   "cell_type": "code",
   "execution_count": 18,
   "id": "3d33b634-4927-4f9a-a241-8c33c9249a3a",
   "metadata": {},
   "outputs": [],
   "source": [
    "class Create_Embeddings():\n",
    "    def __init__(self, encoder):\n",
    "        super(Create_Embeddings, self).__init__()\n",
    "        self.encoder = encoder\n",
    "        \n",
    "    def subbatch_predict(self, model, batch, subbatch_size, concat=lambda old, new: tf.concat((old, new), axis=0)):\n",
    "        batch_size = tf.shape(batch)[0]\n",
    "        \n",
    "        result = tf.zeros((batch_size, 64))\n",
    "        \n",
    "        for i in range(0, tf.shape(batch)[0], subbatch_size):\n",
    "            subbatch = batch[i:i+subbatch_size]\n",
    "            clamp = tf.minimum(subbatch_size, batch_size-i)\n",
    "            encoded = self.encoder(subbatch)\n",
    "            result = tf.tensor_scatter_nd_update(result, tf.expand_dims(tf.range(i, i+clamp), 1), encoded)\n",
    "        return result\n",
    "    \n",
    "    def modify_data_for_input(self, data):\n",
    "        batch_size = tf.shape(data)[0]\n",
    "        subsample_size = tf.shape(data)[1]\n",
    "        flat_data = tf.reshape(data, (batch_size*subsample_size, -1))\n",
    "        encoded = self.subbatch_predict(self.encoder, flat_data, 128)\n",
    "        result = tf.reshape(encoded, (batch_size, subsample_size, -1))\n",
    "        return result\n",
    "    \n",
    "    def __call__(self, data):\n",
    "        embeddings = self.modify_data_for_input(data)\n",
    "        return embeddings"
   ]
  },
  {
   "cell_type": "markdown",
   "id": "835c39dd-9fb5-49bf-8763-14ca694a1a35",
   "metadata": {},
   "source": [
    "---\n",
    "# Cache Memory"
   ]
  },
  {
   "cell_type": "code",
   "execution_count": 19,
   "id": "da4cb5e4-2d26-4e40-a00f-3e71f470b273",
   "metadata": {},
   "outputs": [],
   "source": [
    "def Cache_Memory(current_state, previous_state, memory_length):\n",
    "    if memory_length is None or memory_length == 0:\n",
    "        return None\n",
    "    else:\n",
    "        if previous_state is None:\n",
    "            new_mem = current_state[:, -memory_length:, :]\n",
    "        else:\n",
    "            new_mem = tf.concat(\n",
    "                    [previous_state, current_state], 1)[:, -memory_length:, :]\n",
    "\n",
    "    return tf.stop_gradient(new_mem)"
   ]
  },
  {
   "cell_type": "markdown",
   "id": "bb50453f-628c-412e-942b-d486d01c6b8a",
   "metadata": {},
   "source": [
    "---\n",
    "# Attention"
   ]
  },
  {
   "cell_type": "code",
   "execution_count": 20,
   "id": "1bf9ef79-9ede-4271-8542-223cdd1e11ed",
   "metadata": {},
   "outputs": [],
   "source": [
    "class Attention(keras.layers.Layer):\n",
    "    def __init__(self, num_induce, embed_dim, num_heads, use_layernorm, pre_layernorm, use_keras_mha):\n",
    "        super(Attention, self).__init__()\n",
    "        \n",
    "        self.num_induce = num_induce\n",
    "        self.embed_dim = embed_dim\n",
    "        self.num_heads = num_heads\n",
    "        self.use_layernorm = use_layernorm\n",
    "        self.pre_layernorm = pre_layernorm\n",
    "        self.use_keras_mha = use_keras_mha\n",
    "        \n",
    "        if self.num_induce == 0:       \n",
    "            self.attention = (Set_Transformer.SetAttentionBlock(embed_dim=self.embed_dim, num_heads=self.num_heads, use_layernorm=self.use_layernorm,pre_layernorm=self.pre_layernorm,use_keras_mha=self.use_keras_mha))\n",
    "        else:\n",
    "            self.attention = Set_Transformer.InducedSetAttentionBlock(embed_dim=self.embed_dim, num_heads=self.num_heads, num_induce=self.num_induce, use_layernorm=self.use_layernorm, pre_layernorm=self.pre_layernorm, use_keras_mha=self.use_keras_mha)\n",
    "    \n",
    "    \n",
    "    def call(self, data, mems):\n",
    "                \n",
    "            attention = self.attention([data, mems])\n",
    "                \n",
    "            return attention"
   ]
  },
  {
   "cell_type": "markdown",
   "id": "d5c32bb5-4520-4802-a8f0-5f7849905a83",
   "metadata": {},
   "source": [
    "---\n",
    "# XL Block"
   ]
  },
  {
   "cell_type": "code",
   "execution_count": 21,
   "id": "7245b7dd-a3b2-464a-9f5b-7efd4a9d0ed2",
   "metadata": {},
   "outputs": [],
   "source": [
    "class TransformerXLBlock(tf.keras.layers.Layer):\n",
    "    def __init__(self,\n",
    "                 num_induce, \n",
    "                 embed_dim,\n",
    "                 num_heads,\n",
    "                 use_layernorm,\n",
    "                 pre_layernorm,\n",
    "                 use_keras_mha,):\n",
    "\n",
    "        super(TransformerXLBlock, self).__init__()\n",
    "        \n",
    "        self.num_induce = num_induce\n",
    "        self.embed_dim = embed_dim\n",
    "        self.num_heads = num_heads\n",
    "        self.use_layernorm = use_layernorm\n",
    "        self.pre_layernorm = pre_layernorm\n",
    "        self.use_keras_mha = use_keras_mha\n",
    "        \n",
    "        self.attention = Attention\n",
    "        \n",
    "        self.attention_layer = self.attention(self.num_induce, self.embed_dim, self.num_heads, self.use_layernorm, self.pre_layernorm, self.use_keras_mha)\n",
    "\n",
    "   \n",
    "    def call(self,\n",
    "             content_stream,\n",
    "             state=None):\n",
    "        \n",
    "        attention_output = self.attention_layer(content_stream, state)\n",
    "\n",
    "        return attention_output"
   ]
  },
  {
   "cell_type": "markdown",
   "id": "8749ec30-1281-4f9d-8baa-54b890fb7949",
   "metadata": {},
   "source": [
    "---\n",
    "# Transformer XL"
   ]
  },
  {
   "cell_type": "code",
   "execution_count": 22,
   "id": "019ca25d-e899-4e17-8f41-dfdc3d9bdee5",
   "metadata": {},
   "outputs": [],
   "source": [
    "class TransformerXL(keras.layers.Layer):\n",
    "    def __init__(self,\n",
    "                 mem_switched, \n",
    "                 num_layers,\n",
    "                 num_induce,\n",
    "                 embed_dim,\n",
    "                 num_heads,\n",
    "                 dropout_rate,\n",
    "                 mem_len=None,\n",
    "                 use_layernorm=True,\n",
    "                 pre_layernorm=True, \n",
    "                 use_keras_mha=True):\n",
    "        \n",
    "        super(TransformerXL, self).__init__()\n",
    "\n",
    "        self.mem_switched = mem_switched\n",
    "        self.num_layers = num_layers\n",
    "        self.num_induce = num_induce\n",
    "        self.embed_dim = embed_dim\n",
    "        self.num_heads = num_heads\n",
    "        self.dropout_rate = dropout_rate\n",
    "        self.mem_len = mem_len\n",
    "        self.use_layernorm = use_layernorm\n",
    "        self.pre_layernorm = pre_layernorm\n",
    "        self.use_keras_mha = use_keras_mha\n",
    "\n",
    "        self.transformer_xl_layers = []\n",
    "        \n",
    "        for i in range(self.num_layers):\n",
    "            self.transformer_xl_layers.append(\n",
    "                    TransformerXLBlock(self.num_induce,\n",
    "                                        self.embed_dim,\n",
    "                                        self.num_heads,\n",
    "                                        self.use_layernorm,\n",
    "                                        self.pre_layernorm, \n",
    "                                        self.use_keras_mha))\n",
    "\n",
    "        self.output_dropout = tf.keras.layers.Dropout(rate=self.dropout_rate)\n",
    "\n",
    "    def call(self,\n",
    "             content_stream,\n",
    "             state=None):\n",
    "        \n",
    "        new_mems = []\n",
    "\n",
    "        if state is None:\n",
    "            state = [None] * self.num_layers\n",
    "            \n",
    "        for i in range(self.num_layers):\n",
    "            if self.mem_switched == False:\n",
    "                new_mems.append(Cache_Memory(content_stream, state[i], self.mem_len))\n",
    "            \n",
    "            transformer_xl_layer = self.transformer_xl_layers[i]\n",
    "            \n",
    "            transformer_xl_output = transformer_xl_layer(content_stream=content_stream,\n",
    "                                                        state=state[i])\n",
    "            \n",
    "            content_stream = self.output_dropout(transformer_xl_output)\n",
    "            \n",
    "            if self.mem_switched == True:\n",
    "                new_mems.append(Cache_Memory(content_stream, state[i], self.mem_len))\n",
    "                \n",
    "        output_stream = content_stream\n",
    "        return output_stream, new_mems"
   ]
  },
  {
   "cell_type": "markdown",
   "id": "a127a4b5-15e3-46e3-838b-a5e18e4d8dc8",
   "metadata": {},
   "source": [
    "---\n",
    "# Xl Model Class"
   ]
  },
  {
   "cell_type": "code",
   "execution_count": 23,
   "id": "855d43dd-e182-4c2a-961a-ff9781141f81",
   "metadata": {},
   "outputs": [],
   "source": [
    "class XlModel(keras.Model):\n",
    "    def __init__(self, mem_switched, max_files, seg_size, max_set_len, num_induce, embed_dim, num_layers, num_heads, mem_len, dropout_rate, num_seeds, use_layernorm, pre_layernorm, use_keras_mha):\n",
    "        super(XlModel, self).__init__()\n",
    "        \n",
    "        self.mem_switched = mem_switched\n",
    "        self.max_files = max_files\n",
    "        self.seg_size = seg_size\n",
    "        self.max_set_len = max_set_len\n",
    "        self.num_induce = num_induce\n",
    "        self.embed_dim = embed_dim\n",
    "        self.num_layers = num_layers\n",
    "        self.num_heads = num_heads\n",
    "        self.mem_len = mem_len\n",
    "        self.dropout_rate = dropout_rate\n",
    "        self.num_seeds = num_seeds\n",
    "        self.use_layernorm = use_layernorm\n",
    "        self.pre_layernorm = pre_layernorm\n",
    "        self.use_keras_mha = use_keras_mha\n",
    "\n",
    "        self.linear_layer = keras.layers.Dense(self.embed_dim)\n",
    "        \n",
    "        self.transformer_xl = TransformerXL(self.mem_switched,\n",
    "                                            self.num_layers,\n",
    "                                             self.num_induce,\n",
    "                                             self.embed_dim,\n",
    "                                             self.num_heads,\n",
    "                                             self.dropout_rate,\n",
    "                                             self.mem_len,\n",
    "                                             self.use_layernorm,\n",
    "                                             self.pre_layernorm,\n",
    "                                             self.use_keras_mha)\n",
    "        \n",
    "\n",
    "        self.pooling_layer = Set_Transformer.PoolingByMultiHeadAttention(num_seeds=self.num_seeds,embed_dim=self.embed_dim,num_heads=self.num_heads,use_layernorm=self.use_layernorm,pre_layernorm=self.pre_layernorm, use_keras_mha=self.use_keras_mha, is_final_block=True)\n",
    "    \n",
    "        self.reshape_layer = keras.layers.Reshape((self.embed_dim,))\n",
    "   \n",
    "        self.output_layer = keras.layers.Dense(self.max_files, activation=keras.activations.softmax)\n",
    "        \n",
    "    \n",
    "    def call(self, embeddings, mems, index, training=None):        \n",
    "        \n",
    "        linear_transform = self.linear_layer(embeddings)\n",
    "        \n",
    "        segment = linear_transform[:, index:index+self.seg_size]\n",
    "        \n",
    "        output, mems = self.transformer_xl(content_stream=segment, state=mems)\n",
    "                \n",
    "        pooling = self.pooling_layer(output)\n",
    "\n",
    "        reshape = self.reshape_layer(pooling)\n",
    "\n",
    "        output = self.output_layer(reshape)          \n",
    "        \n",
    "        return output, mems"
   ]
  },
  {
   "cell_type": "markdown",
   "id": "e3469de1-250d-4c14-bb79-a4e74f0fe93e",
   "metadata": {},
   "source": [
    "---\n",
    "# Xl Parameters"
   ]
  },
  {
   "cell_type": "code",
   "execution_count": 24,
   "id": "2bc3ea7d-d4a1-4a1e-bf2a-7cd1c91430cf",
   "metadata": {},
   "outputs": [],
   "source": [
    "#Xl Parameters#\n",
    "mem_switched=False\n",
    "num_induce = 0\n",
    "embed_dim = 64\n",
    "num_layers = 8\n",
    "num_heads = 8\n",
    "mem_len = 200\n",
    "dropout_rate = 0.01\n",
    "num_seeds = 1\n",
    "use_layernorm = True\n",
    "pre_layernorm = True\n",
    "use_keras_mha = True"
   ]
  },
  {
   "cell_type": "markdown",
   "id": "89649663-7d18-48bc-8678-ce5f093908cc",
   "metadata": {},
   "source": [
    "---\n",
    "# Create Models"
   ]
  },
  {
   "cell_type": "code",
   "execution_count": 25,
   "id": "821b0c4a-6d05-4867-a713-474bfdbff881",
   "metadata": {},
   "outputs": [],
   "source": [
    "model = XlModel(mem_switched, max_files, seg_size, max_set_len, num_induce, embed_dim, num_layers, num_heads, mem_len, dropout_rate, num_seeds, use_layernorm, pre_layernorm, use_keras_mha)\n",
    "model.compile(loss = keras.losses.SparseCategoricalCrossentropy(from_logits=False), optimizer = keras.optimizers.Adam(1e-3), metrics = keras.metrics.SparseCategoricalAccuracy())"
   ]
  },
  {
   "cell_type": "code",
   "execution_count": 26,
   "id": "7ddcc096-cb9a-4c19-a838-0aa92a6a13bc",
   "metadata": {},
   "outputs": [],
   "source": [
    "epochs=5"
   ]
  },
  {
   "cell_type": "code",
   "execution_count": 27,
   "id": "baf2dd08-1d8e-4e64-9125-450f66ddd4cf",
   "metadata": {},
   "outputs": [],
   "source": [
    "loss_function = keras.losses.SparseCategoricalCrossentropy(from_logits=False)\n",
    "accuracy_function = keras.metrics.SparseCategoricalAccuracy()"
   ]
  },
  {
   "cell_type": "code",
   "execution_count": 28,
   "id": "2cd72317-fe10-453b-9cde-1e8fb46f65f4",
   "metadata": {},
   "outputs": [],
   "source": [
    "subbatch_size = 1"
   ]
  },
  {
   "cell_type": "code",
   "execution_count": 29,
   "id": "4d4ceae0-e0b2-452c-8ce2-9cedc6054de0",
   "metadata": {},
   "outputs": [],
   "source": [
    "embedder = Create_Embeddings(pretrained_encoder)"
   ]
  },
  {
   "cell_type": "code",
   "execution_count": 30,
   "id": "5a822f59-eafd-4c3a-92a3-ab780c57cc90",
   "metadata": {},
   "outputs": [],
   "source": [
    "e = embedder(train_dataset[0][0])\n",
    "mems = tf.zeros((num_layers, tf.shape(e)[0], mem_len, embed_dim))\n",
    "e = model(e, mems, 0)"
   ]
  },
  {
   "cell_type": "code",
   "execution_count": 66,
   "id": "84263aa9-39d9-42a4-b150-654cd883d92b",
   "metadata": {},
   "outputs": [],
   "source": [
    "@tf.function()\n",
    "def train_step(inputs):\n",
    "    batch, max_set_len, seg_size = inputs\n",
    "    \n",
    "    #Iterate through subbatches\n",
    "    #Pull out one set at a time\n",
    "    for i in range (batch_size[0]):\n",
    "        print(\"Building Train:\", i)\n",
    "        n = i + subbatch_size\n",
    "        one_set = (batch[0][i:n], batch[1][i:n]) \n",
    "        x, y = one_set\n",
    "        i += 1\n",
    "        \n",
    "        #Initialize mems\n",
    "        mems = tf.zeros((num_layers, tf.shape(x)[0], mem_len, embed_dim))\n",
    "        \n",
    "        #Initialize embeddings\n",
    "        embeddings = embedder(x)\n",
    "        \n",
    "        #Initialize gradients\n",
    "        accum_grads = [tf.zeros_like(w) for w in model.trainable_weights]\n",
    "    \n",
    "        total_loss = 0.0\n",
    "        total_accuracy = 0.0\n",
    "    \n",
    "        #Split set into segments\n",
    "        for index in range(0, max_set_len, seg_size):\n",
    "            \n",
    "            #Pass entire set (for embeddings) and memories into model\n",
    "            with tf.GradientTape() as tape:\n",
    "                \n",
    "                segment_output, mems = model(embeddings, mems, index, True)\n",
    "\n",
    "                loss = loss_function(y, segment_output)\n",
    "                \n",
    "                #Set loss\n",
    "                total_loss += loss\n",
    "\n",
    "            #Compute segment level gradients\n",
    "            grads = tape.gradient(loss, model.trainable_weights)   \n",
    "\n",
    "            accum_grads = [(gs + ags) for gs, ags in zip(grads, accum_grads)]    \n",
    "\n",
    "        total_accuracy += accuracy_function(y, segment_output)\n",
    "        \n",
    "        #Apply gradients\n",
    "        model.optimizer.apply_gradients(zip(accum_grads, model.trainable_weights))\n",
    "\n",
    "    return total_loss, total_accuracy"
   ]
  },
  {
   "cell_type": "code",
   "execution_count": 67,
   "id": "1a0f3471-9e12-43b8-9f90-c0619b204bdf",
   "metadata": {},
   "outputs": [],
   "source": [
    "@tf.function()\n",
    "def test_step(inputs):\n",
    "    batch, max_set_len, seg_size = inputs\n",
    "    \n",
    "    #Iterate through subbatches\n",
    "    #Pull out one set at a time\n",
    "    for i in range (batch_size[1]):\n",
    "        print(\"Building Val:\", i)\n",
    "        n = i + subbatch_size\n",
    "        one_set = (batch[0][i:n], batch[1][i:n]) \n",
    "        x, y = one_set\n",
    "        i += 1\n",
    "\n",
    "        #Initialize mems\n",
    "        mems = tf.zeros((num_layers, tf.shape(x)[0], mem_len, embed_dim))\n",
    "\n",
    "        #Initialize embeddings\n",
    "        embeddings = embedder(x)\n",
    "\n",
    "        total_loss = 0.0\n",
    "        total_accuracy = 0.0\n",
    "\n",
    "        #Split set into segments\n",
    "        for index in range(0, max_set_len, seg_size):\n",
    "\n",
    "            #Pass entire set (for embeddings) and memories into model\n",
    "            segment_output, mems = model(embeddings, mems, index, True)\n",
    "\n",
    "            loss = loss_function(y, segment_output)\n",
    "\n",
    "            #Set loss\n",
    "            total_loss += loss\n",
    "\n",
    "        total_accuracy += accuracy_function(y, segment_output)\n",
    "\n",
    "    return total_loss, total_accuracy"
   ]
  },
  {
   "cell_type": "code",
   "execution_count": null,
   "id": "5093a12f-e0e8-4f4c-a9c5-82e29c732957",
   "metadata": {},
   "outputs": [
    {
     "name": "stdout",
     "output_type": "stream",
     "text": [
      "Building Train: 0\n",
      "Building Train: 1\n",
      "Building Train: 2\n",
      "Building Train: 3\n",
      "Building Train: 4\n",
      "Building Train: 5\n",
      "Building Train: 6\n",
      "Building Train: 7\n",
      "Building Train: 8\n",
      "Building Train: 9\n",
      "Building Train: 10\n",
      "Building Train: 11\n",
      "Building Train: 12\n",
      "Building Train: 13\n",
      "Building Train: 14\n",
      "Building Train: 15\n",
      "Building Train: 16\n",
      "Building Train: 17\n",
      "Building Train: 18\n",
      "Building Train: 19\n",
      "1/5 batch: 20/20 Train Loss: 3.073758602142334 Train Accuracy = 0.5363945364952087Building Val: 0\n",
      "Building Val: 1\n",
      "Building Val: 2\n",
      "Building Val: 3\n",
      "Building Val: 4\n",
      "2/5 batch: 1/20 Train Loss: 3.434664726257324 Train Accuracy = 0.5398693084716797"
     ]
    }
   ],
   "source": [
    "for epoch in range(epochs):    \n",
    "    loss = 0.0\n",
    "    accuracy = 0.0\n",
    "    i = 0\n",
    "    \n",
    "    #Iterate through batches\n",
    "    for batch in train_dataset:\n",
    "        \n",
    "        i += 1\n",
    "        #Pass one batch intro train_step\n",
    "        loss, accuracy = train_step([batch, max_set_len, seg_size])\n",
    "        \n",
    "        print(f\"\\r{epoch+1}/{epochs} batch: {i}/{len(train_dataset)} Train Loss: {loss} Train Accuracy = {accuracy}\", end=\"\")\n",
    "    \n",
    "    loss = 0.0\n",
    "    accuracy = 0.0\n",
    "    i = 0\n",
    "\n",
    "    #Iterate through batches\n",
    "    for batch in val_dataset:\n",
    "        \n",
    "        i += 1\n",
    "        #Pass one batch intro train_step\n",
    "        loss, accuracy = test_step([batch, max_set_len, seg_size])\n",
    "        \n",
    "        print(f\"\\r{epoch+1}/{epochs} batch: {i}/{len(val_dataset)} Val Loss: {loss} Val Accuracy = {accuracy}\", end=\"\")"
   ]
  },
  {
   "cell_type": "code",
   "execution_count": 58,
   "id": "27de7a60-736a-4049-8616-a818292836ed",
   "metadata": {},
   "outputs": [],
   "source": [
    "x = 0\n",
    "def model_predict(inputs):\n",
    "    batch, max_set_len, seg_size = inputs\n",
    "    for i in range (batch_size[0]):\n",
    "        n = i + subbatch_size\n",
    "        one_set = (batch[0][i:n], batch[1][i:n]) \n",
    "        x, y = one_set\n",
    "        i += 1\n",
    "\n",
    "        #Initialize mems\n",
    "        mems = tf.zeros((num_layers, tf.shape(x)[0], mem_len, embed_dim))\n",
    "\n",
    "        #Initialize embeddings\n",
    "        embeddings = embedder(x)\n",
    "\n",
    "        total_loss = 0.0\n",
    "        total_accuracy = 0.0\n",
    "\n",
    "        #Split set into segments\n",
    "        for index in range(0, max_set_len, seg_size):\n",
    "\n",
    "            #Pass entire set (for embeddings) and memories into model\n",
    "            segment_output, mems = model(embeddings, mems, index, True)\n",
    "            x = tf.argmax(segment_output, -1)\n",
    "            print(\"Index:\", index, \"Predicted:\", tf.argmax(segment_output, -1), \"Correct:\", y)\n",
    "            \n",
    "            loss = loss_function(y, segment_output)\n",
    "\n",
    "            #Set loss\n",
    "            total_loss += loss\n",
    "\n",
    "        total_accuracy += accuracy_function(y, segment_output)\n",
    "\n",
    "    return total_loss, total_accuracy"
   ]
  },
  {
   "cell_type": "code",
   "execution_count": 60,
   "id": "4ad6e6e1-9af9-4d85-ba0b-8572f4dc2caf",
   "metadata": {},
   "outputs": [
    {
     "ename": "InvalidArgumentError",
     "evalue": "Exception encountered when calling layer \"relative_multi_head_attention\" (type RelativeMultiHeadAttention).\n\nrequired broadcastable shapes [Op:AddV2]\n\nCall arguments received:\n  • query=tf.Tensor(shape=(128, 2, 64), dtype=float32)\n  • value=tf.Tensor(shape=(128, 2, 64), dtype=float32)\n  • key=None\n  • attention_mask=None\n  • return_attention_scores=False\n  • training=False",
     "output_type": "error",
     "traceback": [
      "\u001b[0;31m---------------------------------------------------------------------------\u001b[0m",
      "\u001b[0;31mInvalidArgumentError\u001b[0m                      Traceback (most recent call last)",
      "Input \u001b[0;32mIn [60]\u001b[0m, in \u001b[0;36m<cell line: 1>\u001b[0;34m()\u001b[0m\n\u001b[0;32m----> 1\u001b[0m \u001b[43mmodel_predict\u001b[49m\u001b[43m(\u001b[49m\u001b[43m[\u001b[49m\u001b[43mval_dataset\u001b[49m\u001b[43m[\u001b[49m\u001b[38;5;241;43m0\u001b[39;49m\u001b[43m]\u001b[49m\u001b[43m[\u001b[49m\u001b[38;5;241;43m0\u001b[39;49m\u001b[43m]\u001b[49m\u001b[43m,\u001b[49m\u001b[43m \u001b[49m\u001b[43mmax_set_len\u001b[49m\u001b[43m,\u001b[49m\u001b[43m \u001b[49m\u001b[43mseg_size\u001b[49m\u001b[43m]\u001b[49m\u001b[43m)\u001b[49m\n",
      "Input \u001b[0;32mIn [58]\u001b[0m, in \u001b[0;36mmodel_predict\u001b[0;34m(inputs)\u001b[0m\n\u001b[1;32m     11\u001b[0m mems \u001b[38;5;241m=\u001b[39m tf\u001b[38;5;241m.\u001b[39mzeros((num_layers, tf\u001b[38;5;241m.\u001b[39mshape(x)[\u001b[38;5;241m0\u001b[39m], mem_len, embed_dim))\n\u001b[1;32m     13\u001b[0m \u001b[38;5;66;03m#Initialize embeddings\u001b[39;00m\n\u001b[0;32m---> 14\u001b[0m embeddings \u001b[38;5;241m=\u001b[39m \u001b[43membedder\u001b[49m\u001b[43m(\u001b[49m\u001b[43mx\u001b[49m\u001b[43m)\u001b[49m\n\u001b[1;32m     16\u001b[0m total_loss \u001b[38;5;241m=\u001b[39m \u001b[38;5;241m0.0\u001b[39m\n\u001b[1;32m     17\u001b[0m total_accuracy \u001b[38;5;241m=\u001b[39m \u001b[38;5;241m0.0\u001b[39m\n",
      "Input \u001b[0;32mIn [18]\u001b[0m, in \u001b[0;36mCreate_Embeddings.__call__\u001b[0;34m(self, data)\u001b[0m\n\u001b[1;32m     26\u001b[0m \u001b[38;5;28;01mdef\u001b[39;00m \u001b[38;5;21m__call__\u001b[39m(\u001b[38;5;28mself\u001b[39m, data):\n\u001b[0;32m---> 27\u001b[0m     embeddings \u001b[38;5;241m=\u001b[39m \u001b[38;5;28;43mself\u001b[39;49m\u001b[38;5;241;43m.\u001b[39;49m\u001b[43mmodify_data_for_input\u001b[49m\u001b[43m(\u001b[49m\u001b[43mdata\u001b[49m\u001b[43m)\u001b[49m\n\u001b[1;32m     28\u001b[0m     \u001b[38;5;28;01mreturn\u001b[39;00m embeddings\n",
      "Input \u001b[0;32mIn [18]\u001b[0m, in \u001b[0;36mCreate_Embeddings.modify_data_for_input\u001b[0;34m(self, data)\u001b[0m\n\u001b[1;32m     20\u001b[0m subsample_size \u001b[38;5;241m=\u001b[39m tf\u001b[38;5;241m.\u001b[39mshape(data)[\u001b[38;5;241m1\u001b[39m]\n\u001b[1;32m     21\u001b[0m flat_data \u001b[38;5;241m=\u001b[39m tf\u001b[38;5;241m.\u001b[39mreshape(data, (batch_size\u001b[38;5;241m*\u001b[39msubsample_size, \u001b[38;5;241m-\u001b[39m\u001b[38;5;241m1\u001b[39m))\n\u001b[0;32m---> 22\u001b[0m encoded \u001b[38;5;241m=\u001b[39m \u001b[38;5;28;43mself\u001b[39;49m\u001b[38;5;241;43m.\u001b[39;49m\u001b[43msubbatch_predict\u001b[49m\u001b[43m(\u001b[49m\u001b[38;5;28;43mself\u001b[39;49m\u001b[38;5;241;43m.\u001b[39;49m\u001b[43mencoder\u001b[49m\u001b[43m,\u001b[49m\u001b[43m \u001b[49m\u001b[43mflat_data\u001b[49m\u001b[43m,\u001b[49m\u001b[43m \u001b[49m\u001b[38;5;241;43m128\u001b[39;49m\u001b[43m)\u001b[49m\n\u001b[1;32m     23\u001b[0m result \u001b[38;5;241m=\u001b[39m tf\u001b[38;5;241m.\u001b[39mreshape(encoded, (batch_size, subsample_size, \u001b[38;5;241m-\u001b[39m\u001b[38;5;241m1\u001b[39m))\n\u001b[1;32m     24\u001b[0m \u001b[38;5;28;01mreturn\u001b[39;00m result\n",
      "Input \u001b[0;32mIn [18]\u001b[0m, in \u001b[0;36mCreate_Embeddings.subbatch_predict\u001b[0;34m(self, model, batch, subbatch_size, concat)\u001b[0m\n\u001b[1;32m     12\u001b[0m     subbatch \u001b[38;5;241m=\u001b[39m batch[i:i\u001b[38;5;241m+\u001b[39msubbatch_size]\n\u001b[1;32m     13\u001b[0m     clamp \u001b[38;5;241m=\u001b[39m tf\u001b[38;5;241m.\u001b[39mminimum(subbatch_size, batch_size\u001b[38;5;241m-\u001b[39mi)\n\u001b[0;32m---> 14\u001b[0m     encoded \u001b[38;5;241m=\u001b[39m \u001b[38;5;28;43mself\u001b[39;49m\u001b[38;5;241;43m.\u001b[39;49m\u001b[43mencoder\u001b[49m\u001b[43m(\u001b[49m\u001b[43msubbatch\u001b[49m\u001b[43m)\u001b[49m\n\u001b[1;32m     15\u001b[0m     result \u001b[38;5;241m=\u001b[39m tf\u001b[38;5;241m.\u001b[39mtensor_scatter_nd_update(result, tf\u001b[38;5;241m.\u001b[39mexpand_dims(tf\u001b[38;5;241m.\u001b[39mrange(i, i\u001b[38;5;241m+\u001b[39mclamp), \u001b[38;5;241m1\u001b[39m), encoded)\n\u001b[1;32m     16\u001b[0m \u001b[38;5;28;01mreturn\u001b[39;00m result\n",
      "File \u001b[0;32m/opt/conda/lib/python3.10/site-packages/keras/utils/traceback_utils.py:67\u001b[0m, in \u001b[0;36mfilter_traceback.<locals>.error_handler\u001b[0;34m(*args, **kwargs)\u001b[0m\n\u001b[1;32m     65\u001b[0m \u001b[38;5;28;01mexcept\u001b[39;00m \u001b[38;5;167;01mException\u001b[39;00m \u001b[38;5;28;01mas\u001b[39;00m e:  \u001b[38;5;66;03m# pylint: disable=broad-except\u001b[39;00m\n\u001b[1;32m     66\u001b[0m   filtered_tb \u001b[38;5;241m=\u001b[39m _process_traceback_frames(e\u001b[38;5;241m.\u001b[39m__traceback__)\n\u001b[0;32m---> 67\u001b[0m   \u001b[38;5;28;01mraise\u001b[39;00m e\u001b[38;5;241m.\u001b[39mwith_traceback(filtered_tb) \u001b[38;5;28;01mfrom\u001b[39;00m \u001b[38;5;28mNone\u001b[39m\n\u001b[1;32m     68\u001b[0m \u001b[38;5;28;01mfinally\u001b[39;00m:\n\u001b[1;32m     69\u001b[0m   \u001b[38;5;28;01mdel\u001b[39;00m filtered_tb\n",
      "File \u001b[0;32m~/work/TransformerXL/STR_XL/Notebooks/../../../deep-learning-dna/common/models/dnabert.py:111\u001b[0m, in \u001b[0;36mDnaBertEncoderModel.call\u001b[0;34m(self, inputs, training)\u001b[0m\n\u001b[1;32m    109\u001b[0m \u001b[38;5;28;01mif\u001b[39;00m \u001b[38;5;28mself\u001b[39m\u001b[38;5;241m.\u001b[39muse_kmer_encoder:\n\u001b[1;32m    110\u001b[0m     inputs \u001b[38;5;241m=\u001b[39m \u001b[38;5;28mself\u001b[39m\u001b[38;5;241m.\u001b[39mkmer_encoder(inputs)\n\u001b[0;32m--> 111\u001b[0m embedded \u001b[38;5;241m=\u001b[39m \u001b[38;5;28;43mself\u001b[39;49m\u001b[38;5;241;43m.\u001b[39;49m\u001b[43mbase\u001b[49m\u001b[43m(\u001b[49m\u001b[43minputs\u001b[49m\u001b[43m \u001b[49m\u001b[38;5;241;43m+\u001b[39;49m\u001b[43m \u001b[49m\u001b[38;5;241;43m1\u001b[39;49m\u001b[43m,\u001b[49m\u001b[43m \u001b[49m\u001b[43mtraining\u001b[49m\u001b[38;5;241;43m=\u001b[39;49m\u001b[43mtraining\u001b[49m\u001b[43m)\u001b[49m\n\u001b[1;32m    112\u001b[0m token, _ \u001b[38;5;241m=\u001b[39m \u001b[38;5;28mself\u001b[39m\u001b[38;5;241m.\u001b[39msplit_token(embedded)\n\u001b[1;32m    113\u001b[0m \u001b[38;5;28;01mreturn\u001b[39;00m token\n",
      "File \u001b[0;32m~/work/TransformerXL/STR_XL/Notebooks/../../../deep-learning-dna/common/models/dnabert.py:36\u001b[0m, in \u001b[0;36mDnaBertModel.call\u001b[0;34m(self, inputs, training)\u001b[0m\n\u001b[1;32m     35\u001b[0m \u001b[38;5;28;01mdef\u001b[39;00m \u001b[38;5;21mcall\u001b[39m(\u001b[38;5;28mself\u001b[39m, inputs, training\u001b[38;5;241m=\u001b[39m\u001b[38;5;28;01mNone\u001b[39;00m):\n\u001b[0;32m---> 36\u001b[0m     \u001b[38;5;28;01mreturn\u001b[39;00m \u001b[38;5;28;43mself\u001b[39;49m\u001b[38;5;241;43m.\u001b[39;49m\u001b[43mmodel\u001b[49m\u001b[43m(\u001b[49m\u001b[43minputs\u001b[49m\u001b[43m,\u001b[49m\u001b[43m \u001b[49m\u001b[43mtraining\u001b[49m\u001b[38;5;241;43m=\u001b[39;49m\u001b[43mtraining\u001b[49m\u001b[43m)\u001b[49m\n",
      "File \u001b[0;32m~/work/TransformerXL/STR_XL/Notebooks/../../../deep-learning-dna/common/layers.py:314\u001b[0m, in \u001b[0;36mBaseTransformerBlock.call\u001b[0;34m(self, inputs, training)\u001b[0m\n\u001b[1;32m    312\u001b[0m \u001b[38;5;28;01mdef\u001b[39;00m \u001b[38;5;21mcall\u001b[39m(\u001b[38;5;28mself\u001b[39m, inputs, training):\n\u001b[1;32m    313\u001b[0m     \u001b[38;5;28;01mif\u001b[39;00m \u001b[38;5;28mself\u001b[39m\u001b[38;5;241m.\u001b[39mprenorm:\n\u001b[0;32m--> 314\u001b[0m         \u001b[38;5;28;01mreturn\u001b[39;00m \u001b[38;5;28;43mself\u001b[39;49m\u001b[38;5;241;43m.\u001b[39;49m\u001b[43matt_prenorm\u001b[49m\u001b[43m(\u001b[49m\u001b[43minputs\u001b[49m\u001b[43m,\u001b[49m\u001b[43m \u001b[49m\u001b[43mtraining\u001b[49m\u001b[43m)\u001b[49m\n\u001b[1;32m    315\u001b[0m     \u001b[38;5;28;01mreturn\u001b[39;00m \u001b[38;5;28mself\u001b[39m\u001b[38;5;241m.\u001b[39matt_postnorm(inputs, training)\n",
      "File \u001b[0;32m~/work/TransformerXL/STR_XL/Notebooks/../../../deep-learning-dna/common/layers.py:294\u001b[0m, in \u001b[0;36mBaseTransformerBlock.att_prenorm\u001b[0;34m(self, inputs, training)\u001b[0m\n\u001b[1;32m    292\u001b[0m \u001b[38;5;28;01mdef\u001b[39;00m \u001b[38;5;21matt_prenorm\u001b[39m(\u001b[38;5;28mself\u001b[39m, inputs, training):\n\u001b[1;32m    293\u001b[0m     inputs_norm \u001b[38;5;241m=\u001b[39m \u001b[38;5;28mself\u001b[39m\u001b[38;5;241m.\u001b[39mlayernorm1(inputs)\n\u001b[0;32m--> 294\u001b[0m     attn_output \u001b[38;5;241m=\u001b[39m \u001b[38;5;28;43mself\u001b[39;49m\u001b[38;5;241;43m.\u001b[39;49m\u001b[43matt\u001b[49m\u001b[43m(\u001b[49m\u001b[43minputs_norm\u001b[49m\u001b[43m,\u001b[49m\u001b[43m \u001b[49m\u001b[43minputs_norm\u001b[49m\u001b[43m)\u001b[49m\n\u001b[1;32m    295\u001b[0m     attn_output \u001b[38;5;241m=\u001b[39m \u001b[38;5;28mself\u001b[39m\u001b[38;5;241m.\u001b[39mdropout1(attn_output, training\u001b[38;5;241m=\u001b[39mtraining)\n\u001b[1;32m    296\u001b[0m     attn_output \u001b[38;5;241m=\u001b[39m inputs \u001b[38;5;241m+\u001b[39m attn_output\n",
      "File \u001b[0;32m~/work/TransformerXL/STR_XL/Notebooks/../../../deep-learning-dna/common/layers.py:252\u001b[0m, in \u001b[0;36mRelativeMultiHeadAttention._compute_attention\u001b[0;34m(self, query, key, value, attention_mask, training)\u001b[0m\n\u001b[1;32m    248\u001b[0m \u001b[38;5;66;03m# Take the dot product between \"query\" and \"key\" to get the raw\u001b[39;00m\n\u001b[1;32m    249\u001b[0m \u001b[38;5;66;03m# attention scores.\u001b[39;00m\n\u001b[1;32m    250\u001b[0m attention_scores \u001b[38;5;241m=\u001b[39m tf\u001b[38;5;241m.\u001b[39meinsum(\u001b[38;5;28mself\u001b[39m\u001b[38;5;241m.\u001b[39m_dot_product_equation, key, query)\n\u001b[0;32m--> 252\u001b[0m attention_scores \u001b[38;5;241m=\u001b[39m \u001b[38;5;28mself\u001b[39m\u001b[38;5;241m.\u001b[39m_masked_softmax(\u001b[43mattention_scores\u001b[49m\u001b[43m \u001b[49m\u001b[38;5;241;43m+\u001b[39;49m\u001b[43m \u001b[49m\u001b[43mrel_enc\u001b[49m, attention_mask)\n\u001b[1;32m    254\u001b[0m \u001b[38;5;66;03m# This is actually dropping out entire tokens to attend to, which might\u001b[39;00m\n\u001b[1;32m    255\u001b[0m \u001b[38;5;66;03m# seem a bit unusual, but is taken from the original Transformer paper.\u001b[39;00m\n\u001b[1;32m    256\u001b[0m attention_scores_dropout \u001b[38;5;241m=\u001b[39m \u001b[38;5;28mself\u001b[39m\u001b[38;5;241m.\u001b[39m_dropout_layer(attention_scores, training\u001b[38;5;241m=\u001b[39mtraining)\n",
      "\u001b[0;31mInvalidArgumentError\u001b[0m: Exception encountered when calling layer \"relative_multi_head_attention\" (type RelativeMultiHeadAttention).\n\nrequired broadcastable shapes [Op:AddV2]\n\nCall arguments received:\n  • query=tf.Tensor(shape=(128, 2, 64), dtype=float32)\n  • value=tf.Tensor(shape=(128, 2, 64), dtype=float32)\n  • key=None\n  • attention_mask=None\n  • return_attention_scores=False\n  • training=False"
     ]
    }
   ],
   "source": [
    "model_predict([val_dataset[0][0], max_set_len, seg_size])"
   ]
  },
  {
   "cell_type": "code",
   "execution_count": null,
   "id": "2f6b9a07-c81e-4e4a-ab6b-19b683654b99",
   "metadata": {},
   "outputs": [],
   "source": []
  }
 ],
 "metadata": {
  "kernelspec": {
   "display_name": "Python 3 (ipykernel)",
   "language": "python",
   "name": "python3"
  },
  "language_info": {
   "codemirror_mode": {
    "name": "ipython",
    "version": 3
   },
   "file_extension": ".py",
   "mimetype": "text/x-python",
   "name": "python",
   "nbconvert_exporter": "python",
   "pygments_lexer": "ipython3",
   "version": "3.10.5"
  }
 },
 "nbformat": 4,
 "nbformat_minor": 5
}

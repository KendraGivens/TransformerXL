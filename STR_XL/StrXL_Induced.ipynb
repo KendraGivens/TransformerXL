{
 "cells": [
  {
   "cell_type": "markdown",
   "id": "5ccea5cd-89de-452b-afa6-703df9e9a604",
   "metadata": {},
   "source": [
    "---\n",
    "# Transformer XL\n",
    "---"
   ]
  },
  {
   "cell_type": "markdown",
   "id": "ad2c14f8-8dd8-459f-81fe-a6708e6a8355",
   "metadata": {},
   "source": [
    "---\n",
    "# Import Libraries"
   ]
  },
  {
   "cell_type": "code",
   "execution_count": 1,
   "id": "3dcad43d-67f7-49b9-84ce-6d91a0f468a6",
   "metadata": {},
   "outputs": [],
   "source": [
    "import os\n",
    "import sys"
   ]
  },
  {
   "cell_type": "code",
   "execution_count": 2,
   "id": "5e7cb9df-5746-44a3-998a-b671b284957f",
   "metadata": {},
   "outputs": [],
   "source": [
    "os.environ[\"TF_CPP_MIN_LOG_LEVEL\"] = \"2\""
   ]
  },
  {
   "cell_type": "code",
   "execution_count": 3,
   "id": "2c507a85-fe6f-4d3c-ae1f-16914fdec693",
   "metadata": {},
   "outputs": [],
   "source": [
    "sys.path.append(\"../../deep-learning-dna\")"
   ]
  },
  {
   "cell_type": "code",
   "execution_count": 4,
   "id": "31b9c98a-b4ee-4667-89a3-5f04549f7d66",
   "metadata": {},
   "outputs": [],
   "source": [
    "import wandb"
   ]
  },
  {
   "cell_type": "code",
   "execution_count": 5,
   "id": "fda64db1-8058-4e15-b2d4-1a3e64f23fbe",
   "metadata": {},
   "outputs": [],
   "source": [
    "import tensorflow as tf\n",
    "import tensorflow.keras as keras\n",
    "import numpy as np\n",
    "import matplotlib.pyplot as plt\n",
    "%matplotlib inline\n",
    "from IPython.display import display\n",
    "import math\n",
    "import string\n",
    "\n",
    "import Set_Transformer \n",
    "from common.models import dnabert\n",
    "from common import dna\n",
    "from lmdbm import Lmdb\n",
    "from common.data import DnaSequenceGenerator, DnaLabelType, DnaSampleGenerator, find_dbs\n",
    "import wandb\n",
    "\n",
    "import tf_utils as tfu"
   ]
  },
  {
   "cell_type": "code",
   "execution_count": 6,
   "id": "0dfb3b1a-2db7-4463-a208-b5d29e20f97a",
   "metadata": {},
   "outputs": [],
   "source": [
    "strategy = tfu.devices.select_gpu(0, use_dynamic_memory=True)"
   ]
  },
  {
   "cell_type": "markdown",
   "id": "54593a0f-b5b4-401e-91e2-8c1a1598432e",
   "metadata": {
    "tags": []
   },
   "source": [
    "---\n",
    "# Load Data"
   ]
  },
  {
   "cell_type": "code",
   "execution_count": 7,
   "id": "153ec0c2-f4ac-418f-93a5-7f8b21b286ae",
   "metadata": {
    "tags": []
   },
   "outputs": [
    {
     "data": {
      "text/plain": [
       "<common.models.dnabert.DnaBertPretrainModel at 0x7fbe7004a530>"
      ]
     },
     "execution_count": 7,
     "metadata": {},
     "output_type": "execute_result"
    }
   ],
   "source": [
    "#Import pretrained model\n",
    "api = wandb.Api()\n",
    "model_path = api.artifact(\"sirdavidludwig/dnabert-pretrain/dnabert-pretrain-8dim:latest\").download()\n",
    "pretrained_model = dnabert.DnaBertModel.load(model_path)\n",
    "pretrained_model.load_weights(model_path + \"/model.h5\")\n",
    "pretrained_model"
   ]
  },
  {
   "cell_type": "code",
   "execution_count": 8,
   "id": "4eb8a00e-6821-4a74-87cb-ecd6c405d3f3",
   "metadata": {},
   "outputs": [
    {
     "name": "stderr",
     "output_type": "stream",
     "text": [
      "\u001b[34m\u001b[1mwandb\u001b[0m: Downloading large artifact dnasamples-complete:latest, 4079.09MB. 420 files... Done. 0:0:0.1\n"
     ]
    },
    {
     "data": {
      "text/plain": [
       "'/data/dna_samples:v1/train/WS-CCW-Jul2015_S82_L001_R1_001.db'"
      ]
     },
     "execution_count": 8,
     "metadata": {},
     "output_type": "execute_result"
    }
   ],
   "source": [
    "#Load datafiles\n",
    "dataset_path = api.artifact(\"sirdavidludwig/nachusa-dna/dnasamples-complete:latest\").download('/data/dna_samples:v1')\n",
    "samples = find_dbs(dataset_path + '/train')\n",
    "samples[13]"
   ]
  },
  {
   "cell_type": "markdown",
   "id": "c6523647-1042-4dc6-aa46-1ad979f03892",
   "metadata": {
    "tags": []
   },
   "source": [
    "---\n",
    "# Create Dataset"
   ]
  },
  {
   "cell_type": "code",
   "execution_count": 9,
   "id": "a14bf26f-f2d8-4907-991e-7dcbbc68f206",
   "metadata": {
    "tags": []
   },
   "outputs": [],
   "source": [
    "split_ratios = [0.8, 0.2]\n",
    "set_len = 1000\n",
    "sequence_len = 150\n",
    "kmer = 3\n",
    "batch_size = [20,5]\n",
    "batches_per_epoch = 20\n",
    "augument = True\n",
    "labels = DnaLabelType.SampleIds\n",
    "seed = 0\n",
    "rng = np.random.default_rng(seed)\n",
    "random_samples = samples.copy()"
   ]
  },
  {
   "cell_type": "code",
   "execution_count": 10,
   "id": "d827ca7f-1900-4e88-a514-ae29daf45858",
   "metadata": {},
   "outputs": [],
   "source": [
    "rng.shuffle(random_samples)"
   ]
  },
  {
   "cell_type": "code",
   "execution_count": 11,
   "id": "1116c1ae-77e7-44c9-a010-efb23c23db48",
   "metadata": {},
   "outputs": [
    {
     "name": "stdout",
     "output_type": "stream",
     "text": [
      "Sample '/data/dna_samples:v1/train/Wes7-PCRblank1_S8_L001_R1_001.db' does not contain enough sequences. This sample will be ignored.\n",
      "Sample '/data/dna_samples:v1/train/Wes7-PCRblank1_S8_L001_R1_001.db' does not contain enough sequences. This sample will be ignored.\n"
     ]
    }
   ],
   "source": [
    "trimmed_samples, (train_dataset, val_dataset) = DnaSampleGenerator.split(samples=random_samples[0:50], split_ratios=split_ratios, subsample_length=set_len, sequence_length=sequence_len, kmer=kmer,batch_size=batch_size,batches_per_epoch=batches_per_epoch,augment=augument,labels=labels, rng=rng)"
   ]
  },
  {
   "cell_type": "code",
   "execution_count": 12,
   "id": "aac0a881-4dc6-4916-a18c-8c59e026e552",
   "metadata": {},
   "outputs": [
    {
     "data": {
      "text/plain": [
       "['/data/dna_samples:v1/train/WS-CCE-Apr2016_S6_L001_R1_001.db',\n",
       " '/data/dna_samples:v1/train/Wes52-10-TC_S53_L001_R1_001.db',\n",
       " '/data/dna_samples:v1/train/WS-WH-Jul2016_S46_L001_R1_001.db',\n",
       " '/data/dna_samples:v1/train/Wes41-10-HN_S42_L001_R1_001.db',\n",
       " '/data/dna_samples:v1/train/Wesley026-Ag-072820_S165_L001_R1_001.db',\n",
       " '/data/dna_samples:v1/train/WS-MU-Apr2016_S84_L001_R1_001.db',\n",
       " '/data/dna_samples:v1/train/Wes5-5-CCE_S6_L001_R1_001.db',\n",
       " '/data/dna_samples:v1/train/WS-MR-Apr2016_S13_L001_R1_001.db',\n",
       " '/data/dna_samples:v1/train/WS-MU-Sep2015_S43_L001_R1_001.db',\n",
       " '/data/dna_samples:v1/train/Wesley012-HN-051120_S151_L001_R1_001.db',\n",
       " '/data/dna_samples:v1/train/WS-HPN-Sep2015_S91_L001_R1_001.db',\n",
       " '/data/dna_samples:v1/train/WS-TCR-Sep2015_S52_L001_R1_001.db',\n",
       " '/data/dna_samples:v1/train/Wes26-8-AG_S27_L001_R1_001.db',\n",
       " '/data/dna_samples:v1/train/WS-SB-Jul2016_S22_L001_R1_001.db',\n",
       " '/data/dna_samples:v1/train/Wes25-8-MU_S26_L001_R1_001.db',\n",
       " '/data/dna_samples:v1/train/WS-SB-Oct2016_S63_L001_R1_001.db',\n",
       " '/data/dna_samples:v1/train/Wes3-5-TCR_S4_L001_R1_001.db',\n",
       " '/data/dna_samples:v1/train/WS-WH-May2015_S160_L001_R1_001.db',\n",
       " '/data/dna_samples:v1/train/WS-TCR-Oct2016_S80_L001_R1_001.db',\n",
       " '/data/dna_samples:v1/train/WS-TC-Jul2015_S74_L001_R1_001.db',\n",
       " '/data/dna_samples:v1/train/WS-SB-Sep2015_S35_L001_R1_001.db',\n",
       " '/data/dna_samples:v1/train/WS-CCW-Sep2015_S28_L001_R1_001.db',\n",
       " '/data/dna_samples:v1/train/WS-TC-Oct2016_S48_L001_R1_001.db',\n",
       " '/data/dna_samples:v1/train/WS-HF-Jul2015_S42_L001_R1_001.db',\n",
       " '/data/dna_samples:v1/train/WS-TCR-May2015_S73_L001_R1_001.db',\n",
       " '/data/dna_samples:v1/train/WS-HPN-Apr2016_S37_L001_R1_001.db',\n",
       " '/data/dna_samples:v1/train/WS-AG-Apr2016_S85_L001_R1_001.db',\n",
       " '/data/dna_samples:v1/train/Wes7-PCRblank1_S8_L001_R1_001.db',\n",
       " '/data/dna_samples:v1/train/Wes20-8-HF_S21_L001_R1_001.db',\n",
       " '/data/dna_samples:v1/train/Wes38-10-WH_S39_L001_R1_001.db',\n",
       " '/data/dna_samples:v1/train/Wesley047-SF-100420_S186_L001_R1_001.db',\n",
       " '/data/dna_samples:v1/train/Wesley055-HAP-051120_S194_L001_R1_001.db',\n",
       " '/data/dna_samples:v1/train/Wesley006-HLP-051220_S145_L001_R1_001.db',\n",
       " '/data/dna_samples:v1/train/Wes39-10-HF_S40_L001_R1_001.db',\n",
       " '/data/dna_samples:v1/train/WS-SF-Jul2016_S38_L001_R1_001.db',\n",
       " '/data/dna_samples:v1/train/Wesley035-HLP2-072820_S174_L001_R1_001.db',\n",
       " '/data/dna_samples:v1/train/Wes13-5-HLP_S14_L001_R1_001.db',\n",
       " '/data/dna_samples:v1/train/WS-HPN-May2015_S17_L001_R1_001.db',\n",
       " '/data/dna_samples:v1/train/Wesley005-HF-051220_S144_L001_R1_001.db',\n",
       " '/data/dna_samples:v1/train/Wes47-10-FC_S48_L001_R1_001.db',\n",
       " '/data/dna_samples:v1/train/WS-SF-May2015_S152_L001_R1_001.db',\n",
       " '/data/dna_samples:v1/train/Wesley045-HLP-100420_S184_L001_R1_001.db',\n",
       " '/data/dna_samples:v1/train/Wesley033-MU-072820_S172_L001_R1_001.db',\n",
       " '/data/dna_samples:v1/train/Wesley043-L-100420_S182_L001_R1_001.db',\n",
       " '/data/dna_samples:v1/train/Wes48-10-CCW_S49_L001_R1_001.db',\n",
       " '/data/dna_samples:v1/train/WS-AG-Sep2015_S44_L001_R1_001.db',\n",
       " '/data/dna_samples:v1/train/Wesley010-HW-051120_S149_L001_R1_001.db',\n",
       " '/data/dna_samples:v1/train/Wes36-8-HW_S37_L001_R1_001.db',\n",
       " '/data/dna_samples:v1/train/Wesley011-Ag-051120_S150_L001_R1_001.db',\n",
       " '/data/dna_samples:v1/train/Wesley027-HLP-072820_S166_L001_R1_001.db']"
      ]
     },
     "execution_count": 12,
     "metadata": {},
     "output_type": "execute_result"
    }
   ],
   "source": [
    "random_samples[0:50]"
   ]
  },
  {
   "cell_type": "markdown",
   "id": "fd855356-4e5a-4047-ae81-323277b11b44",
   "metadata": {
    "tags": []
   },
   "source": [
    "--- \n",
    "# Batch Parameters"
   ]
  },
  {
   "cell_type": "code",
   "execution_count": 13,
   "id": "e23e34f9-3066-4756-ad0b-ccc1a3194438",
   "metadata": {},
   "outputs": [
    {
     "data": {
      "text/plain": [
       "49"
      ]
     },
     "execution_count": 13,
     "metadata": {},
     "output_type": "execute_result"
    }
   ],
   "source": [
    "block_size = 200\n",
    "seq_len = set_len\n",
    "maxlen = set_len\n",
    "vocab_size = 5\n",
    "num_chars_data = set_len*sequence_len\n",
    "max_files = len(train_dataset.samples)\n",
    "max_files"
   ]
  },
  {
   "cell_type": "code",
   "execution_count": 14,
   "id": "e768970c-7af4-4626-9d6e-d712ab7de959",
   "metadata": {},
   "outputs": [],
   "source": [
    "if block_size-2 > seq_len:\n",
    "    raise ValueError(\"Block size should not be bigger than sequence length\")"
   ]
  },
  {
   "cell_type": "code",
   "execution_count": 15,
   "id": "dce0777e-c8af-4835-833d-f1717dbf2501",
   "metadata": {},
   "outputs": [
    {
     "name": "stdout",
     "output_type": "stream",
     "text": [
      "1000\n",
      "5\n",
      "150000\n"
     ]
    }
   ],
   "source": [
    "print(maxlen)\n",
    "print(vocab_size)\n",
    "print(num_chars_data)"
   ]
  },
  {
   "cell_type": "markdown",
   "id": "ea3649b2-2e47-4b30-88e5-6792f1646058",
   "metadata": {},
   "source": [
    "---\n",
    "# Create Embeddings"
   ]
  },
  {
   "cell_type": "code",
   "execution_count": 16,
   "id": "cf74ee78-6d96-41ed-9989-e66cfd5cb1b0",
   "metadata": {},
   "outputs": [],
   "source": [
    "#Create 8 dimensional embeddings\n",
    "pretrained_encoder = dnabert.DnaBertEncoderModel(pretrained_model.base)\n",
    "pretrained_encoder.trainable = False"
   ]
  },
  {
   "cell_type": "code",
   "execution_count": 17,
   "id": "3d33b634-4927-4f9a-a241-8c33c9249a3a",
   "metadata": {},
   "outputs": [],
   "source": [
    "class Create_Embeddings(keras.layers.Layer):\n",
    "    def __init__(self, encoder):\n",
    "        super(Create_Embeddings, self).__init__()\n",
    "        self.encoder = encoder\n",
    "        \n",
    "    def subbatch_predict(self, model, batch, subbatch_size, concat=lambda old, new: tf.concat((old, new), axis=0)):\n",
    "        def predict(i, result=None):\n",
    "            n = i + subbatch_size\n",
    "            pred = tf.stop_gradient(model(batch[i:n]))\n",
    "            if result is None:\n",
    "                return [n, pred]\n",
    "            return [n, concat(result, pred)]\n",
    "        i, result = predict(0)\n",
    "        batch_size = tf.shape(batch)[0]\n",
    "        i, result = tf.while_loop(\n",
    "            cond=lambda i, _: i < batch_size,\n",
    "            body=predict,\n",
    "            loop_vars=[i, result],\n",
    "            parallel_iterations=1)\n",
    "\n",
    "        return result\n",
    "    \n",
    "    def modify_data_for_input(self, data):\n",
    "        batch_size = tf.shape(data)[0]\n",
    "        subsample_size = tf.shape(data)[1]\n",
    "        flat_data = tf.reshape(data, (batch_size*subsample_size, -1))\n",
    "        encoded = self.subbatch_predict(self.encoder, flat_data, 128)\n",
    "        return tf.reshape(encoded, (batch_size, subsample_size, -1))\n",
    "    \n",
    "    def call(self, data):\n",
    "        return  self.modify_data_for_input(data)"
   ]
  },
  {
   "cell_type": "markdown",
   "id": "70b66c98-f8b5-4b80-9736-66a9769cc966",
   "metadata": {},
   "source": [
    "---\n",
    "# Setup"
   ]
  },
  {
   "cell_type": "code",
   "execution_count": 18,
   "id": "9af4ac04-1eab-4d74-bfc0-716408efeed4",
   "metadata": {},
   "outputs": [],
   "source": [
    "def clone_initializer(initializer):\n",
    "    if isinstance(initializer, tf.keras.initializers.Initializer):\n",
    "        return initializer.__class__.from_config(initializer.get_config())\n",
    "    return initializer"
   ]
  },
  {
   "cell_type": "markdown",
   "id": "835c39dd-9fb5-49bf-8763-14ca694a1a35",
   "metadata": {},
   "source": [
    "---\n",
    "# Cache Memory"
   ]
  },
  {
   "cell_type": "code",
   "execution_count": 19,
   "id": "da4cb5e4-2d26-4e40-a00f-3e71f470b273",
   "metadata": {},
   "outputs": [],
   "source": [
    "def _cache_memory(current_state, previous_state, memory_length, reuse_length=0):\n",
    "    if memory_length is None or memory_length == 0:\n",
    "        return None\n",
    "    else:\n",
    "        if reuse_length > 0:\n",
    "            current_state = current_state[:, :reuse_length, :]\n",
    "\n",
    "        if previous_state is None:\n",
    "            new_mem = current_state[:, -memory_length:, :]\n",
    "        else:\n",
    "            new_mem = tf.concat(\n",
    "                    [previous_state, current_state], 1)[:, -memory_length:, :]\n",
    "\n",
    "    return tf.stop_gradient(new_mem)"
   ]
  },
  {
   "cell_type": "markdown",
   "id": "d5c32bb5-4520-4802-a8f0-5f7849905a83",
   "metadata": {},
   "source": [
    "---\n",
    "# XL Block"
   ]
  },
  {
   "cell_type": "code",
   "execution_count": 20,
   "id": "7245b7dd-a3b2-464a-9f5b-7efd4a9d0ed2",
   "metadata": {},
   "outputs": [],
   "source": [
    "class TransformerXLBlock(tf.keras.layers.Layer):\n",
    "    def __init__(self,\n",
    "                 stack,\n",
    "                 num_induce,\n",
    "                 vocab_size,\n",
    "                 hidden_size,\n",
    "                 num_attention_heads,\n",
    "                 head_size,\n",
    "                 inner_size,\n",
    "                 dropout_rate,\n",
    "                 attention_dropout_rate,\n",
    "                 norm_epsilon=1e-12,\n",
    "                 inner_activation=\"relu\",\n",
    "                 kernel_initializer=\"variance_scaling\",\n",
    "                 inner_dropout=0.0,\n",
    "                 **kwargs):\n",
    "\n",
    "        super(TransformerXLBlock, self).__init__(**kwargs)\n",
    "        self._stack = stack\n",
    "        self._num_induce = num_induce\n",
    "        self._vocab_size = vocab_size\n",
    "        self._num_heads = num_attention_heads\n",
    "        self._head_size = head_size\n",
    "        self._hidden_size = hidden_size\n",
    "        self._inner_size = inner_size\n",
    "        self._dropout_rate = dropout_rate\n",
    "        self._attention_dropout_rate = attention_dropout_rate\n",
    "        self._inner_activation = inner_activation\n",
    "        self._norm_epsilon = norm_epsilon\n",
    "        self._kernel_initializer = kernel_initializer\n",
    "        self._inner_dropout = inner_dropout\n",
    "        self._attention_layer_type = Set_Attention\n",
    "        \n",
    "    def build(self, input_shape):\n",
    "        input_tensor = input_shape[0] if len(input_shape) == 2 else input_shape\n",
    "        input_tensor_shape = tf.TensorShape(input_tensor)\n",
    "        if len(input_tensor_shape.as_list()) != 3:\n",
    "            raise ValueError(\"TransformerLayer expects a three-dimensional input of \"\n",
    "                                             \"shape [batch, sequence, width].\")\n",
    "        batch_size, sequence_length, hidden_size = input_tensor_shape\n",
    "\n",
    "        if hidden_size % self._num_heads != 0:\n",
    "            raise ValueError(\n",
    "                    \"The input size (%d) is not a multiple of the number of attention \"\n",
    "                    \"heads (%d)\" % (hidden_size, self._num_heads))\n",
    "            \n",
    "            \n",
    "        self._attention_layer= self._attention_layer_type(num_induce=self._num_induce, embed_dim=self._head_size,num_heads=self._num_heads, stack=self._stack,\n",
    "                                                   use_layernorm=True,pre_layernorm=True,use_keras_mha=True)\n",
    "        \n",
    "        super(TransformerXLBlock, self).build(input_shape)\n",
    "\n",
    "   \n",
    "    def call(self,\n",
    "             content_stream,\n",
    "             content_attention_bias,\n",
    "             positional_attention_bias,\n",
    "             relative_position_encoding=None,\n",
    "             state=None,\n",
    "             content_attention_mask=None,\n",
    "             query_attention_mask=None,\n",
    "             target_mapping=None):\n",
    "        \n",
    "        attention_output = {\"content_attention\": self._attention_layer(content_stream, state)}        \n",
    "\n",
    "        return attention_output"
   ]
  },
  {
   "cell_type": "markdown",
   "id": "8749ec30-1281-4f9d-8baa-54b890fb7949",
   "metadata": {},
   "source": [
    "---\n",
    "# Transformer XL"
   ]
  },
  {
   "cell_type": "code",
   "execution_count": 22,
   "id": "019ca25d-e899-4e17-8f41-dfdc3d9bdee5",
   "metadata": {},
   "outputs": [],
   "source": [
    "class TransformerXL(tf.keras.layers.Layer):\n",
    "    def __init__(self,\n",
    "                 stack, \n",
    "                 num_induce, \n",
    "                 vocab_size,\n",
    "                 num_layers,\n",
    "                 hidden_size,\n",
    "                 maxlen,\n",
    "                 embed_dim,\n",
    "                 num_attention_heads,\n",
    "                 head_size,\n",
    "                 inner_size,\n",
    "                 dropout_rate,\n",
    "                 attention_dropout_rate,\n",
    "                 initializer,\n",
    "                 tie_attention_biases=True,\n",
    "                 memory_length=None,\n",
    "                 reuse_length=None,\n",
    "                 inner_activation=\"relu\",\n",
    "                 **kwargs):\n",
    "        super(TransformerXL, self).__init__(**kwargs)\n",
    "\n",
    "        self._stack = stack\n",
    "        self._num_induce = num_induce\n",
    "        self._vocab_size = vocab_size\n",
    "        self._initializer = initializer\n",
    "        self._num_layers = num_layers\n",
    "        self._hidden_size = hidden_size\n",
    "        self._num_attention_heads = num_attention_heads\n",
    "        self._head_size = head_size\n",
    "        self._inner_size = inner_size\n",
    "        self._inner_activation = inner_activation\n",
    "        self._dropout_rate = dropout_rate\n",
    "        self._attention_dropout_rate = attention_dropout_rate\n",
    "        self._tie_attention_biases = tie_attention_biases\n",
    "        self._memory_length = memory_length\n",
    "        self._reuse_length = reuse_length\n",
    "\n",
    "        self.transformer_xl_layers = []\n",
    "        \n",
    "        for i in range(self._num_layers):\n",
    "            self.transformer_xl_layers.append(\n",
    "                    TransformerXLBlock(\n",
    "                            stack=self._stack,\n",
    "                            num_induce=num_induce, \n",
    "                            vocab_size=self._vocab_size,\n",
    "                            hidden_size=self._head_size * self._num_attention_heads,\n",
    "                            num_attention_heads=self._num_attention_heads,\n",
    "                            head_size=self._head_size,\n",
    "                            inner_size=self._inner_size,\n",
    "                            dropout_rate=self._dropout_rate,\n",
    "                            attention_dropout_rate=self._attention_dropout_rate,\n",
    "                            norm_epsilon=1e-12,\n",
    "                            inner_activation=self._inner_activation,\n",
    "                            kernel_initializer=\"variance_scaling\",\n",
    "                            name=\"layer_%d\" % i))\n",
    "\n",
    "        self.output_dropout = tf.keras.layers.Dropout(rate=self._dropout_rate)\n",
    "\n",
    "    def call(self,\n",
    "             content_stream,\n",
    "             relative_position_encoding,\n",
    "             state=None,\n",
    "             content_attention_mask=None,\n",
    "             query_attention_mask=None,\n",
    "             target_mapping=None):\n",
    "        \n",
    "        new_mems = []\n",
    "\n",
    "        if state is None:\n",
    "            state = [None] * self._num_layers\n",
    "            \n",
    "        for i in range(self._num_layers):\n",
    "            new_mems.append(_cache_memory(content_stream, state[i], self._memory_length, self._reuse_length))\n",
    "            \n",
    "            transformer_xl_layer = self.transformer_xl_layers[i]\n",
    "            \n",
    "            transformer_xl_output = transformer_xl_layer(\n",
    "                    content_stream=content_stream,\n",
    "                    content_attention_bias=None,\n",
    "                    positional_attention_bias=None,\n",
    "                    relative_position_encoding=None,\n",
    "                    state=state[i],\n",
    "                    content_attention_mask=content_attention_mask,\n",
    "                    query_attention_mask=query_attention_mask,\n",
    "                    target_mapping=target_mapping)\n",
    "            \n",
    "            content_stream = transformer_xl_output[\"content_attention\"]\n",
    "            \n",
    "            #new_mems.append(_cache_memory(content_stream, state[i], self._memory_length, self._reuse_length))\n",
    "\n",
    "        output_stream = content_stream\n",
    "        return output_stream, new_mems"
   ]
  },
  {
   "cell_type": "code",
   "execution_count": 23,
   "id": "b77a89f5-b11a-48e4-bf4f-cc70f1e74e04",
   "metadata": {},
   "outputs": [],
   "source": [
    "class Set_Attention(keras.Model):\n",
    "    def __init__(self, num_induce, embed_dim, num_heads, stack, use_layernorm, pre_layernorm, use_keras_mha):\n",
    "        super(Set_Attention, self).__init__()\n",
    "        \n",
    "        self.set_attention = (Set_Transformer.InducedSetAttentionBlock(embed_dim=embed_dim,num_heads=num_heads, num_induce=num_induce, use_layernorm=use_layernorm,pre_layernorm=pre_layernorm,use_keras_mha=use_keras_mha))\n",
    "      \n",
    "    def call(self, data, mems):\n",
    "                \n",
    "            attention = self.set_attention([data, mems])\n",
    "                \n",
    "            return attention"
   ]
  },
  {
   "cell_type": "markdown",
   "id": "a127a4b5-15e3-46e3-838b-a5e18e4d8dc8",
   "metadata": {},
   "source": [
    "---\n",
    "# Xl Model Class"
   ]
  },
  {
   "cell_type": "code",
   "execution_count": 24,
   "id": "855d43dd-e182-4c2a-961a-ff9781141f81",
   "metadata": {},
   "outputs": [],
   "source": [
    "class XlModel(keras.Model):\n",
    "    def __init__(self, stack, num_induce, max_files, encoder, block_size, seq_len_padded, embed_dim, vocab_size, num_layers, hidden_size, num_attention_heads, maxlen, memory_length, reuse_length, head_size, inner_size, dropout_rate, attention_dropout_rate, initializer):\n",
    "        super(XlModel, self).__init__()\n",
    "        \n",
    "        self.block_size = block_size\n",
    "        self.seq_len_padded = seq_len_padded\n",
    "        self.embed_dim = embed_dim\n",
    "        self.num_heads = num_attention_heads\n",
    "        self.hidden_size = hidden_size\n",
    "        self.num_layers = num_layers\n",
    "        self.maxlen = maxlen\n",
    "        self.memory_length = memory_length\n",
    "        self.max_files = max_files\n",
    "        self.encoder = encoder\n",
    "        self.isabs = []\n",
    "        \n",
    "        self.embedding_layer = Create_Embeddings(encoder)\n",
    "\n",
    "        self.linear_layer = keras.layers.Dense(embed_dim)\n",
    "        \n",
    "        self.transformer_xl = TransformerXL(\n",
    "                stack=stack, \n",
    "                num_induce=num_induce, \n",
    "                vocab_size=vocab_size,\n",
    "                num_layers=num_layers,\n",
    "                hidden_size=hidden_size,\n",
    "                num_attention_heads=num_attention_heads,\n",
    "                maxlen=maxlen,\n",
    "                embed_dim=embed_dim,\n",
    "                memory_length=memory_length,\n",
    "                reuse_length=reuse_length,\n",
    "                head_size=head_size,\n",
    "                inner_size=inner_size,\n",
    "                dropout_rate=dropout_rate,\n",
    "                attention_dropout_rate=attention_dropout_rate,\n",
    "                initializer=initializer, \n",
    "            )\n",
    "        \n",
    "\n",
    "        self.pooling_layer = Set_Transformer.PoolingByMultiHeadAttention(num_seeds=1,embed_dim=embed_dim,num_heads=self.num_heads,use_layernorm=True,pre_layernorm=True, use_keras_mha=True,is_final_block=True)\n",
    "    \n",
    "        self.reshape_layer = keras.layers.Reshape((embed_dim,))\n",
    "   \n",
    "        self.output_layer = keras.layers.Dense(self.max_files, activation=keras.activations.softmax)\n",
    "        \n",
    "    \n",
    "    def call(self, x, training=None):        \n",
    " \n",
    "        mems = tf.zeros((self.num_layers, tf.shape(x)[0], self.memory_length, self.embed_dim))\n",
    "        \n",
    "        embeddings = self.embedding_layer(x)\n",
    "            \n",
    "        linear_transform = self.linear_layer(embeddings)    \n",
    "            \n",
    "        for i in range(0, self.seq_len_padded, self.block_size):\n",
    "            block = embeddings[:,i:i+self.block_size]\n",
    "            \n",
    "            output, mems = self.transformer_xl(content_stream=block, relative_position_encoding=None, state=mems)\n",
    "                \n",
    "        pooling = self.pooling_layer(output)\n",
    "\n",
    "        reshape = self.reshape_layer(pooling)\n",
    "\n",
    "        output = self.output_layer(reshape)          \n",
    "        \n",
    "        return output"
   ]
  },
  {
   "cell_type": "markdown",
   "id": "e3469de1-250d-4c14-bb79-a4e74f0fe93e",
   "metadata": {},
   "source": [
    "---\n",
    "# Xl Parameters"
   ]
  },
  {
   "cell_type": "code",
   "execution_count": 25,
   "id": "2bc3ea7d-d4a1-4a1e-bf2a-7cd1c91430cf",
   "metadata": {},
   "outputs": [],
   "source": [
    "#Xl Parameters\n",
    "stack = 1\n",
    "num_induce = 48\n",
    "embed_dim = 8\n",
    "num_layers = 8\n",
    "hidden_size = 64\n",
    "num_attention_heads = 8\n",
    "memory_length = 200\n",
    "reuse_length = 0\n",
    "head_size = 8\n",
    "inner_size = 64\n",
    "dropout_rate = 0.01\n",
    "attention_dropout_rate = 0.01\n",
    "initializer = keras.initializers.RandomNormal(stddev=0.1) \n",
    "\n",
    "encoder = pretrained_encoder\n",
    "epochs = 10000"
   ]
  },
  {
   "cell_type": "code",
   "execution_count": 26,
   "id": "73dc6b6c-ad4a-4b28-916d-160d16dfc7ec",
   "metadata": {},
   "outputs": [],
   "source": [
    "Parameters = dict(\n",
    "    stack = 1,\n",
    "    num_induce = 48,\n",
    "    embed_dim = 8,\n",
    "    num_layers = 8,\n",
    "    hidden_size = 64,\n",
    "    num_attention_heads = 8,\n",
    "    memory_length = 200,\n",
    "    reuse_length = 0,\n",
    "    head_size = 8,\n",
    "    inner_size = 64,\n",
    "    dropout_rate = 0.01,\n",
    "    attention_dropout_rate = 0.01,\n",
    "    block_size = block_size,\n",
    "    set_len=set_len)"
   ]
  },
  {
   "cell_type": "code",
   "execution_count": 27,
   "id": "a2a89bb3-457d-4af9-b749-1a9d91656db7",
   "metadata": {},
   "outputs": [
    {
     "name": "stderr",
     "output_type": "stream",
     "text": [
      "Failed to detect the name of this notebook, you can set it manually with the WANDB_NOTEBOOK_NAME environment variable to enable code saving.\n",
      "\u001b[34m\u001b[1mwandb\u001b[0m: Currently logged in as: \u001b[33mkendragivens\u001b[0m. Use \u001b[1m`wandb login --relogin`\u001b[0m to force relogin\n"
     ]
    },
    {
     "data": {
      "text/html": [
       "Tracking run with wandb version 0.12.21"
      ],
      "text/plain": [
       "<IPython.core.display.HTML object>"
      ]
     },
     "metadata": {},
     "output_type": "display_data"
    },
    {
     "data": {
      "text/html": [
       "Run data is saved locally in <code>/home/jovyan/work/TransformerXL/STR_XL/wandb/run-20220726_145634-92s3ni8v</code>"
      ],
      "text/plain": [
       "<IPython.core.display.HTML object>"
      ]
     },
     "metadata": {},
     "output_type": "display_data"
    },
    {
     "data": {
      "text/html": [
       "Syncing run <strong><a href=\"https://wandb.ai/kendragivens/StrXL_Induced/runs/92s3ni8v\" target=\"_blank\">ethereal-jazz-3</a></strong> to <a href=\"https://wandb.ai/kendragivens/StrXL_Induced\" target=\"_blank\">Weights & Biases</a> (<a href=\"https://wandb.me/run\" target=\"_blank\">docs</a>)<br/>"
      ],
      "text/plain": [
       "<IPython.core.display.HTML object>"
      ]
     },
     "metadata": {},
     "output_type": "display_data"
    }
   ],
   "source": [
    "run = wandb.init(project=\"StrXL_Induced\", config=Parameters)"
   ]
  },
  {
   "cell_type": "markdown",
   "id": "89649663-7d18-48bc-8678-ce5f093908cc",
   "metadata": {},
   "source": [
    "---\n",
    "# Create Models"
   ]
  },
  {
   "cell_type": "code",
   "execution_count": 28,
   "id": "821b0c4a-6d05-4867-a713-474bfdbff881",
   "metadata": {},
   "outputs": [],
   "source": [
    "model = XlModel(stack, num_induce, max_files, encoder, block_size, seq_len, embed_dim, vocab_size, num_layers, hidden_size, num_attention_heads, maxlen, memory_length, reuse_length, head_size, inner_size, dropout_rate, attention_dropout_rate, initializer)\n",
    "model.compile(loss = keras.losses.SparseCategoricalCrossentropy(from_logits=False), optimizer = keras.optimizers.Adam(1e-3), metrics = keras.metrics.SparseCategoricalAccuracy())"
   ]
  },
  {
   "cell_type": "code",
   "execution_count": null,
   "id": "3a4e79fc-5cbf-4807-a782-ed7cbe4e4e56",
   "metadata": {},
   "outputs": [
    {
     "name": "stderr",
     "output_type": "stream",
     "text": [
      "\u001b[34m\u001b[1mwandb\u001b[0m: \u001b[33mWARNING\u001b[0m The save_model argument by default saves the model in the HDF5 format that cannot save custom objects like subclassed models and custom layers. This behavior will be deprecated in a future release in favor of the SavedModel format. Meanwhile, the HDF5 model is saved as W&B files and the SavedModel as W&B Artifacts.\n",
      "\u001b[34m\u001b[1mwandb\u001b[0m: \u001b[33mWARNING\u001b[0m Unable to compute FLOPs for this model.\n"
     ]
    },
    {
     "name": "stdout",
     "output_type": "stream",
     "text": [
      "Epoch 1/10000\n",
      "WARNING:tensorflow:Gradients do not exist for variables ['xl_model/dense_17/kernel:0', 'xl_model/dense_17/bias:0'] when minimizing the loss. If you're using `model.compile()`, did you forget to provide a `loss`argument?\n",
      "WARNING:tensorflow:Gradients do not exist for variables ['xl_model/dense_17/kernel:0', 'xl_model/dense_17/bias:0'] when minimizing the loss. If you're using `model.compile()`, did you forget to provide a `loss`argument?\n",
      "20/20 [==============================] - 147s 6s/step - loss: 4.0285 - sparse_categorical_accuracy: 0.0250 - val_loss: 3.9162 - val_sparse_categorical_accuracy: 0.0500 - _timestamp: 1658865563.0000 - _runtime: 169.0000\n",
      "Epoch 2/10000\n",
      "20/20 [==============================] - 115s 6s/step - loss: 3.9661 - sparse_categorical_accuracy: 0.0300 - val_loss: 3.9286 - val_sparse_categorical_accuracy: 0.0200 - _timestamp: 1658865678.0000 - _runtime: 284.0000\n",
      "Epoch 3/10000\n",
      "20/20 [==============================] - 115s 6s/step - loss: 3.8503 - sparse_categorical_accuracy: 0.0650 - val_loss: 3.9082 - val_sparse_categorical_accuracy: 0.0300 - _timestamp: 1658865793.0000 - _runtime: 399.0000\n",
      "Epoch 4/10000\n",
      "20/20 [==============================] - 115s 6s/step - loss: 3.8440 - sparse_categorical_accuracy: 0.0450 - val_loss: 3.7636 - val_sparse_categorical_accuracy: 0.0600 - _timestamp: 1658865909.0000 - _runtime: 515.0000\n",
      "Epoch 5/10000\n",
      "20/20 [==============================] - 115s 6s/step - loss: 3.7895 - sparse_categorical_accuracy: 0.0475 - val_loss: 3.7387 - val_sparse_categorical_accuracy: 0.0500 - _timestamp: 1658866024.0000 - _runtime: 630.0000\n",
      "Epoch 6/10000\n",
      "20/20 [==============================] - 115s 6s/step - loss: 3.7228 - sparse_categorical_accuracy: 0.0575 - val_loss: 3.6336 - val_sparse_categorical_accuracy: 0.0700 - _timestamp: 1658866139.0000 - _runtime: 745.0000\n",
      "Epoch 7/10000\n",
      "20/20 [==============================] - 115s 6s/step - loss: 3.7359 - sparse_categorical_accuracy: 0.0325 - val_loss: 3.6612 - val_sparse_categorical_accuracy: 0.0200 - _timestamp: 1658866255.0000 - _runtime: 861.0000\n",
      "Epoch 8/10000\n",
      "20/20 [==============================] - 115s 6s/step - loss: 3.6695 - sparse_categorical_accuracy: 0.0225 - val_loss: 3.5571 - val_sparse_categorical_accuracy: 0.0900 - _timestamp: 1658866370.0000 - _runtime: 976.0000\n",
      "Epoch 9/10000\n",
      "20/20 [==============================] - 115s 6s/step - loss: 3.5523 - sparse_categorical_accuracy: 0.0675 - val_loss: 3.5582 - val_sparse_categorical_accuracy: 0.0400 - _timestamp: 1658866485.0000 - _runtime: 1091.0000\n",
      "Epoch 10/10000\n",
      "20/20 [==============================] - 115s 6s/step - loss: 3.5793 - sparse_categorical_accuracy: 0.0375 - val_loss: 3.5668 - val_sparse_categorical_accuracy: 0.0200 - _timestamp: 1658866600.0000 - _runtime: 1206.0000\n",
      "Epoch 11/10000\n",
      "20/20 [==============================] - 112s 6s/step - loss: 3.5473 - sparse_categorical_accuracy: 0.0350 - val_loss: 3.4664 - val_sparse_categorical_accuracy: 0.0300 - _timestamp: 1658866712.0000 - _runtime: 1318.0000\n",
      "Epoch 12/10000\n",
      "20/20 [==============================] - 115s 6s/step - loss: 3.5140 - sparse_categorical_accuracy: 0.0400 - val_loss: 3.5120 - val_sparse_categorical_accuracy: 0.0400 - _timestamp: 1658866828.0000 - _runtime: 1434.0000\n",
      "Epoch 13/10000\n",
      "20/20 [==============================] - 115s 6s/step - loss: 3.4700 - sparse_categorical_accuracy: 0.0475 - val_loss: 3.4411 - val_sparse_categorical_accuracy: 0.0400 - _timestamp: 1658866943.0000 - _runtime: 1549.0000\n",
      "Epoch 14/10000\n",
      "20/20 [==============================] - 115s 6s/step - loss: 3.4456 - sparse_categorical_accuracy: 0.0375 - val_loss: 3.4426 - val_sparse_categorical_accuracy: 0.0800 - _timestamp: 1658867058.0000 - _runtime: 1664.0000\n",
      "Epoch 15/10000\n",
      "20/20 [==============================] - 115s 6s/step - loss: 3.4307 - sparse_categorical_accuracy: 0.0500 - val_loss: 3.4501 - val_sparse_categorical_accuracy: 0.0200 - _timestamp: 1658867173.0000 - _runtime: 1779.0000\n",
      "Epoch 16/10000\n",
      "20/20 [==============================] - 115s 6s/step - loss: 3.4222 - sparse_categorical_accuracy: 0.0500 - val_loss: 3.4181 - val_sparse_categorical_accuracy: 0.0500 - _timestamp: 1658867288.0000 - _runtime: 1894.0000\n",
      "Epoch 17/10000\n",
      "20/20 [==============================] - 115s 6s/step - loss: 3.4082 - sparse_categorical_accuracy: 0.0400 - val_loss: 3.4165 - val_sparse_categorical_accuracy: 0.0600 - _timestamp: 1658867404.0000 - _runtime: 2010.0000\n",
      "Epoch 18/10000\n",
      "20/20 [==============================] - 115s 6s/step - loss: 3.3866 - sparse_categorical_accuracy: 0.0325 - val_loss: 3.4208 - val_sparse_categorical_accuracy: 0.0600 - _timestamp: 1658867519.0000 - _runtime: 2125.0000\n",
      "Epoch 19/10000\n",
      "20/20 [==============================] - 115s 6s/step - loss: 3.3797 - sparse_categorical_accuracy: 0.0450 - val_loss: 3.4097 - val_sparse_categorical_accuracy: 0.0400 - _timestamp: 1658867634.0000 - _runtime: 2240.0000\n",
      "Epoch 20/10000\n",
      "20/20 [==============================] - 115s 6s/step - loss: 3.3665 - sparse_categorical_accuracy: 0.0525 - val_loss: 3.4062 - val_sparse_categorical_accuracy: 0.0000e+00 - _timestamp: 1658867749.0000 - _runtime: 2355.0000\n",
      "Epoch 21/10000\n",
      "20/20 [==============================] - 115s 6s/step - loss: 3.3607 - sparse_categorical_accuracy: 0.0375 - val_loss: 3.3764 - val_sparse_categorical_accuracy: 0.0400 - _timestamp: 1658867865.0000 - _runtime: 2471.0000\n",
      "Epoch 22/10000\n",
      "20/20 [==============================] - 115s 6s/step - loss: 3.3591 - sparse_categorical_accuracy: 0.0350 - val_loss: 3.3845 - val_sparse_categorical_accuracy: 0.0300 - _timestamp: 1658867980.0000 - _runtime: 2586.0000\n",
      "Epoch 23/10000\n",
      "20/20 [==============================] - 115s 6s/step - loss: 3.3457 - sparse_categorical_accuracy: 0.0425 - val_loss: 3.3304 - val_sparse_categorical_accuracy: 0.0300 - _timestamp: 1658868095.0000 - _runtime: 2701.0000\n",
      "Epoch 24/10000\n",
      "20/20 [==============================] - 115s 6s/step - loss: 3.3552 - sparse_categorical_accuracy: 0.0425 - val_loss: 3.3130 - val_sparse_categorical_accuracy: 0.0500 - _timestamp: 1658868211.0000 - _runtime: 2817.0000\n",
      "Epoch 25/10000\n",
      "20/20 [==============================] - 115s 6s/step - loss: 3.3312 - sparse_categorical_accuracy: 0.0500 - val_loss: 3.3224 - val_sparse_categorical_accuracy: 0.0200 - _timestamp: 1658868326.0000 - _runtime: 2932.0000\n",
      "Epoch 26/10000\n",
      "20/20 [==============================] - 115s 6s/step - loss: 3.3107 - sparse_categorical_accuracy: 0.0600 - val_loss: 3.3369 - val_sparse_categorical_accuracy: 0.0300 - _timestamp: 1658868441.0000 - _runtime: 3047.0000\n",
      "Epoch 27/10000\n",
      "20/20 [==============================] - 115s 6s/step - loss: 3.3070 - sparse_categorical_accuracy: 0.0550 - val_loss: 3.2822 - val_sparse_categorical_accuracy: 0.1000 - _timestamp: 1658868556.0000 - _runtime: 3162.0000\n",
      "Epoch 28/10000\n",
      "20/20 [==============================] - 115s 6s/step - loss: 3.3049 - sparse_categorical_accuracy: 0.0500 - val_loss: 3.2788 - val_sparse_categorical_accuracy: 0.0600 - _timestamp: 1658868671.0000 - _runtime: 3277.0000\n",
      "Epoch 29/10000\n",
      "20/20 [==============================] - 115s 6s/step - loss: 3.2870 - sparse_categorical_accuracy: 0.0450 - val_loss: 3.2431 - val_sparse_categorical_accuracy: 0.0700 - _timestamp: 1658868787.0000 - _runtime: 3393.0000\n",
      "Epoch 30/10000\n",
      "20/20 [==============================] - 115s 6s/step - loss: 3.3038 - sparse_categorical_accuracy: 0.0500 - val_loss: 3.2971 - val_sparse_categorical_accuracy: 0.0700 - _timestamp: 1658868902.0000 - _runtime: 3508.0000\n",
      "Epoch 31/10000\n",
      "20/20 [==============================] - 115s 6s/step - loss: 3.2854 - sparse_categorical_accuracy: 0.0525 - val_loss: 3.2976 - val_sparse_categorical_accuracy: 0.0300 - _timestamp: 1658869017.0000 - _runtime: 3623.0000\n",
      "Epoch 32/10000\n",
      "20/20 [==============================] - 115s 6s/step - loss: 3.2802 - sparse_categorical_accuracy: 0.0325 - val_loss: 3.2661 - val_sparse_categorical_accuracy: 0.0600 - _timestamp: 1658869132.0000 - _runtime: 3738.0000\n",
      "Epoch 33/10000\n",
      "20/20 [==============================] - 115s 6s/step - loss: 3.2617 - sparse_categorical_accuracy: 0.0450 - val_loss: 3.2448 - val_sparse_categorical_accuracy: 0.0800 - _timestamp: 1658869247.0000 - _runtime: 3853.0000\n",
      "Epoch 34/10000\n",
      "20/20 [==============================] - 115s 6s/step - loss: 3.2492 - sparse_categorical_accuracy: 0.0525 - val_loss: 3.2697 - val_sparse_categorical_accuracy: 0.0700 - _timestamp: 1658869362.0000 - _runtime: 3968.0000\n",
      "Epoch 35/10000\n",
      "20/20 [==============================] - 115s 6s/step - loss: 3.2338 - sparse_categorical_accuracy: 0.0525 - val_loss: 3.2378 - val_sparse_categorical_accuracy: 0.0400 - _timestamp: 1658869477.0000 - _runtime: 4083.0000\n",
      "Epoch 36/10000\n",
      "20/20 [==============================] - 115s 6s/step - loss: 3.2238 - sparse_categorical_accuracy: 0.0750 - val_loss: 3.2585 - val_sparse_categorical_accuracy: 0.0400 - _timestamp: 1658869593.0000 - _runtime: 4199.0000\n",
      "Epoch 37/10000\n",
      "20/20 [==============================] - 115s 6s/step - loss: 3.2432 - sparse_categorical_accuracy: 0.0575 - val_loss: 3.2354 - val_sparse_categorical_accuracy: 0.0300 - _timestamp: 1658869708.0000 - _runtime: 4314.0000\n",
      "Epoch 38/10000\n",
      "20/20 [==============================] - 115s 6s/step - loss: 3.1965 - sparse_categorical_accuracy: 0.0825 - val_loss: 3.2015 - val_sparse_categorical_accuracy: 0.1000 - _timestamp: 1658869823.0000 - _runtime: 4429.0000\n",
      "Epoch 39/10000\n",
      "20/20 [==============================] - 115s 6s/step - loss: 3.1911 - sparse_categorical_accuracy: 0.0650 - val_loss: 3.2292 - val_sparse_categorical_accuracy: 0.0700 - _timestamp: 1658869939.0000 - _runtime: 4545.0000\n",
      "Epoch 40/10000\n",
      "20/20 [==============================] - 115s 6s/step - loss: 3.1834 - sparse_categorical_accuracy: 0.0675 - val_loss: 3.1939 - val_sparse_categorical_accuracy: 0.0500 - _timestamp: 1658870054.0000 - _runtime: 4660.0000\n",
      "Epoch 41/10000\n",
      "20/20 [==============================] - 115s 6s/step - loss: 3.1662 - sparse_categorical_accuracy: 0.0725 - val_loss: 3.1557 - val_sparse_categorical_accuracy: 0.1000 - _timestamp: 1658870169.0000 - _runtime: 4775.0000\n",
      "Epoch 42/10000\n",
      "20/20 [==============================] - 113s 6s/step - loss: 3.1406 - sparse_categorical_accuracy: 0.0825 - val_loss: 3.1978 - val_sparse_categorical_accuracy: 0.0200 - _timestamp: 1658870282.0000 - _runtime: 4888.0000\n",
      "Epoch 43/10000\n",
      "20/20 [==============================] - 115s 6s/step - loss: 3.1532 - sparse_categorical_accuracy: 0.0775 - val_loss: 3.1327 - val_sparse_categorical_accuracy: 0.1400 - _timestamp: 1658870397.0000 - _runtime: 5003.0000\n",
      "Epoch 44/10000\n",
      "20/20 [==============================] - 115s 6s/step - loss: 3.1382 - sparse_categorical_accuracy: 0.0700 - val_loss: 3.1446 - val_sparse_categorical_accuracy: 0.1300 - _timestamp: 1658870513.0000 - _runtime: 5119.0000\n",
      "Epoch 45/10000\n",
      "20/20 [==============================] - 115s 6s/step - loss: 3.1329 - sparse_categorical_accuracy: 0.1000 - val_loss: 3.1515 - val_sparse_categorical_accuracy: 0.0900 - _timestamp: 1658870628.0000 - _runtime: 5234.0000\n",
      "Epoch 46/10000\n",
      "20/20 [==============================] - 115s 6s/step - loss: 3.1087 - sparse_categorical_accuracy: 0.1000 - val_loss: 3.1191 - val_sparse_categorical_accuracy: 0.1200 - _timestamp: 1658870743.0000 - _runtime: 5349.0000\n",
      "Epoch 47/10000\n",
      "20/20 [==============================] - 115s 6s/step - loss: 3.1693 - sparse_categorical_accuracy: 0.0575 - val_loss: 3.1183 - val_sparse_categorical_accuracy: 0.1100 - _timestamp: 1658870858.0000 - _runtime: 5464.0000\n",
      "Epoch 48/10000\n",
      "20/20 [==============================] - 115s 6s/step - loss: 3.0929 - sparse_categorical_accuracy: 0.0725 - val_loss: 3.1347 - val_sparse_categorical_accuracy: 0.0800 - _timestamp: 1658870973.0000 - _runtime: 5579.0000\n",
      "Epoch 49/10000\n",
      "20/20 [==============================] - 115s 6s/step - loss: 3.0722 - sparse_categorical_accuracy: 0.1050 - val_loss: 3.0485 - val_sparse_categorical_accuracy: 0.1200 - _timestamp: 1658871088.0000 - _runtime: 5694.0000\n",
      "Epoch 50/10000\n",
      "20/20 [==============================] - 115s 6s/step - loss: 3.0712 - sparse_categorical_accuracy: 0.0950 - val_loss: 3.0343 - val_sparse_categorical_accuracy: 0.1200 - _timestamp: 1658871204.0000 - _runtime: 5810.0000\n",
      "Epoch 51/10000\n",
      "20/20 [==============================] - 115s 6s/step - loss: 3.0760 - sparse_categorical_accuracy: 0.0975 - val_loss: 3.0840 - val_sparse_categorical_accuracy: 0.1200 - _timestamp: 1658871319.0000 - _runtime: 5925.0000\n",
      "Epoch 52/10000\n",
      "20/20 [==============================] - 115s 6s/step - loss: 3.0649 - sparse_categorical_accuracy: 0.0900 - val_loss: 3.0111 - val_sparse_categorical_accuracy: 0.1200 - _timestamp: 1658871434.0000 - _runtime: 6040.0000\n",
      "Epoch 53/10000\n",
      "20/20 [==============================] - 115s 6s/step - loss: 3.0896 - sparse_categorical_accuracy: 0.0800 - val_loss: 2.9890 - val_sparse_categorical_accuracy: 0.1300 - _timestamp: 1658871550.0000 - _runtime: 6156.0000\n",
      "Epoch 54/10000\n",
      "20/20 [==============================] - 115s 6s/step - loss: 3.0437 - sparse_categorical_accuracy: 0.0825 - val_loss: 3.0109 - val_sparse_categorical_accuracy: 0.1000 - _timestamp: 1658871665.0000 - _runtime: 6271.0000\n",
      "Epoch 55/10000\n",
      "20/20 [==============================] - 115s 6s/step - loss: 2.9812 - sparse_categorical_accuracy: 0.0925 - val_loss: 2.9622 - val_sparse_categorical_accuracy: 0.1400 - _timestamp: 1658871780.0000 - _runtime: 6386.0000\n",
      "Epoch 56/10000\n",
      "20/20 [==============================] - 115s 6s/step - loss: 2.9979 - sparse_categorical_accuracy: 0.1025 - val_loss: 3.1152 - val_sparse_categorical_accuracy: 0.1300 - _timestamp: 1658871896.0000 - _runtime: 6502.0000\n",
      "Epoch 57/10000\n",
      "20/20 [==============================] - 115s 6s/step - loss: 2.9815 - sparse_categorical_accuracy: 0.1075 - val_loss: 3.0289 - val_sparse_categorical_accuracy: 0.0900 - _timestamp: 1658872011.0000 - _runtime: 6617.0000\n",
      "Epoch 58/10000\n",
      "20/20 [==============================] - 115s 6s/step - loss: 2.9405 - sparse_categorical_accuracy: 0.1250 - val_loss: 3.0017 - val_sparse_categorical_accuracy: 0.0900 - _timestamp: 1658872126.0000 - _runtime: 6732.0000\n",
      "Epoch 59/10000\n",
      "20/20 [==============================] - 115s 6s/step - loss: 3.0081 - sparse_categorical_accuracy: 0.0850 - val_loss: 3.0025 - val_sparse_categorical_accuracy: 0.0900 - _timestamp: 1658872242.0000 - _runtime: 6848.0000\n",
      "Epoch 60/10000\n",
      "20/20 [==============================] - 115s 6s/step - loss: 2.9399 - sparse_categorical_accuracy: 0.1100 - val_loss: 3.0295 - val_sparse_categorical_accuracy: 0.1000 - _timestamp: 1658872357.0000 - _runtime: 6963.0000\n",
      "Epoch 61/10000\n",
      "20/20 [==============================] - 115s 6s/step - loss: 3.0219 - sparse_categorical_accuracy: 0.1100 - val_loss: 2.9406 - val_sparse_categorical_accuracy: 0.1600 - _timestamp: 1658872472.0000 - _runtime: 7078.0000\n",
      "Epoch 62/10000\n",
      "20/20 [==============================] - 115s 6s/step - loss: 2.9544 - sparse_categorical_accuracy: 0.1025 - val_loss: 2.9867 - val_sparse_categorical_accuracy: 0.0600 - _timestamp: 1658872587.0000 - _runtime: 7193.0000\n",
      "Epoch 63/10000\n",
      "20/20 [==============================] - 115s 6s/step - loss: 2.9590 - sparse_categorical_accuracy: 0.1075 - val_loss: 3.0052 - val_sparse_categorical_accuracy: 0.1000 - _timestamp: 1658872702.0000 - _runtime: 7308.0000\n",
      "Epoch 64/10000\n",
      "20/20 [==============================] - 115s 6s/step - loss: 2.9084 - sparse_categorical_accuracy: 0.1050 - val_loss: 2.9114 - val_sparse_categorical_accuracy: 0.1700 - _timestamp: 1658872817.0000 - _runtime: 7423.0000\n",
      "Epoch 65/10000\n",
      "20/20 [==============================] - 115s 6s/step - loss: 2.8740 - sparse_categorical_accuracy: 0.1350 - val_loss: 2.9086 - val_sparse_categorical_accuracy: 0.1500 - _timestamp: 1658872933.0000 - _runtime: 7539.0000\n",
      "Epoch 66/10000\n",
      "20/20 [==============================] - 115s 6s/step - loss: 2.8778 - sparse_categorical_accuracy: 0.1200 - val_loss: 2.7911 - val_sparse_categorical_accuracy: 0.1600 - _timestamp: 1658873048.0000 - _runtime: 7654.0000\n",
      "Epoch 67/10000\n",
      "20/20 [==============================] - 115s 6s/step - loss: 2.8706 - sparse_categorical_accuracy: 0.1050 - val_loss: 2.9580 - val_sparse_categorical_accuracy: 0.0700 - _timestamp: 1658873163.0000 - _runtime: 7769.0000\n",
      "Epoch 68/10000\n",
      "20/20 [==============================] - 115s 6s/step - loss: 2.8914 - sparse_categorical_accuracy: 0.0950 - val_loss: 2.9085 - val_sparse_categorical_accuracy: 0.1400 - _timestamp: 1658873279.0000 - _runtime: 7885.0000\n",
      "Epoch 69/10000\n",
      "20/20 [==============================] - 115s 6s/step - loss: 2.8737 - sparse_categorical_accuracy: 0.1100 - val_loss: 2.8844 - val_sparse_categorical_accuracy: 0.0700 - _timestamp: 1658873394.0000 - _runtime: 8000.0000\n",
      "Epoch 70/10000\n",
      "20/20 [==============================] - 115s 6s/step - loss: 2.8769 - sparse_categorical_accuracy: 0.1025 - val_loss: 2.9711 - val_sparse_categorical_accuracy: 0.0600 - _timestamp: 1658873509.0000 - _runtime: 8115.0000\n",
      "Epoch 71/10000\n",
      "20/20 [==============================] - 115s 6s/step - loss: 2.8835 - sparse_categorical_accuracy: 0.1225 - val_loss: 2.8155 - val_sparse_categorical_accuracy: 0.1500 - _timestamp: 1658873624.0000 - _runtime: 8230.0000\n",
      "Epoch 72/10000\n",
      "20/20 [==============================] - 115s 6s/step - loss: 2.8857 - sparse_categorical_accuracy: 0.1125 - val_loss: 2.8519 - val_sparse_categorical_accuracy: 0.0900 - _timestamp: 1658873739.0000 - _runtime: 8345.0000\n",
      "Epoch 73/10000\n",
      "20/20 [==============================] - 113s 6s/step - loss: 2.8857 - sparse_categorical_accuracy: 0.1125 - val_loss: 3.0206 - val_sparse_categorical_accuracy: 0.0800 - _timestamp: 1658873852.0000 - _runtime: 8458.0000\n",
      "Epoch 74/10000\n",
      "20/20 [==============================] - 115s 6s/step - loss: 2.8808 - sparse_categorical_accuracy: 0.1050 - val_loss: 2.8221 - val_sparse_categorical_accuracy: 0.1600 - _timestamp: 1658873967.0000 - _runtime: 8573.0000\n",
      "Epoch 75/10000\n",
      "20/20 [==============================] - 115s 6s/step - loss: 2.8612 - sparse_categorical_accuracy: 0.1500 - val_loss: 2.8648 - val_sparse_categorical_accuracy: 0.1000 - _timestamp: 1658874082.0000 - _runtime: 8688.0000\n",
      "Epoch 76/10000\n",
      "20/20 [==============================] - 115s 6s/step - loss: 2.8447 - sparse_categorical_accuracy: 0.1375 - val_loss: 2.8285 - val_sparse_categorical_accuracy: 0.1300 - _timestamp: 1658874197.0000 - _runtime: 8803.0000\n",
      "Epoch 77/10000\n",
      "20/20 [==============================] - 115s 6s/step - loss: 2.8440 - sparse_categorical_accuracy: 0.1350 - val_loss: 2.8487 - val_sparse_categorical_accuracy: 0.1100 - _timestamp: 1658874312.0000 - _runtime: 8918.0000\n",
      "Epoch 78/10000\n",
      "20/20 [==============================] - 115s 6s/step - loss: 2.8209 - sparse_categorical_accuracy: 0.1200 - val_loss: 2.8898 - val_sparse_categorical_accuracy: 0.1100 - _timestamp: 1658874427.0000 - _runtime: 9033.0000\n",
      "Epoch 79/10000\n",
      "20/20 [==============================] - 116s 6s/step - loss: 2.8061 - sparse_categorical_accuracy: 0.1275 - val_loss: 2.7832 - val_sparse_categorical_accuracy: 0.1500 - _timestamp: 1658874543.0000 - _runtime: 9149.0000\n",
      "Epoch 80/10000\n",
      "20/20 [==============================] - 115s 6s/step - loss: 2.7875 - sparse_categorical_accuracy: 0.1225 - val_loss: 2.8073 - val_sparse_categorical_accuracy: 0.1500 - _timestamp: 1658874658.0000 - _runtime: 9264.0000\n",
      "Epoch 81/10000\n",
      "20/20 [==============================] - 115s 6s/step - loss: 2.7869 - sparse_categorical_accuracy: 0.1200 - val_loss: 2.7861 - val_sparse_categorical_accuracy: 0.1200 - _timestamp: 1658874774.0000 - _runtime: 9380.0000\n",
      "Epoch 82/10000\n",
      "20/20 [==============================] - 115s 6s/step - loss: 2.7740 - sparse_categorical_accuracy: 0.1475 - val_loss: 2.8715 - val_sparse_categorical_accuracy: 0.1600 - _timestamp: 1658874889.0000 - _runtime: 9495.0000\n",
      "Epoch 83/10000\n",
      "20/20 [==============================] - 115s 6s/step - loss: 2.8344 - sparse_categorical_accuracy: 0.1425 - val_loss: 2.8446 - val_sparse_categorical_accuracy: 0.1300 - _timestamp: 1658875004.0000 - _runtime: 9610.0000\n",
      "Epoch 84/10000\n",
      "20/20 [==============================] - 116s 6s/step - loss: 2.7699 - sparse_categorical_accuracy: 0.1075 - val_loss: 2.7393 - val_sparse_categorical_accuracy: 0.1700 - _timestamp: 1658875120.0000 - _runtime: 9726.0000\n",
      "Epoch 85/10000\n",
      "20/20 [==============================] - 115s 6s/step - loss: 2.7782 - sparse_categorical_accuracy: 0.1500 - val_loss: 2.8613 - val_sparse_categorical_accuracy: 0.1500 - _timestamp: 1658875235.0000 - _runtime: 9841.0000\n",
      "Epoch 86/10000\n",
      "20/20 [==============================] - 115s 6s/step - loss: 2.7699 - sparse_categorical_accuracy: 0.1225 - val_loss: 2.8351 - val_sparse_categorical_accuracy: 0.1500 - _timestamp: 1658875350.0000 - _runtime: 9956.0000\n",
      "Epoch 87/10000\n",
      "20/20 [==============================] - 115s 6s/step - loss: 2.7860 - sparse_categorical_accuracy: 0.1175 - val_loss: 2.7912 - val_sparse_categorical_accuracy: 0.1100 - _timestamp: 1658875466.0000 - _runtime: 10072.0000\n",
      "Epoch 88/10000\n",
      "20/20 [==============================] - 115s 6s/step - loss: 2.7358 - sparse_categorical_accuracy: 0.1300 - val_loss: 2.7914 - val_sparse_categorical_accuracy: 0.1300 - _timestamp: 1658875581.0000 - _runtime: 10187.0000\n",
      "Epoch 89/10000\n",
      "20/20 [==============================] - 115s 6s/step - loss: 2.7674 - sparse_categorical_accuracy: 0.0950 - val_loss: 2.8368 - val_sparse_categorical_accuracy: 0.1100 - _timestamp: 1658875696.0000 - _runtime: 10302.0000\n",
      "Epoch 90/10000\n",
      "20/20 [==============================] - 115s 6s/step - loss: 2.7826 - sparse_categorical_accuracy: 0.1250 - val_loss: 2.8344 - val_sparse_categorical_accuracy: 0.1200 - _timestamp: 1658875811.0000 - _runtime: 10417.0000\n",
      "Epoch 91/10000\n",
      "20/20 [==============================] - 115s 6s/step - loss: 2.7199 - sparse_categorical_accuracy: 0.1575 - val_loss: 2.7480 - val_sparse_categorical_accuracy: 0.1000 - _timestamp: 1658875927.0000 - _runtime: 10533.0000\n",
      "Epoch 92/10000\n",
      "20/20 [==============================] - 115s 6s/step - loss: 2.7864 - sparse_categorical_accuracy: 0.1550 - val_loss: 2.7958 - val_sparse_categorical_accuracy: 0.1200 - _timestamp: 1658876042.0000 - _runtime: 10648.0000\n",
      "Epoch 93/10000\n",
      "20/20 [==============================] - 115s 6s/step - loss: 2.7278 - sparse_categorical_accuracy: 0.1350 - val_loss: 2.7623 - val_sparse_categorical_accuracy: 0.0700 - _timestamp: 1658876157.0000 - _runtime: 10763.0000\n",
      "Epoch 94/10000\n",
      "20/20 [==============================] - 115s 6s/step - loss: 2.7124 - sparse_categorical_accuracy: 0.1350 - val_loss: 2.7432 - val_sparse_categorical_accuracy: 0.1600 - _timestamp: 1658876273.0000 - _runtime: 10879.0000\n",
      "Epoch 95/10000\n",
      "20/20 [==============================] - 115s 6s/step - loss: 2.7476 - sparse_categorical_accuracy: 0.1400 - val_loss: 2.8413 - val_sparse_categorical_accuracy: 0.0900 - _timestamp: 1658876388.0000 - _runtime: 10994.0000\n",
      "Epoch 96/10000\n",
      "20/20 [==============================] - 116s 6s/step - loss: 2.7000 - sparse_categorical_accuracy: 0.1450 - val_loss: 2.7256 - val_sparse_categorical_accuracy: 0.1500 - _timestamp: 1658876503.0000 - _runtime: 11109.0000\n",
      "Epoch 97/10000\n",
      "20/20 [==============================] - 115s 6s/step - loss: 2.7540 - sparse_categorical_accuracy: 0.1125 - val_loss: 2.6809 - val_sparse_categorical_accuracy: 0.0900 - _timestamp: 1658876618.0000 - _runtime: 11224.0000\n",
      "Epoch 98/10000\n",
      "20/20 [==============================] - 115s 6s/step - loss: 2.7418 - sparse_categorical_accuracy: 0.1225 - val_loss: 2.7417 - val_sparse_categorical_accuracy: 0.1300 - _timestamp: 1658876734.0000 - _runtime: 11340.0000\n",
      "Epoch 99/10000\n",
      "20/20 [==============================] - 115s 6s/step - loss: 2.7941 - sparse_categorical_accuracy: 0.1225 - val_loss: 2.7655 - val_sparse_categorical_accuracy: 0.1500 - _timestamp: 1658876849.0000 - _runtime: 11455.0000\n",
      "Epoch 100/10000\n",
      "20/20 [==============================] - 115s 6s/step - loss: 2.7980 - sparse_categorical_accuracy: 0.1350 - val_loss: 2.7414 - val_sparse_categorical_accuracy: 0.1500 - _timestamp: 1658876965.0000 - _runtime: 11571.0000\n",
      "Epoch 101/10000\n",
      "20/20 [==============================] - 115s 6s/step - loss: 2.7033 - sparse_categorical_accuracy: 0.1375 - val_loss: 2.6523 - val_sparse_categorical_accuracy: 0.2100 - _timestamp: 1658877080.0000 - _runtime: 11686.0000\n",
      "Epoch 102/10000\n",
      "20/20 [==============================] - 126s 6s/step - loss: 2.7170 - sparse_categorical_accuracy: 0.1225 - val_loss: 2.6500 - val_sparse_categorical_accuracy: 0.1400 - _timestamp: 1658877206.0000 - _runtime: 11812.0000\n",
      "Epoch 103/10000\n",
      "20/20 [==============================] - 182s 9s/step - loss: 2.7227 - sparse_categorical_accuracy: 0.1375 - val_loss: 2.5909 - val_sparse_categorical_accuracy: 0.2000 - _timestamp: 1658877387.0000 - _runtime: 11993.0000\n",
      "Epoch 104/10000\n",
      "20/20 [==============================] - 185s 9s/step - loss: 2.7062 - sparse_categorical_accuracy: 0.1250 - val_loss: 2.7124 - val_sparse_categorical_accuracy: 0.0800 - _timestamp: 1658877572.0000 - _runtime: 12178.0000\n",
      "Epoch 105/10000\n",
      "20/20 [==============================] - 186s 9s/step - loss: 2.6822 - sparse_categorical_accuracy: 0.1425 - val_loss: 2.7939 - val_sparse_categorical_accuracy: 0.1300 - _timestamp: 1658877759.0000 - _runtime: 12365.0000\n",
      "Epoch 106/10000\n",
      "20/20 [==============================] - 186s 9s/step - loss: 2.6784 - sparse_categorical_accuracy: 0.1750 - val_loss: 2.7948 - val_sparse_categorical_accuracy: 0.1000 - _timestamp: 1658877945.0000 - _runtime: 12551.0000\n",
      "Epoch 107/10000\n",
      "20/20 [==============================] - 186s 9s/step - loss: 2.7069 - sparse_categorical_accuracy: 0.1075 - val_loss: 2.6510 - val_sparse_categorical_accuracy: 0.1800 - _timestamp: 1658878131.0000 - _runtime: 12737.0000\n",
      "Epoch 108/10000\n",
      "20/20 [==============================] - 186s 9s/step - loss: 2.6646 - sparse_categorical_accuracy: 0.1400 - val_loss: 2.6907 - val_sparse_categorical_accuracy: 0.1300 - _timestamp: 1658878317.0000 - _runtime: 12923.0000\n",
      "Epoch 109/10000\n",
      "20/20 [==============================] - 186s 9s/step - loss: 2.6991 - sparse_categorical_accuracy: 0.1350 - val_loss: 2.7491 - val_sparse_categorical_accuracy: 0.1200 - _timestamp: 1658878502.0000 - _runtime: 13108.0000\n",
      "Epoch 110/10000\n",
      "20/20 [==============================] - 186s 9s/step - loss: 2.6299 - sparse_categorical_accuracy: 0.1575 - val_loss: 2.6131 - val_sparse_categorical_accuracy: 0.1200 - _timestamp: 1658878689.0000 - _runtime: 13295.0000\n",
      "Epoch 111/10000\n",
      "20/20 [==============================] - 186s 9s/step - loss: 2.7100 - sparse_categorical_accuracy: 0.1550 - val_loss: 2.6561 - val_sparse_categorical_accuracy: 0.1600 - _timestamp: 1658878875.0000 - _runtime: 13481.0000\n",
      "Epoch 112/10000\n",
      "20/20 [==============================] - 186s 9s/step - loss: 2.6502 - sparse_categorical_accuracy: 0.1275 - val_loss: 2.6820 - val_sparse_categorical_accuracy: 0.1500 - _timestamp: 1658879061.0000 - _runtime: 13667.0000\n",
      "Epoch 113/10000\n",
      "20/20 [==============================] - 186s 9s/step - loss: 2.6178 - sparse_categorical_accuracy: 0.1625 - val_loss: 2.6665 - val_sparse_categorical_accuracy: 0.2200 - _timestamp: 1658879247.0000 - _runtime: 13853.0000\n",
      "Epoch 114/10000\n",
      "20/20 [==============================] - 186s 9s/step - loss: 2.6160 - sparse_categorical_accuracy: 0.1700 - val_loss: 2.5679 - val_sparse_categorical_accuracy: 0.1600 - _timestamp: 1658879433.0000 - _runtime: 14039.0000\n",
      "Epoch 115/10000\n",
      " 6/20 [========>.....................] - ETA: 1:43 - loss: 2.6241 - sparse_categorical_accuracy: 0.2167"
     ]
    }
   ],
   "source": [
    "history = model.fit(x=train_dataset, validation_data=val_dataset, epochs=epochs, verbose=1, callbacks=[wandb.keras.WandbCallback(save_weights_only=True)])"
   ]
  },
  {
   "cell_type": "code",
   "execution_count": null,
   "id": "edd6e04f-8083-48e5-a7cf-1d38fa2a3716",
   "metadata": {},
   "outputs": [],
   "source": [
    "run.finish()"
   ]
  },
  {
   "cell_type": "code",
   "execution_count": null,
   "id": "68a6add5-4de7-4339-8689-408e9549634c",
   "metadata": {},
   "outputs": [],
   "source": [
    "model.save_weights(\"./Saved_Models/StrXL_Induced_Run1.h5\")"
   ]
  },
  {
   "cell_type": "code",
   "execution_count": null,
   "id": "c565d8f6-2e7a-4a97-8a6a-aa3cfc571008",
   "metadata": {},
   "outputs": [],
   "source": [
    "u = model.evaluate(val_dataset)"
   ]
  },
  {
   "cell_type": "code",
   "execution_count": null,
   "id": "5ab0feaa-ccf4-4352-bddc-728529531858",
   "metadata": {},
   "outputs": [],
   "source": [
    "u = model.predict(train_dataset)"
   ]
  },
  {
   "cell_type": "code",
   "execution_count": null,
   "id": "d67c3f83-2d73-4c19-a50e-eb8a5c636edc",
   "metadata": {},
   "outputs": [],
   "source": [
    "u = u.argmax(-1)"
   ]
  },
  {
   "cell_type": "code",
   "execution_count": null,
   "id": "ae9ebaae-0583-4553-a957-7d1f45958d22",
   "metadata": {},
   "outputs": [],
   "source": [
    "u"
   ]
  },
  {
   "cell_type": "code",
   "execution_count": null,
   "id": "52eef17b-b311-4277-9bb7-87f05d897473",
   "metadata": {},
   "outputs": [],
   "source": [
    "val_dataset[0][1]"
   ]
  },
  {
   "cell_type": "code",
   "execution_count": null,
   "id": "7d2c99b9-a5d1-4d9e-a1ee-8d39f8e6dba9",
   "metadata": {},
   "outputs": [],
   "source": [
    "trimmed_samples[0:5]"
   ]
  },
  {
   "cell_type": "code",
   "execution_count": null,
   "id": "2504f3ab-5e7b-4082-b017-f46b0b8fbcbf",
   "metadata": {},
   "outputs": [],
   "source": []
  }
 ],
 "metadata": {
  "kernelspec": {
   "display_name": "Python 3 (ipykernel)",
   "language": "python",
   "name": "python3"
  },
  "language_info": {
   "codemirror_mode": {
    "name": "ipython",
    "version": 3
   },
   "file_extension": ".py",
   "mimetype": "text/x-python",
   "name": "python",
   "nbconvert_exporter": "python",
   "pygments_lexer": "ipython3",
   "version": "3.10.4"
  }
 },
 "nbformat": 4,
 "nbformat_minor": 5
}

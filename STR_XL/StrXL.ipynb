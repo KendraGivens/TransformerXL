{
 "cells": [
  {
   "cell_type": "markdown",
   "id": "5ccea5cd-89de-452b-afa6-703df9e9a604",
   "metadata": {},
   "source": [
    "---\n",
    "# Transformer XL\n",
    "---"
   ]
  },
  {
   "cell_type": "markdown",
   "id": "ad2c14f8-8dd8-459f-81fe-a6708e6a8355",
   "metadata": {},
   "source": [
    "---\n",
    "# Import Libraries"
   ]
  },
  {
   "cell_type": "code",
   "execution_count": 1,
   "id": "3dcad43d-67f7-49b9-84ce-6d91a0f468a6",
   "metadata": {},
   "outputs": [],
   "source": [
    "import os\n",
    "import sys"
   ]
  },
  {
   "cell_type": "code",
   "execution_count": 2,
   "id": "5e7cb9df-5746-44a3-998a-b671b284957f",
   "metadata": {},
   "outputs": [],
   "source": [
    "os.environ[\"TF_CPP_MIN_LOG_LEVEL\"] = \"2\""
   ]
  },
  {
   "cell_type": "code",
   "execution_count": 3,
   "id": "2c507a85-fe6f-4d3c-ae1f-16914fdec693",
   "metadata": {},
   "outputs": [],
   "source": [
    "sys.path.append(\"../../deep-learning-dna\")"
   ]
  },
  {
   "cell_type": "code",
   "execution_count": 4,
   "id": "31b9c98a-b4ee-4667-89a3-5f04549f7d66",
   "metadata": {},
   "outputs": [],
   "source": [
    "import wandb"
   ]
  },
  {
   "cell_type": "code",
   "execution_count": 5,
   "id": "fda64db1-8058-4e15-b2d4-1a3e64f23fbe",
   "metadata": {},
   "outputs": [],
   "source": [
    "import tensorflow as tf\n",
    "import tensorflow.keras as keras\n",
    "import numpy as np\n",
    "import matplotlib.pyplot as plt\n",
    "%matplotlib inline\n",
    "from IPython.display import display\n",
    "import math\n",
    "import string\n",
    "\n",
    "import Set_Transformer \n",
    "from common.models import dnabert\n",
    "from common import dna\n",
    "from lmdbm import Lmdb\n",
    "from common.data import DnaSequenceGenerator, DnaLabelType, DnaSampleGenerator, find_dbs\n",
    "import wandb\n",
    "\n",
    "import tf_utils as tfu"
   ]
  },
  {
   "cell_type": "code",
   "execution_count": 6,
   "id": "0dfb3b1a-2db7-4463-a208-b5d29e20f97a",
   "metadata": {},
   "outputs": [],
   "source": [
    "strategy = tfu.devices.select_gpu(1, use_dynamic_memory=True)"
   ]
  },
  {
   "cell_type": "markdown",
   "id": "54593a0f-b5b4-401e-91e2-8c1a1598432e",
   "metadata": {
    "tags": []
   },
   "source": [
    "---\n",
    "# Load Data"
   ]
  },
  {
   "cell_type": "code",
   "execution_count": 7,
   "id": "153ec0c2-f4ac-418f-93a5-7f8b21b286ae",
   "metadata": {
    "tags": []
   },
   "outputs": [
    {
     "data": {
      "text/plain": [
       "<common.models.dnabert.DnaBertPretrainModel at 0x7fe06c2bdd20>"
      ]
     },
     "execution_count": 7,
     "metadata": {},
     "output_type": "execute_result"
    }
   ],
   "source": [
    "#Import pretrained model\n",
    "api = wandb.Api()\n",
    "model_path = api.artifact(\"sirdavidludwig/dnabert-pretrain/dnabert-pretrain-8dim:latest\").download()\n",
    "pretrained_model = dnabert.DnaBertModel.load(model_path)\n",
    "pretrained_model.load_weights(model_path + \"/model.h5\")\n",
    "pretrained_model"
   ]
  },
  {
   "cell_type": "code",
   "execution_count": 8,
   "id": "4eb8a00e-6821-4a74-87cb-ecd6c405d3f3",
   "metadata": {},
   "outputs": [
    {
     "name": "stderr",
     "output_type": "stream",
     "text": [
      "\u001b[34m\u001b[1mwandb\u001b[0m: Downloading large artifact dnasamples-complete:latest, 4079.09MB. 420 files... Done. 0:0:0.1\n"
     ]
    },
    {
     "data": {
      "text/plain": [
       "'/data/dna_samples:v1/train/WS-CCW-Jul2015_S82_L001_R1_001.db'"
      ]
     },
     "execution_count": 8,
     "metadata": {},
     "output_type": "execute_result"
    }
   ],
   "source": [
    "#Load datafiles\n",
    "dataset_path = api.artifact(\"sirdavidludwig/nachusa-dna/dnasamples-complete:latest\").download('/data/dna_samples:v1')\n",
    "samples = find_dbs(dataset_path + '/train')\n",
    "samples[13]"
   ]
  },
  {
   "cell_type": "markdown",
   "id": "c6523647-1042-4dc6-aa46-1ad979f03892",
   "metadata": {
    "tags": []
   },
   "source": [
    "---\n",
    "# Create Dataset"
   ]
  },
  {
   "cell_type": "code",
   "execution_count": 9,
   "id": "a14bf26f-f2d8-4907-991e-7dcbbc68f206",
   "metadata": {
    "tags": []
   },
   "outputs": [],
   "source": [
    "split_ratios = [0.8, 0.2]\n",
    "set_len = 1000\n",
    "sequence_len = 150\n",
    "kmer = 3\n",
    "batch_size = [20,5]\n",
    "batches_per_epoch = 20\n",
    "augument = True\n",
    "labels = DnaLabelType.SampleIds\n",
    "seed = 0\n",
    "rng = np.random.default_rng(seed)\n",
    "random_samples = samples.copy()"
   ]
  },
  {
   "cell_type": "code",
   "execution_count": 10,
   "id": "d827ca7f-1900-4e88-a514-ae29daf45858",
   "metadata": {},
   "outputs": [],
   "source": [
    "rng.shuffle(random_samples)"
   ]
  },
  {
   "cell_type": "code",
   "execution_count": 11,
   "id": "1116c1ae-77e7-44c9-a010-efb23c23db48",
   "metadata": {},
   "outputs": [
    {
     "name": "stdout",
     "output_type": "stream",
     "text": [
      "Sample '/data/dna_samples:v1/train/Wes7-PCRblank1_S8_L001_R1_001.db' does not contain enough sequences. This sample will be ignored.\n",
      "Sample '/data/dna_samples:v1/train/Wes7-PCRblank1_S8_L001_R1_001.db' does not contain enough sequences. This sample will be ignored.\n"
     ]
    }
   ],
   "source": [
    "trimmed_samples, (train_dataset, val_dataset) = DnaSampleGenerator.split(samples=random_samples[0:50], split_ratios=split_ratios, subsample_length=set_len, sequence_length=sequence_len, kmer=kmer,batch_size=batch_size,batches_per_epoch=batches_per_epoch,augment=augument,labels=labels, rng=rng)"
   ]
  },
  {
   "cell_type": "code",
   "execution_count": 12,
   "id": "aac0a881-4dc6-4916-a18c-8c59e026e552",
   "metadata": {},
   "outputs": [
    {
     "data": {
      "text/plain": [
       "['/data/dna_samples:v1/train/WS-CCE-Apr2016_S6_L001_R1_001.db',\n",
       " '/data/dna_samples:v1/train/Wes52-10-TC_S53_L001_R1_001.db',\n",
       " '/data/dna_samples:v1/train/WS-WH-Jul2016_S46_L001_R1_001.db',\n",
       " '/data/dna_samples:v1/train/Wes41-10-HN_S42_L001_R1_001.db',\n",
       " '/data/dna_samples:v1/train/Wesley026-Ag-072820_S165_L001_R1_001.db',\n",
       " '/data/dna_samples:v1/train/WS-MU-Apr2016_S84_L001_R1_001.db',\n",
       " '/data/dna_samples:v1/train/Wes5-5-CCE_S6_L001_R1_001.db',\n",
       " '/data/dna_samples:v1/train/WS-MR-Apr2016_S13_L001_R1_001.db',\n",
       " '/data/dna_samples:v1/train/WS-MU-Sep2015_S43_L001_R1_001.db',\n",
       " '/data/dna_samples:v1/train/Wesley012-HN-051120_S151_L001_R1_001.db',\n",
       " '/data/dna_samples:v1/train/WS-HPN-Sep2015_S91_L001_R1_001.db',\n",
       " '/data/dna_samples:v1/train/WS-TCR-Sep2015_S52_L001_R1_001.db',\n",
       " '/data/dna_samples:v1/train/Wes26-8-AG_S27_L001_R1_001.db',\n",
       " '/data/dna_samples:v1/train/WS-SB-Jul2016_S22_L001_R1_001.db',\n",
       " '/data/dna_samples:v1/train/Wes25-8-MU_S26_L001_R1_001.db',\n",
       " '/data/dna_samples:v1/train/WS-SB-Oct2016_S63_L001_R1_001.db',\n",
       " '/data/dna_samples:v1/train/Wes3-5-TCR_S4_L001_R1_001.db',\n",
       " '/data/dna_samples:v1/train/WS-WH-May2015_S160_L001_R1_001.db',\n",
       " '/data/dna_samples:v1/train/WS-TCR-Oct2016_S80_L001_R1_001.db',\n",
       " '/data/dna_samples:v1/train/WS-TC-Jul2015_S74_L001_R1_001.db',\n",
       " '/data/dna_samples:v1/train/WS-SB-Sep2015_S35_L001_R1_001.db',\n",
       " '/data/dna_samples:v1/train/WS-CCW-Sep2015_S28_L001_R1_001.db',\n",
       " '/data/dna_samples:v1/train/WS-TC-Oct2016_S48_L001_R1_001.db',\n",
       " '/data/dna_samples:v1/train/WS-HF-Jul2015_S42_L001_R1_001.db',\n",
       " '/data/dna_samples:v1/train/WS-TCR-May2015_S73_L001_R1_001.db',\n",
       " '/data/dna_samples:v1/train/WS-HPN-Apr2016_S37_L001_R1_001.db',\n",
       " '/data/dna_samples:v1/train/WS-AG-Apr2016_S85_L001_R1_001.db',\n",
       " '/data/dna_samples:v1/train/Wes7-PCRblank1_S8_L001_R1_001.db',\n",
       " '/data/dna_samples:v1/train/Wes20-8-HF_S21_L001_R1_001.db',\n",
       " '/data/dna_samples:v1/train/Wes38-10-WH_S39_L001_R1_001.db',\n",
       " '/data/dna_samples:v1/train/Wesley047-SF-100420_S186_L001_R1_001.db',\n",
       " '/data/dna_samples:v1/train/Wesley055-HAP-051120_S194_L001_R1_001.db',\n",
       " '/data/dna_samples:v1/train/Wesley006-HLP-051220_S145_L001_R1_001.db',\n",
       " '/data/dna_samples:v1/train/Wes39-10-HF_S40_L001_R1_001.db',\n",
       " '/data/dna_samples:v1/train/WS-SF-Jul2016_S38_L001_R1_001.db',\n",
       " '/data/dna_samples:v1/train/Wesley035-HLP2-072820_S174_L001_R1_001.db',\n",
       " '/data/dna_samples:v1/train/Wes13-5-HLP_S14_L001_R1_001.db',\n",
       " '/data/dna_samples:v1/train/WS-HPN-May2015_S17_L001_R1_001.db',\n",
       " '/data/dna_samples:v1/train/Wesley005-HF-051220_S144_L001_R1_001.db',\n",
       " '/data/dna_samples:v1/train/Wes47-10-FC_S48_L001_R1_001.db',\n",
       " '/data/dna_samples:v1/train/WS-SF-May2015_S152_L001_R1_001.db',\n",
       " '/data/dna_samples:v1/train/Wesley045-HLP-100420_S184_L001_R1_001.db',\n",
       " '/data/dna_samples:v1/train/Wesley033-MU-072820_S172_L001_R1_001.db',\n",
       " '/data/dna_samples:v1/train/Wesley043-L-100420_S182_L001_R1_001.db',\n",
       " '/data/dna_samples:v1/train/Wes48-10-CCW_S49_L001_R1_001.db',\n",
       " '/data/dna_samples:v1/train/WS-AG-Sep2015_S44_L001_R1_001.db',\n",
       " '/data/dna_samples:v1/train/Wesley010-HW-051120_S149_L001_R1_001.db',\n",
       " '/data/dna_samples:v1/train/Wes36-8-HW_S37_L001_R1_001.db',\n",
       " '/data/dna_samples:v1/train/Wesley011-Ag-051120_S150_L001_R1_001.db',\n",
       " '/data/dna_samples:v1/train/Wesley027-HLP-072820_S166_L001_R1_001.db']"
      ]
     },
     "execution_count": 12,
     "metadata": {},
     "output_type": "execute_result"
    }
   ],
   "source": [
    "random_samples[0:50]"
   ]
  },
  {
   "cell_type": "markdown",
   "id": "fd855356-4e5a-4047-ae81-323277b11b44",
   "metadata": {
    "tags": []
   },
   "source": [
    "--- \n",
    "# Batch Parameters"
   ]
  },
  {
   "cell_type": "code",
   "execution_count": 13,
   "id": "e23e34f9-3066-4756-ad0b-ccc1a3194438",
   "metadata": {},
   "outputs": [
    {
     "data": {
      "text/plain": [
       "49"
      ]
     },
     "execution_count": 13,
     "metadata": {},
     "output_type": "execute_result"
    }
   ],
   "source": [
    "block_size = 200\n",
    "seq_len = set_len\n",
    "maxlen = set_len\n",
    "vocab_size = 5\n",
    "num_chars_data = set_len*sequence_len\n",
    "max_files = len(train_dataset.samples)\n",
    "max_files"
   ]
  },
  {
   "cell_type": "code",
   "execution_count": 14,
   "id": "e768970c-7af4-4626-9d6e-d712ab7de959",
   "metadata": {},
   "outputs": [],
   "source": [
    "if block_size-2 > seq_len:\n",
    "    raise ValueError(\"Block size should not be bigger than sequence length\")"
   ]
  },
  {
   "cell_type": "code",
   "execution_count": 15,
   "id": "dce0777e-c8af-4835-833d-f1717dbf2501",
   "metadata": {},
   "outputs": [
    {
     "name": "stdout",
     "output_type": "stream",
     "text": [
      "1000\n",
      "5\n",
      "150000\n"
     ]
    }
   ],
   "source": [
    "print(maxlen)\n",
    "print(vocab_size)\n",
    "print(num_chars_data)"
   ]
  },
  {
   "cell_type": "markdown",
   "id": "ea3649b2-2e47-4b30-88e5-6792f1646058",
   "metadata": {},
   "source": [
    "---\n",
    "# Create Embeddings"
   ]
  },
  {
   "cell_type": "code",
   "execution_count": 16,
   "id": "cf74ee78-6d96-41ed-9989-e66cfd5cb1b0",
   "metadata": {},
   "outputs": [],
   "source": [
    "#Create 8 dimensional embeddings\n",
    "pretrained_encoder = dnabert.DnaBertEncoderModel(pretrained_model.base)\n",
    "pretrained_encoder.trainable = False"
   ]
  },
  {
   "cell_type": "code",
   "execution_count": 17,
   "id": "3d33b634-4927-4f9a-a241-8c33c9249a3a",
   "metadata": {},
   "outputs": [],
   "source": [
    "class Create_Embeddings(keras.layers.Layer):\n",
    "    def __init__(self, encoder):\n",
    "        super(Create_Embeddings, self).__init__()\n",
    "        self.encoder = encoder\n",
    "        \n",
    "    def subbatch_predict(self, model, batch, subbatch_size, concat=lambda old, new: tf.concat((old, new), axis=0)):\n",
    "        def predict(i, result=None):\n",
    "            n = i + subbatch_size\n",
    "            pred = tf.stop_gradient(model(batch[i:n]))\n",
    "            if result is None:\n",
    "                return [n, pred]\n",
    "            return [n, concat(result, pred)]\n",
    "        i, result = predict(0)\n",
    "        batch_size = tf.shape(batch)[0]\n",
    "        i, result = tf.while_loop(\n",
    "            cond=lambda i, _: i < batch_size,\n",
    "            body=predict,\n",
    "            loop_vars=[i, result],\n",
    "            parallel_iterations=1)\n",
    "\n",
    "        return result\n",
    "    \n",
    "    def modify_data_for_input(self, data):\n",
    "        batch_size = tf.shape(data)[0]\n",
    "        subsample_size = tf.shape(data)[1]\n",
    "        flat_data = tf.reshape(data, (batch_size*subsample_size, -1))\n",
    "        encoded = self.subbatch_predict(self.encoder, flat_data, 128)\n",
    "        return tf.reshape(encoded, (batch_size, subsample_size, -1))\n",
    "    \n",
    "    def call(self, data):\n",
    "        return  self.modify_data_for_input(data)"
   ]
  },
  {
   "cell_type": "markdown",
   "id": "70b66c98-f8b5-4b80-9736-66a9769cc966",
   "metadata": {},
   "source": [
    "---\n",
    "# Setup"
   ]
  },
  {
   "cell_type": "code",
   "execution_count": 18,
   "id": "9af4ac04-1eab-4d74-bfc0-716408efeed4",
   "metadata": {},
   "outputs": [],
   "source": [
    "def clone_initializer(initializer):\n",
    "    if isinstance(initializer, tf.keras.initializers.Initializer):\n",
    "        return initializer.__class__.from_config(initializer.get_config())\n",
    "    return initializer"
   ]
  },
  {
   "cell_type": "markdown",
   "id": "835c39dd-9fb5-49bf-8763-14ca694a1a35",
   "metadata": {},
   "source": [
    "---\n",
    "# Cache Memory"
   ]
  },
  {
   "cell_type": "code",
   "execution_count": 19,
   "id": "da4cb5e4-2d26-4e40-a00f-3e71f470b273",
   "metadata": {},
   "outputs": [],
   "source": [
    "def _cache_memory(current_state, previous_state, memory_length, reuse_length=0):\n",
    "    if memory_length is None or memory_length == 0:\n",
    "        return None\n",
    "    else:\n",
    "        if reuse_length > 0:\n",
    "            current_state = current_state[:, :reuse_length, :]\n",
    "\n",
    "        if previous_state is None:\n",
    "            new_mem = current_state[:, -memory_length:, :]\n",
    "        else:\n",
    "            new_mem = tf.concat(\n",
    "                    [previous_state, current_state], 1)[:, -memory_length:, :]\n",
    "\n",
    "    return tf.stop_gradient(new_mem)"
   ]
  },
  {
   "cell_type": "markdown",
   "id": "d5c32bb5-4520-4802-a8f0-5f7849905a83",
   "metadata": {},
   "source": [
    "---\n",
    "# XL Block"
   ]
  },
  {
   "cell_type": "code",
   "execution_count": 20,
   "id": "7245b7dd-a3b2-464a-9f5b-7efd4a9d0ed2",
   "metadata": {},
   "outputs": [],
   "source": [
    "class TransformerXLBlock(tf.keras.layers.Layer):\n",
    "    def __init__(self,\n",
    "                 stack,\n",
    "                 num_induce,\n",
    "                 vocab_size,\n",
    "                 hidden_size,\n",
    "                 num_attention_heads,\n",
    "                 head_size,\n",
    "                 inner_size,\n",
    "                 dropout_rate,\n",
    "                 attention_dropout_rate,\n",
    "                 norm_epsilon=1e-12,\n",
    "                 inner_activation=\"relu\",\n",
    "                 kernel_initializer=\"variance_scaling\",\n",
    "                 inner_dropout=0.0,\n",
    "                 **kwargs):\n",
    "\n",
    "        super(TransformerXLBlock, self).__init__(**kwargs)\n",
    "        self._stack = stack\n",
    "        self._num_induce = num_induce\n",
    "        self._vocab_size = vocab_size\n",
    "        self._num_heads = num_attention_heads\n",
    "        self._head_size = head_size\n",
    "        self._hidden_size = hidden_size\n",
    "        self._inner_size = inner_size\n",
    "        self._dropout_rate = dropout_rate\n",
    "        self._attention_dropout_rate = attention_dropout_rate\n",
    "        self._inner_activation = inner_activation\n",
    "        self._norm_epsilon = norm_epsilon\n",
    "        self._kernel_initializer = kernel_initializer\n",
    "        self._inner_dropout = inner_dropout\n",
    "        self._attention_layer_type = Set_Attention\n",
    "        \n",
    "    def build(self, input_shape):\n",
    "        input_tensor = input_shape[0] if len(input_shape) == 2 else input_shape\n",
    "        input_tensor_shape = tf.TensorShape(input_tensor)\n",
    "        if len(input_tensor_shape.as_list()) != 3:\n",
    "            raise ValueError(\"TransformerLayer expects a three-dimensional input of \"\n",
    "                                             \"shape [batch, sequence, width].\")\n",
    "        batch_size, sequence_length, hidden_size = input_tensor_shape\n",
    "\n",
    "        if hidden_size % self._num_heads != 0:\n",
    "            raise ValueError(\n",
    "                    \"The input size (%d) is not a multiple of the number of attention \"\n",
    "                    \"heads (%d)\" % (hidden_size, self._num_heads))\n",
    "            \n",
    "        self._attention_layer = self._attention_layer_type(self._num_induce, 8, self._num_heads, self._stack)\n",
    "        \n",
    "        super(TransformerXLBlock, self).build(input_shape)\n",
    "\n",
    "   \n",
    "    def call(self,\n",
    "             content_stream,\n",
    "             content_attention_bias,\n",
    "             positional_attention_bias,\n",
    "             relative_position_encoding=None,\n",
    "             state=None,\n",
    "             content_attention_mask=None,\n",
    "             query_attention_mask=None,\n",
    "             target_mapping=None):\n",
    "        \n",
    "        attention_output = {\"content_attention\": self._attention_layer(content_stream, state)}        \n",
    "\n",
    "        return attention_output"
   ]
  },
  {
   "cell_type": "markdown",
   "id": "8749ec30-1281-4f9d-8baa-54b890fb7949",
   "metadata": {},
   "source": [
    "---\n",
    "# Transformer XL"
   ]
  },
  {
   "cell_type": "code",
   "execution_count": 21,
   "id": "019ca25d-e899-4e17-8f41-dfdc3d9bdee5",
   "metadata": {},
   "outputs": [],
   "source": [
    "class TransformerXL(tf.keras.layers.Layer):\n",
    "    def __init__(self,\n",
    "                 stack, \n",
    "                 num_induce, \n",
    "                 vocab_size,\n",
    "                 num_layers,\n",
    "                 hidden_size,\n",
    "                 maxlen,\n",
    "                 embed_dim,\n",
    "                 num_attention_heads,\n",
    "                 head_size,\n",
    "                 inner_size,\n",
    "                 dropout_rate,\n",
    "                 attention_dropout_rate,\n",
    "                 initializer,\n",
    "                 tie_attention_biases=True,\n",
    "                 memory_length=None,\n",
    "                 reuse_length=None,\n",
    "                 inner_activation=\"relu\",\n",
    "                 **kwargs):\n",
    "        super(TransformerXL, self).__init__(**kwargs)\n",
    "\n",
    "        self._stack = stack\n",
    "        self._num_induce = num_induce\n",
    "        self._vocab_size = vocab_size\n",
    "        self._initializer = initializer\n",
    "        self._num_layers = num_layers\n",
    "        self._hidden_size = hidden_size\n",
    "        self._num_attention_heads = num_attention_heads\n",
    "        self._head_size = head_size\n",
    "        self._inner_size = inner_size\n",
    "        self._inner_activation = inner_activation\n",
    "        self._dropout_rate = dropout_rate\n",
    "        self._attention_dropout_rate = attention_dropout_rate\n",
    "        self._tie_attention_biases = tie_attention_biases\n",
    "        self._memory_length = memory_length\n",
    "        self._reuse_length = reuse_length\n",
    "\n",
    "        self.transformer_xl_layers = []\n",
    "        \n",
    "        for i in range(self._num_layers):\n",
    "            self.transformer_xl_layers.append(\n",
    "                    TransformerXLBlock(\n",
    "                            stack=self._stack,\n",
    "                            num_induce=num_induce, \n",
    "                            vocab_size=self._vocab_size,\n",
    "                            hidden_size=self._head_size * self._num_attention_heads,\n",
    "                            num_attention_heads=self._num_attention_heads,\n",
    "                            head_size=self._head_size,\n",
    "                            inner_size=self._inner_size,\n",
    "                            dropout_rate=self._dropout_rate,\n",
    "                            attention_dropout_rate=self._attention_dropout_rate,\n",
    "                            norm_epsilon=1e-12,\n",
    "                            inner_activation=self._inner_activation,\n",
    "                            kernel_initializer=\"variance_scaling\",\n",
    "                            name=\"layer_%d\" % i))\n",
    "\n",
    "        self.output_dropout = tf.keras.layers.Dropout(rate=self._dropout_rate)\n",
    "\n",
    "    def call(self,\n",
    "             content_stream,\n",
    "             relative_position_encoding,\n",
    "             state=None,\n",
    "             content_attention_mask=None,\n",
    "             query_attention_mask=None,\n",
    "             target_mapping=None):\n",
    "        \n",
    "        new_mems = []\n",
    "\n",
    "        if state is None:\n",
    "            state = [None] * self._num_layers\n",
    "            \n",
    "        for i in range(self._num_layers):\n",
    "            new_mems.append(_cache_memory(content_stream, state[i], self._memory_length, self._reuse_length))\n",
    "            \n",
    "            transformer_xl_layer = self.transformer_xl_layers[i]\n",
    "            \n",
    "            transformer_xl_output = transformer_xl_layer(\n",
    "                    content_stream=content_stream,\n",
    "                    content_attention_bias=None,\n",
    "                    positional_attention_bias=None,\n",
    "                    relative_position_encoding=None,\n",
    "                    state=state[i],\n",
    "                    content_attention_mask=content_attention_mask,\n",
    "                    query_attention_mask=query_attention_mask,\n",
    "                    target_mapping=target_mapping)\n",
    "            \n",
    "            content_stream = transformer_xl_output[\"content_attention\"]\n",
    "            \n",
    "            #new_mems.append(_cache_memory(content_stream, state[i], self._memory_length, self._reuse_length))\n",
    "\n",
    "        output_stream = content_stream\n",
    "        return output_stream, new_mems"
   ]
  },
  {
   "cell_type": "code",
   "execution_count": 22,
   "id": "b77a89f5-b11a-48e4-bf4f-cc70f1e74e04",
   "metadata": {},
   "outputs": [],
   "source": [
    "class Set_Attention(keras.Model):\n",
    "    def __init__(self, num_induce, embed_dim, num_heads, stack):\n",
    "        super(Set_Attention, self).__init__()\n",
    "        \n",
    "        self.set_attention = (Set_Transformer.SetAttentionBlock(embed_dim=embed_dim,num_heads=num_heads, use_layernorm=True,pre_layernorm=True,use_keras_mha=True))\n",
    "      \n",
    "    def call(self, data, mems):\n",
    "                \n",
    "            attention = self.set_attention([data, mems])\n",
    "                \n",
    "            return attention"
   ]
  },
  {
   "cell_type": "markdown",
   "id": "a127a4b5-15e3-46e3-838b-a5e18e4d8dc8",
   "metadata": {},
   "source": [
    "---\n",
    "# Xl Model Class"
   ]
  },
  {
   "cell_type": "code",
   "execution_count": 23,
   "id": "855d43dd-e182-4c2a-961a-ff9781141f81",
   "metadata": {},
   "outputs": [],
   "source": [
    "class XlModel(keras.Model):\n",
    "    def __init__(self, stack, num_induce, max_files, encoder, block_size, seq_len_padded, embed_dim, vocab_size, num_layers, hidden_size, num_attention_heads, maxlen, memory_length, reuse_length, head_size, inner_size, dropout_rate, attention_dropout_rate, initializer):\n",
    "        super(XlModel, self).__init__()\n",
    "        \n",
    "        self.block_size = block_size\n",
    "        self.seq_len_padded = seq_len_padded\n",
    "        self.embed_dim = embed_dim\n",
    "        self.num_heads = num_attention_heads\n",
    "        self.hidden_size = hidden_size\n",
    "        self.num_layers = num_layers\n",
    "        self.maxlen = maxlen\n",
    "        self.memory_length = memory_length\n",
    "        self.max_files = max_files\n",
    "        self.encoder = encoder\n",
    "        self.isabs = []\n",
    "        \n",
    "        self.embedding_layer = Create_Embeddings(encoder)\n",
    "\n",
    "        self.linear_layer = keras.layers.Dense(embed_dim)\n",
    "        \n",
    "        self.transformer_xl = TransformerXL(\n",
    "                stack=stack, \n",
    "                num_induce=num_induce, \n",
    "                vocab_size=vocab_size,\n",
    "                num_layers=num_layers,\n",
    "                hidden_size=hidden_size,\n",
    "                num_attention_heads=num_attention_heads,\n",
    "                maxlen=maxlen,\n",
    "                embed_dim=embed_dim,\n",
    "                memory_length=memory_length,\n",
    "                reuse_length=reuse_length,\n",
    "                head_size=head_size,\n",
    "                inner_size=inner_size,\n",
    "                dropout_rate=dropout_rate,\n",
    "                attention_dropout_rate=attention_dropout_rate,\n",
    "                initializer=initializer, \n",
    "            )\n",
    "        \n",
    "\n",
    "        self.pooling_layer = Set_Transformer.PoolingByMultiHeadAttention(num_seeds=1,embed_dim=embed_dim,num_heads=self.num_heads,use_layernorm=True,pre_layernorm=True, use_keras_mha=True,is_final_block=True)\n",
    "    \n",
    "        self.reshape_layer = keras.layers.Reshape((embed_dim,))\n",
    "   \n",
    "        self.output_layer = keras.layers.Dense(self.max_files, activation=keras.activations.softmax)\n",
    "        \n",
    "    \n",
    "    def call(self, x, training=None):        \n",
    " \n",
    "        mems = tf.zeros((self.num_layers, tf.shape(x)[0], self.memory_length, self.embed_dim))\n",
    "        \n",
    "        embeddings = self.embedding_layer(x)\n",
    "            \n",
    "        linear_transform = self.linear_layer(embeddings)    \n",
    "            \n",
    "        for i in range(0, self.seq_len_padded, self.block_size):\n",
    "            block = embeddings[:,i:i+self.block_size]\n",
    "            \n",
    "            output, mems = self.transformer_xl(content_stream=block, relative_position_encoding=None, state=mems)\n",
    "                \n",
    "        pooling = self.pooling_layer(output)\n",
    "\n",
    "        reshape = self.reshape_layer(pooling)\n",
    "\n",
    "        output = self.output_layer(reshape)          \n",
    "        \n",
    "        return output"
   ]
  },
  {
   "cell_type": "markdown",
   "id": "e3469de1-250d-4c14-bb79-a4e74f0fe93e",
   "metadata": {},
   "source": [
    "---\n",
    "# Xl Parameters"
   ]
  },
  {
   "cell_type": "code",
   "execution_count": 24,
   "id": "2bc3ea7d-d4a1-4a1e-bf2a-7cd1c91430cf",
   "metadata": {},
   "outputs": [],
   "source": [
    "#Xl Parameters\n",
    "stack = 1\n",
    "num_induce = 48\n",
    "embed_dim = 8\n",
    "num_layers = 8\n",
    "hidden_size = 64\n",
    "num_attention_heads = 8\n",
    "memory_length = 200\n",
    "reuse_length = 0\n",
    "head_size = 8\n",
    "inner_size = 64\n",
    "dropout_rate = 0.01\n",
    "attention_dropout_rate = 0.01\n",
    "initializer = keras.initializers.RandomNormal(stddev=0.1) \n",
    "\n",
    "encoder = pretrained_encoder\n",
    "epochs = 10000"
   ]
  },
  {
   "cell_type": "code",
   "execution_count": 25,
   "id": "73dc6b6c-ad4a-4b28-916d-160d16dfc7ec",
   "metadata": {},
   "outputs": [],
   "source": [
    "Parameters = dict(\n",
    "    stack = 1,\n",
    "    embed_dim = 8,\n",
    "    num_layers = 8,\n",
    "    hidden_size = 64,\n",
    "    num_attention_heads = 8,\n",
    "    memory_length = 200,\n",
    "    reuse_length = 0,\n",
    "    head_size = 8,\n",
    "    inner_size = 64,\n",
    "    dropout_rate = 0.01,\n",
    "    attention_dropout_rate = 0.01,\n",
    "    block_size = block_size,\n",
    "    set_len=set_len)"
   ]
  },
  {
   "cell_type": "code",
   "execution_count": 26,
   "id": "a2a89bb3-457d-4af9-b749-1a9d91656db7",
   "metadata": {},
   "outputs": [
    {
     "name": "stderr",
     "output_type": "stream",
     "text": [
      "Failed to detect the name of this notebook, you can set it manually with the WANDB_NOTEBOOK_NAME environment variable to enable code saving.\n",
      "\u001b[34m\u001b[1mwandb\u001b[0m: Currently logged in as: \u001b[33mkendragivens\u001b[0m. Use \u001b[1m`wandb login --relogin`\u001b[0m to force relogin\n"
     ]
    },
    {
     "data": {
      "text/html": [
       "Tracking run with wandb version 0.12.21"
      ],
      "text/plain": [
       "<IPython.core.display.HTML object>"
      ]
     },
     "metadata": {},
     "output_type": "display_data"
    },
    {
     "data": {
      "text/html": [
       "Run data is saved locally in <code>/home/jovyan/work/TransformerXL/STR_XL/wandb/run-20220726_145445-pibd8u45</code>"
      ],
      "text/plain": [
       "<IPython.core.display.HTML object>"
      ]
     },
     "metadata": {},
     "output_type": "display_data"
    },
    {
     "data": {
      "text/html": [
       "Syncing run <strong><a href=\"https://wandb.ai/kendragivens/StrXL/runs/pibd8u45\" target=\"_blank\">eager-dream-5</a></strong> to <a href=\"https://wandb.ai/kendragivens/StrXL\" target=\"_blank\">Weights & Biases</a> (<a href=\"https://wandb.me/run\" target=\"_blank\">docs</a>)<br/>"
      ],
      "text/plain": [
       "<IPython.core.display.HTML object>"
      ]
     },
     "metadata": {},
     "output_type": "display_data"
    }
   ],
   "source": [
    "run = wandb.init(project=\"StrXL\", config=Parameters)"
   ]
  },
  {
   "cell_type": "markdown",
   "id": "89649663-7d18-48bc-8678-ce5f093908cc",
   "metadata": {},
   "source": [
    "---\n",
    "# Create Models"
   ]
  },
  {
   "cell_type": "code",
   "execution_count": 27,
   "id": "821b0c4a-6d05-4867-a713-474bfdbff881",
   "metadata": {},
   "outputs": [],
   "source": [
    "model = XlModel(stack, num_induce, max_files, encoder, block_size, seq_len, embed_dim, vocab_size, num_layers, hidden_size, num_attention_heads, maxlen, memory_length, reuse_length, head_size, inner_size, dropout_rate, attention_dropout_rate, initializer)\n",
    "model.compile(loss = keras.losses.SparseCategoricalCrossentropy(from_logits=False), optimizer = keras.optimizers.Adam(1e-3), metrics = keras.metrics.SparseCategoricalAccuracy())"
   ]
  },
  {
   "cell_type": "code",
   "execution_count": 28,
   "id": "7ddcc096-cb9a-4c19-a838-0aa92a6a13bc",
   "metadata": {},
   "outputs": [],
   "source": [
    "epochs=10000"
   ]
  },
  {
   "cell_type": "code",
   "execution_count": null,
   "id": "3a4e79fc-5cbf-4807-a782-ed7cbe4e4e56",
   "metadata": {},
   "outputs": [
    {
     "name": "stderr",
     "output_type": "stream",
     "text": [
      "\u001b[34m\u001b[1mwandb\u001b[0m: \u001b[33mWARNING\u001b[0m The save_model argument by default saves the model in the HDF5 format that cannot save custom objects like subclassed models and custom layers. This behavior will be deprecated in a future release in favor of the SavedModel format. Meanwhile, the HDF5 model is saved as W&B files and the SavedModel as W&B Artifacts.\n",
      "\u001b[34m\u001b[1mwandb\u001b[0m: \u001b[33mWARNING\u001b[0m Unable to compute FLOPs for this model.\n"
     ]
    },
    {
     "name": "stdout",
     "output_type": "stream",
     "text": [
      "Epoch 1/10000\n",
      "WARNING:tensorflow:Gradients do not exist for variables ['xl_model/dense_17/kernel:0', 'xl_model/dense_17/bias:0'] when minimizing the loss. If you're using `model.compile()`, did you forget to provide a `loss`argument?\n",
      "WARNING:tensorflow:Gradients do not exist for variables ['xl_model/dense_17/kernel:0', 'xl_model/dense_17/bias:0'] when minimizing the loss. If you're using `model.compile()`, did you forget to provide a `loss`argument?\n",
      "20/20 [==============================] - 135s 6s/step - loss: 3.9437 - sparse_categorical_accuracy: 0.0425 - val_loss: 3.8357 - val_sparse_categorical_accuracy: 0.0400 - _timestamp: 1658865435.0000 - _runtime: 150.0000\n",
      "Epoch 2/10000\n",
      "20/20 [==============================] - 116s 6s/step - loss: 3.7640 - sparse_categorical_accuracy: 0.0550 - val_loss: 3.7335 - val_sparse_categorical_accuracy: 0.0500 - _timestamp: 1658865551.0000 - _runtime: 266.0000\n",
      "Epoch 3/10000\n",
      "20/20 [==============================] - 116s 6s/step - loss: 3.7379 - sparse_categorical_accuracy: 0.0325 - val_loss: 3.7005 - val_sparse_categorical_accuracy: 0.0400 - _timestamp: 1658865666.0000 - _runtime: 381.0000\n",
      "Epoch 4/10000\n",
      "20/20 [==============================] - 116s 6s/step - loss: 3.6566 - sparse_categorical_accuracy: 0.0250 - val_loss: 3.6292 - val_sparse_categorical_accuracy: 0.0400 - _timestamp: 1658865782.0000 - _runtime: 497.0000\n",
      "Epoch 5/10000\n",
      "20/20 [==============================] - 116s 6s/step - loss: 3.6106 - sparse_categorical_accuracy: 0.0425 - val_loss: 3.6069 - val_sparse_categorical_accuracy: 0.0400 - _timestamp: 1658865898.0000 - _runtime: 613.0000\n",
      "Epoch 6/10000\n",
      "20/20 [==============================] - 116s 6s/step - loss: 3.5905 - sparse_categorical_accuracy: 0.0550 - val_loss: 3.5405 - val_sparse_categorical_accuracy: 0.0500 - _timestamp: 1658866014.0000 - _runtime: 729.0000\n",
      "Epoch 7/10000\n",
      "20/20 [==============================] - 116s 6s/step - loss: 3.5061 - sparse_categorical_accuracy: 0.0375 - val_loss: 3.5372 - val_sparse_categorical_accuracy: 0.0400 - _timestamp: 1658866130.0000 - _runtime: 845.0000\n",
      "Epoch 8/10000\n",
      "20/20 [==============================] - 116s 6s/step - loss: 3.5062 - sparse_categorical_accuracy: 0.0375 - val_loss: 3.4947 - val_sparse_categorical_accuracy: 0.0300 - _timestamp: 1658866246.0000 - _runtime: 961.0000\n",
      "Epoch 9/10000\n",
      "20/20 [==============================] - 116s 6s/step - loss: 3.4871 - sparse_categorical_accuracy: 0.0375 - val_loss: 3.5067 - val_sparse_categorical_accuracy: 0.0400 - _timestamp: 1658866362.0000 - _runtime: 1077.0000\n",
      "Epoch 10/10000\n",
      "20/20 [==============================] - 116s 6s/step - loss: 3.4681 - sparse_categorical_accuracy: 0.0500 - val_loss: 3.4717 - val_sparse_categorical_accuracy: 0.0300 - _timestamp: 1658866477.0000 - _runtime: 1192.0000\n",
      "Epoch 11/10000\n",
      "20/20 [==============================] - 116s 6s/step - loss: 3.4422 - sparse_categorical_accuracy: 0.0450 - val_loss: 3.4296 - val_sparse_categorical_accuracy: 0.0100 - _timestamp: 1658866593.0000 - _runtime: 1308.0000\n",
      "Epoch 12/10000\n",
      "20/20 [==============================] - 116s 6s/step - loss: 3.4234 - sparse_categorical_accuracy: 0.0400 - val_loss: 3.4259 - val_sparse_categorical_accuracy: 0.0400 - _timestamp: 1658866709.0000 - _runtime: 1424.0000\n",
      "Epoch 13/10000\n",
      "20/20 [==============================] - 116s 6s/step - loss: 3.4014 - sparse_categorical_accuracy: 0.0600 - val_loss: 3.4546 - val_sparse_categorical_accuracy: 0.0300 - _timestamp: 1658866825.0000 - _runtime: 1540.0000\n",
      "Epoch 14/10000\n",
      "20/20 [==============================] - 116s 6s/step - loss: 3.3772 - sparse_categorical_accuracy: 0.0550 - val_loss: 3.4259 - val_sparse_categorical_accuracy: 0.0800 - _timestamp: 1658866940.0000 - _runtime: 1655.0000\n",
      "Epoch 15/10000\n",
      "20/20 [==============================] - 116s 6s/step - loss: 3.3833 - sparse_categorical_accuracy: 0.0650 - val_loss: 3.3645 - val_sparse_categorical_accuracy: 0.0400 - _timestamp: 1658867056.0000 - _runtime: 1771.0000\n",
      "Epoch 16/10000\n",
      "20/20 [==============================] - 116s 6s/step - loss: 3.3469 - sparse_categorical_accuracy: 0.0600 - val_loss: 3.3515 - val_sparse_categorical_accuracy: 0.0500 - _timestamp: 1658867172.0000 - _runtime: 1887.0000\n",
      "Epoch 17/10000\n",
      "20/20 [==============================] - 116s 6s/step - loss: 3.3411 - sparse_categorical_accuracy: 0.0775 - val_loss: 3.3529 - val_sparse_categorical_accuracy: 0.0600 - _timestamp: 1658867288.0000 - _runtime: 2003.0000\n",
      "Epoch 18/10000\n",
      "20/20 [==============================] - 116s 6s/step - loss: 3.3312 - sparse_categorical_accuracy: 0.0325 - val_loss: 3.2959 - val_sparse_categorical_accuracy: 0.1100 - _timestamp: 1658867404.0000 - _runtime: 2119.0000\n",
      "Epoch 19/10000\n",
      "20/20 [==============================] - 116s 6s/step - loss: 3.2938 - sparse_categorical_accuracy: 0.0700 - val_loss: 3.3654 - val_sparse_categorical_accuracy: 0.0300 - _timestamp: 1658867520.0000 - _runtime: 2235.0000\n",
      "Epoch 20/10000\n",
      "20/20 [==============================] - 116s 6s/step - loss: 3.2981 - sparse_categorical_accuracy: 0.0850 - val_loss: 3.2976 - val_sparse_categorical_accuracy: 0.0400 - _timestamp: 1658867635.0000 - _runtime: 2350.0000\n",
      "Epoch 21/10000\n",
      "20/20 [==============================] - 116s 6s/step - loss: 3.2892 - sparse_categorical_accuracy: 0.0700 - val_loss: 3.2711 - val_sparse_categorical_accuracy: 0.0700 - _timestamp: 1658867751.0000 - _runtime: 2466.0000\n",
      "Epoch 22/10000\n",
      "20/20 [==============================] - 116s 6s/step - loss: 3.2611 - sparse_categorical_accuracy: 0.0625 - val_loss: 3.2296 - val_sparse_categorical_accuracy: 0.0800 - _timestamp: 1658867867.0000 - _runtime: 2582.0000\n",
      "Epoch 23/10000\n",
      "20/20 [==============================] - 116s 6s/step - loss: 3.2220 - sparse_categorical_accuracy: 0.0800 - val_loss: 3.2792 - val_sparse_categorical_accuracy: 0.0400 - _timestamp: 1658867983.0000 - _runtime: 2698.0000\n",
      "Epoch 24/10000\n",
      "20/20 [==============================] - 116s 6s/step - loss: 3.2388 - sparse_categorical_accuracy: 0.0850 - val_loss: 3.2078 - val_sparse_categorical_accuracy: 0.0700 - _timestamp: 1658868099.0000 - _runtime: 2814.0000\n",
      "Epoch 25/10000\n",
      "20/20 [==============================] - 115s 6s/step - loss: 3.2135 - sparse_categorical_accuracy: 0.0975 - val_loss: 3.2155 - val_sparse_categorical_accuracy: 0.0400 - _timestamp: 1658868214.0000 - _runtime: 2929.0000\n",
      "Epoch 26/10000\n",
      "20/20 [==============================] - 116s 6s/step - loss: 3.1806 - sparse_categorical_accuracy: 0.1025 - val_loss: 3.1724 - val_sparse_categorical_accuracy: 0.0800 - _timestamp: 1658868330.0000 - _runtime: 3045.0000\n",
      "Epoch 27/10000\n",
      "20/20 [==============================] - 116s 6s/step - loss: 3.1645 - sparse_categorical_accuracy: 0.1025 - val_loss: 3.1465 - val_sparse_categorical_accuracy: 0.1200 - _timestamp: 1658868446.0000 - _runtime: 3161.0000\n",
      "Epoch 28/10000\n",
      "20/20 [==============================] - 116s 6s/step - loss: 3.1546 - sparse_categorical_accuracy: 0.0800 - val_loss: 3.1532 - val_sparse_categorical_accuracy: 0.0900 - _timestamp: 1658868562.0000 - _runtime: 3277.0000\n",
      "Epoch 29/10000\n",
      "20/20 [==============================] - 116s 6s/step - loss: 3.1217 - sparse_categorical_accuracy: 0.0900 - val_loss: 3.1172 - val_sparse_categorical_accuracy: 0.1300 - _timestamp: 1658868677.0000 - _runtime: 3392.0000\n",
      "Epoch 30/10000\n",
      "20/20 [==============================] - 116s 6s/step - loss: 3.1193 - sparse_categorical_accuracy: 0.1200 - val_loss: 3.1619 - val_sparse_categorical_accuracy: 0.1000 - _timestamp: 1658868793.0000 - _runtime: 3508.0000\n",
      "Epoch 31/10000\n",
      "20/20 [==============================] - 116s 6s/step - loss: 3.1445 - sparse_categorical_accuracy: 0.1025 - val_loss: 3.1113 - val_sparse_categorical_accuracy: 0.1500 - _timestamp: 1658868909.0000 - _runtime: 3624.0000\n",
      "Epoch 32/10000\n",
      "20/20 [==============================] - 116s 6s/step - loss: 3.1034 - sparse_categorical_accuracy: 0.1050 - val_loss: 3.1269 - val_sparse_categorical_accuracy: 0.0700 - _timestamp: 1658869025.0000 - _runtime: 3740.0000\n",
      "Epoch 33/10000\n",
      "20/20 [==============================] - 116s 6s/step - loss: 3.0625 - sparse_categorical_accuracy: 0.1175 - val_loss: 3.0830 - val_sparse_categorical_accuracy: 0.1000 - _timestamp: 1658869141.0000 - _runtime: 3856.0000\n",
      "Epoch 34/10000\n",
      "20/20 [==============================] - 115s 6s/step - loss: 3.0537 - sparse_categorical_accuracy: 0.1400 - val_loss: 3.0947 - val_sparse_categorical_accuracy: 0.1700 - _timestamp: 1658869256.0000 - _runtime: 3971.0000\n",
      "Epoch 35/10000\n",
      "20/20 [==============================] - 116s 6s/step - loss: 3.0282 - sparse_categorical_accuracy: 0.1300 - val_loss: 3.0897 - val_sparse_categorical_accuracy: 0.0700 - _timestamp: 1658869372.0000 - _runtime: 4087.0000\n",
      "Epoch 36/10000\n",
      "20/20 [==============================] - 116s 6s/step - loss: 3.0274 - sparse_categorical_accuracy: 0.1175 - val_loss: 3.0381 - val_sparse_categorical_accuracy: 0.1000 - _timestamp: 1658869487.0000 - _runtime: 4202.0000\n",
      "Epoch 37/10000\n",
      "20/20 [==============================] - 116s 6s/step - loss: 2.9910 - sparse_categorical_accuracy: 0.1250 - val_loss: 3.0705 - val_sparse_categorical_accuracy: 0.1200 - _timestamp: 1658869603.0000 - _runtime: 4318.0000\n",
      "Epoch 38/10000\n",
      "20/20 [==============================] - 116s 6s/step - loss: 2.9676 - sparse_categorical_accuracy: 0.1425 - val_loss: 2.9278 - val_sparse_categorical_accuracy: 0.1500 - _timestamp: 1658869719.0000 - _runtime: 4434.0000\n",
      "Epoch 39/10000\n",
      "20/20 [==============================] - 116s 6s/step - loss: 2.9783 - sparse_categorical_accuracy: 0.1075 - val_loss: 3.0781 - val_sparse_categorical_accuracy: 0.0800 - _timestamp: 1658869835.0000 - _runtime: 4550.0000\n",
      "Epoch 40/10000\n",
      "20/20 [==============================] - 116s 6s/step - loss: 2.9239 - sparse_categorical_accuracy: 0.1400 - val_loss: 3.0653 - val_sparse_categorical_accuracy: 0.1000 - _timestamp: 1658869951.0000 - _runtime: 4666.0000\n",
      "Epoch 41/10000\n",
      "20/20 [==============================] - 116s 6s/step - loss: 2.8747 - sparse_categorical_accuracy: 0.1475 - val_loss: 2.8888 - val_sparse_categorical_accuracy: 0.1700 - _timestamp: 1658870066.0000 - _runtime: 4781.0000\n",
      "Epoch 42/10000\n",
      "20/20 [==============================] - 116s 6s/step - loss: 2.8863 - sparse_categorical_accuracy: 0.1300 - val_loss: 3.1344 - val_sparse_categorical_accuracy: 0.1100 - _timestamp: 1658870182.0000 - _runtime: 4897.0000\n",
      "Epoch 43/10000\n",
      "20/20 [==============================] - 116s 6s/step - loss: 2.8691 - sparse_categorical_accuracy: 0.1700 - val_loss: 2.8992 - val_sparse_categorical_accuracy: 0.1600 - _timestamp: 1658870298.0000 - _runtime: 5013.0000\n",
      "Epoch 44/10000\n",
      "20/20 [==============================] - 116s 6s/step - loss: 2.8682 - sparse_categorical_accuracy: 0.1225 - val_loss: 2.8156 - val_sparse_categorical_accuracy: 0.1500 - _timestamp: 1658870414.0000 - _runtime: 5129.0000\n",
      "Epoch 45/10000\n",
      "20/20 [==============================] - 116s 6s/step - loss: 2.8540 - sparse_categorical_accuracy: 0.1525 - val_loss: 2.9383 - val_sparse_categorical_accuracy: 0.1300 - _timestamp: 1658870530.0000 - _runtime: 5245.0000\n",
      "Epoch 46/10000\n",
      "20/20 [==============================] - 116s 6s/step - loss: 2.7751 - sparse_categorical_accuracy: 0.1475 - val_loss: 2.9296 - val_sparse_categorical_accuracy: 0.1100 - _timestamp: 1658870645.0000 - _runtime: 5360.0000\n",
      "Epoch 47/10000\n",
      "20/20 [==============================] - 116s 6s/step - loss: 2.8163 - sparse_categorical_accuracy: 0.1300 - val_loss: 2.8759 - val_sparse_categorical_accuracy: 0.1600 - _timestamp: 1658870761.0000 - _runtime: 5476.0000\n",
      "Epoch 48/10000\n",
      "20/20 [==============================] - 116s 6s/step - loss: 2.7532 - sparse_categorical_accuracy: 0.1475 - val_loss: 2.8537 - val_sparse_categorical_accuracy: 0.1100 - _timestamp: 1658870877.0000 - _runtime: 5592.0000\n",
      "Epoch 49/10000\n",
      "20/20 [==============================] - 116s 6s/step - loss: 2.7520 - sparse_categorical_accuracy: 0.1450 - val_loss: 2.7890 - val_sparse_categorical_accuracy: 0.1300 - _timestamp: 1658870992.0000 - _runtime: 5707.0000\n",
      "Epoch 50/10000\n",
      "20/20 [==============================] - 116s 6s/step - loss: 2.7977 - sparse_categorical_accuracy: 0.1350 - val_loss: 2.7817 - val_sparse_categorical_accuracy: 0.1200 - _timestamp: 1658871108.0000 - _runtime: 5823.0000\n",
      "Epoch 51/10000\n",
      "20/20 [==============================] - 116s 6s/step - loss: 2.7340 - sparse_categorical_accuracy: 0.1425 - val_loss: 2.9214 - val_sparse_categorical_accuracy: 0.0800 - _timestamp: 1658871224.0000 - _runtime: 5939.0000\n",
      "Epoch 52/10000\n",
      "20/20 [==============================] - 116s 6s/step - loss: 2.7002 - sparse_categorical_accuracy: 0.1750 - val_loss: 2.8320 - val_sparse_categorical_accuracy: 0.1400 - _timestamp: 1658871340.0000 - _runtime: 6055.0000\n",
      "Epoch 53/10000\n",
      "20/20 [==============================] - 116s 6s/step - loss: 2.7481 - sparse_categorical_accuracy: 0.1800 - val_loss: 2.6791 - val_sparse_categorical_accuracy: 0.1200 - _timestamp: 1658871456.0000 - _runtime: 6171.0000\n",
      "Epoch 54/10000\n",
      "20/20 [==============================] - 116s 6s/step - loss: 2.7407 - sparse_categorical_accuracy: 0.1675 - val_loss: 2.8536 - val_sparse_categorical_accuracy: 0.1400 - _timestamp: 1658871572.0000 - _runtime: 6287.0000\n",
      "Epoch 55/10000\n",
      "20/20 [==============================] - 116s 6s/step - loss: 2.6688 - sparse_categorical_accuracy: 0.1950 - val_loss: 2.7608 - val_sparse_categorical_accuracy: 0.1500 - _timestamp: 1658871687.0000 - _runtime: 6402.0000\n",
      "Epoch 56/10000\n",
      "20/20 [==============================] - 116s 6s/step - loss: 2.7122 - sparse_categorical_accuracy: 0.1325 - val_loss: 3.0468 - val_sparse_categorical_accuracy: 0.1300 - _timestamp: 1658871803.0000 - _runtime: 6518.0000\n",
      "Epoch 57/10000\n",
      "20/20 [==============================] - 116s 6s/step - loss: 2.6491 - sparse_categorical_accuracy: 0.1500 - val_loss: 2.9268 - val_sparse_categorical_accuracy: 0.1300 - _timestamp: 1658871919.0000 - _runtime: 6634.0000\n",
      "Epoch 58/10000\n",
      "20/20 [==============================] - 116s 6s/step - loss: 2.6094 - sparse_categorical_accuracy: 0.1700 - val_loss: 2.7476 - val_sparse_categorical_accuracy: 0.0800 - _timestamp: 1658872034.0000 - _runtime: 6749.0000\n",
      "Epoch 59/10000\n",
      "20/20 [==============================] - 116s 6s/step - loss: 2.6415 - sparse_categorical_accuracy: 0.1825 - val_loss: 2.7448 - val_sparse_categorical_accuracy: 0.1100 - _timestamp: 1658872150.0000 - _runtime: 6865.0000\n",
      "Epoch 60/10000\n",
      "20/20 [==============================] - 116s 6s/step - loss: 2.6054 - sparse_categorical_accuracy: 0.1625 - val_loss: 2.8305 - val_sparse_categorical_accuracy: 0.1800 - _timestamp: 1658872266.0000 - _runtime: 6981.0000\n",
      "Epoch 61/10000\n",
      "20/20 [==============================] - 116s 6s/step - loss: 2.6367 - sparse_categorical_accuracy: 0.1650 - val_loss: 2.6750 - val_sparse_categorical_accuracy: 0.1200 - _timestamp: 1658872381.0000 - _runtime: 7096.0000\n",
      "Epoch 62/10000\n",
      "20/20 [==============================] - 116s 6s/step - loss: 2.6180 - sparse_categorical_accuracy: 0.1550 - val_loss: 3.0248 - val_sparse_categorical_accuracy: 0.1400 - _timestamp: 1658872497.0000 - _runtime: 7212.0000\n",
      "Epoch 63/10000\n",
      "20/20 [==============================] - 116s 6s/step - loss: 2.6183 - sparse_categorical_accuracy: 0.1400 - val_loss: 2.8341 - val_sparse_categorical_accuracy: 0.0500 - _timestamp: 1658872613.0000 - _runtime: 7328.0000\n",
      "Epoch 64/10000\n",
      "20/20 [==============================] - 116s 6s/step - loss: 2.5999 - sparse_categorical_accuracy: 0.1675 - val_loss: 2.6577 - val_sparse_categorical_accuracy: 0.1800 - _timestamp: 1658872729.0000 - _runtime: 7444.0000\n",
      "Epoch 65/10000\n",
      "20/20 [==============================] - 116s 6s/step - loss: 2.5959 - sparse_categorical_accuracy: 0.1650 - val_loss: 2.7092 - val_sparse_categorical_accuracy: 0.1600 - _timestamp: 1658872844.0000 - _runtime: 7559.0000\n",
      "Epoch 66/10000\n",
      "20/20 [==============================] - 116s 6s/step - loss: 2.5399 - sparse_categorical_accuracy: 0.1900 - val_loss: 2.6323 - val_sparse_categorical_accuracy: 0.1500 - _timestamp: 1658872960.0000 - _runtime: 7675.0000\n",
      "Epoch 67/10000\n",
      "20/20 [==============================] - 116s 6s/step - loss: 2.5289 - sparse_categorical_accuracy: 0.1600 - val_loss: 2.7161 - val_sparse_categorical_accuracy: 0.1100 - _timestamp: 1658873076.0000 - _runtime: 7791.0000\n",
      "Epoch 68/10000\n",
      "20/20 [==============================] - 116s 6s/step - loss: 2.5393 - sparse_categorical_accuracy: 0.1900 - val_loss: 2.9153 - val_sparse_categorical_accuracy: 0.1600 - _timestamp: 1658873192.0000 - _runtime: 7907.0000\n",
      "Epoch 69/10000\n",
      "20/20 [==============================] - 116s 6s/step - loss: 2.5443 - sparse_categorical_accuracy: 0.2050 - val_loss: 2.6636 - val_sparse_categorical_accuracy: 0.1400 - _timestamp: 1658873307.0000 - _runtime: 8022.0000\n",
      "Epoch 70/10000\n",
      "20/20 [==============================] - 116s 6s/step - loss: 2.5468 - sparse_categorical_accuracy: 0.1925 - val_loss: 2.8137 - val_sparse_categorical_accuracy: 0.1100 - _timestamp: 1658873423.0000 - _runtime: 8138.0000\n",
      "Epoch 71/10000\n",
      "20/20 [==============================] - 116s 6s/step - loss: 2.5631 - sparse_categorical_accuracy: 0.1750 - val_loss: 2.7627 - val_sparse_categorical_accuracy: 0.1500 - _timestamp: 1658873539.0000 - _runtime: 8254.0000\n",
      "Epoch 72/10000\n",
      "20/20 [==============================] - 116s 6s/step - loss: 2.5352 - sparse_categorical_accuracy: 0.1725 - val_loss: 2.9291 - val_sparse_categorical_accuracy: 0.0700 - _timestamp: 1658873654.0000 - _runtime: 8369.0000\n",
      "Epoch 73/10000\n",
      "20/20 [==============================] - 116s 6s/step - loss: 2.5422 - sparse_categorical_accuracy: 0.1850 - val_loss: 2.9620 - val_sparse_categorical_accuracy: 0.1400 - _timestamp: 1658873770.0000 - _runtime: 8485.0000\n",
      "Epoch 74/10000\n",
      "20/20 [==============================] - 116s 6s/step - loss: 2.5077 - sparse_categorical_accuracy: 0.1900 - val_loss: 2.7871 - val_sparse_categorical_accuracy: 0.1300 - _timestamp: 1658873886.0000 - _runtime: 8601.0000\n",
      "Epoch 75/10000\n",
      "20/20 [==============================] - 116s 6s/step - loss: 2.4817 - sparse_categorical_accuracy: 0.1900 - val_loss: 3.2027 - val_sparse_categorical_accuracy: 0.1000 - _timestamp: 1658874001.0000 - _runtime: 8716.0000\n",
      "Epoch 76/10000\n",
      "20/20 [==============================] - 116s 6s/step - loss: 2.5047 - sparse_categorical_accuracy: 0.1750 - val_loss: 2.7221 - val_sparse_categorical_accuracy: 0.1800 - _timestamp: 1658874117.0000 - _runtime: 8832.0000\n",
      "Epoch 77/10000\n",
      "20/20 [==============================] - 116s 6s/step - loss: 2.5138 - sparse_categorical_accuracy: 0.1575 - val_loss: 2.7320 - val_sparse_categorical_accuracy: 0.1600 - _timestamp: 1658874233.0000 - _runtime: 8948.0000\n",
      "Epoch 78/10000\n",
      "20/20 [==============================] - 116s 6s/step - loss: 2.5123 - sparse_categorical_accuracy: 0.1800 - val_loss: 2.6680 - val_sparse_categorical_accuracy: 0.1600 - _timestamp: 1658874348.0000 - _runtime: 9063.0000\n",
      "Epoch 79/10000\n",
      "20/20 [==============================] - 116s 6s/step - loss: 2.4662 - sparse_categorical_accuracy: 0.1975 - val_loss: 2.6673 - val_sparse_categorical_accuracy: 0.1700 - _timestamp: 1658874464.0000 - _runtime: 9179.0000\n",
      "Epoch 80/10000\n",
      "20/20 [==============================] - 116s 6s/step - loss: 2.4516 - sparse_categorical_accuracy: 0.1825 - val_loss: 2.6244 - val_sparse_categorical_accuracy: 0.1500 - _timestamp: 1658874580.0000 - _runtime: 9295.0000\n",
      "Epoch 81/10000\n",
      "20/20 [==============================] - 116s 6s/step - loss: 2.4446 - sparse_categorical_accuracy: 0.1925 - val_loss: 2.7248 - val_sparse_categorical_accuracy: 0.1500 - _timestamp: 1658874696.0000 - _runtime: 9411.0000\n",
      "Epoch 82/10000\n",
      "20/20 [==============================] - 116s 6s/step - loss: 2.4116 - sparse_categorical_accuracy: 0.2000 - val_loss: 2.6188 - val_sparse_categorical_accuracy: 0.1400 - _timestamp: 1658874811.0000 - _runtime: 9526.0000\n",
      "Epoch 83/10000\n",
      "20/20 [==============================] - 116s 6s/step - loss: 2.4730 - sparse_categorical_accuracy: 0.1950 - val_loss: 2.6120 - val_sparse_categorical_accuracy: 0.1500 - _timestamp: 1658874927.0000 - _runtime: 9642.0000\n",
      "Epoch 84/10000\n",
      "20/20 [==============================] - 116s 6s/step - loss: 2.4310 - sparse_categorical_accuracy: 0.1875 - val_loss: 2.7813 - val_sparse_categorical_accuracy: 0.1600 - _timestamp: 1658875043.0000 - _runtime: 9758.0000\n",
      "Epoch 85/10000\n",
      "20/20 [==============================] - 116s 6s/step - loss: 2.4241 - sparse_categorical_accuracy: 0.1875 - val_loss: 2.8570 - val_sparse_categorical_accuracy: 0.1300 - _timestamp: 1658875159.0000 - _runtime: 9874.0000\n",
      "Epoch 86/10000\n",
      "20/20 [==============================] - 116s 6s/step - loss: 2.4150 - sparse_categorical_accuracy: 0.1775 - val_loss: 2.6675 - val_sparse_categorical_accuracy: 0.1300 - _timestamp: 1658875275.0000 - _runtime: 9990.0000\n",
      "Epoch 87/10000\n",
      "20/20 [==============================] - 116s 6s/step - loss: 2.4204 - sparse_categorical_accuracy: 0.1825 - val_loss: 2.6476 - val_sparse_categorical_accuracy: 0.1400 - _timestamp: 1658875390.0000 - _runtime: 10105.0000\n",
      "Epoch 88/10000\n",
      "20/20 [==============================] - 116s 6s/step - loss: 2.4183 - sparse_categorical_accuracy: 0.1700 - val_loss: 2.5376 - val_sparse_categorical_accuracy: 0.1400 - _timestamp: 1658875506.0000 - _runtime: 10221.0000\n",
      "Epoch 89/10000\n",
      "20/20 [==============================] - 116s 6s/step - loss: 2.4162 - sparse_categorical_accuracy: 0.2050 - val_loss: 2.5211 - val_sparse_categorical_accuracy: 0.1600 - _timestamp: 1658875622.0000 - _runtime: 10337.0000\n",
      "Epoch 90/10000\n",
      "20/20 [==============================] - 116s 6s/step - loss: 2.4522 - sparse_categorical_accuracy: 0.1925 - val_loss: 2.5378 - val_sparse_categorical_accuracy: 0.1700 - _timestamp: 1658875738.0000 - _runtime: 10453.0000\n",
      "Epoch 91/10000\n",
      "20/20 [==============================] - 116s 6s/step - loss: 2.4264 - sparse_categorical_accuracy: 0.1825 - val_loss: 2.5960 - val_sparse_categorical_accuracy: 0.1500 - _timestamp: 1658875854.0000 - _runtime: 10569.0000\n",
      "Epoch 92/10000\n",
      "20/20 [==============================] - 116s 6s/step - loss: 2.4135 - sparse_categorical_accuracy: 0.1975 - val_loss: 2.6044 - val_sparse_categorical_accuracy: 0.1100 - _timestamp: 1658875969.0000 - _runtime: 10684.0000\n",
      "Epoch 93/10000\n",
      "20/20 [==============================] - 116s 6s/step - loss: 2.3829 - sparse_categorical_accuracy: 0.1775 - val_loss: 2.5749 - val_sparse_categorical_accuracy: 0.2000 - _timestamp: 1658876085.0000 - _runtime: 10800.0000\n",
      "Epoch 94/10000\n",
      "20/20 [==============================] - 116s 6s/step - loss: 2.3407 - sparse_categorical_accuracy: 0.2225 - val_loss: 2.7211 - val_sparse_categorical_accuracy: 0.1700 - _timestamp: 1658876201.0000 - _runtime: 10916.0000\n",
      "Epoch 95/10000\n",
      "20/20 [==============================] - 116s 6s/step - loss: 2.3556 - sparse_categorical_accuracy: 0.1875 - val_loss: 2.6921 - val_sparse_categorical_accuracy: 0.1500 - _timestamp: 1658876317.0000 - _runtime: 11032.0000\n",
      "Epoch 96/10000\n",
      "20/20 [==============================] - 116s 6s/step - loss: 2.3458 - sparse_categorical_accuracy: 0.1900 - val_loss: 2.6366 - val_sparse_categorical_accuracy: 0.1600 - _timestamp: 1658876432.0000 - _runtime: 11147.0000\n",
      "Epoch 97/10000\n",
      "20/20 [==============================] - 116s 6s/step - loss: 2.3860 - sparse_categorical_accuracy: 0.1725 - val_loss: 2.4727 - val_sparse_categorical_accuracy: 0.0900 - _timestamp: 1658876548.0000 - _runtime: 11263.0000\n",
      "Epoch 98/10000\n",
      "20/20 [==============================] - 116s 6s/step - loss: 2.3735 - sparse_categorical_accuracy: 0.1975 - val_loss: 2.5340 - val_sparse_categorical_accuracy: 0.1800 - _timestamp: 1658876664.0000 - _runtime: 11379.0000\n",
      "Epoch 99/10000\n",
      "20/20 [==============================] - 116s 6s/step - loss: 2.3782 - sparse_categorical_accuracy: 0.1725 - val_loss: 2.4014 - val_sparse_categorical_accuracy: 0.1800 - _timestamp: 1658876779.0000 - _runtime: 11494.0000\n",
      "Epoch 100/10000\n",
      "20/20 [==============================] - 116s 6s/step - loss: 2.4063 - sparse_categorical_accuracy: 0.2275 - val_loss: 2.5262 - val_sparse_categorical_accuracy: 0.1400 - _timestamp: 1658876895.0000 - _runtime: 11610.0000\n",
      "Epoch 101/10000\n",
      "20/20 [==============================] - 116s 6s/step - loss: 2.4122 - sparse_categorical_accuracy: 0.1650 - val_loss: 2.4659 - val_sparse_categorical_accuracy: 0.1700 - _timestamp: 1658877011.0000 - _runtime: 11726.0000\n",
      "Epoch 102/10000\n",
      "20/20 [==============================] - 116s 6s/step - loss: 2.3411 - sparse_categorical_accuracy: 0.1750 - val_loss: 2.5288 - val_sparse_categorical_accuracy: 0.2200 - _timestamp: 1658877127.0000 - _runtime: 11842.0000\n",
      "Epoch 103/10000\n",
      "20/20 [==============================] - 116s 6s/step - loss: 2.3546 - sparse_categorical_accuracy: 0.2025 - val_loss: 2.4346 - val_sparse_categorical_accuracy: 0.2100 - _timestamp: 1658877242.0000 - _runtime: 11957.0000\n",
      "Epoch 104/10000\n",
      "20/20 [==============================] - 116s 6s/step - loss: 2.3631 - sparse_categorical_accuracy: 0.2025 - val_loss: 3.0690 - val_sparse_categorical_accuracy: 0.1200 - _timestamp: 1658877358.0000 - _runtime: 12073.0000\n",
      "Epoch 105/10000\n",
      "20/20 [==============================] - 116s 6s/step - loss: 2.3467 - sparse_categorical_accuracy: 0.1950 - val_loss: 2.6820 - val_sparse_categorical_accuracy: 0.1300 - _timestamp: 1658877474.0000 - _runtime: 12189.0000\n",
      "Epoch 106/10000\n",
      "20/20 [==============================] - 116s 6s/step - loss: 2.3044 - sparse_categorical_accuracy: 0.2025 - val_loss: 2.4756 - val_sparse_categorical_accuracy: 0.1100 - _timestamp: 1658877589.0000 - _runtime: 12304.0000\n",
      "Epoch 107/10000\n",
      "20/20 [==============================] - 116s 6s/step - loss: 2.3593 - sparse_categorical_accuracy: 0.1950 - val_loss: 2.4014 - val_sparse_categorical_accuracy: 0.2000 - _timestamp: 1658877705.0000 - _runtime: 12420.0000\n",
      "Epoch 108/10000\n",
      "20/20 [==============================] - 116s 6s/step - loss: 2.2937 - sparse_categorical_accuracy: 0.2325 - val_loss: 2.5702 - val_sparse_categorical_accuracy: 0.1200 - _timestamp: 1658877821.0000 - _runtime: 12536.0000\n",
      "Epoch 109/10000\n",
      "20/20 [==============================] - 116s 6s/step - loss: 2.3193 - sparse_categorical_accuracy: 0.2225 - val_loss: 2.6834 - val_sparse_categorical_accuracy: 0.1300 - _timestamp: 1658877936.0000 - _runtime: 12651.0000\n",
      "Epoch 110/10000\n",
      "20/20 [==============================] - 116s 6s/step - loss: 2.2814 - sparse_categorical_accuracy: 0.1975 - val_loss: 2.5185 - val_sparse_categorical_accuracy: 0.1500 - _timestamp: 1658878052.0000 - _runtime: 12767.0000\n",
      "Epoch 111/10000\n",
      "20/20 [==============================] - 116s 6s/step - loss: 2.3514 - sparse_categorical_accuracy: 0.1750 - val_loss: 2.5743 - val_sparse_categorical_accuracy: 0.2000 - _timestamp: 1658878168.0000 - _runtime: 12883.0000\n",
      "Epoch 112/10000\n",
      "20/20 [==============================] - 116s 6s/step - loss: 2.2778 - sparse_categorical_accuracy: 0.2250 - val_loss: 2.3807 - val_sparse_categorical_accuracy: 0.1600 - _timestamp: 1658878283.0000 - _runtime: 12998.0000\n",
      "Epoch 113/10000\n",
      "20/20 [==============================] - 116s 6s/step - loss: 2.2628 - sparse_categorical_accuracy: 0.2125 - val_loss: 2.5648 - val_sparse_categorical_accuracy: 0.1200 - _timestamp: 1658878399.0000 - _runtime: 13114.0000\n",
      "Epoch 114/10000\n",
      "20/20 [==============================] - 116s 6s/step - loss: 2.2670 - sparse_categorical_accuracy: 0.2400 - val_loss: 2.3586 - val_sparse_categorical_accuracy: 0.1900 - _timestamp: 1658878515.0000 - _runtime: 13230.0000\n",
      "Epoch 115/10000\n",
      "20/20 [==============================] - 116s 6s/step - loss: 2.3100 - sparse_categorical_accuracy: 0.1950 - val_loss: 2.4541 - val_sparse_categorical_accuracy: 0.1000 - _timestamp: 1658878631.0000 - _runtime: 13346.0000\n",
      "Epoch 116/10000\n",
      "20/20 [==============================] - 116s 6s/step - loss: 2.3185 - sparse_categorical_accuracy: 0.1650 - val_loss: 2.4867 - val_sparse_categorical_accuracy: 0.2300 - _timestamp: 1658878747.0000 - _runtime: 13462.0000\n",
      "Epoch 117/10000\n",
      "20/20 [==============================] - 116s 6s/step - loss: 2.3223 - sparse_categorical_accuracy: 0.2125 - val_loss: 2.5237 - val_sparse_categorical_accuracy: 0.1900 - _timestamp: 1658878862.0000 - _runtime: 13577.0000\n",
      "Epoch 118/10000\n",
      "20/20 [==============================] - 116s 6s/step - loss: 2.2495 - sparse_categorical_accuracy: 0.2350 - val_loss: 2.5886 - val_sparse_categorical_accuracy: 0.2200 - _timestamp: 1658878978.0000 - _runtime: 13693.0000\n",
      "Epoch 119/10000\n",
      "20/20 [==============================] - 116s 6s/step - loss: 2.2885 - sparse_categorical_accuracy: 0.1775 - val_loss: 2.7653 - val_sparse_categorical_accuracy: 0.0700 - _timestamp: 1658879094.0000 - _runtime: 13809.0000\n",
      "Epoch 120/10000\n",
      "20/20 [==============================] - 116s 6s/step - loss: 2.3272 - sparse_categorical_accuracy: 0.1900 - val_loss: 2.5577 - val_sparse_categorical_accuracy: 0.1700 - _timestamp: 1658879209.0000 - _runtime: 13924.0000\n",
      "Epoch 121/10000\n",
      "20/20 [==============================] - 116s 6s/step - loss: 2.2534 - sparse_categorical_accuracy: 0.2275 - val_loss: 2.8408 - val_sparse_categorical_accuracy: 0.1000 - _timestamp: 1658879325.0000 - _runtime: 14040.0000\n",
      "Epoch 122/10000\n",
      "20/20 [==============================] - 116s 6s/step - loss: 2.3069 - sparse_categorical_accuracy: 0.1825 - val_loss: 2.3063 - val_sparse_categorical_accuracy: 0.2000 - _timestamp: 1658879441.0000 - _runtime: 14156.0000\n",
      "Epoch 123/10000\n",
      " 7/20 [=========>....................] - ETA: 59s - loss: 2.3436 - sparse_categorical_accuracy: 0.1857 "
     ]
    }
   ],
   "source": [
    "history = model.fit(x=train_dataset, validation_data=val_dataset, epochs=epochs, verbose=1, callbacks=[wandb.keras.WandbCallback(save_weights_only=True)])"
   ]
  },
  {
   "cell_type": "code",
   "execution_count": null,
   "id": "edd6e04f-8083-48e5-a7cf-1d38fa2a3716",
   "metadata": {},
   "outputs": [],
   "source": [
    "run.finish()"
   ]
  },
  {
   "cell_type": "code",
   "execution_count": null,
   "id": "68a6add5-4de7-4339-8689-408e9549634c",
   "metadata": {},
   "outputs": [],
   "source": [
    "model.save_weights(\"./Saved_Models/StrXL_Run1.h5\")"
   ]
  },
  {
   "cell_type": "code",
   "execution_count": null,
   "id": "c565d8f6-2e7a-4a97-8a6a-aa3cfc571008",
   "metadata": {},
   "outputs": [],
   "source": [
    "u = model.evaluate(val_dataset)"
   ]
  },
  {
   "cell_type": "code",
   "execution_count": null,
   "id": "5ab0feaa-ccf4-4352-bddc-728529531858",
   "metadata": {},
   "outputs": [],
   "source": [
    "u = model.predict(train_dataset)"
   ]
  },
  {
   "cell_type": "code",
   "execution_count": null,
   "id": "d67c3f83-2d73-4c19-a50e-eb8a5c636edc",
   "metadata": {},
   "outputs": [],
   "source": [
    "u = u.argmax(-1)"
   ]
  },
  {
   "cell_type": "code",
   "execution_count": null,
   "id": "ae9ebaae-0583-4553-a957-7d1f45958d22",
   "metadata": {},
   "outputs": [],
   "source": [
    "u"
   ]
  },
  {
   "cell_type": "code",
   "execution_count": null,
   "id": "52eef17b-b311-4277-9bb7-87f05d897473",
   "metadata": {},
   "outputs": [],
   "source": [
    "val_dataset[0][1]"
   ]
  },
  {
   "cell_type": "code",
   "execution_count": null,
   "id": "7d2c99b9-a5d1-4d9e-a1ee-8d39f8e6dba9",
   "metadata": {},
   "outputs": [],
   "source": [
    "trimmed_samples[0:5]"
   ]
  },
  {
   "cell_type": "code",
   "execution_count": null,
   "id": "2504f3ab-5e7b-4082-b017-f46b0b8fbcbf",
   "metadata": {},
   "outputs": [],
   "source": []
  }
 ],
 "metadata": {
  "kernelspec": {
   "display_name": "Python 3 (ipykernel)",
   "language": "python",
   "name": "python3"
  },
  "language_info": {
   "codemirror_mode": {
    "name": "ipython",
    "version": 3
   },
   "file_extension": ".py",
   "mimetype": "text/x-python",
   "name": "python",
   "nbconvert_exporter": "python",
   "pygments_lexer": "ipython3",
   "version": "3.10.4"
  }
 },
 "nbformat": 4,
 "nbformat_minor": 5
}

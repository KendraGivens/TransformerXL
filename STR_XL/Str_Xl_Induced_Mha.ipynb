{
 "cells": [
  {
   "cell_type": "markdown",
   "id": "5ccea5cd-89de-452b-afa6-703df9e9a604",
   "metadata": {},
   "source": [
    "---\n",
    "# Transformer XL\n",
    "---"
   ]
  },
  {
   "cell_type": "markdown",
   "id": "ad2c14f8-8dd8-459f-81fe-a6708e6a8355",
   "metadata": {},
   "source": [
    "---\n",
    "# Import Libraries"
   ]
  },
  {
   "cell_type": "code",
   "execution_count": 1,
   "id": "3dcad43d-67f7-49b9-84ce-6d91a0f468a6",
   "metadata": {},
   "outputs": [],
   "source": [
    "import os\n",
    "import sys"
   ]
  },
  {
   "cell_type": "code",
   "execution_count": 2,
   "id": "5e7cb9df-5746-44a3-998a-b671b284957f",
   "metadata": {},
   "outputs": [],
   "source": [
    "os.environ[\"TF_CPP_MIN_LOG_LEVEL\"] = \"2\""
   ]
  },
  {
   "cell_type": "code",
   "execution_count": 3,
   "id": "2c507a85-fe6f-4d3c-ae1f-16914fdec693",
   "metadata": {},
   "outputs": [],
   "source": [
    "sys.path.append(\"../../deep-learning-dna\")"
   ]
  },
  {
   "cell_type": "code",
   "execution_count": 4,
   "id": "fda64db1-8058-4e15-b2d4-1a3e64f23fbe",
   "metadata": {},
   "outputs": [],
   "source": [
    "import tensorflow as tf\n",
    "import tensorflow.keras as keras\n",
    "import numpy as np\n",
    "import matplotlib.pyplot as plt\n",
    "%matplotlib inline\n",
    "from IPython.display import display\n",
    "import math\n",
    "import string\n",
    "\n",
    "import Set_Transformer \n",
    "from common.models import dnabert\n",
    "from common import dna\n",
    "from lmdbm import Lmdb\n",
    "from common.data import DnaSequenceGenerator, DnaLabelType, DnaSampleGenerator, find_dbs\n",
    "import wandb\n",
    "\n",
    "import tf_utils as tfu"
   ]
  },
  {
   "cell_type": "code",
   "execution_count": 5,
   "id": "0dfb3b1a-2db7-4463-a208-b5d29e20f97a",
   "metadata": {},
   "outputs": [],
   "source": [
    "strategy = tfu.devices.select_gpu(0, use_dynamic_memory=True)"
   ]
  },
  {
   "cell_type": "markdown",
   "id": "54593a0f-b5b4-401e-91e2-8c1a1598432e",
   "metadata": {
    "tags": []
   },
   "source": [
    "---\n",
    "# Load Data"
   ]
  },
  {
   "cell_type": "code",
   "execution_count": 6,
   "id": "153ec0c2-f4ac-418f-93a5-7f8b21b286ae",
   "metadata": {
    "tags": []
   },
   "outputs": [
    {
     "data": {
      "text/plain": [
       "<common.models.dnabert.DnaBertPretrainModel at 0x7fe273587820>"
      ]
     },
     "execution_count": 6,
     "metadata": {},
     "output_type": "execute_result"
    }
   ],
   "source": [
    "#Import pretrained model\n",
    "api = wandb.Api()\n",
    "model_path = api.artifact(\"sirdavidludwig/deep-learning-dna/dnabert-pretrain-ablation-dim:8dim\").download()\n",
    "pretrained_model = dnabert.DnaBertModel.load(model_path)\n",
    "pretrained_model"
   ]
  },
  {
   "cell_type": "code",
   "execution_count": 7,
   "id": "4eb8a00e-6821-4a74-87cb-ecd6c405d3f3",
   "metadata": {},
   "outputs": [
    {
     "name": "stderr",
     "output_type": "stream",
     "text": [
      "\u001b[34m\u001b[1mwandb\u001b[0m: Downloading large artifact dnasamples:v1, 4086.55MB. 1260 files... Done. 0:0:38.0\n"
     ]
    },
    {
     "data": {
      "text/plain": [
       "'/data/dna_samples:v1/train/WS-CCW-Jul2015_S82_L001_R1_001.db'"
      ]
     },
     "execution_count": 7,
     "metadata": {},
     "output_type": "execute_result"
    }
   ],
   "source": [
    "#Load datafiles\n",
    "dataset_path = api.artifact(\"sirdavidludwig/nachusa-dna/dnasamples:v1\").download('/data/dna_samples:v1')\n",
    "samples = find_dbs(dataset_path + '/train')\n",
    "samples[13]"
   ]
  },
  {
   "cell_type": "markdown",
   "id": "c6523647-1042-4dc6-aa46-1ad979f03892",
   "metadata": {
    "tags": []
   },
   "source": [
    "---\n",
    "# Create Dataset"
   ]
  },
  {
   "cell_type": "code",
   "execution_count": 8,
   "id": "a14bf26f-f2d8-4907-991e-7dcbbc68f206",
   "metadata": {
    "tags": []
   },
   "outputs": [],
   "source": [
    "split_ratios = [0.8, 0.2]\n",
    "set_len = 1000\n",
    "sequence_len = 150\n",
    "kmer = 3\n",
    "batch_size = 20\n",
    "batches_per_epoch = 20\n",
    "augument = True\n",
    "labels = DnaLabelType.SampleIds\n",
    "seed = 0\n",
    "rng = np.random.default_rng(seed)\n",
    "random_samples = samples.copy()"
   ]
  },
  {
   "cell_type": "code",
   "execution_count": 9,
   "id": "d827ca7f-1900-4e88-a514-ae29daf45858",
   "metadata": {},
   "outputs": [],
   "source": [
    "rng.shuffle(random_samples)"
   ]
  },
  {
   "cell_type": "code",
   "execution_count": 10,
   "id": "1116c1ae-77e7-44c9-a010-efb23c23db48",
   "metadata": {},
   "outputs": [
    {
     "name": "stdout",
     "output_type": "stream",
     "text": [
      "Sample '/data/dna_samples:v1/train/Wes7-PCRblank1_S8_L001_R1_001.db' does not contain enough sequences. This sample will be ignored.\n",
      "Sample '/data/dna_samples:v1/train/Wes7-PCRblank1_S8_L001_R1_001.db' does not contain enough sequences. This sample will be ignored.\n"
     ]
    }
   ],
   "source": [
    "trimmed_samples, (train_dataset, val_dataset) = DnaSampleGenerator.split(samples=random_samples[0:50], split_ratios=split_ratios, subsample_length=set_len, sequence_length=sequence_len, kmer=kmer,batch_size=batch_size,batches_per_epoch=batches_per_epoch,augment=augument,labels=labels, rng=rng)"
   ]
  },
  {
   "cell_type": "code",
   "execution_count": 11,
   "id": "aac0a881-4dc6-4916-a18c-8c59e026e552",
   "metadata": {},
   "outputs": [
    {
     "data": {
      "text/plain": [
       "['/data/dna_samples:v1/train/WS-CCE-Apr2016_S6_L001_R1_001.db',\n",
       " '/data/dna_samples:v1/train/Wes52-10-TC_S53_L001_R1_001.db',\n",
       " '/data/dna_samples:v1/train/WS-WH-Jul2016_S46_L001_R1_001.db',\n",
       " '/data/dna_samples:v1/train/Wes41-10-HN_S42_L001_R1_001.db',\n",
       " '/data/dna_samples:v1/train/Wesley026-Ag-072820_S165_L001_R1_001.db',\n",
       " '/data/dna_samples:v1/train/WS-MU-Apr2016_S84_L001_R1_001.db',\n",
       " '/data/dna_samples:v1/train/Wes5-5-CCE_S6_L001_R1_001.db',\n",
       " '/data/dna_samples:v1/train/WS-MR-Apr2016_S13_L001_R1_001.db',\n",
       " '/data/dna_samples:v1/train/WS-MU-Sep2015_S43_L001_R1_001.db',\n",
       " '/data/dna_samples:v1/train/Wesley012-HN-051120_S151_L001_R1_001.db',\n",
       " '/data/dna_samples:v1/train/WS-HPN-Sep2015_S91_L001_R1_001.db',\n",
       " '/data/dna_samples:v1/train/WS-TCR-Sep2015_S52_L001_R1_001.db',\n",
       " '/data/dna_samples:v1/train/Wes26-8-AG_S27_L001_R1_001.db',\n",
       " '/data/dna_samples:v1/train/WS-SB-Jul2016_S22_L001_R1_001.db',\n",
       " '/data/dna_samples:v1/train/Wes25-8-MU_S26_L001_R1_001.db',\n",
       " '/data/dna_samples:v1/train/WS-SB-Oct2016_S63_L001_R1_001.db',\n",
       " '/data/dna_samples:v1/train/Wes3-5-TCR_S4_L001_R1_001.db',\n",
       " '/data/dna_samples:v1/train/WS-WH-May2015_S160_L001_R1_001.db',\n",
       " '/data/dna_samples:v1/train/WS-TCR-Oct2016_S80_L001_R1_001.db',\n",
       " '/data/dna_samples:v1/train/WS-TC-Jul2015_S74_L001_R1_001.db',\n",
       " '/data/dna_samples:v1/train/WS-SB-Sep2015_S35_L001_R1_001.db',\n",
       " '/data/dna_samples:v1/train/WS-CCW-Sep2015_S28_L001_R1_001.db',\n",
       " '/data/dna_samples:v1/train/WS-TC-Oct2016_S48_L001_R1_001.db',\n",
       " '/data/dna_samples:v1/train/WS-HF-Jul2015_S42_L001_R1_001.db',\n",
       " '/data/dna_samples:v1/train/WS-TCR-May2015_S73_L001_R1_001.db',\n",
       " '/data/dna_samples:v1/train/WS-HPN-Apr2016_S37_L001_R1_001.db',\n",
       " '/data/dna_samples:v1/train/WS-AG-Apr2016_S85_L001_R1_001.db',\n",
       " '/data/dna_samples:v1/train/Wes7-PCRblank1_S8_L001_R1_001.db',\n",
       " '/data/dna_samples:v1/train/Wes20-8-HF_S21_L001_R1_001.db',\n",
       " '/data/dna_samples:v1/train/Wes38-10-WH_S39_L001_R1_001.db',\n",
       " '/data/dna_samples:v1/train/Wesley047-SF-100420_S186_L001_R1_001.db',\n",
       " '/data/dna_samples:v1/train/Wesley055-HAP-051120_S194_L001_R1_001.db',\n",
       " '/data/dna_samples:v1/train/Wesley006-HLP-051220_S145_L001_R1_001.db',\n",
       " '/data/dna_samples:v1/train/Wes39-10-HF_S40_L001_R1_001.db',\n",
       " '/data/dna_samples:v1/train/WS-SF-Jul2016_S38_L001_R1_001.db',\n",
       " '/data/dna_samples:v1/train/Wesley035-HLP2-072820_S174_L001_R1_001.db',\n",
       " '/data/dna_samples:v1/train/Wes13-5-HLP_S14_L001_R1_001.db',\n",
       " '/data/dna_samples:v1/train/WS-HPN-May2015_S17_L001_R1_001.db',\n",
       " '/data/dna_samples:v1/train/Wesley005-HF-051220_S144_L001_R1_001.db',\n",
       " '/data/dna_samples:v1/train/Wes47-10-FC_S48_L001_R1_001.db',\n",
       " '/data/dna_samples:v1/train/WS-SF-May2015_S152_L001_R1_001.db',\n",
       " '/data/dna_samples:v1/train/Wesley045-HLP-100420_S184_L001_R1_001.db',\n",
       " '/data/dna_samples:v1/train/Wesley033-MU-072820_S172_L001_R1_001.db',\n",
       " '/data/dna_samples:v1/train/Wesley043-L-100420_S182_L001_R1_001.db',\n",
       " '/data/dna_samples:v1/train/Wes48-10-CCW_S49_L001_R1_001.db',\n",
       " '/data/dna_samples:v1/train/WS-AG-Sep2015_S44_L001_R1_001.db',\n",
       " '/data/dna_samples:v1/train/Wesley010-HW-051120_S149_L001_R1_001.db',\n",
       " '/data/dna_samples:v1/train/Wes36-8-HW_S37_L001_R1_001.db',\n",
       " '/data/dna_samples:v1/train/Wesley011-Ag-051120_S150_L001_R1_001.db',\n",
       " '/data/dna_samples:v1/train/Wesley027-HLP-072820_S166_L001_R1_001.db']"
      ]
     },
     "execution_count": 11,
     "metadata": {},
     "output_type": "execute_result"
    }
   ],
   "source": [
    "random_samples[0:50]"
   ]
  },
  {
   "cell_type": "markdown",
   "id": "fd855356-4e5a-4047-ae81-323277b11b44",
   "metadata": {
    "tags": []
   },
   "source": [
    "--- \n",
    "# Batch Parameters"
   ]
  },
  {
   "cell_type": "code",
   "execution_count": 12,
   "id": "e23e34f9-3066-4756-ad0b-ccc1a3194438",
   "metadata": {},
   "outputs": [
    {
     "data": {
      "text/plain": [
       "49"
      ]
     },
     "execution_count": 12,
     "metadata": {},
     "output_type": "execute_result"
    }
   ],
   "source": [
    "block_size = 200\n",
    "seq_len = set_len\n",
    "maxlen = set_len\n",
    "vocab_size = 5\n",
    "num_chars_data = set_len*sequence_len\n",
    "max_files = len(train_dataset.samples)\n",
    "max_files"
   ]
  },
  {
   "cell_type": "code",
   "execution_count": 13,
   "id": "e768970c-7af4-4626-9d6e-d712ab7de959",
   "metadata": {},
   "outputs": [],
   "source": [
    "if block_size-2 > seq_len:\n",
    "    raise ValueError(\"Block size should not be bigger than sequence length\")"
   ]
  },
  {
   "cell_type": "code",
   "execution_count": 14,
   "id": "dce0777e-c8af-4835-833d-f1717dbf2501",
   "metadata": {},
   "outputs": [
    {
     "name": "stdout",
     "output_type": "stream",
     "text": [
      "1000\n",
      "5\n",
      "150000\n"
     ]
    }
   ],
   "source": [
    "print(maxlen)\n",
    "print(vocab_size)\n",
    "print(num_chars_data)"
   ]
  },
  {
   "cell_type": "markdown",
   "id": "ea3649b2-2e47-4b30-88e5-6792f1646058",
   "metadata": {},
   "source": [
    "---\n",
    "# Create Embeddings"
   ]
  },
  {
   "cell_type": "code",
   "execution_count": 15,
   "id": "cf74ee78-6d96-41ed-9989-e66cfd5cb1b0",
   "metadata": {},
   "outputs": [],
   "source": [
    "#Create 8 dimensional embeddings\n",
    "pretrained_encoder = dnabert.DnaBertEncoderModel(pretrained_model.base)\n",
    "pretrained_encoder.trainable = False"
   ]
  },
  {
   "cell_type": "code",
   "execution_count": 16,
   "id": "3d33b634-4927-4f9a-a241-8c33c9249a3a",
   "metadata": {},
   "outputs": [],
   "source": [
    "class Create_Embeddings(keras.layers.Layer):\n",
    "    def __init__(self, encoder):\n",
    "        super(Create_Embeddings, self).__init__()\n",
    "        self.encoder = encoder\n",
    "        \n",
    "    def subbatch_predict(self, model, batch, subbatch_size, concat=lambda old, new: tf.concat((old, new), axis=0)):\n",
    "        def predict(i, result=None):\n",
    "            n = i + subbatch_size\n",
    "            pred = tf.stop_gradient(model(batch[i:n]))\n",
    "            if result is None:\n",
    "                return [n, pred]\n",
    "            return [n, concat(result, pred)]\n",
    "        i, result = predict(0)\n",
    "        batch_size = tf.shape(batch)[0]\n",
    "        i, result = tf.while_loop(\n",
    "            cond=lambda i, _: i < batch_size,\n",
    "            body=predict,\n",
    "            loop_vars=[i, result],\n",
    "            parallel_iterations=1)\n",
    "\n",
    "        return result\n",
    "    \n",
    "    def modify_data_for_input(self, data):\n",
    "        batch_size = tf.shape(data)[0]\n",
    "        subsample_size = tf.shape(data)[1]\n",
    "        flat_data = tf.reshape(data, (batch_size*subsample_size, -1))\n",
    "        encoded = self.subbatch_predict(self.encoder, flat_data, 128)\n",
    "        return tf.reshape(encoded, (batch_size, subsample_size, -1))\n",
    "    \n",
    "    def call(self, data):\n",
    "        return  self.modify_data_for_input(data)"
   ]
  },
  {
   "cell_type": "markdown",
   "id": "70b66c98-f8b5-4b80-9736-66a9769cc966",
   "metadata": {},
   "source": [
    "---\n",
    "# Setup"
   ]
  },
  {
   "cell_type": "code",
   "execution_count": 17,
   "id": "9af4ac04-1eab-4d74-bfc0-716408efeed4",
   "metadata": {},
   "outputs": [],
   "source": [
    "def clone_initializer(initializer):\n",
    "    if isinstance(initializer, tf.keras.initializers.Initializer):\n",
    "        return initializer.__class__.from_config(initializer.get_config())\n",
    "    return initializer"
   ]
  },
  {
   "cell_type": "markdown",
   "id": "835c39dd-9fb5-49bf-8763-14ca694a1a35",
   "metadata": {},
   "source": [
    "---\n",
    "# Cache Memory"
   ]
  },
  {
   "cell_type": "code",
   "execution_count": 18,
   "id": "da4cb5e4-2d26-4e40-a00f-3e71f470b273",
   "metadata": {},
   "outputs": [],
   "source": [
    "def _cache_memory(current_state, previous_state, memory_length, reuse_length=0):\n",
    "    if memory_length is None or memory_length == 0:\n",
    "        return None\n",
    "    else:\n",
    "        if reuse_length > 0:\n",
    "            current_state = current_state[:, :reuse_length, :]\n",
    "\n",
    "        if previous_state is None:\n",
    "            new_mem = current_state[:, -memory_length:, :]\n",
    "        else:\n",
    "            new_mem = tf.concat(\n",
    "                    [previous_state, current_state], 1)[:, -memory_length:, :]\n",
    "\n",
    "    return tf.stop_gradient(new_mem)"
   ]
  },
  {
   "cell_type": "markdown",
   "id": "d5c32bb5-4520-4802-a8f0-5f7849905a83",
   "metadata": {},
   "source": [
    "---\n",
    "# XL Block"
   ]
  },
  {
   "cell_type": "code",
   "execution_count": 19,
   "id": "7245b7dd-a3b2-464a-9f5b-7efd4a9d0ed2",
   "metadata": {},
   "outputs": [],
   "source": [
    "class TransformerXLBlock(tf.keras.layers.Layer):\n",
    "    def __init__(self,\n",
    "                 stack,\n",
    "                 num_induce,\n",
    "                 vocab_size,\n",
    "                 hidden_size,\n",
    "                 num_attention_heads,\n",
    "                 head_size,\n",
    "                 inner_size,\n",
    "                 dropout_rate,\n",
    "                 attention_dropout_rate,\n",
    "                 norm_epsilon=1e-12,\n",
    "                 inner_activation=\"relu\",\n",
    "                 kernel_initializer=\"variance_scaling\",\n",
    "                 inner_dropout=0.0,\n",
    "                 **kwargs):\n",
    "\n",
    "        super(TransformerXLBlock, self).__init__(**kwargs)\n",
    "        self._stack = stack\n",
    "        self._num_induce = num_induce\n",
    "        self._vocab_size = vocab_size\n",
    "        self._num_heads = num_attention_heads\n",
    "        self._head_size = head_size\n",
    "        self._hidden_size = hidden_size\n",
    "        self._inner_size = inner_size\n",
    "        self._dropout_rate = dropout_rate\n",
    "        self._attention_dropout_rate = attention_dropout_rate\n",
    "        self._inner_activation = inner_activation\n",
    "        self._norm_epsilon = norm_epsilon\n",
    "        self._kernel_initializer = kernel_initializer\n",
    "        self._inner_dropout = inner_dropout\n",
    "        self._attention_layer_type = Set_Attention\n",
    "        \n",
    "    def build(self, input_shape):\n",
    "        input_tensor = input_shape[0] if len(input_shape) == 2 else input_shape\n",
    "        input_tensor_shape = tf.TensorShape(input_tensor)\n",
    "        if len(input_tensor_shape.as_list()) != 3:\n",
    "            raise ValueError(\"TransformerLayer expects a three-dimensional input of \"\n",
    "                                             \"shape [batch, sequence, width].\")\n",
    "        batch_size, sequence_length, hidden_size = input_tensor_shape\n",
    "\n",
    "        if hidden_size % self._num_heads != 0:\n",
    "            raise ValueError(\n",
    "                    \"The input size (%d) is not a multiple of the number of attention \"\n",
    "                    \"heads (%d)\" % (hidden_size, self._num_heads))\n",
    "            \n",
    "            \n",
    "        self._attention_layer= self._attention_layer_type(num_induce=self._num_induce, embed_dim=self._head_size,num_heads=self._num_heads, stack=self._stack,\n",
    "                                                   use_layernorm=True,pre_layernorm=True,use_keras_mha=True)\n",
    "        \n",
    "        super(TransformerXLBlock, self).build(input_shape)\n",
    "\n",
    "   \n",
    "    def call(self,\n",
    "             content_stream,\n",
    "             content_attention_bias,\n",
    "             positional_attention_bias,\n",
    "             relative_position_encoding=None,\n",
    "             state=None,\n",
    "             content_attention_mask=None,\n",
    "             query_attention_mask=None,\n",
    "             target_mapping=None):\n",
    "        \n",
    "        attention_output = {\"content_attention\": self._attention_layer(content_stream, state)}        \n",
    "\n",
    "        return attention_output"
   ]
  },
  {
   "cell_type": "markdown",
   "id": "8749ec30-1281-4f9d-8baa-54b890fb7949",
   "metadata": {},
   "source": [
    "---\n",
    "# Transformer XL"
   ]
  },
  {
   "cell_type": "code",
   "execution_count": 20,
   "id": "019ca25d-e899-4e17-8f41-dfdc3d9bdee5",
   "metadata": {},
   "outputs": [],
   "source": [
    "class TransformerXL(tf.keras.layers.Layer):\n",
    "    def __init__(self,\n",
    "                 stack, \n",
    "                 num_induce, \n",
    "                 vocab_size,\n",
    "                 num_layers,\n",
    "                 hidden_size,\n",
    "                 maxlen,\n",
    "                 embed_dim,\n",
    "                 num_attention_heads,\n",
    "                 head_size,\n",
    "                 inner_size,\n",
    "                 dropout_rate,\n",
    "                 attention_dropout_rate,\n",
    "                 initializer,\n",
    "                 tie_attention_biases=True,\n",
    "                 memory_length=None,\n",
    "                 reuse_length=None,\n",
    "                 inner_activation=\"relu\",\n",
    "                 **kwargs):\n",
    "        super(TransformerXL, self).__init__(**kwargs)\n",
    "\n",
    "        self._stack = stack\n",
    "        self._num_induce = num_induce\n",
    "        self._vocab_size = vocab_size\n",
    "        self._initializer = initializer\n",
    "        self._num_layers = num_layers\n",
    "        self._hidden_size = hidden_size\n",
    "        self._num_attention_heads = num_attention_heads\n",
    "        self._head_size = head_size\n",
    "        self._inner_size = inner_size\n",
    "        self._inner_activation = inner_activation\n",
    "        self._dropout_rate = dropout_rate\n",
    "        self._attention_dropout_rate = attention_dropout_rate\n",
    "        self._tie_attention_biases = tie_attention_biases\n",
    "        self._memory_length = memory_length\n",
    "        self._reuse_length = reuse_length\n",
    "\n",
    "        self.transformer_xl_layers = []\n",
    "        \n",
    "        for i in range(self._num_layers):\n",
    "            self.transformer_xl_layers.append(\n",
    "                    TransformerXLBlock(\n",
    "                            stack=self._stack,\n",
    "                            num_induce=num_induce, \n",
    "                            vocab_size=self._vocab_size,\n",
    "                            hidden_size=self._head_size * self._num_attention_heads,\n",
    "                            num_attention_heads=self._num_attention_heads,\n",
    "                            head_size=self._head_size,\n",
    "                            inner_size=self._inner_size,\n",
    "                            dropout_rate=self._dropout_rate,\n",
    "                            attention_dropout_rate=self._attention_dropout_rate,\n",
    "                            norm_epsilon=1e-12,\n",
    "                            inner_activation=self._inner_activation,\n",
    "                            kernel_initializer=\"variance_scaling\",\n",
    "                            name=\"layer_%d\" % i))\n",
    "\n",
    "        self.output_dropout = tf.keras.layers.Dropout(rate=self._dropout_rate)\n",
    "\n",
    "    def call(self,\n",
    "             content_stream,\n",
    "             relative_position_encoding,\n",
    "             state=None,\n",
    "             content_attention_mask=None,\n",
    "             query_attention_mask=None,\n",
    "             target_mapping=None):\n",
    "        \n",
    "        new_mems = []\n",
    "\n",
    "        if state is None:\n",
    "            state = [None] * self._num_layers\n",
    "            \n",
    "        for i in range(self._num_layers):\n",
    "            new_mems.append(_cache_memory(content_stream, state[i], self._memory_length, self._reuse_length))\n",
    "            \n",
    "            transformer_xl_layer = self.transformer_xl_layers[i]\n",
    "            \n",
    "            transformer_xl_output = transformer_xl_layer(\n",
    "                    content_stream=content_stream,\n",
    "                    content_attention_bias=None,\n",
    "                    positional_attention_bias=None,\n",
    "                    relative_position_encoding=None,\n",
    "                    state=state[i],\n",
    "                    content_attention_mask=content_attention_mask,\n",
    "                    query_attention_mask=query_attention_mask,\n",
    "                    target_mapping=target_mapping)\n",
    "            \n",
    "            content_stream = transformer_xl_output[\"content_attention\"]\n",
    "\n",
    "        output_stream = content_stream\n",
    "        return output_stream, new_mems"
   ]
  },
  {
   "cell_type": "code",
   "execution_count": 21,
   "id": "b77a89f5-b11a-48e4-bf4f-cc70f1e74e04",
   "metadata": {},
   "outputs": [],
   "source": [
    "class Set_Attention(keras.Model):\n",
    "    def __init__(self, num_induce, embed_dim, num_heads, stack, use_layernorm, pre_layernorm, use_keras_mha):\n",
    "        super(Set_Attention, self).__init__()\n",
    "        \n",
    "        self.set_attention = (Set_Transformer.InducedSetAttentionBlock(embed_dim=embed_dim,num_heads=num_heads, num_induce=num_induce, use_layernorm=use_layernorm,pre_layernorm=pre_layernorm,use_keras_mha=use_keras_mha))\n",
    "      \n",
    "    def call(self, data, mems):\n",
    "                \n",
    "            attention = self.set_attention([data, mems])\n",
    "                \n",
    "            return attention"
   ]
  },
  {
   "cell_type": "markdown",
   "id": "a127a4b5-15e3-46e3-838b-a5e18e4d8dc8",
   "metadata": {},
   "source": [
    "---\n",
    "# Xl Model Class"
   ]
  },
  {
   "cell_type": "code",
   "execution_count": 22,
   "id": "855d43dd-e182-4c2a-961a-ff9781141f81",
   "metadata": {},
   "outputs": [],
   "source": [
    "class XlModel(keras.Model):\n",
    "    def __init__(self, stack, num_induce, max_files, encoder, block_size, seq_len_padded, embed_dim, vocab_size, num_layers, hidden_size, num_attention_heads, maxlen, memory_length, reuse_length, head_size, inner_size, dropout_rate, attention_dropout_rate, initializer):\n",
    "        super(XlModel, self).__init__()\n",
    "        \n",
    "        self.block_size = block_size\n",
    "        self.seq_len_padded = seq_len_padded\n",
    "        self.embed_dim = embed_dim\n",
    "        self.num_heads = num_attention_heads\n",
    "        self.hidden_size = hidden_size\n",
    "        self.num_layers = num_layers\n",
    "        self.maxlen = maxlen\n",
    "        self.memory_length = memory_length\n",
    "        self.max_files = max_files\n",
    "        self.encoder = encoder\n",
    "        self.isabs = []\n",
    "        \n",
    "        self.embedding_layer = Create_Embeddings(encoder)\n",
    "\n",
    "        self.linear_layer = keras.layers.Dense(embed_dim)\n",
    "        \n",
    "        self.transformer_xl = TransformerXL(\n",
    "                stack=stack, \n",
    "                num_induce=num_induce, \n",
    "                vocab_size=vocab_size,\n",
    "                num_layers=num_layers,\n",
    "                hidden_size=hidden_size,\n",
    "                num_attention_heads=num_attention_heads,\n",
    "                maxlen=maxlen,\n",
    "                embed_dim=embed_dim,\n",
    "                memory_length=memory_length,\n",
    "                reuse_length=reuse_length,\n",
    "                head_size=head_size,\n",
    "                inner_size=inner_size,\n",
    "                dropout_rate=dropout_rate,\n",
    "                attention_dropout_rate=attention_dropout_rate,\n",
    "                initializer=initializer, \n",
    "            )\n",
    "        \n",
    "\n",
    "        self.pooling_layer = Set_Transformer.PoolingByMultiHeadAttention(num_seeds=1,embed_dim=embed_dim,num_heads=1,use_layernorm=True,pre_layernorm=True, use_keras_mha=True,is_final_block=True)\n",
    "    \n",
    "        self.reshape_layer = keras.layers.Reshape((embed_dim,))\n",
    "   \n",
    "        self.output_layer = keras.layers.Dense(self.max_files, activation=keras.activations.softmax)\n",
    "        \n",
    "    \n",
    "    def call(self, x, training=None):        \n",
    " \n",
    "        mems = tf.zeros((self.num_layers, tf.shape(x)[0], self.memory_length, self.embed_dim))\n",
    "        \n",
    "        embeddings = self.embedding_layer(x)\n",
    "            \n",
    "        linear_transform = self.linear_layer(embeddings)    \n",
    "            \n",
    "        for i in range(0, self.seq_len_padded, self.block_size):\n",
    "            block = embeddings[:,i:i+self.block_size]\n",
    "            \n",
    "            output, mems = self.transformer_xl(content_stream=block, relative_position_encoding=None, state=mems)\n",
    "                \n",
    "        pooling = self.pooling_layer(output)\n",
    "\n",
    "        reshape = self.reshape_layer(pooling)\n",
    "\n",
    "        output = self.output_layer(reshape)          \n",
    "        \n",
    "        return output"
   ]
  },
  {
   "cell_type": "markdown",
   "id": "e3469de1-250d-4c14-bb79-a4e74f0fe93e",
   "metadata": {},
   "source": [
    "---\n",
    "# Xl Parameters"
   ]
  },
  {
   "cell_type": "code",
   "execution_count": 30,
   "id": "2bc3ea7d-d4a1-4a1e-bf2a-7cd1c91430cf",
   "metadata": {},
   "outputs": [],
   "source": [
    "#Xl Parameters\n",
    "stack = 1\n",
    "num_induce = 30\n",
    "embed_dim = 8\n",
    "num_layers = 8\n",
    "hidden_size = 32\n",
    "num_attention_heads = 8\n",
    "memory_length = 200\n",
    "reuse_length = 0\n",
    "head_size = 8\n",
    "inner_size = 32\n",
    "dropout_rate = 0.01\n",
    "attention_dropout_rate = 0.01\n",
    "initializer = keras.initializers.RandomNormal(stddev=0.1) \n",
    "\n",
    "encoder = pretrained_encoder\n",
    "epochs = 10000"
   ]
  },
  {
   "cell_type": "markdown",
   "id": "89649663-7d18-48bc-8678-ce5f093908cc",
   "metadata": {},
   "source": [
    "---\n",
    "# Create Models"
   ]
  },
  {
   "cell_type": "code",
   "execution_count": 31,
   "id": "821b0c4a-6d05-4867-a713-474bfdbff881",
   "metadata": {},
   "outputs": [],
   "source": [
    "model = XlModel(stack, num_induce, max_files, encoder, block_size, seq_len, embed_dim, vocab_size, num_layers, hidden_size, num_attention_heads, maxlen, memory_length, reuse_length, head_size, inner_size, dropout_rate, attention_dropout_rate, initializer)\n",
    "model.compile(loss = keras.losses.SparseCategoricalCrossentropy(from_logits=False), optimizer = keras.optimizers.Nadam(1e-4), metrics = keras.metrics.SparseCategoricalAccuracy())"
   ]
  },
  {
   "cell_type": "code",
   "execution_count": null,
   "id": "3a4e79fc-5cbf-4807-a782-ed7cbe4e4e56",
   "metadata": {},
   "outputs": [
    {
     "name": "stdout",
     "output_type": "stream",
     "text": [
      "Epoch 1/10000\n",
      "WARNING:tensorflow:Gradients do not exist for variables ['xl_model_3/dense_29/kernel:0', 'xl_model_3/dense_29/bias:0'] when minimizing the loss. If you're using `model.compile()`, did you forget to provide a `loss`argument?\n",
      "WARNING:tensorflow:Gradients do not exist for variables ['xl_model_3/dense_29/kernel:0', 'xl_model_3/dense_29/bias:0'] when minimizing the loss. If you're using `model.compile()`, did you forget to provide a `loss`argument?\n",
      "20/20 [==============================] - 220s 10s/step - loss: 4.0844 - sparse_categorical_accuracy: 0.0300 - val_loss: 4.0279 - val_sparse_categorical_accuracy: 0.0350\n",
      "Epoch 2/10000\n",
      "20/20 [==============================] - 181s 9s/step - loss: 4.0187 - sparse_categorical_accuracy: 0.0400 - val_loss: 4.0062 - val_sparse_categorical_accuracy: 0.0325\n",
      "Epoch 3/10000\n",
      "20/20 [==============================] - 180s 9s/step - loss: 4.0150 - sparse_categorical_accuracy: 0.0375 - val_loss: 3.9958 - val_sparse_categorical_accuracy: 0.0175\n",
      "Epoch 4/10000\n",
      "20/20 [==============================] - 181s 9s/step - loss: 3.9798 - sparse_categorical_accuracy: 0.0150 - val_loss: 3.9703 - val_sparse_categorical_accuracy: 0.0150\n",
      "Epoch 5/10000\n",
      "20/20 [==============================] - 181s 9s/step - loss: 3.9675 - sparse_categorical_accuracy: 0.0200 - val_loss: 3.9368 - val_sparse_categorical_accuracy: 0.0550\n",
      "Epoch 6/10000\n",
      "20/20 [==============================] - 181s 9s/step - loss: 3.8696 - sparse_categorical_accuracy: 0.0700 - val_loss: 3.9077 - val_sparse_categorical_accuracy: 0.0325\n",
      "Epoch 7/10000\n",
      "20/20 [==============================] - 181s 9s/step - loss: 3.8852 - sparse_categorical_accuracy: 0.0525 - val_loss: 3.9001 - val_sparse_categorical_accuracy: 0.0200\n",
      "Epoch 8/10000\n",
      "20/20 [==============================] - 180s 9s/step - loss: 3.8863 - sparse_categorical_accuracy: 0.0375 - val_loss: 3.9062 - val_sparse_categorical_accuracy: 0.0325\n",
      "Epoch 9/10000\n",
      "20/20 [==============================] - 180s 9s/step - loss: 3.8771 - sparse_categorical_accuracy: 0.0325 - val_loss: 3.8935 - val_sparse_categorical_accuracy: 0.0325\n",
      "Epoch 10/10000\n",
      "20/20 [==============================] - 181s 9s/step - loss: 3.9041 - sparse_categorical_accuracy: 0.0225 - val_loss: 3.8636 - val_sparse_categorical_accuracy: 0.0450\n",
      "Epoch 11/10000\n",
      "20/20 [==============================] - 180s 9s/step - loss: 3.8650 - sparse_categorical_accuracy: 0.0450 - val_loss: 3.8436 - val_sparse_categorical_accuracy: 0.0475\n",
      "Epoch 12/10000\n",
      "20/20 [==============================] - 181s 9s/step - loss: 3.8876 - sparse_categorical_accuracy: 0.0475 - val_loss: 3.8446 - val_sparse_categorical_accuracy: 0.0175\n",
      "Epoch 13/10000\n",
      "20/20 [==============================] - 180s 9s/step - loss: 3.8826 - sparse_categorical_accuracy: 0.0350 - val_loss: 3.8441 - val_sparse_categorical_accuracy: 0.0375\n",
      "Epoch 14/10000\n",
      "20/20 [==============================] - 181s 9s/step - loss: 3.8256 - sparse_categorical_accuracy: 0.0500 - val_loss: 3.8573 - val_sparse_categorical_accuracy: 0.0250\n",
      "Epoch 15/10000\n",
      "20/20 [==============================] - 181s 9s/step - loss: 3.8314 - sparse_categorical_accuracy: 0.0475 - val_loss: 3.8455 - val_sparse_categorical_accuracy: 0.0250\n",
      "Epoch 16/10000\n",
      "20/20 [==============================] - 181s 9s/step - loss: 3.8024 - sparse_categorical_accuracy: 0.0750 - val_loss: 3.7911 - val_sparse_categorical_accuracy: 0.0500\n",
      "Epoch 17/10000\n",
      "20/20 [==============================] - 181s 9s/step - loss: 3.8666 - sparse_categorical_accuracy: 0.0200 - val_loss: 3.8140 - val_sparse_categorical_accuracy: 0.0375\n",
      "Epoch 18/10000\n",
      "20/20 [==============================] - 181s 9s/step - loss: 3.7963 - sparse_categorical_accuracy: 0.0625 - val_loss: 3.8293 - val_sparse_categorical_accuracy: 0.0450\n",
      "Epoch 19/10000\n",
      "20/20 [==============================] - 181s 9s/step - loss: 3.7989 - sparse_categorical_accuracy: 0.0475 - val_loss: 3.7972 - val_sparse_categorical_accuracy: 0.0400\n",
      "Epoch 20/10000\n",
      "20/20 [==============================] - 181s 9s/step - loss: 3.7557 - sparse_categorical_accuracy: 0.0500 - val_loss: 3.7502 - val_sparse_categorical_accuracy: 0.0500\n",
      "Epoch 21/10000\n",
      "20/20 [==============================] - 181s 9s/step - loss: 3.8191 - sparse_categorical_accuracy: 0.0450 - val_loss: 3.7538 - val_sparse_categorical_accuracy: 0.0500\n",
      "Epoch 22/10000\n",
      "20/20 [==============================] - 181s 9s/step - loss: 3.7510 - sparse_categorical_accuracy: 0.0550 - val_loss: 3.7694 - val_sparse_categorical_accuracy: 0.0275\n",
      "Epoch 23/10000\n",
      "20/20 [==============================] - 181s 9s/step - loss: 3.7868 - sparse_categorical_accuracy: 0.0175 - val_loss: 3.8015 - val_sparse_categorical_accuracy: 0.0200\n",
      "Epoch 24/10000\n",
      "20/20 [==============================] - 181s 9s/step - loss: 3.7551 - sparse_categorical_accuracy: 0.0600 - val_loss: 3.7584 - val_sparse_categorical_accuracy: 0.0400\n",
      "Epoch 25/10000\n",
      "20/20 [==============================] - 181s 9s/step - loss: 3.7815 - sparse_categorical_accuracy: 0.0250 - val_loss: 3.7489 - val_sparse_categorical_accuracy: 0.0350\n",
      "Epoch 26/10000\n",
      "20/20 [==============================] - 181s 9s/step - loss: 3.7255 - sparse_categorical_accuracy: 0.0525 - val_loss: 3.7224 - val_sparse_categorical_accuracy: 0.0575\n",
      "Epoch 27/10000\n",
      "20/20 [==============================] - 180s 9s/step - loss: 3.7422 - sparse_categorical_accuracy: 0.0375 - val_loss: 3.7190 - val_sparse_categorical_accuracy: 0.0525\n",
      "Epoch 28/10000\n",
      "20/20 [==============================] - 181s 9s/step - loss: 3.7386 - sparse_categorical_accuracy: 0.0375 - val_loss: 3.7045 - val_sparse_categorical_accuracy: 0.0350\n",
      "Epoch 29/10000\n",
      "20/20 [==============================] - 181s 9s/step - loss: 3.7247 - sparse_categorical_accuracy: 0.0425 - val_loss: 3.7725 - val_sparse_categorical_accuracy: 0.0250\n",
      "Epoch 30/10000\n",
      "20/20 [==============================] - 180s 9s/step - loss: 3.6925 - sparse_categorical_accuracy: 0.0475 - val_loss: 3.6922 - val_sparse_categorical_accuracy: 0.0400\n",
      "Epoch 31/10000\n",
      "20/20 [==============================] - 180s 9s/step - loss: 3.6757 - sparse_categorical_accuracy: 0.0375 - val_loss: 3.7074 - val_sparse_categorical_accuracy: 0.0425\n",
      "Epoch 32/10000\n",
      "20/20 [==============================] - 180s 9s/step - loss: 3.6957 - sparse_categorical_accuracy: 0.0450 - val_loss: 3.7156 - val_sparse_categorical_accuracy: 0.0325\n",
      "Epoch 33/10000\n",
      "20/20 [==============================] - 181s 9s/step - loss: 3.7003 - sparse_categorical_accuracy: 0.0300 - val_loss: 3.6677 - val_sparse_categorical_accuracy: 0.0575\n",
      "Epoch 34/10000\n",
      "20/20 [==============================] - 181s 9s/step - loss: 3.7086 - sparse_categorical_accuracy: 0.0550 - val_loss: 3.6923 - val_sparse_categorical_accuracy: 0.0425\n",
      "Epoch 35/10000\n",
      "20/20 [==============================] - 181s 9s/step - loss: 3.6962 - sparse_categorical_accuracy: 0.0350 - val_loss: 3.7246 - val_sparse_categorical_accuracy: 0.0300\n",
      "Epoch 36/10000\n",
      "20/20 [==============================] - 180s 9s/step - loss: 3.6566 - sparse_categorical_accuracy: 0.0525 - val_loss: 3.6550 - val_sparse_categorical_accuracy: 0.0525\n",
      "Epoch 37/10000\n",
      "20/20 [==============================] - 180s 9s/step - loss: 3.6616 - sparse_categorical_accuracy: 0.0350 - val_loss: 3.6115 - val_sparse_categorical_accuracy: 0.0700\n",
      "Epoch 38/10000\n",
      "20/20 [==============================] - 181s 9s/step - loss: 3.6437 - sparse_categorical_accuracy: 0.0325 - val_loss: 3.6650 - val_sparse_categorical_accuracy: 0.0525\n",
      "Epoch 39/10000\n",
      "20/20 [==============================] - 181s 9s/step - loss: 3.6472 - sparse_categorical_accuracy: 0.0325 - val_loss: 3.6756 - val_sparse_categorical_accuracy: 0.0475\n",
      "Epoch 40/10000\n",
      "20/20 [==============================] - 181s 9s/step - loss: 3.6493 - sparse_categorical_accuracy: 0.0500 - val_loss: 3.6503 - val_sparse_categorical_accuracy: 0.0575\n",
      "Epoch 41/10000\n",
      "20/20 [==============================] - 181s 9s/step - loss: 3.6413 - sparse_categorical_accuracy: 0.0475 - val_loss: 3.6353 - val_sparse_categorical_accuracy: 0.0475\n",
      "Epoch 42/10000\n",
      "20/20 [==============================] - 180s 9s/step - loss: 3.6363 - sparse_categorical_accuracy: 0.0450 - val_loss: 3.6582 - val_sparse_categorical_accuracy: 0.0575\n",
      "Epoch 43/10000\n",
      "20/20 [==============================] - 181s 9s/step - loss: 3.6130 - sparse_categorical_accuracy: 0.0575 - val_loss: 3.6409 - val_sparse_categorical_accuracy: 0.0450\n",
      "Epoch 44/10000\n",
      "20/20 [==============================] - 181s 9s/step - loss: 3.5971 - sparse_categorical_accuracy: 0.0650 - val_loss: 3.6358 - val_sparse_categorical_accuracy: 0.0575\n",
      "Epoch 45/10000\n",
      "20/20 [==============================] - 181s 9s/step - loss: 3.5730 - sparse_categorical_accuracy: 0.0425 - val_loss: 3.6224 - val_sparse_categorical_accuracy: 0.0600\n",
      "Epoch 46/10000\n",
      "20/20 [==============================] - 181s 9s/step - loss: 3.6528 - sparse_categorical_accuracy: 0.0475 - val_loss: 3.6107 - val_sparse_categorical_accuracy: 0.0350\n",
      "Epoch 47/10000\n",
      "20/20 [==============================] - 181s 9s/step - loss: 3.5968 - sparse_categorical_accuracy: 0.0575 - val_loss: 3.6259 - val_sparse_categorical_accuracy: 0.0400\n",
      "Epoch 48/10000\n",
      "20/20 [==============================] - 181s 9s/step - loss: 3.5680 - sparse_categorical_accuracy: 0.0600 - val_loss: 3.6113 - val_sparse_categorical_accuracy: 0.0475\n",
      "Epoch 49/10000\n",
      "20/20 [==============================] - 180s 9s/step - loss: 3.5528 - sparse_categorical_accuracy: 0.0575 - val_loss: 3.5908 - val_sparse_categorical_accuracy: 0.0550\n",
      "Epoch 50/10000\n",
      "20/20 [==============================] - 181s 9s/step - loss: 3.6190 - sparse_categorical_accuracy: 0.0550 - val_loss: 3.6285 - val_sparse_categorical_accuracy: 0.0450\n",
      "Epoch 51/10000\n",
      "20/20 [==============================] - 181s 9s/step - loss: 3.5836 - sparse_categorical_accuracy: 0.0725 - val_loss: 3.5383 - val_sparse_categorical_accuracy: 0.0975\n",
      "Epoch 52/10000\n",
      "20/20 [==============================] - 181s 9s/step - loss: 3.5599 - sparse_categorical_accuracy: 0.0775 - val_loss: 3.5477 - val_sparse_categorical_accuracy: 0.0625\n",
      "Epoch 53/10000\n",
      "20/20 [==============================] - 181s 9s/step - loss: 3.5807 - sparse_categorical_accuracy: 0.0525 - val_loss: 3.6040 - val_sparse_categorical_accuracy: 0.0575\n",
      "Epoch 54/10000\n",
      "20/20 [==============================] - 181s 9s/step - loss: 3.5640 - sparse_categorical_accuracy: 0.0700 - val_loss: 3.5483 - val_sparse_categorical_accuracy: 0.0550\n",
      "Epoch 55/10000\n",
      "20/20 [==============================] - 181s 9s/step - loss: 3.5380 - sparse_categorical_accuracy: 0.0675 - val_loss: 3.5670 - val_sparse_categorical_accuracy: 0.0650\n",
      "Epoch 56/10000\n",
      "20/20 [==============================] - 181s 9s/step - loss: 3.5680 - sparse_categorical_accuracy: 0.0375 - val_loss: 3.5256 - val_sparse_categorical_accuracy: 0.0700\n",
      "Epoch 57/10000\n",
      "20/20 [==============================] - 181s 9s/step - loss: 3.5115 - sparse_categorical_accuracy: 0.0925 - val_loss: 3.6087 - val_sparse_categorical_accuracy: 0.0350\n",
      "Epoch 58/10000\n",
      "20/20 [==============================] - 180s 9s/step - loss: 3.5640 - sparse_categorical_accuracy: 0.0650 - val_loss: 3.5778 - val_sparse_categorical_accuracy: 0.0625\n",
      "Epoch 59/10000\n",
      "20/20 [==============================] - 181s 9s/step - loss: 3.5193 - sparse_categorical_accuracy: 0.0650 - val_loss: 3.5485 - val_sparse_categorical_accuracy: 0.0550\n",
      "Epoch 60/10000\n",
      "20/20 [==============================] - 180s 9s/step - loss: 3.5201 - sparse_categorical_accuracy: 0.0750 - val_loss: 3.5503 - val_sparse_categorical_accuracy: 0.0625\n",
      "Epoch 61/10000\n",
      "20/20 [==============================] - 181s 9s/step - loss: 3.4828 - sparse_categorical_accuracy: 0.0675 - val_loss: 3.5694 - val_sparse_categorical_accuracy: 0.0450\n",
      "Epoch 62/10000\n",
      "20/20 [==============================] - 181s 9s/step - loss: 3.5087 - sparse_categorical_accuracy: 0.0650 - val_loss: 3.4809 - val_sparse_categorical_accuracy: 0.0925\n",
      "Epoch 63/10000\n",
      "20/20 [==============================] - 180s 9s/step - loss: 3.5206 - sparse_categorical_accuracy: 0.0575 - val_loss: 3.5433 - val_sparse_categorical_accuracy: 0.0425\n",
      "Epoch 64/10000\n",
      "20/20 [==============================] - 181s 9s/step - loss: 3.4851 - sparse_categorical_accuracy: 0.0600 - val_loss: 3.5400 - val_sparse_categorical_accuracy: 0.0725\n",
      "Epoch 65/10000\n",
      "20/20 [==============================] - 181s 9s/step - loss: 3.5157 - sparse_categorical_accuracy: 0.0575 - val_loss: 3.5148 - val_sparse_categorical_accuracy: 0.0725\n",
      "Epoch 66/10000\n",
      "20/20 [==============================] - 181s 9s/step - loss: 3.4964 - sparse_categorical_accuracy: 0.0850 - val_loss: 3.4927 - val_sparse_categorical_accuracy: 0.0750\n",
      "Epoch 67/10000\n",
      "20/20 [==============================] - 181s 9s/step - loss: 3.5077 - sparse_categorical_accuracy: 0.0650 - val_loss: 3.4946 - val_sparse_categorical_accuracy: 0.0525\n",
      "Epoch 68/10000\n",
      "20/20 [==============================] - 180s 9s/step - loss: 3.4677 - sparse_categorical_accuracy: 0.0675 - val_loss: 3.4984 - val_sparse_categorical_accuracy: 0.0875\n",
      "Epoch 69/10000\n",
      "20/20 [==============================] - 181s 9s/step - loss: 3.4826 - sparse_categorical_accuracy: 0.0800 - val_loss: 3.5323 - val_sparse_categorical_accuracy: 0.0425\n",
      "Epoch 70/10000\n",
      "20/20 [==============================] - 181s 9s/step - loss: 3.4722 - sparse_categorical_accuracy: 0.0625 - val_loss: 3.4730 - val_sparse_categorical_accuracy: 0.0625\n",
      "Epoch 71/10000\n",
      "20/20 [==============================] - 181s 9s/step - loss: 3.4611 - sparse_categorical_accuracy: 0.0500 - val_loss: 3.5272 - val_sparse_categorical_accuracy: 0.0850\n",
      "Epoch 72/10000\n",
      "20/20 [==============================] - 180s 9s/step - loss: 3.4708 - sparse_categorical_accuracy: 0.0700 - val_loss: 3.4995 - val_sparse_categorical_accuracy: 0.0625\n",
      "Epoch 73/10000\n",
      "20/20 [==============================] - 181s 9s/step - loss: 3.4629 - sparse_categorical_accuracy: 0.0750 - val_loss: 3.4743 - val_sparse_categorical_accuracy: 0.0800\n",
      "Epoch 74/10000\n",
      "20/20 [==============================] - 180s 9s/step - loss: 3.4622 - sparse_categorical_accuracy: 0.0725 - val_loss: 3.4962 - val_sparse_categorical_accuracy: 0.0575\n",
      "Epoch 75/10000\n",
      "20/20 [==============================] - 181s 9s/step - loss: 3.4199 - sparse_categorical_accuracy: 0.0750 - val_loss: 3.4641 - val_sparse_categorical_accuracy: 0.0775\n",
      "Epoch 76/10000\n",
      "20/20 [==============================] - 181s 9s/step - loss: 3.4482 - sparse_categorical_accuracy: 0.0825 - val_loss: 3.4639 - val_sparse_categorical_accuracy: 0.0675\n",
      "Epoch 77/10000\n",
      "20/20 [==============================] - 181s 9s/step - loss: 3.4487 - sparse_categorical_accuracy: 0.0775 - val_loss: 3.4638 - val_sparse_categorical_accuracy: 0.0700\n",
      "Epoch 78/10000\n",
      "20/20 [==============================] - 180s 9s/step - loss: 3.4533 - sparse_categorical_accuracy: 0.0700 - val_loss: 3.4439 - val_sparse_categorical_accuracy: 0.0675\n",
      "Epoch 79/10000\n",
      "20/20 [==============================] - 181s 9s/step - loss: 3.4460 - sparse_categorical_accuracy: 0.0575 - val_loss: 3.4439 - val_sparse_categorical_accuracy: 0.0725\n",
      "Epoch 80/10000\n",
      "20/20 [==============================] - 181s 9s/step - loss: 3.4306 - sparse_categorical_accuracy: 0.0750 - val_loss: 3.4475 - val_sparse_categorical_accuracy: 0.0600\n",
      "Epoch 81/10000\n",
      "20/20 [==============================] - 180s 9s/step - loss: 3.4376 - sparse_categorical_accuracy: 0.0625 - val_loss: 3.4322 - val_sparse_categorical_accuracy: 0.0700\n",
      "Epoch 82/10000\n",
      "20/20 [==============================] - 181s 9s/step - loss: 3.4265 - sparse_categorical_accuracy: 0.0850 - val_loss: 3.4693 - val_sparse_categorical_accuracy: 0.0675\n",
      "Epoch 83/10000\n",
      "20/20 [==============================] - 181s 9s/step - loss: 3.4318 - sparse_categorical_accuracy: 0.1000 - val_loss: 3.4355 - val_sparse_categorical_accuracy: 0.0675\n",
      "Epoch 84/10000\n",
      "20/20 [==============================] - 181s 9s/step - loss: 3.4051 - sparse_categorical_accuracy: 0.0675 - val_loss: 3.4260 - val_sparse_categorical_accuracy: 0.0700\n",
      "Epoch 85/10000\n",
      "20/20 [==============================] - 180s 9s/step - loss: 3.4326 - sparse_categorical_accuracy: 0.0900 - val_loss: 3.4257 - val_sparse_categorical_accuracy: 0.0800\n",
      "Epoch 86/10000\n",
      "20/20 [==============================] - 181s 9s/step - loss: 3.4013 - sparse_categorical_accuracy: 0.0750 - val_loss: 3.4466 - val_sparse_categorical_accuracy: 0.0450\n",
      "Epoch 87/10000\n",
      " 2/20 [==>...........................] - ETA: 1:22 - loss: 3.4318 - sparse_categorical_accuracy: 0.0750"
     ]
    }
   ],
   "source": [
    "history = model.fit(x=train_dataset, validation_data=val_dataset, epochs=epochs, verbose=1)"
   ]
  },
  {
   "cell_type": "code",
   "execution_count": null,
   "id": "68a6add5-4de7-4339-8689-408e9549634c",
   "metadata": {},
   "outputs": [],
   "source": [
    "model.save_weights(\"./Saved_Models/Str_Xl_Induced.h5\")"
   ]
  },
  {
   "cell_type": "code",
   "execution_count": null,
   "id": "4fdb61df-30cd-40bc-8cb4-7b95364f04a5",
   "metadata": {},
   "outputs": [],
   "source": [
    "model.load_weights(\"./Saved_Models/Str_Xl_Induced.h5\")"
   ]
  },
  {
   "cell_type": "code",
   "execution_count": null,
   "id": "c565d8f6-2e7a-4a97-8a6a-aa3cfc571008",
   "metadata": {},
   "outputs": [],
   "source": [
    "u = model.evaluate(val_dataset)"
   ]
  },
  {
   "cell_type": "code",
   "execution_count": null,
   "id": "5ab0feaa-ccf4-4352-bddc-728529531858",
   "metadata": {},
   "outputs": [],
   "source": [
    "u = model.predict(train_dataset)"
   ]
  },
  {
   "cell_type": "code",
   "execution_count": null,
   "id": "d67c3f83-2d73-4c19-a50e-eb8a5c636edc",
   "metadata": {},
   "outputs": [],
   "source": [
    "u = u.argmax(-1)"
   ]
  },
  {
   "cell_type": "code",
   "execution_count": null,
   "id": "ae9ebaae-0583-4553-a957-7d1f45958d22",
   "metadata": {},
   "outputs": [],
   "source": [
    "u"
   ]
  },
  {
   "cell_type": "code",
   "execution_count": null,
   "id": "52eef17b-b311-4277-9bb7-87f05d897473",
   "metadata": {},
   "outputs": [],
   "source": [
    "val_dataset[0][1]"
   ]
  },
  {
   "cell_type": "code",
   "execution_count": null,
   "id": "7d2c99b9-a5d1-4d9e-a1ee-8d39f8e6dba9",
   "metadata": {},
   "outputs": [],
   "source": [
    "trimmed_samples[0:5]"
   ]
  },
  {
   "cell_type": "code",
   "execution_count": null,
   "id": "2504f3ab-5e7b-4082-b017-f46b0b8fbcbf",
   "metadata": {},
   "outputs": [],
   "source": []
  }
 ],
 "metadata": {
  "kernelspec": {
   "display_name": "Python 3 (ipykernel)",
   "language": "python",
   "name": "python3"
  },
  "language_info": {
   "codemirror_mode": {
    "name": "ipython",
    "version": 3
   },
   "file_extension": ".py",
   "mimetype": "text/x-python",
   "name": "python",
   "nbconvert_exporter": "python",
   "pygments_lexer": "ipython3",
   "version": "3.10.4"
  }
 },
 "nbformat": 4,
 "nbformat_minor": 5
}

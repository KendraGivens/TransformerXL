{
 "cells": [
  {
   "cell_type": "code",
   "execution_count": 13,
   "id": "89b3ec80-d64f-4de2-8841-33f7b0c7383b",
   "metadata": {},
   "outputs": [],
   "source": [
    "import numpy as np\n",
    "import matplotlib.pyplot as plt"
   ]
  },
  {
   "cell_type": "code",
   "execution_count": 14,
   "id": "ee43f898-0423-4132-81d0-2b4ba79cfcf1",
   "metadata": {},
   "outputs": [],
   "source": [
    "A = np.loadtxt('strXL_induced_matrix')"
   ]
  },
  {
   "cell_type": "code",
   "execution_count": 20,
   "id": "e8ea05e6-a651-495c-bef1-a9bd6f8c29bf",
   "metadata": {},
   "outputs": [
    {
     "data": {
      "text/plain": [
       "array([100.00000143,  99.99999881,  99.99999964,  99.99999988,\n",
       "       100.00000083, 100.00000072,  99.99999917,  99.99999833,\n",
       "        99.99999821, 100.00000024, 100.00000095, 100.00000072,\n",
       "       100.00000167, 100.00000036, 100.00000048, 100.00000036,\n",
       "        99.99999893, 100.00000083, 100.00000131,  99.99999952,\n",
       "        99.99999976,  99.99999952,  99.99999917, 100.00000167,\n",
       "       100.00000143,  99.99999952, 100.00000119, 100.        ,\n",
       "        99.99999893,  99.99999762,  99.99999964, 100.00000072,\n",
       "       100.00000083,  99.99999952,  99.9999994 , 100.0000006 ,\n",
       "       100.00000072, 100.        ,  99.99999976,  99.99999964,\n",
       "       100.0000006 , 100.00000048, 100.00000048, 100.00000107,\n",
       "       100.00000095, 100.        , 100.0000025 , 100.00000072,\n",
       "        99.99999952])"
      ]
     },
     "execution_count": 20,
     "metadata": {},
     "output_type": "execute_result"
    }
   ],
   "source": [
    "np.sum(A,axis=1)"
   ]
  },
  {
   "cell_type": "code",
   "execution_count": 15,
   "id": "28745c7b-4df7-4c08-a773-020451f956ee",
   "metadata": {},
   "outputs": [],
   "source": [
    "# Start with non-negative, square matrix\n",
    "N = A\n",
    "# Makes N -doubly stochastic-\n",
    "for _ in range(100):\n",
    "    D_row = 1.0 / np.sqrt(N.sum(axis=1))\n",
    "    D_col = 1.0 / np.sqrt(N.sum(axis=0))\n",
    "    N = np.dot(np.dot(np.diag(D_row),N),np.diag(D_col))\n",
    "# Scales N to make a joint probability distribution\n",
    "N = N / N.sum() # Final globa"
   ]
  },
  {
   "cell_type": "code",
   "execution_count": 16,
   "id": "bd9bce0e-c96b-4eca-b68b-113fb56fc5ba",
   "metadata": {},
   "outputs": [
    {
     "data": {
      "image/png": "[encoded data removed]",
      "text/plain": [
       "<Figure size 432x288 with 1 Axes>"
      ]
     },
     "metadata": {
      "needs_background": "light"
     },
     "output_type": "display_data"
    }
   ],
   "source": [
    "plt.imshow(N, interpolation='nearest')\n",
    "#plt.xticks(np.arange(N.shape[0]),labels=np.arange(N.shape[0])+1)\n",
    "#plt.yticks(np.arange(N.shape[1]),labels=np.arange(N.shape[1])+1)\n",
    "plt.savefig('strXL_induced_heat_map.svg')\n",
    "plt.show()"
   ]
  },
  {
   "cell_type": "code",
   "execution_count": 17,
   "id": "4507ff02-4945-404c-b687-442dae8af921",
   "metadata": {},
   "outputs": [
    {
     "data": {
      "text/plain": [
       "3.749501943588257"
      ]
     },
     "execution_count": 17,
     "metadata": {},
     "output_type": "execute_result"
    }
   ],
   "source": [
    "np.max(A)"
   ]
  },
  {
   "cell_type": "code",
   "execution_count": 5,
   "id": "038209bf-d571-4c56-b886-60008dded39e",
   "metadata": {},
   "outputs": [
    {
     "data": {
      "text/plain": [
       "1.0000000000000002"
      ]
     },
     "execution_count": 5,
     "metadata": {},
     "output_type": "execute_result"
    }
   ],
   "source": [
    "N.sum()"
   ]
  },
  {
   "cell_type": "code",
   "execution_count": 6,
   "id": "40774abd-78a2-4fb7-8999-f13d3f32e95e",
   "metadata": {},
   "outputs": [
    {
     "data": {
      "text/plain": [
       "array([0.02040816, 0.02040816, 0.02040816, 0.02040816, 0.02040816,\n",
       "       0.02040816, 0.02040816, 0.02040816, 0.02040816, 0.02040816,\n",
       "       0.02040816, 0.02040816, 0.02040816, 0.02040816, 0.02040816,\n",
       "       0.02040816, 0.02040816, 0.02040816, 0.02040816, 0.02040816,\n",
       "       0.02040816, 0.02040816, 0.02040816, 0.02040816, 0.02040816,\n",
       "       0.02040816, 0.02040816, 0.02040816, 0.02040816, 0.02040816,\n",
       "       0.02040816, 0.02040816, 0.02040816, 0.02040816, 0.02040816,\n",
       "       0.02040816, 0.02040816, 0.02040816, 0.02040816, 0.02040816,\n",
       "       0.02040816, 0.02040816, 0.02040816, 0.02040816, 0.02040816,\n",
       "       0.02040816, 0.02040816, 0.02040816, 0.02040816])"
      ]
     },
     "execution_count": 6,
     "metadata": {},
     "output_type": "execute_result"
    }
   ],
   "source": [
    "N.sum(axis=1)"
   ]
  },
  {
   "cell_type": "code",
   "execution_count": 7,
   "id": "9d572d90-02dd-43c2-bec8-47166cf39ec9",
   "metadata": {},
   "outputs": [
    {
     "data": {
      "text/plain": [
       "array([0.02040816, 0.02040816, 0.02040816, 0.02040816, 0.02040816,\n",
       "       0.02040816, 0.02040816, 0.02040816, 0.02040816, 0.02040816,\n",
       "       0.02040816, 0.02040816, 0.02040816, 0.02040816, 0.02040816,\n",
       "       0.02040816, 0.02040816, 0.02040816, 0.02040816, 0.02040816,\n",
       "       0.02040816, 0.02040816, 0.02040816, 0.02040816, 0.02040816,\n",
       "       0.02040816, 0.02040816, 0.02040816, 0.02040816, 0.02040816,\n",
       "       0.02040816, 0.02040816, 0.02040816, 0.02040816, 0.02040816,\n",
       "       0.02040816, 0.02040816, 0.02040816, 0.02040816, 0.02040816,\n",
       "       0.02040816, 0.02040816, 0.02040816, 0.02040816, 0.02040816,\n",
       "       0.02040816, 0.02040816, 0.02040816, 0.02040816])"
      ]
     },
     "execution_count": 7,
     "metadata": {},
     "output_type": "execute_result"
    }
   ],
   "source": [
    "N.sum(axis=0)"
   ]
  },
  {
   "cell_type": "code",
   "execution_count": 9,
   "id": "f8935f83-56c7-4348-a0cc-285f481896d5",
   "metadata": {},
   "outputs": [
    {
     "data": {
      "text/plain": [
       "0.00047390434555973294"
      ]
     },
     "execution_count": 9,
     "metadata": {},
     "output_type": "execute_result"
    }
   ],
   "source": [
    "# Doubly-stochastic normalization [N]\n",
    "jointPDF = N + 0.000000000000001 # Avoid 0s\n",
    "marginals = np.outer(jointPDF.sum(axis=1),jointPDF.sum(axis=0))\n",
    "mutual_info = np.sum(jointPDF*np.log2(jointPDF/marginals))\n",
    "mutual_info/np.log2(49)"
   ]
  },
  {
   "cell_type": "code",
   "execution_count": 10,
   "id": "4d0c6fd5-196a-439e-b6c5-ee5cbec177b4",
   "metadata": {},
   "outputs": [
    {
     "data": {
      "text/plain": [
       "0.00047692758576521686"
      ]
     },
     "execution_count": 10,
     "metadata": {},
     "output_type": "execute_result"
    }
   ],
   "source": [
    "# Alternative, naive normalization [A/A.sum()]\n",
    "jointPDF = (A/A.sum()) + 0.000000000000001 # Avoid 0s\n",
    "marginals = np.outer(jointPDF.sum(axis=1),jointPDF.sum(axis=0))\n",
    "mutual_info = np.sum(jointPDF*np.log2(jointPDF/marginals))\n",
    "mutual_info/np.log2(49)"
   ]
  },
  {
   "cell_type": "code",
   "execution_count": null,
   "id": "e535bbe1-4c92-477d-8524-fdbb724ebaff",
   "metadata": {},
   "outputs": [],
   "source": []
  }
 ],
 "metadata": {
  "kernelspec": {
   "display_name": "Python 3 (ipykernel)",
   "language": "python",
   "name": "python3"
  },
  "language_info": {
   "codemirror_mode": {
    "name": "ipython",
    "version": 3
   },
   "file_extension": ".py",
   "mimetype": "text/x-python",
   "name": "python",
   "nbconvert_exporter": "python",
   "pygments_lexer": "ipython3",
   "version": "3.10.4"
  }
 },
 "nbformat": 4,
 "nbformat_minor": 5
}

{
 "cells": [
  {
   "cell_type": "code",
   "execution_count": 1,
   "id": "89b3ec80-d64f-4de2-8841-33f7b0c7383b",
   "metadata": {},
   "outputs": [],
   "source": [
    "import numpy as np\n",
    "import matplotlib.pyplot as plt"
   ]
  },
  {
   "cell_type": "code",
   "execution_count": 2,
   "id": "39525d6c-cef8-4ead-bff7-189b569510b0",
   "metadata": {},
   "outputs": [
    {
     "ename": "NameError",
     "evalue": "name 'data_generators' is not defined",
     "output_type": "error",
     "traceback": [
      "\u001b[0;31m---------------------------------------------------------------------------\u001b[0m",
      "\u001b[0;31mNameError\u001b[0m                                 Traceback (most recent call last)",
      "Cell \u001b[0;32mIn[2], line 2\u001b[0m\n\u001b[1;32m      1\u001b[0m \u001b[38;5;28msum\u001b[39m \u001b[38;5;241m=\u001b[39m np\u001b[38;5;241m.\u001b[39mzeros((\u001b[38;5;241m49\u001b[39m,\u001b[38;5;241m49\u001b[39m))\n\u001b[0;32m----> 2\u001b[0m \u001b[38;5;28;01mfor\u001b[39;00m i \u001b[38;5;129;01min\u001b[39;00m \u001b[38;5;28mrange\u001b[39m(\u001b[38;5;28mlen\u001b[39m(\u001b[43mdata_generators\u001b[49m)):\n\u001b[1;32m      3\u001b[0m     \u001b[38;5;28mprint\u001b[39m(i)\n\u001b[1;32m      4\u001b[0m     \u001b[38;5;28;01mfor\u001b[39;00m batch \u001b[38;5;129;01min\u001b[39;00m data_generators[i]:\n",
      "\u001b[0;31mNameError\u001b[0m: name 'data_generators' is not defined"
     ]
    }
   ],
   "source": [
    "sum = np.zeros((49,49))\n",
    "for i in range(len(data_generators)):\n",
    "    print(i)\n",
    "    for batch in data_generators[i]:\n",
    "        sum[i] += tf.reduce_sum(tf.nn.softmax(model.predict(batch[0])), axis=0)"
   ]
  },
  {
   "cell_type": "code",
   "execution_count": 27,
   "id": "ee43f898-0423-4132-81d0-2b4ba79cfcf1",
   "metadata": {},
   "outputs": [],
   "source": [
    "A = np.loadtxt('str_induced_matrix')"
   ]
  },
  {
   "cell_type": "code",
   "execution_count": 33,
   "id": "4cea7a34-0089-45cf-9176-5306a910ce16",
   "metadata": {},
   "outputs": [
    {
     "data": {
      "text/plain": [
       "array([[8.38325043e+01, 1.27435109e-04, 8.46239567e-01, ...,\n",
       "        8.51152174e-04, 1.85059816e-05, 9.11285635e-04],\n",
       "       [9.77062341e-03, 6.29395370e+01, 4.99592643e-05, ...,\n",
       "        5.37265791e-04, 1.22104962e-06, 1.22699421e-04],\n",
       "       [1.13116987e-01, 2.89440417e-04, 6.28939133e+01, ...,\n",
       "        2.38594506e-03, 1.05052978e-01, 4.68672290e-02],\n",
       "       ...,\n",
       "       [7.65638705e-03, 4.53442383e+00, 6.36496395e-03, ...,\n",
       "        2.96028690e+01, 2.74504760e-06, 7.25132588e-04],\n",
       "       [3.38621030e-05, 5.71240980e-06, 5.10893937e-04, ...,\n",
       "        2.22038907e-05, 9.92870789e+01, 1.62116139e-05],\n",
       "       [5.14186941e-05, 7.27287716e-06, 2.65812123e-04, ...,\n",
       "        4.17177507e-05, 1.62550202e-06, 9.60343628e+01]])"
      ]
     },
     "execution_count": 33,
     "metadata": {},
     "output_type": "execute_result"
    }
   ],
   "source": [
    "A"
   ]
  },
  {
   "cell_type": "code",
   "execution_count": 28,
   "id": "28745c7b-4df7-4c08-a773-020451f956ee",
   "metadata": {},
   "outputs": [],
   "source": [
    "# Start with non-negative, square matrix\n",
    "N = A\n",
    "# Makes N -doubly stochastic-\n",
    "for _ in range(100):\n",
    "    D_row = 1.0 / np.sqrt(N.sum(axis=1))\n",
    "    D_col = 1.0 / np.sqrt(N.sum(axis=0))\n",
    "    N = np.dot(np.dot(np.diag(D_row),N),np.diag(D_col))\n",
    "# Scales N to make a joint probability distribution\n",
    "N = N / N.sum() # Final globa"
   ]
  },
  {
   "cell_type": "code",
   "execution_count": 29,
   "id": "bd9bce0e-c96b-4eca-b68b-113fb56fc5ba",
   "metadata": {},
   "outputs": [
    {
     "data": {
      "image/png": "[encoded data removed]",
      "text/plain": [
       "<Figure size 432x288 with 1 Axes>"
      ]
     },
     "metadata": {
      "needs_background": "light"
     },
     "output_type": "display_data"
    }
   ],
   "source": [
    "plt.imshow(N, interpolation='nearest')\n",
    "#plt.xticks(np.arange(N.shape[0]),labels=np.arange(N.shape[0])+1)\n",
    "#plt.yticks(np.arange(N.shape[1]),labels=np.arange(N.shape[1])+1)\n",
    "plt.savefig('str_induced_heat_map.svg')\n",
    "plt.show()"
   ]
  },
  {
   "cell_type": "code",
   "execution_count": 30,
   "id": "038209bf-d571-4c56-b886-60008dded39e",
   "metadata": {},
   "outputs": [
    {
     "data": {
      "text/plain": [
       "1.0"
      ]
     },
     "execution_count": 30,
     "metadata": {},
     "output_type": "execute_result"
    }
   ],
   "source": [
    "N.sum()"
   ]
  },
  {
   "cell_type": "code",
   "execution_count": 31,
   "id": "40774abd-78a2-4fb7-8999-f13d3f32e95e",
   "metadata": {},
   "outputs": [
    {
     "data": {
      "text/plain": [
       "array([0.02041844, 0.02030077, 0.02042102, 0.02026002, 0.02036599,\n",
       "       0.02043638, 0.02048332, 0.02041738, 0.02045211, 0.02055745,\n",
       "       0.02028098, 0.02019874, 0.02038522, 0.02041997, 0.02056635,\n",
       "       0.0204252 , 0.02053006, 0.0204019 , 0.02036595, 0.02042225,\n",
       "       0.02055664, 0.02042613, 0.02041865, 0.02042483, 0.02033163,\n",
       "       0.02055686, 0.02041783, 0.02024482, 0.02024591, 0.02047727,\n",
       "       0.02050726, 0.02043602, 0.02026561, 0.02041973, 0.02036488,\n",
       "       0.02023377, 0.02038521, 0.0204865 , 0.02030405, 0.02040758,\n",
       "       0.02037633, 0.02039053, 0.02052556, 0.02025902, 0.02044581,\n",
       "       0.02051741, 0.02045376, 0.02063247, 0.02037843])"
      ]
     },
     "execution_count": 31,
     "metadata": {},
     "output_type": "execute_result"
    }
   ],
   "source": [
    "N.sum(axis=1)"
   ]
  },
  {
   "cell_type": "code",
   "execution_count": 32,
   "id": "c9943274-4362-4b03-8f08-fd71a4bd2122",
   "metadata": {},
   "outputs": [
    {
     "data": {
      "text/plain": [
       "99.80017852783203"
      ]
     },
     "execution_count": 32,
     "metadata": {},
     "output_type": "execute_result"
    }
   ],
   "source": [
    "np.max(A)"
   ]
  },
  {
   "cell_type": "code",
   "execution_count": 15,
   "id": "9d572d90-02dd-43c2-bec8-47166cf39ec9",
   "metadata": {},
   "outputs": [
    {
     "data": {
      "text/plain": [
       "array([0.02039849, 0.02051457, 0.02039642, 0.02055806, 0.02045057,\n",
       "       0.02038311, 0.02032994, 0.02040012, 0.02036207, 0.02026285,\n",
       "       0.02053653, 0.02061786, 0.02042112, 0.02039845, 0.02025065,\n",
       "       0.02039087, 0.02028628, 0.02042038, 0.0204513 , 0.02039344,\n",
       "       0.02026067, 0.02038993, 0.02039822, 0.02039199, 0.02048401,\n",
       "       0.02026029, 0.02040003, 0.0205716 , 0.02057051, 0.0203304 ,\n",
       "       0.02030876, 0.02037573, 0.020548  , 0.02039769, 0.02045209,\n",
       "       0.02058347, 0.02043047, 0.02033627, 0.02051532, 0.02041033,\n",
       "       0.020441  , 0.02041864, 0.02028867, 0.02055811, 0.02037076,\n",
       "       0.02029749, 0.02036188, 0.02018576, 0.02043883])"
      ]
     },
     "execution_count": 15,
     "metadata": {},
     "output_type": "execute_result"
    }
   ],
   "source": [
    "N.sum(axis=0)"
   ]
  },
  {
   "cell_type": "code",
   "execution_count": 23,
   "id": "f8935f83-56c7-4348-a0cc-285f481896d5",
   "metadata": {},
   "outputs": [
    {
     "data": {
      "text/plain": [
       "0.8460663397171779"
      ]
     },
     "execution_count": 23,
     "metadata": {},
     "output_type": "execute_result"
    }
   ],
   "source": [
    "# Doubly-stochastic normalization [N]\n",
    "jointPDF = N + 0.000000000000001 # Avoid 0s\n",
    "marginals = np.outer(jointPDF.sum(axis=1),jointPDF.sum(axis=0))\n",
    "mutual_info = np.sum(jointPDF*np.log2(jointPDF/marginals))\n",
    "mutual_info/np.log2(49)"
   ]
  },
  {
   "cell_type": "code",
   "execution_count": 24,
   "id": "4d0c6fd5-196a-439e-b6c5-ee5cbec177b4",
   "metadata": {},
   "outputs": [
    {
     "data": {
      "text/plain": [
       "0.7843190308305451"
      ]
     },
     "execution_count": 24,
     "metadata": {},
     "output_type": "execute_result"
    }
   ],
   "source": [
    "# Alternative, naive normalization [A/A.sum()]\n",
    "jointPDF = (A/A.sum()) + 0.000000000000001 # Avoid 0s\n",
    "marginals = np.outer(jointPDF.sum(axis=1),jointPDF.sum(axis=0))\n",
    "mutual_info = np.sum(jointPDF*np.log2(jointPDF/marginals))\n",
    "mutual_info/np.log2(49)"
   ]
  },
  {
   "cell_type": "code",
   "execution_count": null,
   "id": "e535bbe1-4c92-477d-8524-fdbb724ebaff",
   "metadata": {},
   "outputs": [],
   "source": []
  }
 ],
 "metadata": {
  "kernelspec": {
   "display_name": "Python 3 (ipykernel)",
   "language": "python",
   "name": "python3"
  },
  "language_info": {
   "codemirror_mode": {
    "name": "ipython",
    "version": 3
   },
   "file_extension": ".py",
   "mimetype": "text/x-python",
   "name": "python",
   "nbconvert_exporter": "python",
   "pygments_lexer": "ipython3",
   "version": "3.10.8"
  }
 },
 "nbformat": 4,
 "nbformat_minor": 5
}
